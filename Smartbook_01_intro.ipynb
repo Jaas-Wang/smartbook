{
 "cells": [
  {
   "cell_type": "code",
   "execution_count": 1,
   "metadata": {},
   "outputs": [],
   "source": [
    "#hide\n",
    "! [ -e /content ] && pip install -Uqq fastbook\n",
    "import fastbook\n",
    "fastbook.setup_book()"
   ]
  },
  {
   "cell_type": "code",
   "execution_count": 2,
   "metadata": {
    "ExecuteTime": {
     "end_time": "2025-06-25T03:23:03.529302Z",
     "start_time": "2025-06-25T03:23:03.526940Z"
    }
   },
   "outputs": [],
   "source": [
    "#hide\n",
    "from fastbook import *\n",
    "# import warnings\n",
    "# warnings.filterwarnings('ignore')"
   ]
  },
  {
   "attachments": {},
   "cell_type": "markdown",
   "metadata": {},
   "source": [
    "# 开启深度学习之旅"
   ]
  },
  {
   "attachments": {},
   "cell_type": "markdown",
   "metadata": {},
   "source": [
    "您好，无论您掌握到什么程度，我们都深感荣幸可以加入到您的深度学习之旅中来！在本章，我们会告诉您更多关于这本书的内容，包括介绍深度学习的关键概念，以及在不同的任务中训练我们的首个模型。即便您没有相关的技术背景或者数学基础也没有任何关系（有的话也可以）。撰写本书的目的是希望让尽可能多的人可以接触到深度学习。"
   ]
  },
  {
   "attachments": {},
   "cell_type": "markdown",
   "metadata": {},
   "source": [
    "## 深度学习适合所有人"
   ]
  },
  {
   "attachments": {},
   "cell_type": "markdown",
   "metadata": {},
   "source": [
    "很多人认为想要在深度学习上取得很好的成果，需要各种难以获取的资源，但是通过学习本教程您会发现这种想法是错误的。下表列举了几项你绝对不需要做世界级深度学习的内容。\n",
    "\n",
    "| AI神话（不需要） |                     事实                     |\n",
    "|:---------:| :------------------------------------------: |\n",
    "| 大量专业数学知识  |         高中数学就足够了         |\n",
    "|   海量数据    | 我们曾见过用不到50条的数据取得破纪录结果 |\n",
    "|  大量昂贵的算力  |        你可以免费获得最先进的工作成果        |\n",
    "\n",
    "\n",
    "深度学习是一项利用多层神经网络进行数据提取与转换的计算机技术，应用场景从人类语音识别到动物图像分类。每层神经网络从它的前序神经网络层获取输入并不断完善。算法训练这些层，从而减少错误提高精度。通过这种方式，神经网络学习完成特定的任务。在下一节中我们将详细讨论训练算法。"
   ]
  },
  {
   "attachments": {},
   "cell_type": "markdown",
   "metadata": {},
   "source": [
    "深度学习具有强大、灵活、简单的特点。 正因为如此，我们相信可以在许多学科应用它。其中包括社会科学和自然科学 、艺术、医学、金融、科学研究等等。举个例子，杰里米尽管没有任何医学背景，但他创建了 Enlitic 公司，该公司利用深度学习算法来诊断疾病。公司成立几个月后，他宣布其算法可以[比放射科医生更准确](https://www.nytimes.com/2016/02/29/technology/the-promise-of-artificial-intelligence-unfolds-in-small-steps.html)地识别恶性肿瘤。\n",
    "\n",
    "利用深度学习或大量使用深度学习方法进行处理的任务有很多很多，以下列出了其中的一些领域，都是目前世界上最优的 ：\n",
    "- 自然语言处理（NLP）：答疑；语音识别；文档汇总；文档分类；在文档中查找姓名、日期等；搜索提及某一概念的文章\n",
    "- 计算机视觉：卫星和无人机图像判读（例如，抗灾能力）、面部识别、图像标注、交通标志识别、自动驾驶中定位行人和车辆\n",
    "- 医药：发现放射学图像中的异常，包括CT、MRI和X射线图像；病理切片计数特征；超声波的测量特性；诊断糖尿病视网膜病变\n",
    "- 生物：蛋白质折叠；蛋白质分类；许多基因组学任务，例如肿瘤正常测序和分类临床可操作的基因突变分类：细胞分类；蛋白质分析/蛋白质交互作用\n",
    "- 图像生成：图像着色，增强图像分辨率，图像去噪，将图像转换成著名艺术家风格的艺术作品\n",
    "- 推荐系统：网页搜索，产品推荐，主页布局\n",
    "- 玩游戏：国际象棋，围棋，大多数雅达利电子游戏，及许多即时战略游戏\n",
    "- 机器人：处理难以定位（例如，透明的、有光泽的、缺乏纹理的）或难以拾取的物体\n",
    "- 其他应用：金融和物流预测，文本转语音，等等......\n"
   ]
  },
  {
   "attachments": {},
   "cell_type": "markdown",
   "metadata": {},
   "source": [
    "值得注意的是，深度学习有各种各样的应用，但几乎所有的深度学习都基于一种创新模型：神经网络。\n",
    "\n",
    "然而，事实上神经网络并不是全新的事物。为了对本领域有更加深入的认识，有必要先介绍一些它的历史。"
   ]
  },
  {
   "attachments": {},
   "cell_type": "markdown",
   "metadata": {},
   "source": [
    "## 神经网络简史"
   ]
  },
  {
   "attachments": {},
   "cell_type": "markdown",
   "metadata": {},
   "source": [
    "1943年，神经生理学家沃伦·麦卡洛克（Warren McCulloch）和逻辑学家沃尔特·皮茨（Walter Pitts）合作开发了人工神经元的数学模型。在他们的[论文](https://link.springer.com/article/10.1007/BF02478259)《神经活动中内在思想的逻辑微积分》中，他们认为：\n",
    "> 由于神经活动的\"全有或全无\"特点，神经事件及其间的关系可以被看做命题逻辑。每个网络的行为都可以用这种方式描述。"
   ]
  },
  {
   "attachments": {},
   "cell_type": "markdown",
   "metadata": {},
   "source": [
    "他们意识到一个真实神经元的简化模型可以用简单的加法和阈值来表示，如下图<<神经元>>所示。皮茨是自学成才的，12岁时，他收到了剑桥大学的邀请，跟随伟大的伯特兰·罗素教授学习。他没有接受这一邀请，事实上，在他的一生中，他没有接受任何高级学位或权威职位的邀请。他的大部分著名工作都是在他无家可归的时候完成的。尽管他缺乏官方认可的职位，且越来越与社会隔绝，但他与麦卡洛克的工作成果却很有影响力，并由一位名叫弗兰克·罗森布拉特的心理学家将他的研究继续进行下来。"
   ]
  },
  {
   "attachments": {},
   "cell_type": "markdown",
   "metadata": {},
   "source": [
    "<div style=\"text-align:center\" align=\"left\">\n",
    "  <p align=\"center\">\n",
    "    <img src=\"./images/chapter1_neuron.png\" alt=\"neuor\" style=\"zoom:85%;\" />\n",
    "  </p>\n",
    "  <p align=\"center\">图：神经元</p>\n",
    "</div>"
   ]
  },
  {
   "attachments": {},
   "cell_type": "markdown",
   "metadata": {},
   "source": [
    "罗森布拉特进一步开发了人工神经元，使其具有学习能力。更重要的是，他致力于建造第一个使用这些原理的设备，即Mark I感知器。在《智能自动机的设计》一书中，罗森布拉特写到了这项工作：“我们现在即将见证这样一台机器的诞生——一台不需要任何人类训练或控制就能感知、辨认和识别周围环境的机器。”感知器被建造出来，并能够成功识别简单的形状。\n",
    "\n",
    "一位名叫马文·明斯基（Marvin Minsky）的麻省理工学院教授（和罗森布拉特在同一所高中仅仅比他低一个年级！）和西摩·帕佩特（Seymour Papert）一起写了一本关于罗森布拉特发明的书，名为《感知器》（Perceptrons）（麻省理工学院出版社）。他们表示，这些设备的单层无法学习一些简单但关键的数学函数（如XOR）。在此书中，他们还表明，使用多层设备将使这些限制得到解决。不幸的是，这些见解中只有第一个得到了广泛认可。因此，在接下来的二十多年，全球学术界几乎完全放弃了神经网络。\n"
   ]
  },
  {
   "attachments": {},
   "cell_type": "markdown",
   "metadata": {},
   "source": [
    "在过去50年中，神经网络领域最关键的工作可能是由David Rumelhart、James McClelland和PDP研究小组，于1986年由麻省理工学院出版发布的多卷并行分布式处理（PDP）。第一章展示了与罗森布拉特类似的期望：\n",
    "> 人类比当今的计算机更聪明，因为大脑采用了一种基本的计算架构，这种架构更适合处理人类擅长的自然信息处理任务的核心方面。……我们将介绍一个用于模拟认知过程的计算框架，该框架似乎比其他框架更接近大脑可能进行的计算方式。\n",
    ">\n",
    "在此使用PDP的前提是传统计算机程序的工作方式与大脑非常不同，这可能就是为什么计算机程序（在这一点上）在做一些大脑认为轻而易举的事情时会如此糟糕（例如识别图片中的物体）的原因。作者声称PDP方法“比其他框架更接近”大脑的工作方式，因此它或许能够更好地处理这类任务。\n",
    "\n",
    "事实上，PDP中的方法与当今神经网络中使用的方法非常相似。该书将并行分布式处理定义为以下需求：\n",
    "   1. 一组*处理单元*\n",
    "   2. *激活*状态\n",
    "   3. 每个单元的*输出函数*\n",
    "   4. 单元之间的*连接模式*\n",
    "   5. 用于通过连接性网络传播活动模式的*传播规则*\n",
    "   6. 一种*激活规则*，用于将作用于单元的输入与该单元的当前状态相结合，以产生该单元的输出\n",
    "   7. 通过经验修改连接模式的一种*学习规则*\n",
    "   8. 必要的系统运行*环境*\n",
    "\n",
    "我们将在本书中看到现代神经网络处理上面的每个需求。\n",
    "\n",
    "在20世纪80年代，大多数模型都是用两层神经元构建的，从而避免了明斯基和帕佩特认识到的问题（也就是采用上述架构时被他们称做的“单元之间的连接模式”）。事实上，神经网络在80年代和90年代被广泛用于实际项目。然而，理论问题的错误理解再次阻碍了该领域的发展。理论上，仅仅增加一层额外的神经元层就足以用这些神经网络估计任何数学函数。但在实践中，这样的网络通常太大太慢而无法使用。\n",
    "\n",
    "尽管研究人员在30年前就表明，要获得实用、良好的性能，你需要使用更多层的神经元，但是仅在近十年里，这一原则才被更广泛的重视和应用。由于使用了更多的层，再加上计算机硬件的提升、数据可用性的增加以及算法的调整使得神经网络更快、更容易被训练，神经网络终于实现了其潜力。我们现在实现了罗森布拉特所设想的：“一台在没有任何人类训练或控制的情况下，能够感知、识别和辨认其周围环境的机器。”\n",
    "\n",
    "这将是在本书中您学习如何实现的内容。因为我们将会共同度过很长一段时间，首先让我们互相了解一下...\n",
    "\n"
   ]
  },
  {
   "attachments": {},
   "cell_type": "markdown",
   "metadata": {},
   "source": [
    "## 我们是谁"
   ]
  },
  {
   "attachments": {},
   "cell_type": "markdown",
   "metadata": {},
   "source": [
    "我们是西尔万和杰里米，是您本次学习之旅的向导，希望您认为我们很称职。\n",
    "\n",
    "杰里米已经使用和讲授机器学习大约30年了。他在25年前就开始使用神经网络。在此期间，他领导了许多以机器学习为核心的公司和项目，包括创立了第一个专注于深度学习和医学的公司Enlitic，并担任全球最大的机器学习社区Kaggle的总裁和首席科学家。他和Rachel Thomas博士是fast.ai的联合创始人，进而创建了本书所立足的课程。\n",
    "\n",
    "您将时常在边栏中看到我们，比如这个来自杰里米的：\n"
   ]
  },
  {
   "attachments": {},
   "cell_type": "markdown",
   "metadata": {},
   "source": [
    "> 杰里米: 大家好，我是杰里米！了解了我的学习背景你可能会大跌眼镜，我其实并没有接受过任何正规的技术教育。我曾经获得了哲学专业的学士学位，但成绩不是很好。我更有兴趣做实际项目，而不是理论研究，所以整个大学时期我都在一家名为麦肯锡的管理咨询公司做全职工作。假如你是一个宁愿亲自动手建造东西而不是花几年时间学习抽象概念的人，你就会理解我的意思了！像我这样具有较少数学或正式技术背景的人，可以通过留意我的边栏内容，去获取最适合你的信息。\n"
   ]
  },
  {
   "attachments": {},
   "cell_type": "markdown",
   "metadata": {},
   "source": [
    "相反西尔万对正规技术教育非常了解。他写了10本数学教科书，涵盖了整个法国高级数学课程"
   ]
  },
  {
   "attachments": {},
   "cell_type": "markdown",
   "metadata": {},
   "source": [
    "> 西尔万: 与杰里米不同，我没有花很多年的时间编写代码和应用机器学习算法。最近通过观看杰里米的Fast.AI视频课程进入了机器学习世界。所以，如果你是一个没有打开过终端，并输入命令行的人，你就会理解我的过往了！像我一样具有更多数学或正式技术背景，但实际编程经验较少的人，请留意我的边栏，获取适合你的信息。\n"
   ]
  },
  {
   "attachments": {},
   "cell_type": "markdown",
   "metadata": {},
   "source": [
    "来自世界各地各行各业的数十万名学生学习了fast.ai课程。西尔万作为最令杰里米印象深刻的学生从中脱颖而出，这使他加入了fast.ai，然后与杰里米一起成为fastai软件库的合著者。\n",
    "\n",
    "这些意味着，你同时拥有两个方面的优势：比任何人都更了解这个软件的人，因为他们编写了它，其中一位是数学家，别一位是编码和机器学习方面的专家；同时，他们既能理解数学领域的门外汉，也能理解编码和机器学习领域的门外汉。\n",
    "\n",
    "看过体育节目的人都知道，如果解说员团队是两个人，那么还需要第三个人来做“特别评论”。我们的特别评论员是亚历克西斯·加拉格尔。亚历克西斯有着非常多元化的背景：他做过数学生物学研究员、编剧、即兴表演者、麦肯锡顾问（就像杰里米一样！）、Swift程序员和首席技术官。\n"
   ]
  },
  {
   "attachments": {},
   "cell_type": "markdown",
   "metadata": {},
   "source": [
    "> 亚历克西斯:\n",
    "> 我决定是时候学习人工智能了！毕竟，我几乎什么都试过了。但我并没有构建机器学习模型的背景。嗯...这会有多难呢？就像你们一样，我将通过这本书来进行学习。请留意我边栏中的学习技巧，它们对我的学习很有帮助，希望能够对您也有所帮助。\n"
   ]
  },
  {
   "attachments": {},
   "cell_type": "markdown",
   "metadata": {},
   "source": [
    "## 如何学习深度学习"
   ]
  },
  {
   "attachments": {},
   "cell_type": "markdown",
   "metadata": {},
   "source": [
    "《全局学习法》（Making Learning Whole，Jossey-Bass）作者，哈佛大学（Harvard）教授戴维·珀金斯（David Perkins）对教学工作有其见解。其基本的思路是讲授整体。意思是，如果你在教棒球，你首先要带人们去看棒球比赛，或者让他们去玩棒球。你不会教他们如何从零开始缠绕麻线来制作棒球，也不会教他们抛物线的物理性质，或者球在球棒上的摩擦系数。\n",
    "\n",
    "哥伦比亚大学数学博士，前布朗大学教授，K-12数学教师保罗·洛克哈特（Paul Lockhart）写了篇颇具影响力[文章](https://www.maa.org/external_archive/devlin/LockhartsLament.pdf)“数学家的悲叹”，这篇文章想象了用讲授数学的方式去教音乐和美术时噩梦般的世界【它想象一个噩梦般的世界在用讲授数学的方式去教音乐和美术】。孩子们不允许听或演奏音乐，除非他们花了十多年的时间掌握乐谱和乐理，在课堂上把乐谱换成不同的音调。在美术课上，学生们学习颜色和涂抹器，但在大学之前却不允许真正的去画画。这听起来很荒谬吗？这恰恰是数学的教学方式——我们要求学生花数年时间死记硬背，枯燥学习、不连贯的基础知识，我们声称这些将在今后得到回报，但是等得太久以至于大多数人放弃了这门学科。\n",
    "\n",
    "不幸的是，这正是许多深度学习教学资源的方式 —— 要求学习者学习海森定义和损失函数的泰勒近似，但是从来没有真实工作的代码事例。我们不是在批评微积分。我们喜欢微积分，西尔万甚至还在大学里教过它，但我们不认为它是学习深度学习的最佳起点！\n",
    "\n",
    "在深度学习中，如果你有动力去修正你的模型，让它变得更好，将是非常有帮助的。即，开始学习相关理论的时候，首先需要有模型。我们对每个知识点都尽量用实例讲授。通过这些示例，逐步深入的向你展示如何使你的项目越来越好。这意味着你将会逐步学习到需要的所有理论基础，以这种方式学习，你会知道它的重要性与工作方式。\n",
    "\n",
    "下面是我们对你的承诺。在本书中，我们会遵循以如原则：\n",
    "  - 讲授*整体*。首先，我们将向您展示如何通过简单明了的工具使用一个完整的、有效的、可用的、最先进的深度学习网络来解决实际问题。然后，我们将逐渐深入理解那些工具是如何制作的，以及制作那些工具的工具是如何制作的，等等...\n",
    "  - 实例化教学。我们将确保提供可以让您直观理解的环境和效果，而不是从代数符号开始。\n",
    "  - 尽可能的简化。我们花费很多年的时间来构建工具和教学方法，以使用以前很复杂主题变得简单。\n",
    "  - 消除障碍。到目前为止，深度学习一直是一款独家游戏。我们正在开放它，确保每个人都能玩。\n"
   ]
  },
  {
   "attachments": {},
   "cell_type": "markdown",
   "metadata": {},
   "source": [
    "深度学习最难的部分是实践：你如何知道你是否有足够的数据，它们的格式是否正确，你的模型是否训练得当，如果不是，你应该怎么做？这就是为什么我们信奉要在实践中学习的原因。与基础数据科学技能一样，深度学习只有通过实践经验才能学的更好。试图在理论上花费太多时间可能会适得其反。关键是要编码并尝试解决问题：在你具备背景知识和学习动机之前，可以暂时先不学习理论知识。\n",
    "\n",
    "有时这个学习之旅会很艰难。当你卡壳的时候。不要放弃！倒回去，找到你没有被卡住的最后的地方，从那里慢慢读下去，找到第一个不清楚的地方。然后自己尝试做一些代码实验，并搜索更多关于你卡壳问题的教程 —— 通常你会从不同的角度找到可能会有所帮助的材料。此外，在第一次阅读时不理解所有内容（尤其是代码）也是正常的。尝试连续理解材料有时会很困难。有时候，当你从后续内容学习到更多的背景知识，对内容有了一个更全面的了解，当前的问题就会迎刃而解了。因此，如果您确实在某个部分卡住了，无论如何都要试着继续前进，记好笔记以后再回来解决。\n",
    "\n",
    "记住，你不需要任何特定的学术背景就能在深度学习中取得成功。许多重要的突破都是由没有博士学位的人在研究和实践中取得的，比如这篇论文[“基于深度卷积生成对抗网络的无监督表示学习”](https://arxiv.org/abs/1511.06434)，这是过去十年中最具影响力的论文之一，引用次数超过5000次，是亚历克·雷德福（Alec Radford）在读本科的时候撰写的。即使在特斯拉，他们正在努力解决制造自动驾驶汽车这一极其艰巨的挑战，首席执行官埃隆·马斯克说:\n",
    "> “绝对不要求必须具有博士学位。重要的是对人工智能的深刻理解和具备采用切实有效的方法来实现神经网络的能力（后者才是真正的难点）。高中毕业也无所谓的。”\n"
   ]
  },
  {
   "attachments": {},
   "cell_type": "markdown",
   "metadata": {},
   "source": [
    "然而，要想成功，你需要做的是将你在本书中学到的东西应用到个人项目中，并始终坚持下去。"
   ]
  },
  {
   "attachments": {},
   "cell_type": "markdown",
   "metadata": {},
   "source": [
    "### 你的项目和你的心态"
   ]
  },
  {
   "attachments": {},
   "cell_type": "markdown",
   "metadata": {},
   "source": [
    "无论你是兴奋地从叶子的图片中识别植物是否患病，自动的生成编织图案，通过X光片诊断结核病，还是确定何时浣熊正在使用你的猫洞，我们会尽快的让你在自己的问题上使用深度学习（通过别人的预训练模型），然后逐步深入到更多细节。在下一章的前30分钟内，您将学习如何使用深度学习以最先进的准确度解决自己的问题（如果您渴望立即开始编写代码，可以直接跳过这部分）。不是需要拥有谷歌公司那种级别的计算资源和数据集才能够进行深度学习。\n",
    "\n",
    "那么，什么样的任务才是好的实验案例呢？你可以训练你的模型区分毕加索和莫奈的画作，或者选出你女儿的照片而不是你儿子的照片。专注于你的爱好和激情是非常有帮助的。在开始的时候最好是给自己设定四五个小项目，而不是努力解决一个大问题。过早地雄心勃勃往往会事与愿违，反而容易陷入困境。一旦你掌握了基础知识，把目标放到完成你真正引以为豪的事情上！\n"
   ]
  },
  {
   "attachments": {},
   "cell_type": "markdown",
   "metadata": {},
   "source": [
    "> 杰里米: 深度学习几乎可以解决任何问题。例如，我的第一家创业公司是一家名为FastMail的公司，该公司在1999年成立时提供增强的电子邮件服务（直到今天仍然如此）。2002年，我使用一种早期形式的深度学习，即单层神经网络，来帮助对电子邮件进行分类，并阻止客户收到垃圾邮件。\n"
   ]
  },
  {
   "attachments": {},
   "cell_type": "markdown",
   "metadata": {},
   "source": [
    "在深度学习上做得好的人的共同特性都包含爱玩和好奇心强。已故物理学家理查德·费曼（Richard Feynman）就是一个我们认为擅长深度学习的例子：他从餐碟在空中旋转时摇摆的乐趣中理解了亚原子粒子运动。"
   ]
  },
  {
   "attachments": {},
   "cell_type": "markdown",
   "metadata": {},
   "source": [
    "现在让我们关注你将学到的内容，从软件开始。"
   ]
  },
  {
   "attachments": {},
   "cell_type": "markdown",
   "metadata": {},
   "source": [
    "## 软件：PyTorch, fastai 和 Jupyter\n"
   ]
  },
  {
   "attachments": {},
   "cell_type": "markdown",
   "metadata": {},
   "source": [
    "（以及为什么无关紧要）"
   ]
  },
  {
   "attachments": {},
   "cell_type": "markdown",
   "metadata": {},
   "source": [
    "我们已经使用数十个软件包和许多编程语言完成了数百个机器学习项目。在fast.ai，我们用现有的大多数主要深度学习和机器学习软件包编写了课程。2017年PyTorch问世后，我们花了一千多个小时测试它，然后决定将它用于未来的课程、软件开发和研究。从那时起，PyTorch已经成为世界上增长最快的深度学习库，并且已经被用于顶级会议的大多数研究论文。这通常是工业界的主要指标，因为这些论文成果最终会应用在商业产品和服务中。我们发现PyTorch是深度学习的最灵活和最具表现力的库。它并没有为了权衡速度而简单，而是两者兼备。\n",
    "\n",
    "PyTorch是最好的底层基础库，可以很好的为高层功能提供基本操作。fastai库是在PyTorch基础上添加这些高级功能的最流行的库。它也特别适合本书的目标，因为它在提供深层软件架构方面是独一无二的（甚至有一篇关于此分层API的[同行评议学术论文](https://arxiv.org/abs/2002.04688)）。在这本书中，随着我们越来越深入地研究深度学习的原理，我们也将越来越深入地研究fastai的各个层。这本书涵盖了第2版的fastai库，这是一个从零开始的重写，可以提供许多独特的功能的库。\n"
   ]
  },
  {
   "attachments": {},
   "cell_type": "markdown",
   "metadata": {},
   "source": [
    "然而，你学什么软件并不重要，因为只需要几天时间就能学会从一个库切换到另一个库。真正重要的是学习正确的深度学习原理和技术。我们聚焦在使用代码尽可能清晰地表达您需要学习的概念。在我们讲授高等概念的地方，我们会使用高层fastai代码。在我们讲授底层概念的地方，我们将使用底层PyTorch库，甚至纯Python代码。\n",
    "\n",
    "现如今新的深度学习库正在不断快速涌现，但你需要为未来几个月和几年更快的变化速度做好准备。随着越来越多的人进入这个领域，他们会带来更多的技术和想法，并且尝试更多的事情。你应该设想你今天学到的任何特定的库和软件在一两年内都会被淘汰。就想想在网络编程世界中软件库和技术栈发生的变化数量吧，这还是一个比深度学习更成熟、增长更缓慢的领域。我们坚信，学习的重点需要放在理解底层技术，和如何在实践中应用它们，以及如何在新工具和技术发布时快速构建专业知识。"
   ]
  },
  {
   "attachments": {},
   "cell_type": "markdown",
   "metadata": {},
   "source": [
    "在本书结束时，您将了解fastai中几乎所有的代码（以及PyTorch的大部分代码），因为在每一章中，我们都将更深入地向您展示当我们构建和训练模型时到底发生了什么。这意味着你将学会现代深度学习中最重要的最佳实践——不仅仅是如何使用它们，而是知道它们真正的工作原理和实现。如果您想在另一个技术框架中使用这些方法，您将拥有必备的知识。\n",
    "\n",
    "因为学习深度学习最重要的事件是写代码和做实验。你有一个好的平台来做代码实验是很重要的。我们将在本书中使用最流行的编程实验平台--Jupyter。我们将向您展示如何使用Jupyter来训练和试验模型，并反思数据预处理和模型开发流水线的每个阶段。由于[Jupyter Notebook](https://jupyter.org/)功能强大、灵活且易于使用，它是最流行的Python数据科学工具，我们相信你会喜欢它的！"
   ]
  },
  {
   "attachments": {},
   "cell_type": "markdown",
   "metadata": {},
   "source": [
    "让我们在实践中学习并训练我们的第一个模型吧。"
   ]
  },
  {
   "attachments": {},
   "cell_type": "markdown",
   "metadata": {},
   "source": [
    "## 你的第一个模型"
   ]
  },
  {
   "attachments": {},
   "cell_type": "markdown",
   "metadata": {},
   "source": [
    "正如我们之前所说的，我们会先教你如何去做，然后再解释为什么这样做。按照这种自上而下的方法，我们将开始实际训练一个识别猫和狗的图像分类器，它有着近乎100%的准确率。要训练这个模型并运行我们的实验，您需要进行一些初始设置。别担心，这并不像看起来那么难。 【它没有看起那么难】"
   ]
  },
  {
   "attachments": {},
   "cell_type": "markdown",
   "metadata": {},
   "source": [
    "> 西尔万：不要跳过设置部分，即使它一开始看起来很有难度，特别是如果您很少或没有使用终端或命令行的经验。实际上大部分设置工作都不是必需的，您会发现最简单的服务器只需使用您常用的Web浏览器即可设置。为了学习，与本书同步运行自己的实验是至关重要的。\n"
   ]
  },
  {
   "attachments": {},
   "cell_type": "markdown",
   "metadata": {},
   "source": [
    "### 获取一个图形处理（GPU）深度学习服务器"
   ]
  },
  {
   "attachments": {},
   "cell_type": "markdown",
   "metadata": {},
   "source": [
    "要完成本书中的实验，您最好有一台配备了英伟达（NVIDIA）图形处理器（GPU）的计算机（其它品牌的GPU不能完全支持主要的深度学习库）。但是，我们不建议您购买。事实上，即使你已经有了一个，我们也不建议你使用它！配置计算机需要耗费大量的时间和精力，你现在需要把所有的精力都集中在深度学习本身。因此，我们建议您租用一台已经预装了您所需的一切随时可用的云服务器。使用费用可以低至每小时几毛钱，有些选项甚至是免费的。"
   ]
  },
  {
   "attachments": {},
   "cell_type": "markdown",
   "metadata": {},
   "source": [
    "> 术语：图形处理器（GPU）。也称为图形卡。计算机中的一种特殊处理器，可同时处理数千个单一任务，专为在计算机上显示3D环境玩游戏而设计。这些相同的基本任务和神经网络非常类似，因此GPU运行神经网络的速度比普通CPU快数百倍。所有新型计算机都有GPU，但很少有适合深度学习所需的GPU.\n"
   ]
  },
  {
   "attachments": {},
   "cell_type": "markdown",
   "metadata": {},
   "source": [
    "大多数平台只需要大约两分钟就可以完成设置，很多平台不需要支付任何费用，甚至不需要信用卡就可以开始使用。\n",
    "- 九天・毕昇平台：中国移动推出的 AI 算力平台，注册即送 1000-3000 算力豆，可免费使用 V100 显卡（显存 32GB），支持 Jupyter/VSCode 开发环境，终端有 root 权限，适合深度学习训练。但算力豆有效期较短，需注意资源消耗，且平台维护较频繁。\n",
    "- 阿里天池实验室：阿里云旗下平台，提供 60 小时免费 GPU 时长，配备 V100、P100、T4 显卡，支持 Notebook 在线调试，适合短期训练和竞赛。限制是单次最长使用 8 小时，需合理分配时间。[阿里云服务](https://free.aliyun.com/?spm=5176.30234224.J_4NWEMkQ5nDwOgLi8EJmHs.8.523944d3YVd3J2&product=1395&crowd=personal)\n",
    "- 百度 AI Studio：每周提供数十小时免费 GPU 算力，使用 Tesla V100 显卡，适合 PaddlePaddle 框架用户，内置丰富数据集和教程。不过仅支持百度自研框架，无 root 权限，安装其他框架困难。\n",
    "- 腾讯云高性能工作空间（Cloud Studio）：每月有 5 万分钟免费时长，配置为 T4 显卡（16G 显存）+8 核 CPU+32G 内存，支持在线 VSCode 开发，适合 AI 应用部署。\n",
    "- 华为云 ModelArts：提供 NVIDIA Tesla V100 免费实例，支持 TensorFlow、PyTorch 等框架，适合 AI 模型训练与部署。\n",
    "- Kaggle Notebook：CPU 内存升级至 29GB，每周免费 30 小时 GPU 时长，单次训练最长 12 小时，超时自动终止，适合数据科学和机器学习项目开发。\n",
    "- Google Colab：动态分配 NVIDIA T4、P100、V100 等显卡，显存通常为 15-16GB，支持 CUDA 加速。免费用户单次最长使用 12 小时，空闲超时 30 分钟自动断开。\n",
    "\n",
    "> 亚历克西斯：我的两点看法：注意这个建议！如果你喜欢电脑，你会被诱惑去创建自己的工具箱。当心！这是虽然可行的，但是非常复杂和分神。这本书之所以没有被命名为 _《关于Ubuntu系统管理、NVIDIA驱动安装、apt-get、conda、pip和Jupyter Notebook配置的一切》_ 是有充分理由的。那将是另外的一本书。我在工作中设计并部署了我们的机器学习基础设施，我可以证明这有满足感，但与建模无关，就像维护一架飞机与驾驶一架飞机无关一样。\n",
    "\n",
    "完成设置后，您会看到如下图所示的页面。"
   ]
  },
  {
   "attachments": {},
   "cell_type": "markdown",
   "metadata": {},
   "source": [
    "<img alt=\"Initial view of Jupyter Notebook\" width=\"658\" caption=\"Initial view of Jupyter Notebook\" id=\"notebook_init\" src=\"images/att_00057.png\">"
   ]
  },
  {
   "attachments": {},
   "cell_type": "markdown",
   "metadata": {},
   "source": [
    "现在，您可以运行您的第一个Jupyter了！"
   ]
  },
  {
   "attachments": {},
   "cell_type": "markdown",
   "metadata": {},
   "source": [
    "> 术语：Jupyter 是一款允许你在单个文档中进行交互的软件，包含格式化的文本、代码、图像、视频等。由于Jupyter在学术领域和工业界的广泛应用和巨大影响，它获得了软件的最高荣誉——ACM软件系统奖。Jupyter 被数据科学家广泛用于深度学习模型的开发和交互的软件。"
   ]
  },
  {
   "attachments": {},
   "cell_type": "markdown",
   "metadata": {},
   "source": [
    "### 运行你的第一个 Jupyter"
   ]
  },
  {
   "attachments": {},
   "cell_type": "markdown",
   "metadata": {},
   "source": [
    "Jupyter 按照和本书相同的章节顺序编号。因此，您将看到列出的第一个Jupyter就是您现在要使用的。你将使用它来训练狗和猫图像分类模型。你会下载一个狗和猫图像的数据集，并使用它来训练模型。数据集是一组数据，它可以是图像、电子邮件、财务指标、声音或其他任何东西。有许多用免费数据集适合用来训练模型。这些数据集有的是由学者创建的，用以帮助推进研究，有的是为了比赛而提供的（数据科学家可以通过比赛看谁训练出最准确的模型！），还有一些是其他流程的副产品（如财务文件）。"
   ]
  },
  {
   "attachments": {},
   "cell_type": "markdown",
   "metadata": {},
   "source": [
    "> 注：完整版和精简版的Jupyter。两个文件夹包含的Jupyter文件版本不同。*完整版*包含用于创建你现在正在阅读的本书内容Jupyter，它带有所有的练习和输出。*精简版*有相同的标题和代码单元，但去掉了输出和练习。在阅读一个章节后，我们建议您合上本书，仔细阅读精简版Jupyter，看看你是否能在执行前弄清楚每个单元将显示什么。并试着回忆代码演示的内容。\n"
   ]
  },
  {
   "attachments": {},
   "cell_type": "markdown",
   "metadata": {},
   "source": [
    "点击一个Jupyter文件并打开它，如下图所示（请注意，不同平台之间的细节可能略有不同；您可以忽略这些差异）。"
   ]
  },
  {
   "attachments": {},
   "cell_type": "markdown",
   "metadata": {},
   "source": [
    "<img alt=\"An example of notebook\" width=\"700\" caption=\"A Jupyter notebook\" src=\"images/0_jupyter.png\" id=\"jupyter\"/>"
   ]
  },
  {
   "attachments": {},
   "cell_type": "markdown",
   "metadata": {},
   "source": [
    "Jupyter由单元组成。有两种主要类型的单元：\n",
    "- 包含格式化文本、图像等的单元。使用一种名为*Markdown*语言格式，你很快就会学到。\n",
    "- 包含可以执行的代码的单元，可以立即在下面显示输出（可以是纯文本、表格、图像、动画、声音，甚至是交互式应用）。\n",
    "\n",
    "Jupyter可以是两种模式之一：编辑模式或命令模式。在编辑模式下，用键盘以常用的方式将字母输入到单元中。然而在命令模式下，你不会看到任何闪烁的光标，键盘上的每个键对应特定功能。\n",
    "\n",
    "在继续之前，请按键盘上的Esc键切换到命令模式（如果您已经处于命令模式，则不会执行任何操作，因此为了以防万一现在按Esc键）。要查看的完整功能列表，请按 H 键，按Esc可以退出帮助界面。请注意，与大多数程序不同的是，在命令模式下，执行命令不需要您按住Control、Alt或类似的键，您只要按下所需的字母键即可。\n",
    "\n",
    "您可以通过按 C 键复制单元（需要先选择单元，用环绕的边框来表示；如果尚未选中，请单击）。然后按 V 键粘贴它的副本。"
   ]
  },
  {
   "attachments": {},
   "cell_type": "markdown",
   "metadata": {},
   "source": [
    "单击并选中以“# CLICK ME”行开头的单元。该行第一个字符表示本行的后续内容是Python代码的注释，因此在执行单元时将省略它。信不信由你，其余部分是一个创建和训练最先进的识别猫或狗模型的完整系统。所以，让我们现在就开始训练吧！只需按键盘上的Shift-Enter组合键，或单击工具栏上的Play按钮，然后等待几分钟，会发生以下事项：\n",
    "\n",
    "1. 一个包含37个品种猫和狗的7349张图像，名为[牛津-IIIT宠物数据集](http://www.robots.ox.ac.uk/~vgg/data/pets/)（oxford-iiit-pet.tgz）将从fast.ai数据集下载到您正在使用的GPU服务器，然后将被提取。「默认存放目录：\\~/.fastai/archive」\n",
    "2. 从互联网上下载一个*预训练的模型（resnet34-b627a593.pth）*，该模型已经用竞赛获奖模型对130万张图像进行了训练。「预训练模型存入目录：\\~/.cache/torch/hub/checkpoints/」\n",
    "3. 预训练模型将使用最新的迁移学习进行*微调*，来创建一个专门为识别狗和猫而定制的模型。\n",
    "\n",
    "\n",
    "前两个步骤只在GPU服务器上执行一次。如果您再次运行该单元，它将使用已经下载的数据集和模型，而不需要重复下载。让我们来看看单元的内容和模型训练的输出结果："
   ]
  },
  {
   "cell_type": "code",
   "execution_count": 3,
   "metadata": {},
   "outputs": [
    {
     "data": {
      "text/html": [
       "\n",
       "<style>\n",
       "    /* Turns off some styling */\n",
       "    progress {\n",
       "        /* gets rid of default border in Firefox and Opera. */\n",
       "        border: none;\n",
       "        /* Needs to be in here for Safari polyfill so background images work as expected. */\n",
       "        background-size: auto;\n",
       "    }\n",
       "    progress:not([value]), progress:not([value])::-webkit-progress-bar {\n",
       "        background: repeating-linear-gradient(45deg, #7e7e7e, #7e7e7e 10px, #5c5c5c 10px, #5c5c5c 20px);\n",
       "    }\n",
       "    .progress-bar-interrupted, .progress-bar-interrupted::-webkit-progress-bar {\n",
       "        background: #F44336;\n",
       "    }\n",
       "</style>\n"
      ],
      "text/plain": [
       "<IPython.core.display.HTML object>"
      ]
     },
     "metadata": {},
     "output_type": "display_data"
    },
    {
     "data": {
      "text/html": [
       "<table border=\"1\" class=\"dataframe\">\n",
       "  <thead>\n",
       "    <tr style=\"text-align: left;\">\n",
       "      <th>epoch</th>\n",
       "      <th>train_loss</th>\n",
       "      <th>valid_loss</th>\n",
       "      <th>error_rate</th>\n",
       "      <th>time</th>\n",
       "    </tr>\n",
       "  </thead>\n",
       "  <tbody>\n",
       "    <tr>\n",
       "      <td>0</td>\n",
       "      <td>0.177122</td>\n",
       "      <td>0.028925</td>\n",
       "      <td>0.011502</td>\n",
       "      <td>00:38</td>\n",
       "    </tr>\n",
       "  </tbody>\n",
       "</table>"
      ],
      "text/plain": [
       "<IPython.core.display.HTML object>"
      ]
     },
     "metadata": {},
     "output_type": "display_data"
    },
    {
     "data": {
      "text/html": [
       "\n",
       "<style>\n",
       "    /* Turns off some styling */\n",
       "    progress {\n",
       "        /* gets rid of default border in Firefox and Opera. */\n",
       "        border: none;\n",
       "        /* Needs to be in here for Safari polyfill so background images work as expected. */\n",
       "        background-size: auto;\n",
       "    }\n",
       "    progress:not([value]), progress:not([value])::-webkit-progress-bar {\n",
       "        background: repeating-linear-gradient(45deg, #7e7e7e, #7e7e7e 10px, #5c5c5c 10px, #5c5c5c 20px);\n",
       "    }\n",
       "    .progress-bar-interrupted, .progress-bar-interrupted::-webkit-progress-bar {\n",
       "        background: #F44336;\n",
       "    }\n",
       "</style>\n"
      ],
      "text/plain": [
       "<IPython.core.display.HTML object>"
      ]
     },
     "metadata": {},
     "output_type": "display_data"
    },
    {
     "data": {
      "text/html": [
       "<table border=\"1\" class=\"dataframe\">\n",
       "  <thead>\n",
       "    <tr style=\"text-align: left;\">\n",
       "      <th>epoch</th>\n",
       "      <th>train_loss</th>\n",
       "      <th>valid_loss</th>\n",
       "      <th>error_rate</th>\n",
       "      <th>time</th>\n",
       "    </tr>\n",
       "  </thead>\n",
       "  <tbody>\n",
       "    <tr>\n",
       "      <td>0</td>\n",
       "      <td>0.039905</td>\n",
       "      <td>0.022291</td>\n",
       "      <td>0.005413</td>\n",
       "      <td>00:50</td>\n",
       "    </tr>\n",
       "  </tbody>\n",
       "</table>"
      ],
      "text/plain": [
       "<IPython.core.display.HTML object>"
      ]
     },
     "metadata": {},
     "output_type": "display_data"
    }
   ],
   "source": [
    "#id first_training\n",
    "#caption Results from the first training\n",
    "# CLICK ME\n",
    "from fastai.vision.all import *\n",
    "path = untar_data(URLs.PETS)/'images'\n",
    "\n",
    "def is_cat(x): return x[0].isupper()\n",
    "dls = ImageDataLoaders.from_name_func(\n",
    "    path, get_image_files(path), valid_pct=0.2, seed=42,\n",
    "    label_func=is_cat, item_tfms=Resize(224))\n",
    "\n",
    "learn = vision_learner(dls, resnet34, metrics=error_rate)\n",
    "learn.fine_tune(1)"
   ]
  },
  {
   "attachments": {},
   "cell_type": "markdown",
   "metadata": {},
   "source": [
    "您看到的结果与此处显示的不一定完全相同。在训练模型中存在许多小的随机变化。在这个例子中，我们的误差率一般会远小于0.02。"
   ]
  },
  {
   "attachments": {},
   "cell_type": "markdown",
   "metadata": {},
   "source": [
    "> 名词解释：训练时间。根据您的网络速度，下载预训练模型和数据集可能需要几分钟时间。`微调`可能也需要一分钟左右的时间。通常训练本书中的模型或你自己的模型需要几分钟的时间。当你训练模型时，为了充分利用这段时间，您可以继续阅读下一节，或者打开另一个Jupyter文件做编码实验。\n"
   ]
  },
  {
   "attachments": {},
   "cell_type": "markdown",
   "metadata": {},
   "source": [
    "### 补充内容：这本书是用Jupyter编写的"
   ]
  },
  {
   "attachments": {},
   "cell_type": "markdown",
   "metadata": {},
   "source": [
    "我们用Jupyter编写了这本书，所以本书中几乎每个图、表与公式计算我们都会向您展示确切的代码，以便于您可以亲自复现。这就是为什么在本书中，您经常会看到紧跟着表格、图片或文本的代码。如果去本书的[官网](https://book.fast.ai)，您将找到所有代码，并且可以尝试自己运行和修改每个示例。"
   ]
  },
  {
   "attachments": {},
   "cell_type": "markdown",
   "metadata": {},
   "source": [
    "您刚才看到了单元如何输出书中的表格。下面是一个输出文本的单元示例："
   ]
  },
  {
   "cell_type": "code",
   "execution_count": 4,
   "metadata": {},
   "outputs": [
    {
     "data": {
      "text/plain": [
       "2"
      ]
     },
     "execution_count": 4,
     "metadata": {},
     "output_type": "execute_result"
    }
   ],
   "source": [
    "1+1"
   ]
  },
  {
   "attachments": {},
   "cell_type": "markdown",
   "metadata": {},
   "source": [
    "Jupyter 始终打印或显示最后一行的结果（如果有的话）。例如，下面是一个输出图像的单元示例："
   ]
  },
  {
   "cell_type": "code",
   "execution_count": 5,
   "metadata": {},
   "outputs": [
    {
     "data": {
      "image/jpeg": "[encoded data removed]",
      "image/png": "[encoded data removed]",
      "text/plain": [
       "<PIL.Image.Image image mode=RGB size=151x192>"
      ]
     },
     "execution_count": 5,
     "metadata": {},
     "output_type": "execute_result"
    }
   ],
   "source": [
    "img = PILImage.create(image_cat())\n",
    "img.to_thumb(192)"
   ]
  },
  {
   "attachments": {},
   "cell_type": "markdown",
   "metadata": {},
   "source": [
    "### 补充内容结束"
   ]
  },
  {
   "attachments": {},
   "cell_type": "markdown",
   "metadata": {},
   "source": [
    "那么，我们怎么知道这个模型好不好呢？在表的最后一列中，您可以看到错误率，即被错误识别的图像比例。错误率作为我们对模型质量的衡量标准是直观的和可理解的。正如你所看到的，这个模型几乎是完美的，而且训练时间只有几秒钟（不包括下载数据集和预训练模型所需要的时间）。事实上，您的准确率远好于10年前任何人的结果！\n",
    "\n",
    "最后，让我们检查一下这个模型是否真的有效。去找一张狗或猫的照片。如果身边没有，可以搜索图片并下载下来。现在执行定义好的上传代码模块，它会输出一个可以点击的按钮 `uploader`，你可以选择想要分类的图像：\n"
   ]
  },
  {
   "cell_type": "code",
   "execution_count": 6,
   "metadata": {},
   "outputs": [
    {
     "data": {
      "application/vnd.jupyter.widget-view+json": {
       "model_id": "c886ebd7920242fb97b87bd0950f2099",
       "version_major": 2,
       "version_minor": 0
      },
      "text/plain": [
       "FileUpload(value={}, description='Upload')"
      ]
     },
     "metadata": {},
     "output_type": "display_data"
    }
   ],
   "source": [
    "#hide_output\n",
    "uploader = widgets.FileUpload()\n",
    "uploader"
   ]
  },
  {
   "attachments": {},
   "cell_type": "markdown",
   "metadata": {},
   "source": [
    "<img alt=\"An upload button\" width=\"159\" id=\"upload\" src=\"images/att_00008.png\">"
   ]
  },
  {
   "attachments": {},
   "cell_type": "markdown",
   "metadata": {},
   "source": [
    "现在，您可以把上传的文件给模型。确保它是一只狗或一只猫的清晰照片，而不是线条、卡通或类似的东西。Jupyter会告诉您它认为这是一只狗还是一只猫，以及它有多确定。希望你觉得你的模型做得很棒："
   ]
  },
  {
   "cell_type": "code",
   "execution_count": 7,
   "metadata": {
    "hide_input": false
   },
   "outputs": [],
   "source": [
    "#hide\n",
    "# For the book, we can't actually click an upload button, so we fake it\n",
    "uploader = SimpleNamespace(data = ['images/chapter1_cat_example.jpg'])"
   ]
  },
  {
   "cell_type": "code",
   "execution_count": 8,
   "metadata": {},
   "outputs": [
    {
     "data": {
      "text/html": [
       "\n",
       "<style>\n",
       "    /* Turns off some styling */\n",
       "    progress {\n",
       "        /* gets rid of default border in Firefox and Opera. */\n",
       "        border: none;\n",
       "        /* Needs to be in here for Safari polyfill so background images work as expected. */\n",
       "        background-size: auto;\n",
       "    }\n",
       "    progress:not([value]), progress:not([value])::-webkit-progress-bar {\n",
       "        background: repeating-linear-gradient(45deg, #7e7e7e, #7e7e7e 10px, #5c5c5c 10px, #5c5c5c 20px);\n",
       "    }\n",
       "    .progress-bar-interrupted, .progress-bar-interrupted::-webkit-progress-bar {\n",
       "        background: #F44336;\n",
       "    }\n",
       "</style>\n"
      ],
      "text/plain": [
       "<IPython.core.display.HTML object>"
      ]
     },
     "metadata": {},
     "output_type": "display_data"
    },
    {
     "data": {
      "text/html": [],
      "text/plain": [
       "<IPython.core.display.HTML object>"
      ]
     },
     "metadata": {},
     "output_type": "display_data"
    },
    {
     "name": "stdout",
     "output_type": "stream",
     "text": [
      "Is this a cat?: True.\n",
      "Probability it's a cat: 1.000000\n"
     ]
    }
   ],
   "source": [
    "img = PILImage.create(uploader.data[0])\n",
    "is_cat,_,probs = learn.predict(img)\n",
    "print(f\"Is this a cat?: {is_cat}.\")\n",
    "print(f\"Probability it's a cat: {probs[1].item():.6f}\")"
   ]
  },
  {
   "attachments": {},
   "cell_type": "markdown",
   "metadata": {},
   "source": [
    "恭喜你完成了你的第一个分类器！\n",
    "\n",
    "但这意味着什么呢？您到底做了些什么工作呢？为了解释这一点，让我们把视野放大, 从全局来看看。\n"
   ]
  },
  {
   "attachments": {},
   "cell_type": "markdown",
   "metadata": {},
   "source": [
    "### 什么是机器学习"
   ]
  },
  {
   "attachments": {},
   "cell_type": "markdown",
   "metadata": {},
   "source": [
    "您的分类器是一个深度学习模型。正如之前提到过的，深度学习模型使用神经网络，神经网络起源于20世纪50年代，得益于最近的发展，开始变得非常强大。\n",
    "\n",
    "另一个关键的背景是，深度学习只是机器学习这一更广泛学科中的一个现代领域。在理解训练自己的分类模型本质时，其实并不需要理解深度学习。一般来说，看看你的模型和训练过程是如何应用机器学习概念的例子就足够了。\n",
    "\n",
    "所以在这一部分，我们将描述什么是机器学习。我们会探索关键的概念，并追溯介绍它们的原始论文。\n",
    "\n",
    "机器学习和常规程序一样，是让计算机完成一种特定任务。但是，我们如何使用常规编程来完成我们在上一节中所做的事情：识别照片中的狗和猫？我们必须为计算机写下完成任务所需的确切步骤。\n",
    "\n",
    "通常，当我们编写程序时，写下完成任务的步骤对我们来说很容易。只需思考我们手工完成任务的步骤，然后将其转换为代码。例如，我们写一个对列表进行排序的功能。通常，我们会编写一个如下图\\<basic_program\\>所示流程的功能（其中输入可能是未排序的列表，而结果是排序后的列表）。"
   ]
  },
  {
   "cell_type": "code",
   "execution_count": 9,
   "metadata": {
    "hide_input": false
   },
   "outputs": [
    {
     "data": {
      "image/svg+xml": [
       "<?xml version=\"1.0\" encoding=\"UTF-8\" standalone=\"no\"?>\n",
       "<!DOCTYPE svg PUBLIC \"-//W3C//DTD SVG 1.1//EN\"\n",
       " \"http://www.w3.org/Graphics/SVG/1.1/DTD/svg11.dtd\">\n",
       "<!-- Generated by graphviz version 13.0.1 (20250615.1724)\n",
       " -->\n",
       "<!-- Title: G Pages: 1 -->\n",
       "<svg width=\"278pt\" height=\"58pt\"\n",
       " viewBox=\"0.00 0.00 278.00 58.00\" xmlns=\"http://www.w3.org/2000/svg\" xmlns:xlink=\"http://www.w3.org/1999/xlink\">\n",
       "<g id=\"graph0\" class=\"graph\" transform=\"scale(1 1) rotate(0) translate(4 54.4)\">\n",
       "<title>G</title>\n",
       "<polygon fill=\"white\" stroke=\"none\" points=\"-4,4 -4,-54.4 273.87,-54.4 273.87,4 -4,4\"/>\n",
       "<!-- 程序 -->\n",
       "<g id=\"node1\" class=\"node\">\n",
       "<title>程序</title>\n",
       "<polygon fill=\"none\" stroke=\"black\" points=\"170.93,-50.4 102.93,-50.4 98.93,-46.4 98.93,0 166.93,0 170.93,-4 170.93,-50.4\"/>\n",
       "<polyline fill=\"none\" stroke=\"black\" points=\"166.93,-46.4 98.93,-46.4\"/>\n",
       "<polyline fill=\"none\" stroke=\"black\" points=\"166.93,-46.4 166.93,0\"/>\n",
       "<polyline fill=\"none\" stroke=\"black\" points=\"166.93,-46.4 170.93,-50.4\"/>\n",
       "<text xml:space=\"preserve\" text-anchor=\"middle\" x=\"134.93\" y=\"-22.03\" font-family=\"Times,serif\" font-size=\"14.00\">程序</text>\n",
       "</g>\n",
       "<!-- 结果 -->\n",
       "<g id=\"node3\" class=\"node\">\n",
       "<title>结果</title>\n",
       "<ellipse fill=\"none\" stroke=\"black\" cx=\"238.4\" cy=\"-25.2\" rx=\"31.47\" ry=\"19.98\"/>\n",
       "<text xml:space=\"preserve\" text-anchor=\"middle\" x=\"238.4\" y=\"-22.03\" font-family=\"Times,serif\" font-size=\"14.00\">结果</text>\n",
       "</g>\n",
       "<!-- 程序&#45;&gt;结果 -->\n",
       "<g id=\"edge2\" class=\"edge\">\n",
       "<title>程序&#45;&gt;结果</title>\n",
       "<path fill=\"none\" stroke=\"black\" d=\"M171.42,-25.2C179.1,-25.2 187.29,-25.2 195.2,-25.2\"/>\n",
       "<polygon fill=\"black\" stroke=\"black\" points=\"194.98,-28.7 204.98,-25.2 194.98,-21.7 194.98,-28.7\"/>\n",
       "</g>\n",
       "<!-- 输入 -->\n",
       "<g id=\"node2\" class=\"node\">\n",
       "<title>输入</title>\n",
       "<ellipse fill=\"none\" stroke=\"black\" cx=\"31.47\" cy=\"-25.2\" rx=\"31.47\" ry=\"19.98\"/>\n",
       "<text xml:space=\"preserve\" text-anchor=\"middle\" x=\"31.47\" y=\"-22.03\" font-family=\"Times,serif\" font-size=\"14.00\">输入</text>\n",
       "</g>\n",
       "<!-- 输入&#45;&gt;程序 -->\n",
       "<g id=\"edge1\" class=\"edge\">\n",
       "<title>输入&#45;&gt;程序</title>\n",
       "<path fill=\"none\" stroke=\"black\" d=\"M63.18,-25.2C70.8,-25.2 79.12,-25.2 87.31,-25.2\"/>\n",
       "<polygon fill=\"black\" stroke=\"black\" points=\"87.18,-28.7 97.18,-25.2 87.18,-21.7 87.18,-28.7\"/>\n",
       "</g>\n",
       "</g>\n",
       "</svg>\n"
      ],
      "text/plain": [
       "<graphviz.sources.Source at 0x33602b4c0>"
      ]
     },
     "execution_count": 9,
     "metadata": {},
     "output_type": "execute_result"
    }
   ],
   "source": [
    "#hide_input\n",
    "#caption A traditional program\n",
    "#id basic_program\n",
    "#alt Pipeline inputs, program, results\n",
    "# ubuntu ：sudo apt-get install graphviz\n",
    "# win: https://graphviz.org/download/\n",
    "gv('''程序[shape=box3d width=1 height=0.7]  输入->程序->结果''')"
   ]
  },
  {
   "attachments": {},
   "cell_type": "markdown",
   "metadata": {},
   "source": [
    "但对于识别照片中的物体来说，这有点棘手。当我们识别图片中的物体时，将会采取什么步骤？我们真的不知道，因为这一切都是无意识的发生在我们的大脑中。\n",
    "\n",
    "早在1949年计算机刚刚诞生的时候，一位名叫亚瑟·塞缪尔的IBM研究员就开始研究让计算机完成任务的不同方法，他称之为机器学习。在他1962年的经典论文《人工智能：自动化前沿》中，他写道："
   ]
  },
  {
   "attachments": {},
   "cell_type": "markdown",
   "metadata": {},
   "source": [
    "> 为这样的计算编写计算机程序是一项困难的任务，不仅仅因为计算机自身内在的复杂性，而是因为需要以令人恼火的细节详细说明该过程的每一个细小步骤。正像任何程序员都会告诉你的那样，计算机是巨大的白痴，而不是巨大的大脑。"
   ]
  },
  {
   "attachments": {},
   "cell_type": "markdown",
   "metadata": {},
   "source": [
    "他的基本想法是这样的：不是告诉计算机解决问题所需的确切步骤，而是向它展示所解决问题的例子，让它弄清楚如何自己去解决这个问题。这被证明是非常有效的：到1961年，他的跳棋程序通过这种方法学习很多内容，甚至击败了康涅狄格州的冠军！下面是他描述的思路（同样出自前面提到的文章）："
   ]
  },
  {
   "attachments": {},
   "cell_type": "markdown",
   "metadata": {},
   "source": [
    "> 假设我们安排一些自动手段，根据实际性能以测试任何当前权重分配的有效性，并提供改变权重分配的机制，以最大限度地提高性能。我们不需要深入研究这种程序的细节，就可以看到它能够完全自动化，也可以看到这样编程的机器会从它的经验中“学习”。"
   ]
  },
  {
   "attachments": {},
   "cell_type": "markdown",
   "metadata": {},
   "source": [
    "在这个简短的声明中包含了许多强有力的概念：\n",
    "- “权重分配”的想法\n",
    "- 事实上，每个权重分配都有一些“实际性能”\n",
    "- 要求有一种测试该性能的“自动化手段”\n",
    "- 需要一个“机制”（即另外的自动化过程）通过改变权重分配弄改进性能。\n",
    "\n",
    "让我们逐一了解这些概念，以便了解它们在实践中是如何组合在一起的。首先，我们需要理解塞缪尔所说的“权重分配”是什么意思。\n",
    "\n",
    "权重就是变量，权重分配就是为这些变量选择特定的值。程序的输入是为了产生结果而处理的值——例如，将图像像素作为输入，会返回“狗”分类作为结果。程序的权重分配是定义程序如何运行的其他值。\n",
    "\n",
    "因为它们会影响程序，它们从某种意义上说是另一种输入。考虑到这一点，我们将我们的基础图\\<basic_program\\>替换为图\\<weight_assignment\\>。\n"
   ]
  },
  {
   "cell_type": "code",
   "execution_count": 10,
   "metadata": {
    "hide_input": true
   },
   "outputs": [
    {
     "data": {
      "image/svg+xml": [
       "<?xml version=\"1.0\" encoding=\"UTF-8\" standalone=\"no\"?>\n",
       "<!DOCTYPE svg PUBLIC \"-//W3C//DTD SVG 1.1//EN\"\n",
       " \"http://www.w3.org/Graphics/SVG/1.1/DTD/svg11.dtd\">\n",
       "<!-- Generated by graphviz version 13.0.1 (20250615.1724)\n",
       " -->\n",
       "<!-- Title: G Pages: 1 -->\n",
       "<svg width=\"278pt\" height=\"106pt\"\n",
       " viewBox=\"0.00 0.00 278.00 106.00\" xmlns=\"http://www.w3.org/2000/svg\" xmlns:xlink=\"http://www.w3.org/1999/xlink\">\n",
       "<g id=\"graph0\" class=\"graph\" transform=\"scale(1 1) rotate(0) translate(4 101.95)\">\n",
       "<title>G</title>\n",
       "<polygon fill=\"white\" stroke=\"none\" points=\"-4,4 -4,-101.95 273.87,-101.95 273.87,4 -4,4\"/>\n",
       "<!-- 模型 -->\n",
       "<g id=\"node1\" class=\"node\">\n",
       "<title>模型</title>\n",
       "<polygon fill=\"none\" stroke=\"black\" points=\"170.93,-74.18 102.93,-74.18 98.93,-70.18 98.93,-23.78 166.93,-23.78 170.93,-27.78 170.93,-74.18\"/>\n",
       "<polyline fill=\"none\" stroke=\"black\" points=\"166.93,-70.18 98.93,-70.18\"/>\n",
       "<polyline fill=\"none\" stroke=\"black\" points=\"166.93,-70.18 166.93,-23.78\"/>\n",
       "<polyline fill=\"none\" stroke=\"black\" points=\"166.93,-70.18 170.93,-74.18\"/>\n",
       "<text xml:space=\"preserve\" text-anchor=\"middle\" x=\"134.93\" y=\"-45.8\" font-family=\"Times,serif\" font-size=\"14.00\">模型</text>\n",
       "</g>\n",
       "<!-- 结果 -->\n",
       "<g id=\"node3\" class=\"node\">\n",
       "<title>结果</title>\n",
       "<ellipse fill=\"none\" stroke=\"black\" cx=\"238.4\" cy=\"-48.98\" rx=\"31.47\" ry=\"19.98\"/>\n",
       "<text xml:space=\"preserve\" text-anchor=\"middle\" x=\"238.4\" y=\"-45.8\" font-family=\"Times,serif\" font-size=\"14.00\">结果</text>\n",
       "</g>\n",
       "<!-- 模型&#45;&gt;结果 -->\n",
       "<g id=\"edge2\" class=\"edge\">\n",
       "<title>模型&#45;&gt;结果</title>\n",
       "<path fill=\"none\" stroke=\"black\" d=\"M171.42,-48.98C179.1,-48.98 187.29,-48.98 195.2,-48.98\"/>\n",
       "<polygon fill=\"black\" stroke=\"black\" points=\"194.98,-52.48 204.98,-48.98 194.98,-45.48 194.98,-52.48\"/>\n",
       "</g>\n",
       "<!-- 输入 -->\n",
       "<g id=\"node2\" class=\"node\">\n",
       "<title>输入</title>\n",
       "<ellipse fill=\"none\" stroke=\"black\" cx=\"31.47\" cy=\"-77.98\" rx=\"31.47\" ry=\"19.98\"/>\n",
       "<text xml:space=\"preserve\" text-anchor=\"middle\" x=\"31.47\" y=\"-74.8\" font-family=\"Times,serif\" font-size=\"14.00\">输入</text>\n",
       "</g>\n",
       "<!-- 输入&#45;&gt;模型 -->\n",
       "<g id=\"edge1\" class=\"edge\">\n",
       "<title>输入&#45;&gt;模型</title>\n",
       "<path fill=\"none\" stroke=\"black\" d=\"M60.73,-69.9C69.07,-67.51 78.42,-64.84 87.58,-62.22\"/>\n",
       "<polygon fill=\"black\" stroke=\"black\" points=\"88.47,-65.61 97.12,-59.5 86.55,-58.88 88.47,-65.61\"/>\n",
       "</g>\n",
       "<!-- 权重 -->\n",
       "<g id=\"node4\" class=\"node\">\n",
       "<title>权重</title>\n",
       "<ellipse fill=\"none\" stroke=\"black\" cx=\"31.47\" cy=\"-19.98\" rx=\"31.47\" ry=\"19.98\"/>\n",
       "<text xml:space=\"preserve\" text-anchor=\"middle\" x=\"31.47\" y=\"-16.8\" font-family=\"Times,serif\" font-size=\"14.00\">权重</text>\n",
       "</g>\n",
       "<!-- 权重&#45;&gt;模型 -->\n",
       "<g id=\"edge3\" class=\"edge\">\n",
       "<title>权重&#45;&gt;模型</title>\n",
       "<path fill=\"none\" stroke=\"black\" d=\"M60.73,-28.05C69.07,-30.44 78.42,-33.11 87.58,-35.73\"/>\n",
       "<polygon fill=\"black\" stroke=\"black\" points=\"86.55,-39.07 97.12,-38.46 88.47,-32.34 86.55,-39.07\"/>\n",
       "</g>\n",
       "</g>\n",
       "</svg>\n"
      ],
      "text/plain": [
       "<graphviz.sources.Source at 0x33602afe0>"
      ]
     },
     "execution_count": 10,
     "metadata": {},
     "output_type": "execute_result"
    }
   ],
   "source": [
    "#hide_input\n",
    "#caption A program using weight assignment\n",
    "#id weight_assignment\n",
    "gv('''模型[shape=box3d width=1 height=0.7]\n",
    "输入->模型->结果; 权重->模型''')"
   ]
  },
  {
   "attachments": {},
   "cell_type": "markdown",
   "metadata": {},
   "source": [
    "我们已将方框的名称从“程序”更改为“模型”。这是为了遵循现代术语，并且可以反映出模型是一种特殊的程序：根据权重不同，它可以完成许多不同的事情。可以通过许多不同的方式来实现。例如，在塞缪尔的跳棋程序中，不同的权重值将产生不同玩跳棋的策略。\n",
    "\n",
    "（顺便提一下，以防您遇到那个术语，塞缪尔所说的“权重”现在通常被称为模型*参数*。而*权重*是为特定类型的模型参数保留的。）\n",
    "\n",
    "接下来，塞缪尔说*我们需要一种自动化手段根据实际性能以测试任何当前权重分配的有效性*。以他的跳棋程序为例，模型的“实际性能”将是它玩得有多好。你可以通过让两个模型互为对手来自动测试两个模型的性能，看哪一个模型赢得多，\n",
    "\n",
    "最后，他说，我们需要*一种能够调整权重分配以便取得最好性能的机制*。例如，我们可以查看获胜模型和失败模型之间的权重差异，进一步调整获胜方面的权重。\n",
    "\n",
    "我们现在可以明白*为什么他说这种程序可以完全自动化，而且……这样编程的机器会从它的经验中“学习”*。当权重的调整也是自动化的时候，学习将变得完全自动化 —— 当我们不是通过手动调整权重来改进模型，是依赖于性能进行调整的自动化机制。\n",
    "\n",
    "下图\\<training_loop\\>展示了塞缪尔训练一个机器学习模型想法的全貌。"
   ]
  },
  {
   "cell_type": "code",
   "execution_count": 11,
   "metadata": {
    "hide_input": true
   },
   "outputs": [
    {
     "data": {
      "image/svg+xml": [
       "<?xml version=\"1.0\" encoding=\"UTF-8\" standalone=\"no\"?>\n",
       "<!DOCTYPE svg PUBLIC \"-//W3C//DTD SVG 1.1//EN\"\n",
       " \"http://www.w3.org/Graphics/SVG/1.1/DTD/svg11.dtd\">\n",
       "<!-- Generated by graphviz version 13.0.1 (20250615.1724)\n",
       " -->\n",
       "<!-- Title: G Pages: 1 -->\n",
       "<svg width=\"407pt\" height=\"106pt\"\n",
       " viewBox=\"0.00 0.00 407.00 106.00\" xmlns=\"http://www.w3.org/2000/svg\" xmlns:xlink=\"http://www.w3.org/1999/xlink\">\n",
       "<g id=\"graph0\" class=\"graph\" transform=\"scale(1 1) rotate(0) translate(4 101.95)\">\n",
       "<title>G</title>\n",
       "<polygon fill=\"white\" stroke=\"none\" points=\"-4,4 -4,-101.95 403.3,-101.95 403.3,4 -4,4\"/>\n",
       "<!-- 模型 -->\n",
       "<g id=\"node1\" class=\"node\">\n",
       "<title>模型</title>\n",
       "<polygon fill=\"none\" stroke=\"black\" points=\"171.93,-83.18 103.93,-83.18 99.93,-79.18 99.93,-32.78 167.93,-32.78 171.93,-36.78 171.93,-83.18\"/>\n",
       "<polyline fill=\"none\" stroke=\"black\" points=\"167.93,-79.18 99.93,-79.18\"/>\n",
       "<polyline fill=\"none\" stroke=\"black\" points=\"167.93,-79.18 167.93,-32.78\"/>\n",
       "<polyline fill=\"none\" stroke=\"black\" points=\"167.93,-79.18 171.93,-83.18\"/>\n",
       "<text xml:space=\"preserve\" text-anchor=\"middle\" x=\"135.93\" y=\"-54.8\" font-family=\"Times,serif\" font-size=\"14.00\">模型</text>\n",
       "</g>\n",
       "<!-- 结果 -->\n",
       "<g id=\"node3\" class=\"node\">\n",
       "<title>结果</title>\n",
       "<ellipse fill=\"none\" stroke=\"black\" cx=\"267.9\" cy=\"-57.98\" rx=\"31.47\" ry=\"19.98\"/>\n",
       "<text xml:space=\"preserve\" text-anchor=\"middle\" x=\"267.9\" y=\"-54.8\" font-family=\"Times,serif\" font-size=\"14.00\">结果</text>\n",
       "</g>\n",
       "<!-- 模型&#45;&gt;结果 -->\n",
       "<g id=\"edge2\" class=\"edge\">\n",
       "<title>模型&#45;&gt;结果</title>\n",
       "<path fill=\"none\" stroke=\"black\" d=\"M172.1,-57.98C188.35,-57.98 207.77,-57.98 224.79,-57.98\"/>\n",
       "<polygon fill=\"black\" stroke=\"black\" points=\"224.61,-61.48 234.61,-57.98 224.61,-54.48 224.61,-61.48\"/>\n",
       "</g>\n",
       "<!-- 输入 -->\n",
       "<g id=\"node2\" class=\"node\">\n",
       "<title>输入</title>\n",
       "<ellipse fill=\"none\" stroke=\"black\" cx=\"31.47\" cy=\"-77.98\" rx=\"31.47\" ry=\"19.98\"/>\n",
       "<text xml:space=\"preserve\" text-anchor=\"middle\" x=\"31.47\" y=\"-74.8\" font-family=\"Times,serif\" font-size=\"14.00\">输入</text>\n",
       "</g>\n",
       "<!-- 输入&#45;&gt;模型 -->\n",
       "<g id=\"edge1\" class=\"edge\">\n",
       "<title>输入&#45;&gt;模型</title>\n",
       "<path fill=\"none\" stroke=\"black\" d=\"M62.1,-72.19C70.33,-70.58 79.47,-68.8 88.42,-67.06\"/>\n",
       "<polygon fill=\"black\" stroke=\"black\" points=\"88.93,-70.52 98.07,-65.17 87.59,-63.65 88.93,-70.52\"/>\n",
       "</g>\n",
       "<!-- 性能 -->\n",
       "<g id=\"node5\" class=\"node\">\n",
       "<title>性能</title>\n",
       "<ellipse fill=\"none\" stroke=\"black\" cx=\"367.83\" cy=\"-57.98\" rx=\"31.47\" ry=\"19.98\"/>\n",
       "<text xml:space=\"preserve\" text-anchor=\"middle\" x=\"367.83\" y=\"-54.8\" font-family=\"Times,serif\" font-size=\"14.00\">性能</text>\n",
       "</g>\n",
       "<!-- 结果&#45;&gt;性能 -->\n",
       "<g id=\"edge4\" class=\"edge\">\n",
       "<title>结果&#45;&gt;性能</title>\n",
       "<path fill=\"none\" stroke=\"black\" d=\"M299.62,-57.98C307.47,-57.98 316.06,-57.98 324.38,-57.98\"/>\n",
       "<polygon fill=\"black\" stroke=\"black\" points=\"324.37,-61.48 334.37,-57.98 324.37,-54.48 324.37,-61.48\"/>\n",
       "</g>\n",
       "<!-- 权重 -->\n",
       "<g id=\"node4\" class=\"node\">\n",
       "<title>权重</title>\n",
       "<ellipse fill=\"none\" stroke=\"black\" cx=\"31.47\" cy=\"-19.98\" rx=\"31.47\" ry=\"19.98\"/>\n",
       "<text xml:space=\"preserve\" text-anchor=\"middle\" x=\"31.47\" y=\"-16.8\" font-family=\"Times,serif\" font-size=\"14.00\">权重</text>\n",
       "</g>\n",
       "<!-- 权重&#45;&gt;模型 -->\n",
       "<g id=\"edge3\" class=\"edge\">\n",
       "<title>权重&#45;&gt;模型</title>\n",
       "<path fill=\"none\" stroke=\"black\" d=\"M59.12,-29.86C68.27,-33.26 78.8,-37.16 89.04,-40.96\"/>\n",
       "<polygon fill=\"black\" stroke=\"black\" points=\"87.52,-44.13 98.12,-44.32 89.96,-37.56 87.52,-44.13\"/>\n",
       "</g>\n",
       "<!-- 性能&#45;&gt;权重 -->\n",
       "<g id=\"edge5\" class=\"edge\">\n",
       "<title>性能&#45;&gt;权重</title>\n",
       "<path fill=\"none\" stroke=\"black\" d=\"M343.2,-45.28C330.57,-39.16 314.54,-32.41 299.37,-28.98 221.38,-11.32 127.34,-13.37 74.27,-16.59\"/>\n",
       "<polygon fill=\"black\" stroke=\"black\" points=\"74.22,-13.08 64.47,-17.23 74.68,-20.07 74.22,-13.08\"/>\n",
       "<text xml:space=\"preserve\" text-anchor=\"middle\" x=\"204.18\" y=\"-23.98\" font-family=\"Times,serif\" font-size=\"14.00\">更新</text>\n",
       "</g>\n",
       "</g>\n",
       "</svg>\n"
      ],
      "text/plain": [
       "<graphviz.sources.Source at 0x33602b6d0>"
      ]
     },
     "execution_count": 11,
     "metadata": {},
     "output_type": "execute_result"
    }
   ],
   "source": [
    "#hide_input\n",
    "#caption Training a machine learning model\n",
    "#id training_loop\n",
    "#alt The basic training loop\n",
    "gv('''ordering=in\n",
    "模型[shape=box3d width=1 height=0.7]\n",
    "输入->模型->结果; 权重->模型; 结果->性能\n",
    "性能->权重[constraint=false label=更新]''')"
   ]
  },
  {
   "attachments": {},
   "cell_type": "markdown",
   "metadata": {},
   "source": [
    "注意模型的结果（即跳棋游戏中的走法）与其性能（即它是否赢得游戏，或者它赢得有多快）之间的区别。\n",
    "\n",
    "还要注意的是，一旦模型被训练 —— 即，一旦我们选择了最终的、最好的、最喜欢的权重分配，那么我们就可以将权重视为模型的一部分，因为我们不会再变更它们了。\n",
    "\n",
    "因此，实际使用一个训练完成的模型，如下图\\<using_model\\>所示.\n"
   ]
  },
  {
   "cell_type": "code",
   "execution_count": 12,
   "metadata": {
    "hide_input": true
   },
   "outputs": [
    {
     "data": {
      "image/svg+xml": [
       "<?xml version=\"1.0\" encoding=\"UTF-8\" standalone=\"no\"?>\n",
       "<!DOCTYPE svg PUBLIC \"-//W3C//DTD SVG 1.1//EN\"\n",
       " \"http://www.w3.org/Graphics/SVG/1.1/DTD/svg11.dtd\">\n",
       "<!-- Generated by graphviz version 13.0.1 (20250615.1724)\n",
       " -->\n",
       "<!-- Title: G Pages: 1 -->\n",
       "<svg width=\"278pt\" height=\"58pt\"\n",
       " viewBox=\"0.00 0.00 278.00 58.00\" xmlns=\"http://www.w3.org/2000/svg\" xmlns:xlink=\"http://www.w3.org/1999/xlink\">\n",
       "<g id=\"graph0\" class=\"graph\" transform=\"scale(1 1) rotate(0) translate(4 54.4)\">\n",
       "<title>G</title>\n",
       "<polygon fill=\"white\" stroke=\"none\" points=\"-4,4 -4,-54.4 273.87,-54.4 273.87,4 -4,4\"/>\n",
       "<!-- 模型 -->\n",
       "<g id=\"node1\" class=\"node\">\n",
       "<title>模型</title>\n",
       "<polygon fill=\"none\" stroke=\"black\" points=\"170.93,-50.4 102.93,-50.4 98.93,-46.4 98.93,0 166.93,0 170.93,-4 170.93,-50.4\"/>\n",
       "<polyline fill=\"none\" stroke=\"black\" points=\"166.93,-46.4 98.93,-46.4\"/>\n",
       "<polyline fill=\"none\" stroke=\"black\" points=\"166.93,-46.4 166.93,0\"/>\n",
       "<polyline fill=\"none\" stroke=\"black\" points=\"166.93,-46.4 170.93,-50.4\"/>\n",
       "<text xml:space=\"preserve\" text-anchor=\"middle\" x=\"134.93\" y=\"-22.03\" font-family=\"Times,serif\" font-size=\"14.00\">模型</text>\n",
       "</g>\n",
       "<!-- 结果 -->\n",
       "<g id=\"node3\" class=\"node\">\n",
       "<title>结果</title>\n",
       "<ellipse fill=\"none\" stroke=\"black\" cx=\"238.4\" cy=\"-25.2\" rx=\"31.47\" ry=\"19.98\"/>\n",
       "<text xml:space=\"preserve\" text-anchor=\"middle\" x=\"238.4\" y=\"-22.03\" font-family=\"Times,serif\" font-size=\"14.00\">结果</text>\n",
       "</g>\n",
       "<!-- 模型&#45;&gt;结果 -->\n",
       "<g id=\"edge2\" class=\"edge\">\n",
       "<title>模型&#45;&gt;结果</title>\n",
       "<path fill=\"none\" stroke=\"black\" d=\"M171.42,-25.2C179.1,-25.2 187.29,-25.2 195.2,-25.2\"/>\n",
       "<polygon fill=\"black\" stroke=\"black\" points=\"194.98,-28.7 204.98,-25.2 194.98,-21.7 194.98,-28.7\"/>\n",
       "</g>\n",
       "<!-- 输入 -->\n",
       "<g id=\"node2\" class=\"node\">\n",
       "<title>输入</title>\n",
       "<ellipse fill=\"none\" stroke=\"black\" cx=\"31.47\" cy=\"-25.2\" rx=\"31.47\" ry=\"19.98\"/>\n",
       "<text xml:space=\"preserve\" text-anchor=\"middle\" x=\"31.47\" y=\"-22.03\" font-family=\"Times,serif\" font-size=\"14.00\">输入</text>\n",
       "</g>\n",
       "<!-- 输入&#45;&gt;模型 -->\n",
       "<g id=\"edge1\" class=\"edge\">\n",
       "<title>输入&#45;&gt;模型</title>\n",
       "<path fill=\"none\" stroke=\"black\" d=\"M63.18,-25.2C70.8,-25.2 79.12,-25.2 87.31,-25.2\"/>\n",
       "<polygon fill=\"black\" stroke=\"black\" points=\"87.18,-28.7 97.18,-25.2 87.18,-21.7 87.18,-28.7\"/>\n",
       "</g>\n",
       "</g>\n",
       "</svg>\n"
      ],
      "text/plain": [
       "<graphviz.sources.Source at 0x33602b1c0>"
      ]
     },
     "execution_count": 12,
     "metadata": {},
     "output_type": "execute_result"
    }
   ],
   "source": [
    "#hide_input\n",
    "#caption Using a trained model as a program\n",
    "#id using_model\n",
    "gv('''模型[shape=box3d width=1 height=0.7]\n",
    "输入->模型->结果''')"
   ]
  },
  {
   "attachments": {},
   "cell_type": "markdown",
   "metadata": {},
   "source": [
    "这与我们最初的流程图\\<basic_program\\>看起来相同，只是把“程序”一词替用“模型”替换。这是一个重要的理解：可以像对待常规计算机程序一样对待训练过的模型。"
   ]
  },
  {
   "attachments": {},
   "cell_type": "markdown",
   "metadata": {},
   "source": [
    "> 术语：机器学习。允许计算机从经验中学习而开发的训练程序，而不是手动编码每个步骤。\n"
   ]
  },
  {
   "attachments": {},
   "cell_type": "markdown",
   "metadata": {},
   "source": [
    "### 什么是神经网络"
   ]
  },
  {
   "attachments": {},
   "cell_type": "markdown",
   "metadata": {},
   "source": [
    "不难想象跳棋程序的模型会是什么样子。它可能会是一系列跳棋策略的编码，以及某种搜索机制，并且权重可以因策略的选取而变，在搜索期间关注棋盘的哪些部分等等。但是，对于图像识别，理解文本，或者我们能想象到的许多其他有趣的问题，模型可能是什么样子并不是那么明显。\n",
    "\n",
    "我们想要某种功能非常灵活，只需改变它的权重就可以用来解决任何给定的问题。令人惊讶的是，这种功能真的存在！就是我们已经讨论过的“神经网络”。也就是说，如果你把神经网络看作是数学函数，那么它就是一个基于权重的极度灵活的功能。被称为*普遍近似定理*的数学证明显示该功能，理论上可以解决任何问题的精准性水平。神经网络如此灵活的事实意味着，在实践中，它们通常是一种合适的模型，您可以将精力集中在训练它们的过程上——也就是说，找到好的重量分配。\n",
    "\n",
    "但这个过程是怎样的呢？可以想象，您可能需要找到一种新的“机制”来自动的为每个问题更新权重，这将是相当费力的。我们想要的是一种完全通用的方法来更新神经网络的权重，使其改进任何给定的任务。很幸运这也是存在的！\n",
    "\n",
    "这被称为随机梯度下降（SGD）。我们将在第四章看到神经网络和SGD工作细节，及普遍近似定理的解释。然而，现在，我们将使用塞缪尔自己的话：我们不需要深入这种程序的细节，就看出它可以完全自动化，并且看到这样编程的机器能够从它的经验中“学习”。\n"
   ]
  },
  {
   "attachments": {},
   "cell_type": "markdown",
   "metadata": {},
   "source": [
    "> 杰里米说：别担心，无论SGD和神经网络在数学上都不复杂。两者几乎完全依靠加法和乘法去做他们的工作（做了*大量*的加法和乘法运算！）。我们听到当学生看到细节时主要反应是：“这就是全部吗？”"
   ]
  },
  {
   "attachments": {},
   "cell_type": "markdown",
   "metadata": {},
   "source": [
    "换句话说，总结一下。一个神经网络就是一个特定的机器学习模型，正好符合塞缪尔的最初开概念。神经网络之所以特别因为他们是高度灵活的，这意味着只要找到正确的权重，他们就能够解决异常广泛的问题。这很强大，因为随机梯度下降给我们了提供了一种能够自动找到那些权重值的方法。\n",
    "\n",
    "现在我们先从宏观视角抽离出来，再重新聚焦，运用塞缪尔的框架重新审视我们的图像分类问题。\n",
    "\n",
    "我们输入的是图像，我们的权重是神经网络中的权重，我们的模型是神经网络，我们的结果是由神经网络计算出的值，如“狗”或“猫”。\n",
    "\n",
    "那下一步*一种自动化措施，依据实际性能测试当前权重分配的有效性*呢？确定“实际性能”很容易：我们可以简单地将模型的性能定义为预测正确回答的准确率。\n",
    "\n",
    "把所有内容组合起来，假设 SGD 是我们用来更新权重分配的机制，我们能够明白，我们的图像分类器是一个怎样的机器学习模型，更符合塞缪尔的设想。"
   ]
  },
  {
   "attachments": {},
   "cell_type": "markdown",
   "metadata": {},
   "source": [
    "### 一些机器学习术语"
   ]
  },
  {
   "attachments": {},
   "cell_type": "markdown",
   "metadata": {},
   "source": [
    "塞缪尔工作于20世纪60年代，在那之后专有名词已经发生了变化。以下是所有我们之前讨论过的现代深度学习专有名词：\n",
    "- *模型*的功能形式被称为其*框架*（但要小心，有时人们把*模型*当作*框架*的同义词，所以这可能会令人困惑）。\n",
    "- *权重*被称为*参数*。\n",
    "- *预测*是根据*自变量*计算的，即*数据*不包括*标注*。\n",
    "- 模型的*结果*被称为*预测*。\n",
    "- *性能*的衡量标准被称为*损失*。\n",
    "- 损失不仅取决于预测，也取决于正确的*标注*（也被称为*目标*或*因变量*）。例如，“狗”或“猫”。\n",
    "\n",
    "进行这些改动后，我们的图\\<training_loop\\>就变成图\\<detailed_loop\\>"
   ]
  },
  {
   "cell_type": "code",
   "execution_count": 13,
   "metadata": {
    "hide_input": true
   },
   "outputs": [
    {
     "data": {
      "image/svg+xml": [
       "<?xml version=\"1.0\" encoding=\"UTF-8\" standalone=\"no\"?>\n",
       "<!DOCTYPE svg PUBLIC \"-//W3C//DTD SVG 1.1//EN\"\n",
       " \"http://www.w3.org/Graphics/SVG/1.1/DTD/svg11.dtd\">\n",
       "<!-- Generated by graphviz version 13.0.1 (20250615.1724)\n",
       " -->\n",
       "<!-- Title: G Pages: 1 -->\n",
       "<svg width=\"407pt\" height=\"144pt\"\n",
       " viewBox=\"0.00 0.00 407.00 144.00\" xmlns=\"http://www.w3.org/2000/svg\" xmlns:xlink=\"http://www.w3.org/1999/xlink\">\n",
       "<g id=\"graph0\" class=\"graph\" transform=\"scale(1 1) rotate(0) translate(4 139.95)\">\n",
       "<title>G</title>\n",
       "<polygon fill=\"white\" stroke=\"none\" points=\"-4,4 -4,-139.95 403.3,-139.95 403.3,4 -4,4\"/>\n",
       "<!-- 模型 -->\n",
       "<g id=\"node1\" class=\"node\">\n",
       "<title>模型</title>\n",
       "<polygon fill=\"none\" stroke=\"black\" points=\"171.93,-83.18 103.93,-83.18 99.93,-79.18 99.93,-32.78 167.93,-32.78 171.93,-36.78 171.93,-83.18\"/>\n",
       "<polyline fill=\"none\" stroke=\"black\" points=\"167.93,-79.18 99.93,-79.18\"/>\n",
       "<polyline fill=\"none\" stroke=\"black\" points=\"167.93,-79.18 167.93,-32.78\"/>\n",
       "<polyline fill=\"none\" stroke=\"black\" points=\"167.93,-79.18 171.93,-83.18\"/>\n",
       "<text xml:space=\"preserve\" text-anchor=\"middle\" x=\"135.93\" y=\"-54.8\" font-family=\"Times,serif\" font-size=\"14.00\">框架</text>\n",
       "</g>\n",
       "<!-- 预测 -->\n",
       "<g id=\"node3\" class=\"node\">\n",
       "<title>预测</title>\n",
       "<ellipse fill=\"none\" stroke=\"black\" cx=\"267.9\" cy=\"-57.98\" rx=\"31.47\" ry=\"19.98\"/>\n",
       "<text xml:space=\"preserve\" text-anchor=\"middle\" x=\"267.9\" y=\"-54.8\" font-family=\"Times,serif\" font-size=\"14.00\">预测</text>\n",
       "</g>\n",
       "<!-- 模型&#45;&gt;预测 -->\n",
       "<g id=\"edge2\" class=\"edge\">\n",
       "<title>模型&#45;&gt;预测</title>\n",
       "<path fill=\"none\" stroke=\"black\" d=\"M172.1,-57.98C188.35,-57.98 207.77,-57.98 224.79,-57.98\"/>\n",
       "<polygon fill=\"black\" stroke=\"black\" points=\"224.61,-61.48 234.61,-57.98 224.61,-54.48 224.61,-61.48\"/>\n",
       "</g>\n",
       "<!-- 输入 -->\n",
       "<g id=\"node2\" class=\"node\">\n",
       "<title>输入</title>\n",
       "<ellipse fill=\"none\" stroke=\"black\" cx=\"31.47\" cy=\"-77.98\" rx=\"31.47\" ry=\"19.98\"/>\n",
       "<text xml:space=\"preserve\" text-anchor=\"middle\" x=\"31.47\" y=\"-74.8\" font-family=\"Times,serif\" font-size=\"14.00\">输入</text>\n",
       "</g>\n",
       "<!-- 输入&#45;&gt;模型 -->\n",
       "<g id=\"edge1\" class=\"edge\">\n",
       "<title>输入&#45;&gt;模型</title>\n",
       "<path fill=\"none\" stroke=\"black\" d=\"M62.1,-72.19C70.33,-70.58 79.47,-68.8 88.42,-67.06\"/>\n",
       "<polygon fill=\"black\" stroke=\"black\" points=\"88.93,-70.52 98.07,-65.17 87.59,-63.65 88.93,-70.52\"/>\n",
       "</g>\n",
       "<!-- 损失 -->\n",
       "<g id=\"node6\" class=\"node\">\n",
       "<title>损失</title>\n",
       "<ellipse fill=\"none\" stroke=\"black\" cx=\"367.83\" cy=\"-100.98\" rx=\"31.47\" ry=\"19.98\"/>\n",
       "<text xml:space=\"preserve\" text-anchor=\"middle\" x=\"367.83\" y=\"-97.8\" font-family=\"Times,serif\" font-size=\"14.00\">损失</text>\n",
       "</g>\n",
       "<!-- 预测&#45;&gt;损失 -->\n",
       "<g id=\"edge5\" class=\"edge\">\n",
       "<title>预测&#45;&gt;损失</title>\n",
       "<path fill=\"none\" stroke=\"black\" d=\"M294.37,-69.16C305.6,-74.09 318.97,-79.96 331.16,-85.31\"/>\n",
       "<polygon fill=\"black\" stroke=\"black\" points=\"329.53,-88.42 340.1,-89.24 332.35,-82.01 329.53,-88.42\"/>\n",
       "</g>\n",
       "<!-- 参数 -->\n",
       "<g id=\"node4\" class=\"node\">\n",
       "<title>参数</title>\n",
       "<ellipse fill=\"none\" stroke=\"black\" cx=\"31.47\" cy=\"-19.98\" rx=\"31.47\" ry=\"19.98\"/>\n",
       "<text xml:space=\"preserve\" text-anchor=\"middle\" x=\"31.47\" y=\"-16.8\" font-family=\"Times,serif\" font-size=\"14.00\">参数</text>\n",
       "</g>\n",
       "<!-- 参数&#45;&gt;模型 -->\n",
       "<g id=\"edge3\" class=\"edge\">\n",
       "<title>参数&#45;&gt;模型</title>\n",
       "<path fill=\"none\" stroke=\"black\" d=\"M59.12,-29.86C68.27,-33.26 78.8,-37.16 89.04,-40.96\"/>\n",
       "<polygon fill=\"black\" stroke=\"black\" points=\"87.52,-44.13 98.12,-44.32 89.96,-37.56 87.52,-44.13\"/>\n",
       "</g>\n",
       "<!-- 标注 -->\n",
       "<g id=\"node5\" class=\"node\">\n",
       "<title>标注</title>\n",
       "<ellipse fill=\"none\" stroke=\"black\" cx=\"267.9\" cy=\"-115.98\" rx=\"31.47\" ry=\"19.98\"/>\n",
       "<text xml:space=\"preserve\" text-anchor=\"middle\" x=\"267.9\" y=\"-112.8\" font-family=\"Times,serif\" font-size=\"14.00\">标注</text>\n",
       "</g>\n",
       "<!-- 标注&#45;&gt;损失 -->\n",
       "<g id=\"edge4\" class=\"edge\">\n",
       "<title>标注&#45;&gt;损失</title>\n",
       "<path fill=\"none\" stroke=\"black\" d=\"M298.81,-111.39C307.28,-110.1 316.64,-108.66 325.64,-107.28\"/>\n",
       "<polygon fill=\"black\" stroke=\"black\" points=\"325.91,-110.78 335.27,-105.81 324.85,-103.86 325.91,-110.78\"/>\n",
       "</g>\n",
       "<!-- 损失&#45;&gt;参数 -->\n",
       "<g id=\"edge6\" class=\"edge\">\n",
       "<title>损失&#45;&gt;参数</title>\n",
       "<path fill=\"none\" stroke=\"black\" d=\"M355.56,-82.35C343.91,-65.01 323.98,-40.22 299.37,-28.98 225.31,4.86 127.26,-3.49 72.98,-12.07\"/>\n",
       "<polygon fill=\"black\" stroke=\"black\" points=\"72.55,-8.6 63.26,-13.7 73.7,-15.5 72.55,-8.6\"/>\n",
       "<text xml:space=\"preserve\" text-anchor=\"middle\" x=\"204.18\" y=\"-14.34\" font-family=\"Times,serif\" font-size=\"14.00\">更新</text>\n",
       "</g>\n",
       "</g>\n",
       "</svg>\n"
      ],
      "text/plain": [
       "<graphviz.sources.Source at 0x33602a440>"
      ]
     },
     "execution_count": 13,
     "metadata": {},
     "output_type": "execute_result"
    }
   ],
   "source": [
    "#hide_input\n",
    "#caption Detailed training loop\n",
    "#id detailed_loop\n",
    "gv('''ordering=in\n",
    "模型[shape=box3d width=1 height=0.7 label=框架]\n",
    "输入->模型->预测; 参数->模型; 标注->损失; 预测->损失\n",
    "损失->参数[constraint=false label=更新]''')"
   ]
  },
  {
   "attachments": {},
   "cell_type": "markdown",
   "metadata": {},
   "source": [
    "### 机器学习因有的局限性\n",
    "\n",
    "现在我们从上图能够看到训练一个深度学习模型的一些基本内容：\n",
    "- 没有数据就无法创建模型。\n",
    "- 模型只能学习用于训练它的输入数据上看到的模式进行操作。\n",
    "- 这种学习方法只创建*预测*，而不是建议*行为*。\n",
    "- 仅仅有输入数据样例是不够的；我们也需要这些数据的*标注*（例如，狗和猫的图片不足以训练模型；我们需要每张图片的标注，说明哪些是狗，哪些是猫）。\n",
    "\n",
    "一般来说，我们看到大多数机构所说的他们没有足够多的数据，实际含义是他们没有足够*标注*的数据。如果任何机构有兴趣使用模型做些实践工作，那么他们可能会有一些输入，计划运行他们的模型。也可能他们已经用其他方法做了一段时间了（例如，手动，或者用一些启发式程序），所以他们会在那些过程中得到了数据！例如，放射学实践肯定会有医学扫描资料（因为他们需要检查病人病情随着时间进展情况），但这些资料可能没有包含诊断或干预措施列表的结构化标注信息（因为放射科医生一般会创建自由文本自然语言的报告，而不是结构化数据）。我们将在这本书中讨论一些标注方法，因为它在实践中是一个重要问题。\n",
    "\n",
    "由于此类机器学习模型只能做出预测（即，尝试复制标注），这会在机构的目标和模型的能力之间产生巨大差距。例如，在本书中，您会学习如何创建一个推荐系统，能预测用户可能购买的产品的。这通常用于电子商务，例如通过显示排名最高的产品来定制主页上显示的产品。但这样的模型通常是通过查看用户和他们购买的历史记录（*输入*）以及他们想要购买或查看的内容（*标注*）来创建的，这意味着该模型可能会告诉您用户已经拥有或已经了解的产品，而不是他们听说的最有可能感兴趣的新产品。与此不同的是，当地的书商专家会通过问问题来了解你的品味，然后推荐一些你以前从未听说过的作家或丛书。"
   ]
  },
  {
   "attachments": {},
   "cell_type": "markdown",
   "metadata": {},
   "source": [
    "另一个关键的见解来自于考虑模型与它的环境如何进行交互。这会产生*反馈循环*，如下所述：\n",
    "\n",
    "- 基于过去实施逮捕的地点创建了*一个预测性警务*模型。这实际上不是预测犯罪，而是预测逮捕，因此只简单反映了现有警务过程中的偏见。\n",
    "- 然后，执法人员利用这个模型来决定他们的警务活动的重点，导致增加那些地区的逮捕人数。\n",
    "- 然后这些额外逮捕的数据会反馈给未来模型版本的训练。\n",
    "这是一个*正反馈循环*，模型使用得越多，数据的偏见就越大，从而使模型的偏见更大，以此类推。\n",
    "\n",
    "反馈循环也会在商业环境中产生问题。例如，视频推荐系统可能偏向于推荐那些观看人数最多的视频（例如，阴谋论者和极端主义者倾向于观看比平均水平更多的在线视频），导致那些用户增加了他们视频的观看量，导致更多那类视频被推荐。我们将在第三章中更详细地考虑这个话题。"
   ]
  },
  {
   "attachments": {},
   "cell_type": "markdown",
   "metadata": {},
   "source": [
    "现在您已经了解了理论的基础，让我们回到代码示例，详细看代码如何对应到我们刚才描述的流程。"
   ]
  },
  {
   "attachments": {},
   "cell_type": "markdown",
   "metadata": {},
   "source": [
    "### 我们图像识别器如何工作"
   ]
  },
  {
   "attachments": {},
   "cell_type": "markdown",
   "metadata": {},
   "source": [
    "让我们看看我们的图像识别器代码和这些概念是如何关联的。我们将把每一行放到一个独立的单元格中，并查看每一行在做什么（我们还是不会解释每个参数的每个细节，但对比较重要的部分会给出描述；完整细节将在本书的后续章节介绍）。"
   ]
  },
  {
   "attachments": {},
   "cell_type": "markdown",
   "metadata": {},
   "source": [
    "第一行导入所有fastai.vision库 。\n",
    "```python\n",
    "from fastai.vision.all import *\n",
    "```\n",
    "它为我们提供了创建各种计算机视觉模型所需的所有函数和类。"
   ]
  },
  {
   "attachments": {},
   "cell_type": "markdown",
   "metadata": {},
   "source": [
    "> 杰里米：许多Python程序员建议避免以这种方式（使用`import *`语法）导入整个库，因为在大型软件项目中会引发出很多问题。然而，在Jupyter这样的交互式工作效果却很好。fastai库是专门为支持这种交互式使用而设计的，它只将必要的内容导入到你的运行环境中。"
   ]
  },
  {
   "attachments": {},
   "cell_type": "markdown",
   "metadata": {},
   "source": [
    "第二行从[fast.ai数据集](https://course.fast.ai/datasets)（如果之前未下载过）下载标准数据集到你的机器上，并将其解压（如果以前未解压过），返回包含解压缩位置的`路径`对象：\n",
    "```python\n",
    "path = untar_data(URL.PETS)/'images'\n",
    "```\n",
    "> 西尔万：在Fast.ai学习期间，即使到今天，我都学到了很多关于高效编码实践。fastai库和fast.ai 笔记中充满了很棒的小技巧帮助我成为更好的程序员。例如，请注意fastai库不是仅返回包含数据路径的字符串，而是`path`对象。这是来自Python3标准库的一个非常有用的类，它使访问文件和目录变得更加容易。如果您以前没有遇到过它，请务必查看它的文档或教程并尝试着去使用它。请注意，本书的[网址](https://book.fast.ai)包含指向每章推荐教程的链接。当我们遇到一些我发现有用的小编码技巧时，我会告诉你。"
   ]
  },
  {
   "attachments": {},
   "cell_type": "markdown",
   "metadata": {},
   "source": [
    "在第三行中，我们定义了一个函数`is_cat`，它根据数据集创建者提供的文件名规则来标注猫：\n",
    "```python\n",
    "def is_cat(x): return x[0].isupper()\n",
    "```"
   ]
  },
  {
   "attachments": {},
   "cell_type": "markdown",
   "metadata": {},
   "source": [
    "我们在第四行中使用该函数，告诉fastai我们用什么类型的数据集以及它是如何构造的：\n",
    "```python\n",
    "dls = ImageDataLoaders.from_name_func(\n",
    "    path, get_image_files(path), valid_pct=0.2, seed=42,\n",
    "    label_func=is_cat, item_tfms=Resize(224))\n",
    "```\n",
    "对于不同类型的深度学习数据集和问题，有不同的类 —— 这里我们使用的是`ImageDataLoaders`。类名的第一部分通常是的数据类型，如图像或文本。\n",
    "\n",
    "另外一个重要内容是，我们必须告诉fastai如何从数据集中获取标注信息。计算机视觉数据集通常的结构是这样的，图像的标签是文件名或路径的一部分 —— 最常见的是父文件夹名。fastai附带了一些标准化的标注方法，以及允许写你自己的标注方法。在这里，我们让fastai使用我们刚刚定义的`is_cat`函数。\n",
    "\n",
    "最后，我们定义了所需的`变换`。`变换`包含在训练期间自动使用的代码；fastai包含着许多预定义的`变换`，并且添加新的`变换`就像创建Python函数一样简单。它们有两种类型：`item_tfms`应用于每张图像（在这个例子中，每张图像被为缩放为224*224像素的正方形），而`batch_tfms`使用GPU一次性处理一`批`图像，因此它们的速度特别快（我们将在本书中看到许多这样的例子）。\n",
    "\n",
    "为什么是224*224像素？由于历史性原因这是标准尺寸（老的预训练模型就需要这个大小），但你可以传递更大的尺寸。如果您增加尺寸，您通常会得到一个更好的模型（因为它能专注更多细节），但代价是速度和内存消耗。如果减小尺寸，则情况正好相反。\n"
   ]
  },
  {
   "attachments": {},
   "cell_type": "markdown",
   "metadata": {},
   "source": [
    "> 术语：分类和回归。分类和回归在机器学习中具有特定的含义。这是我们将在本书中研究的两种主要类型的模型。分类模型用来预测类别或分类的模型。即，它根据一些离散概率进行预测，例如“狗”或“猫”。回归模型用来预测一个或多个数值的模型，例如温度或位置。有时人们用*回归* 一词来代指一种称为*线性回归模型*特定模型。这是一种不好的做法，我们不会在本书中使用该术语。"
   ]
  },
  {
   "attachments": {},
   "cell_type": "markdown",
   "metadata": {},
   "source": [
    "宠物数据集包含7390张狗和猫的照片，由37个品种组成。每个图像都使用其文件名进行标注：例如，文件 *great_pyrenees_173.jpg* 是数据集中Great Pyrenees品种狗的第173个图像。如果图像是一只猫，则文件名以大写字母开头，反之则以小写字母开头。我们必须告诉 fastai 如何从文件名中获取标签，我们通过调用函数`from_name_funchan`（这表示着可以使用函数从文件名中提取标签）和传递`is_cat`函数，会返回`x[0].isupper()`的值，如果第一个字母是大写则评估主为`True`（即，它是只猫）。\n",
    "\n",
    "这里提到的最重要的参数是`valid_pct=0.2`。告诉fastai保留 20% 的数据，这些数据*完全*不用来*训练模型*。这 20% 的数据被称为*验证集*。剩余 80% 的数据被称为*训练集*。验证集是用来度量模型的精度。默认情况下，这 20% 是随机选择的。我们每次运行此代码时，参数`seed=42`设置 *随机数种子* 为相同的值，意味着我们每次运行代码都会获得相同的验证集 —— 这样，如果我们变更模型并重新训练它，我们就知道任何差异都是由于模型的变更，而不是不同的随机验证集。\n",
    "\n",
    "fastai 会*一直只使用* 验证集来展示你的模型的准确率，*永远不是* 训练集。这至关重要，因为如果你用足够长的时间训练一个足够大的模型，它最终会记住数据集中每条数据的标注信息！结果实际上不是一个有用的模型，因为我们关心的是我们的模型在*之前没有见过的图像*上工作的好不好。创建模型时我们的目标始终都是：训练后的模型，它只对未来看到的数据有用。\n",
    "\n",
    "即使你的模型没有完全记住所有的数据，在刚开始训练时，它可能也已经记住了其中的某些部分。因此，你训练的时间越长，在训练集上得到准确率也就越高，一段时间内验证集的准确率也会改善，但最终情况会变糟，因为模型开始记忆训练集，而不是在数据中寻找可泛化的潜在模式。当这种情况发生时，我们说模型是*过拟合*。\n",
    "\n",
    "下图\\<img_overfit\\>展示了当过拟合时发生的状况，我们使用了只有一个参数的简单例子，基于`x**2`函数随机生成的数据。正如你看到的，尽管过拟合模型的预测在观察数据点附近是准确的，但当超出该范围时，它们就偏离了。\n"
   ]
  },
  {
   "attachments": {},
   "cell_type": "markdown",
   "metadata": {},
   "source": [
    "<img src=\"images/att_00000.png\" alt=\"Example of overfitting\" caption=\"Example of overfitting\" id=\"img_overfit\" width=\"700\">"
   ]
  },
  {
   "attachments": {},
   "cell_type": "markdown",
   "metadata": {},
   "source": [
    "所有的机器学习实践者和所有的算法进行训练时，**过拟合是最重要和极具挑战性的问题**。正如你将看到的，创建一个在训练过的数据上做出好的预测的模型很容易，但在模型以前从未见过的数据上做出精确预测则要困难得多。当然，在实践中这是真正重要的数据。例如，如果您创建了一个手写数字分类器（我们很快就会！），并使用它识别支票上的手写数字，那么你永远不会看到模型所训练的任何数字 —— 支票会处理稍微不同的手写变体。在本书中，你会学到许多避免过拟合的方法。然而，你应该只在确认过拟合实际发生后使用这些方法（即，在训练期间你实际观察验证精度变糟）。我们经常看到实践者在有足够多的数据时，并不需要使用过拟合规避技术，但他们依然在用，最终模型的精度可能会低于应该能够达到的成果。\n"
   ]
  },
  {
   "attachments": {},
   "cell_type": "markdown",
   "metadata": {},
   "source": [
    "> ‼️ 验证集。在训练模型时，必须 _始终_ 同时具有训练集和验证集，并必须只在验证集上度量模型的准确性。如果您没有足够的数据并且训练的时间太长，会发现模型的准确率开始变差。这被称为*过拟合*。fastai默认`valid_pct`为`0.2`，因此即使您忘记，fastai也会为您创建一个验证集！\n"
   ]
  },
  {
   "attachments": {},
   "cell_type": "markdown",
   "metadata": {},
   "source": [
    "训练图像识别器代码的第五行代码告诉fastai创建一个 _卷积神经网络_（CNN），并指定使用什么 _架构_（即，创建什么类型的模型），我们想要在什么数据上训练它，以及使用什么 _评价指标_：\n",
    "\n",
    "```python\n",
    "learn = vision_learner(dls, resnet34, metrics=error_rate)\n",
    "```\n",
    "\n",
    "为什么是CNN？这是目前创建计算机视觉模型最先进的方法。我们会在这本书学习所有关于CNN如何工作的知识。它们的结构灵感源自于人类视觉系统的工作原理。\n",
    "\n",
    "在fastai中有许多不同架构，我们会在本书介绍（和讨论如何创建你自己的架构）。然而，大多数时候，选择架构并不是深度学习过程中非常重要的部分。这是学者们喜爱谈论的事情，但在实践中，你在这件事情上并不需要花很多时间。一些标准架构在大多数情况下都是有效的，在此用例中，我们使用一种名为 _ResNet_ 的架构，我们在本书中经常会谈到它。对于许多数据集和`问题`来说，它既快速又准确。`ResNet34`中的`34`是指这种架构变体的层数（其它选项有`18`、`50`、`101`和`152`）。使用更多层的架构，模型训练的时间更长，也更容易过拟合（即在验证集的精度开始变糟之前，您不能训练太多轮次）。另一方面，当使用更多的数据时，它们可以更准确一些。\n",
    "\n",
    "什么是评价指标（metric）？_评价指标_ 是使用验证集度量模型预测质量的函数，在每个 _训练轮次_ 结束时显示输出。在本例中，我们使用`error_rate`，它是由 fastai 提供的函数，正如它的命名：告诉你在验证集中被错误分类的图像百分比。另一个常用分类评价指标是`精度（accuracy）`（即`1.0-error_rate`）。fastai提供了更多评价指标，我们会在本书讨论。\n",
    "\n",
    "评价指标的概念可能会让你想到 _loss_，但有它们有重要的区别。loss 的全部目是去定义训练系统能够用于自动更新权重的“性能度量标准”。换句话说，loss 好的选择是随机梯度下降容易使用的选择。但是评价指标是为人类定义的，所以一个好的评价指标对你来说是很容易理解的，并且尽可能接近你希望的模型做什么。有时，你可能会决定损失函数是一个合适的指标，但情况不一定如此。"
   ]
  },
  {
   "attachments": {},
   "cell_type": "markdown",
   "metadata": {},
   "source": [
    "`vision_learner`也有一个`pretrained`参数，默认为`True`（即使我们没有指定它，在本例中它也被使用了），它将你模型中的权重设置为已经被专家训练可以从130万张图像中识别出一千个不同类别（使用著名的[ImageNet数据集](http://www.image-net.org/)）的那些值。一个模型具有在其它数据集上训练出的权重被称为 _预训练模型_。你差不多应该总是使用预先训练模型，因为这意味着你的模型，即使在你向它展示任何数据之前，就已经非常有能力了。正如你将看到的，在深度学习模型中，你会需要这些与你项目的细节几乎无关的能力。例如，预训练模型的部分能力会处理边缘、渐变和颜色检测，这些能力很多任务都需要。\n",
    "\n",
    "当使用预训练模型时，`vision_learner`会移除最后一层，因为该层总是专门针对原始训练任务（即，ImageNet数据集分类）专门定制的，用一个或多个具有随机权重的新层将其替换，大小适合于你正在处理的数据集。模型的最后部分被称为 _head_。\n",
    "\n",
    "使用预训练模型是让我们训练出更精准的模型的*最* 重要的方法，可以更快，更少的数据及更少的时间与成本。你可能会认为这意味着使用预训练模型将是学术深度学习理论中研究最多的领域... 那你就大错特错了！在大多数课程、书籍或软件库功能中，预训练模型的重要通常不会被认可或讨论，在学术论文中也几乎不会考虑。在2020年初我们写这些的时候，事情才刚刚开始改变，但可能还需要一段时间。所以要小心：与你交流的大多数人可能会极大低估你在资源很少的情况下用深度学习中所能做的事情，因为他们可能不会深入理解如何使用预训练模型。\n",
    "\n",
    "使用预训练模型来完成与最初训练不同的任务被称为*迁移学习*。不幸的是，由于对迁移学习的研究不足，很少领域有可用的预训练模型。例如，目前医学中可用的预训练模型很少，使得在该领域使用迁移学习面临挑战。此外，还没有很好的理解把迁移学习用于诸如时间序列分析。"
   ]
  },
  {
   "attachments": {},
   "cell_type": "markdown",
   "metadata": {},
   "source": [
    "> 术语：迁移学习。使用预训练模型来完成与最初训练不同的任务。"
   ]
  },
  {
   "attachments": {},
   "cell_type": "markdown",
   "metadata": {},
   "source": [
    "> 🤖译者：在2023年初我们翻译本书时，情况已发生变化，迁移学习成为该领域的热门研究。"
   ]
  },
  {
   "attachments": {},
   "cell_type": "markdown",
   "metadata": {},
   "source": [
    "我们代码的第六行告诉fastai如何 _拟合_ 模型：\n",
    "```python\n",
    "learn.fine_tune(1)\n",
    "```\n",
    "正如我们所讨论的，架构仅仅描述数学函数的*模板*；在我们为它包含的数百万个参数提供值之前，它实际上不会做任何事情。\n",
    "\n",
    "这是深度学习的关键 —— 确定如何拟合模型参数，让它解决你的问题。为了拟合模型，我们必须提供至少一条信息：看每张图像的次数（称为*轮次*值）。你选择的轮次值很大程度上取决于你有多少可用时间，以及在实践中需要多长时间来拟合你的模型。如果你选择了一个太小的数字，就总是要训练更多的轮次。\n",
    "\n",
    "但为什么这种方法被称为`微调（fine_tune）`，而不是`拟合（fit）`呢？fastai确实有一种称为`拟合`的方法，它确实拟合模型（即，在多次检测训练集中的图像，每次更新参数以使预测越来越接近目标标签）。但在此例中，我们用一个预训练模型开始，我们不想放弃它已经具有的那些能力。正如您会在本书中学到的，有一些重要的技巧为新的数据集调整预训练模型 —— 这个过程称为*微调（fine-tuning）*。"
   ]
  },
  {
   "attachments": {},
   "cell_type": "markdown",
   "metadata": {},
   "source": [
    "> 术语：微调。一种迁移学习技术，预训练模型的参数通过额外的训练轮次被更新，用于与预训练模型不同的任务。"
   ]
  },
  {
   "attachments": {},
   "cell_type": "markdown",
   "metadata": {},
   "source": [
    "当您使用`fine_tune`方法时，fastai将为你使用几个技巧。你可以设置一些参数（我们将在后面讨论），但在此处默认情况下，它做了两步：\n",
    "1. 使用一个训练轮次只拟合模型必要的那部分，让新的随机头（head）与你的数据集正确工作。\n",
    "2. 在调用这个方法时，使用要求的训练轮次值拟合整个模型，更新后期层（尤其是 head）的权重比更新早期的层更快（正如我们将看到的，通常不需要预训练的权重做更多改变）。\n",
    "\n",
    "模型的 _head_ 是针对新数据集新添加的部分。一个*轮次* 是对数据集的一次完整遍历。调用`拟合`后，每个轮次的结果都会被输出，显示训练轮次值、训练集和验证集的损失（loss）（用于训练中模型的“性能度量指标”）以及你请求*评价指标*（本例中为错误率）。\n"
   ]
  },
  {
   "attachments": {},
   "cell_type": "markdown",
   "metadata": {},
   "source": [
    "现在使用这些代码，从标注的事例中模型学习到了识别猫和狗。但它怎么做的呢？"
   ]
  },
  {
   "attachments": {},
   "cell_type": "markdown",
   "metadata": {},
   "source": [
    "### 我们图形分类器学习到了什么"
   ]
  },
  {
   "attachments": {},
   "cell_type": "markdown",
   "metadata": {},
   "source": [
    "在此阶段，我们有一个运行良好的图像识别器，但并不知道它在做什么。尽管许多人抱怨深度学习产生难以理解的“黑箱”模型（即可以预测却没有人能理解），但事实并非如此。大量的研究可以让我们深入检查深度学习模型，并从中获得丰富的见解。话虽如此，完全理解各种机器学习模型（包括深度学习和传统统计模型）都非常具有挑战性，尤其是模型在遇到与训练不同的数据会如何表现的问题上。我们将在本书中讨论这个问题。\n",
    "\n",
    "2013年，博士生 Matt Zeiler 和他的导师 Rob Fergus 发表了[卷积网络的可视化和理解](https://arxiv.org/pdf/1311.2901.pdf)，展示了如何将模型在每一层学习到的神经网络权重可视化。他们仔细分析了2012年ImageNet竞赛的获胜模型，并利用这一分析大大改进了模型，从而能够继续赢得2013年的竞赛。下图是他们发布的第一层\\<img_layer1\\>权重。\n"
   ]
  },
  {
   "attachments": {},
   "cell_type": "markdown",
   "metadata": {},
   "source": [
    "<img src=\"images/layer1.png\" alt=\"Activations of the first layer of a CNN\" width=\"300\" caption=\"Activations of the first layer of a CNN (courtesy of Matthew D. Zeiler and Rob Fergus)\" id=\"img_layer1\">"
   ]
  },
  {
   "attachments": {},
   "cell_type": "markdown",
   "metadata": {},
   "source": [
    "这张画需要一些解释。对于每一层，带有浅灰色背景部分的图像，显示的是被重建的权重图像，而图像底部较大的部分显示了训练图像与每组权重最匹配的部分。对于 Layer 1，我们可以看出模型已经发现了表示对角、水平和垂直边界以及各种梯度的权重。（注意，每一层仅显示特征的子集；实际上所有层会有上千个特征。）这些是模型在计算机视觉中学习到的基本构建块。神经科学家和计算机视觉研究人员对它们做了广泛的分析，事实证明这些学习到的构建块与人眼的基本视觉机制非常相似，也与深度学习时代之前研发的手工计算机视觉特征非常相似。下一层\\<img_layer2\\>的展示如下图所示。"
   ]
  },
  {
   "attachments": {},
   "cell_type": "markdown",
   "metadata": {},
   "source": [
    "<img src=\"images/layer2.png\" alt=\"Activations of the second layer of a CNN\" width=\"800\" caption=\"Activations of the second layer of a CNN (courtesy of Matthew D. Zeiler and Rob Fergus)\" id=\"img_layer2\">"
   ]
  },
  {
   "attachments": {},
   "cell_type": "markdown",
   "metadata": {},
   "source": [
    "层2（Layer 2）有九个由模型找到的每个特征权重重建的示例。我们可以看到，该模型已经学会创建特征检测器来查找拐角、重复线、圆圈和其他简单模式。这些是由第一层开发的基本构建块构建的。右侧图像显示了每个与实际图像最匹配特征的小块。例如，第2行第1列中的特定图案与日落相关的渐变和纹理匹配。\n",
    "\n",
    "下图显示\\<img_layer3\\>来自论文，显示了层 3的特征重建结果。"
   ]
  },
  {
   "attachments": {},
   "cell_type": "markdown",
   "metadata": {},
   "source": [
    "<img src=\"images/chapter2_layer3.PNG\" alt=\"Activations of the third layer of a CNN\" width=\"800\" caption=\"Activations of the third layer of a CNN (courtesy of Matthew D. Zeiler and Rob Fergus)\" id=\"img_layer3\">"
   ]
  },
  {
   "attachments": {},
   "cell_type": "markdown",
   "metadata": {},
   "source": [
    "正如你通过图像右侧所看到的，这些特征现在能够识别并匹配更高级别的语义组件，如车轮、文本和花瓣。使用这些组件，层 4（Layer 4）和层 5（Layer 5）甚至可以识别更高级别的概念，如下图\\<img_layer4\\>所求。"
   ]
  },
  {
   "attachments": {},
   "cell_type": "markdown",
   "metadata": {},
   "source": [
    "<img src=\"images/chapter2_layer4and5.PNG\" alt=\"Activations of layers 4 and 5 of a CNN\" width=\"800\" caption=\"Activations of layers 4 and 5 of a CNN (courtesy of Matthew D. Zeiler and Rob Fergus)\" id=\"img_layer4\">"
   ]
  },
  {
   "attachments": {},
   "cell_type": "markdown",
   "metadata": {},
   "source": [
    "这篇论文研究的是一个被称为 *_AlexNet_* 的老模型，只包含五层。后来的网络开发已经有数百层，所以你可以想象由这些模型开发的特征有多丰富！\n",
    "\n",
    "当之前微调我们的预训练模型时，我们适配了最后几层所关注的内容（花、人类、动物），专门处理猫狗识别问题。通常来说，我们可以在很多不同的任务上专门研究这样的预训练模型。让我们来看几个例子。"
   ]
  },
  {
   "attachments": {},
   "cell_type": "markdown",
   "metadata": {},
   "source": [
    "### 图像识别器可以处理非图像类任务"
   ]
  },
  {
   "attachments": {},
   "cell_type": "markdown",
   "metadata": {},
   "source": [
    "顾名思义，图像识别器只能识别图像。但很多事物都可以用图像来表示，这意味着图像识别器可以学习去完成许多任务。\n",
    "\n",
    "例如，声音可以转换为光谱图，光谱图是显示音频文件中每个时间每个频率数量的图表。Fast.ai的学生Ethan Sutin采用这种方法使用8732个城市声音的数据集轻松击败最先进的[环境声音检测模型](https://medium.com/@etown/great-results-on-audio-classification-with-fastai-library-ccaf906c5f52)所公布的精度。正如你在图\\<img_spect\\>中看到的，fastai的`show_batch`清楚地展示了每种不同的声音都有非常独特的光谱图。"
   ]
  },
  {
   "attachments": {},
   "cell_type": "markdown",
   "metadata": {},
   "source": [
    "<img alt=\"show_batch with spectrograms of sounds\" width=\"400\" caption=\"show_batch with spectrograms of sounds\" id=\"img_spect\" src=\"images/att_00012.png\">"
   ]
  },
  {
   "attachments": {},
   "cell_type": "markdown",
   "metadata": {},
   "source": [
    "只需在图表上绘制时间序列，就可以轻松地将时间序列转换为图像。然而，尝试以尽可能容易地提取最重要的组件的方式表示你的数据通常是一个好主意。在时间序列中，季节性和异常性等事物最有可能引起兴趣。有各种时间序列数据的有效转换。例如，fast.ai的学生Ignacio Oguiza使用格拉姆角差场（GADF）的技术，从时间序列数据集中创建了用于橄榄油分类的图像。您可以在下图\\<ts_image\\>中看到它的结果。然后，就如你在本章中看到的那样，他将这些图像喂给图像分类模型。尽管只有30个训练集图像，但结果的准确率超过90%，接近最先进的水平。"
   ]
  },
  {
   "attachments": {},
   "cell_type": "markdown",
   "metadata": {},
   "source": [
    "<img alt=\"Converting a time series into an image\" width=\"700\" caption=\"Converting a time series into an image\" id=\"ts_image\" src=\"images/att_00013.png\">"
   ]
  },
  {
   "attachments": {},
   "cell_type": "markdown",
   "metadata": {},
   "source": [
    "fast.ai学生另一个有趣的项目示例来自Gleb Esman。他在Splunk使用用户鼠标移动和点击的数据集进行欺诈检测。他通过绘制鼠标指针的位置、速度和加速图画，把他们转化为图像，图像里用彩色线条进行显示，并使用[彩色小圆圈](https://www.splunk.com/en_us/blog/security/deep-learning-with-splunk-and-tensorflow-for-security-catching-the-fraudster-in-neural-networks-with-behavioral-biometrics.html)表示鼠标点击，如下图所求。然后用本章我们学到的到方法，喂给图像识别模型，由于它的效果非常好，还为这种欺诈分析方法申请了专利!"
   ]
  },
  {
   "attachments": {},
   "cell_type": "markdown",
   "metadata": {},
   "source": [
    "<img alt=\"Converting computer mouse behavior to an image\" width=\"450\" caption=\"Converting computer mouse behavior to an image\" id=\"splunk\" src=\"images/att_00014.png\">"
   ]
  },
  {
   "attachments": {},
   "cell_type": "markdown",
   "metadata": {},
   "source": [
    "另一个例子来自Mahmoud Kalash等人的论文[“利用深度卷积进行恶意软件分类”](https://ieeexplore.ieee.org/abstract/document/8328749)，解释了“恶意软件二进制文件被划分为八位序列，然后再将其转换为相应的十进制值。这个十进制向量被重新变形，生成了表示恶意软件样本的灰度图像，” 如下图\\<malware_proc\\>所示。\n"
   ]
  },
  {
   "attachments": {},
   "cell_type": "markdown",
   "metadata": {},
   "source": [
    "<img alt=\"Malware classification process\" width=\"623\" caption=\"Malware classification process\" id=\"malware_proc\" src=\"images/att_00055.png\">"
   ]
  },
  {
   "attachments": {},
   "cell_type": "markdown",
   "metadata": {},
   "source": [
    "然后，作者展示了不同类别的恶意软件通过这一过程所生成的“图片”，如下图\\<malware_eg\\>所示。"
   ]
  },
  {
   "attachments": {},
   "cell_type": "markdown",
   "metadata": {},
   "source": [
    "<img alt=\"Malware examples\" width=\"650\" caption=\"Malware examples\" id=\"malware_eg\" src=\"images/att_00056.png\">"
   ]
  },
  {
   "attachments": {},
   "cell_type": "markdown",
   "metadata": {},
   "source": [
    "正如你所看到的，对人眼来说不同类型恶意软件看起来差别很大。研究人员基于这种图像表示训练出来的恶意软件分类模型比之前在任何学术文献中所展示的方法都更准确。这为数据集转换为图像表示提供了一个很好的经验法则：如果人眼可以从图像中识别类别，那么深度学习模型也应该能够做到。\n",
    "\n",
    "一般来说，如果你在如何表示你的数据方面有些创新的话，你会发现深度学习中的少量通用方法非常有效。你不要这里描述的内容视作“黑客变通法”，因为他们通常（正如这些方法一样）会击败以前最先进的结果。这确实是思考这些问题领域的正确方法。"
   ]
  },
  {
   "attachments": {},
   "cell_type": "markdown",
   "metadata": {},
   "source": [
    "### 术语回顾"
   ]
  },
  {
   "attachments": {},
   "cell_type": "markdown",
   "metadata": {},
   "source": [
    "我们刚刚涵盖了很多信息，让我们简单的回顾一下，表\\<dljargon\\>提供了一个深度学习词汇表。\n",
    "|     名词     |                     含义                     |\n",
    "| :-------------------- | :------------------------------------------ |\n",
    "|   标签(label)    |         我们尝试预测的数据，例如“狗”或“猫”          |\n",
    "|   架构(architecture)    |         我们尝试去拟合的模型的 _模板_；我们传递输入数据和参数的实际数学的函数 |\n",
    "|模型(model) |带有具体一组参数的架构的组合 |\n",
    "|参数(parameters) |模型中的值，随着它能做的任务而变化，并通过模型训练进行更新 |\n",
    "|拟合(fit) |更新模型的参数，使得模型用输入数据所得到的预测与目标标注一致 |\n",
    "|训练(train) |_拟合(fit)_ 的同义词 |\n",
    "|预训练模型(pretrained model) |   一个通常已经使用大数据集被训练过的模型，并且会被微调 |\n",
    "|微调(fine-tune) |为不同的任务更新预训练模型 |\n",
    "|轮次(epoch) |对输入数据的一次完整遍历 |\n",
    "|损失(loss) |模型如何好的指标，选择通过SGD驱动训练 |\n",
    "|指标(metric) |使用为人类消费选择的验证集来衡量模型有多好 |\n",
    "|验证集(validation set) |从训练中拿出的一组数据，仅用于衡量模型有多好 |\n",
    "|训练集(training set) |用于拟合模型的数据；不包括验证集的任何数据 |\n",
    "|过拟合(overfitting) |用某种方法训练模型， _记住_ 输入数据的具体特征，而不是在训练期间很好的泛化到没有见过的数据 |\n",
    "|卷积神经网络（CNN） |卷积神经网络，一种特别适用于计算机视觉任务的神经网络 |"
   ]
  },
  {
   "attachments": {},
   "cell_type": "markdown",
   "metadata": {},
   "source": [
    "掌握了这些名词，我们现在就能将迄今为止介绍的所有关键概念汇集在一起。花点时间回顾这些定义，并阅读下面的总结。如果你能理解的话，就为理解接下来的讨论做好了准备。\n",
    "\n",
    "*机器学习* 是一门学科，我们定义的程序不是完全自己编写，而是通过从数据学习。*深度学习* 是使用多层 *神经网络* 的机器学习中的一个hw专业。*图像分类*（也称为*图像识别*）是个代表性例子。我们用 *标注的数据* 开始；即，我们为每张图像分配 *标签*的一组图像，说明他们表示什么。我们的目标是产生一个程序，被称为*模型*，对给定的新图像所表示的内容做出准确的*预测*。\n",
    "\n",
    "每个模型都从 *架构* 的选择开始，这是一种模型内部如何进行工作的通用模板。*训练*（或 *拟合*）模型的过程就是寻找一组 *参数值*（或*权重*）的过程，他们可以把通用架构转换为一个适用于我们特定类型数据的模型。为了定义模型在单一预测上有多好，我们需要定义一个 *损失函数*，可以用来判定模型好坏的得分。\n",
    "\n",
    "为了训练得更快，可以用一个 *预训练模型* 开始 —— 一个已经在其他数据上训练过的模型。通过在我们的数据上做多一点训练来使其适配我们的数据，这一过程称为 *微调*。\n",
    "\n",
    "当我们训练模型时，一个关键概念是确保我们模型的 *泛化*。即，它从我们的数据中学习通用经验，同时也适用于它将遇到的新数据，这样它能在那些数据上做出很好的预测。风险是如果我们的模型训练得不好，它有效地记住它见过的内容，而它不是学习通用的经验，然后它就会对新图像做出差的预测。这样的失败被称为 *过拟合*。为了避免这种情况，我们总是将数据分为 *训练集* 和 *验证集* 两部分。我们只展示训练集训练模型，然后通过验证集上的数据看模型性能怎么样，来我们评估模型表现如何。通过这种方式，我们检查模型从训练集学习到的经验是否可以泛化到验证集。为了让人们评估模型在整体验证集上的表现如何，我们定义了 *指标*。在训练过程中，当模型已经看了训练集中的每项数据时，我们称它为一个 *轮次* 。\n",
    "\n",
    "所有这些概念都适用于一般的机器学习。即，它们适用于通过用数据训练模型来定义模型的各种方案。使得深度学习与众不同的是特定类型的架构：基于 *神经网络* 的架构。特别是，图像分类任务严重依赖 *卷积神经网络*，我们稍后会讨论。"
   ]
  },
  {
   "attachments": {},
   "cell_type": "markdown",
   "metadata": {},
   "source": [
    "## 深度学习不是用于只图像分类"
   ]
  },
  {
   "attachments": {},
   "cell_type": "markdown",
   "metadata": {},
   "source": [
    "近年来，深度学习在图像分类方面的有效性得到了广泛讨论，甚至在复杂任务上也展示出了 *超人* 的效果，如在 CT 扫描中识别恶性肿瘤等。但正如我们将要展示的，它可以做的远不止这些。\n",
    "\n",
    "例如，让我们谈谈对自动驾驶车辆来说至关重要的事情：在图像中定位物体。如果自动驾驶汽车不知道行人在哪里，它就不知道如何避开行人。创建一个模型能识别每个独立像素的内容被称为 *分割*。下面是我们如何用fastai在[*Camvid* 数据集](http://www0.cs.ucl.ac.uk/staff/G.Brostow/papers/Brostow_2009-PRL.pdf)的子集上训练一个分割模型，这个数据集它来自于Gabriel J.Brostow, Julien Fauqueur, and Roberto Cipolla的论文“视频中的语义对象类：一个高清真实数据库”。"
   ]
  },
  {
   "cell_type": "code",
   "execution_count": 14,
   "metadata": {},
   "outputs": [
    {
     "data": {
      "text/html": [
       "\n",
       "<style>\n",
       "    /* Turns off some styling */\n",
       "    progress {\n",
       "        /* gets rid of default border in Firefox and Opera. */\n",
       "        border: none;\n",
       "        /* Needs to be in here for Safari polyfill so background images work as expected. */\n",
       "        background-size: auto;\n",
       "    }\n",
       "    progress:not([value]), progress:not([value])::-webkit-progress-bar {\n",
       "        background: repeating-linear-gradient(45deg, #7e7e7e, #7e7e7e 10px, #5c5c5c 10px, #5c5c5c 20px);\n",
       "    }\n",
       "    .progress-bar-interrupted, .progress-bar-interrupted::-webkit-progress-bar {\n",
       "        background: #F44336;\n",
       "    }\n",
       "</style>\n"
      ],
      "text/plain": [
       "<IPython.core.display.HTML object>"
      ]
     },
     "metadata": {},
     "output_type": "display_data"
    },
    {
     "data": {
      "text/html": [
       "<table border=\"1\" class=\"dataframe\">\n",
       "  <thead>\n",
       "    <tr style=\"text-align: left;\">\n",
       "      <th>epoch</th>\n",
       "      <th>train_loss</th>\n",
       "      <th>valid_loss</th>\n",
       "      <th>time</th>\n",
       "    </tr>\n",
       "  </thead>\n",
       "  <tbody>\n",
       "    <tr>\n",
       "      <td>0</td>\n",
       "      <td>2.904514</td>\n",
       "      <td>2.609147</td>\n",
       "      <td>00:04</td>\n",
       "    </tr>\n",
       "  </tbody>\n",
       "</table>"
      ],
      "text/plain": [
       "<IPython.core.display.HTML object>"
      ]
     },
     "metadata": {},
     "output_type": "display_data"
    },
    {
     "data": {
      "text/html": [
       "\n",
       "<style>\n",
       "    /* Turns off some styling */\n",
       "    progress {\n",
       "        /* gets rid of default border in Firefox and Opera. */\n",
       "        border: none;\n",
       "        /* Needs to be in here for Safari polyfill so background images work as expected. */\n",
       "        background-size: auto;\n",
       "    }\n",
       "    progress:not([value]), progress:not([value])::-webkit-progress-bar {\n",
       "        background: repeating-linear-gradient(45deg, #7e7e7e, #7e7e7e 10px, #5c5c5c 10px, #5c5c5c 20px);\n",
       "    }\n",
       "    .progress-bar-interrupted, .progress-bar-interrupted::-webkit-progress-bar {\n",
       "        background: #F44336;\n",
       "    }\n",
       "</style>\n"
      ],
      "text/plain": [
       "<IPython.core.display.HTML object>"
      ]
     },
     "metadata": {},
     "output_type": "display_data"
    },
    {
     "data": {
      "text/html": [
       "<table border=\"1\" class=\"dataframe\">\n",
       "  <thead>\n",
       "    <tr style=\"text-align: left;\">\n",
       "      <th>epoch</th>\n",
       "      <th>train_loss</th>\n",
       "      <th>valid_loss</th>\n",
       "      <th>time</th>\n",
       "    </tr>\n",
       "  </thead>\n",
       "  <tbody>\n",
       "    <tr>\n",
       "      <td>0</td>\n",
       "      <td>1.737782</td>\n",
       "      <td>1.455328</td>\n",
       "      <td>00:01</td>\n",
       "    </tr>\n",
       "    <tr>\n",
       "      <td>1</td>\n",
       "      <td>1.504657</td>\n",
       "      <td>1.328463</td>\n",
       "      <td>00:01</td>\n",
       "    </tr>\n",
       "    <tr>\n",
       "      <td>2</td>\n",
       "      <td>1.327386</td>\n",
       "      <td>1.119899</td>\n",
       "      <td>00:01</td>\n",
       "    </tr>\n",
       "    <tr>\n",
       "      <td>3</td>\n",
       "      <td>1.186833</td>\n",
       "      <td>1.228380</td>\n",
       "      <td>00:01</td>\n",
       "    </tr>\n",
       "    <tr>\n",
       "      <td>4</td>\n",
       "      <td>1.075595</td>\n",
       "      <td>0.888470</td>\n",
       "      <td>00:01</td>\n",
       "    </tr>\n",
       "    <tr>\n",
       "      <td>5</td>\n",
       "      <td>0.976087</td>\n",
       "      <td>0.871524</td>\n",
       "      <td>00:01</td>\n",
       "    </tr>\n",
       "    <tr>\n",
       "      <td>6</td>\n",
       "      <td>0.893176</td>\n",
       "      <td>0.797652</td>\n",
       "      <td>00:01</td>\n",
       "    </tr>\n",
       "    <tr>\n",
       "      <td>7</td>\n",
       "      <td>0.830159</td>\n",
       "      <td>0.788364</td>\n",
       "      <td>00:01</td>\n",
       "    </tr>\n",
       "  </tbody>\n",
       "</table>"
      ],
      "text/plain": [
       "<IPython.core.display.HTML object>"
      ]
     },
     "metadata": {},
     "output_type": "display_data"
    }
   ],
   "source": [
    "path = untar_data(URLs.CAMVID_TINY)\n",
    "dls = SegmentationDataLoaders.from_label_func(\n",
    "    path, bs=8, fnames = get_image_files(path/\"images\"),\n",
    "    label_func = lambda o: path/'labels'/f'{o.stem}_P{o.suffix}',\n",
    "    codes = np.loadtxt(path/'codes.txt', dtype=str)\n",
    ")\n",
    "\n",
    "learn = unet_learner(dls, resnet34)\n",
    "learn.fine_tune(8)"
   ]
  },
  {
   "attachments": {},
   "cell_type": "markdown",
   "metadata": {},
   "source": [
    "我们不打算逐行查看这段代码，因为它与我们之前的例子几乎完全相同！（不过我们会在第十五章深入研究分割模型 ，及在本章中简要介绍的所有其他模型，以及更多的模型。）\n",
    "\n",
    "通过让模型对图像中的每个像素进行颜色编码，我们能可视化它完成任务的情况。正如您所看到的，它几乎完美地分类了每个物体中的每个像素。例如，注意所有的汽车都用相同的颜色覆盖，所有的树都用相同的颜色覆盖（在每对图像中，左边的图像是真实标注，右边的是来自模型的预测）："
   ]
  },
  {
   "cell_type": "code",
   "execution_count": 15,
   "metadata": {},
   "outputs": [
    {
     "data": {
      "text/html": [
       "\n",
       "<style>\n",
       "    /* Turns off some styling */\n",
       "    progress {\n",
       "        /* gets rid of default border in Firefox and Opera. */\n",
       "        border: none;\n",
       "        /* Needs to be in here for Safari polyfill so background images work as expected. */\n",
       "        background-size: auto;\n",
       "    }\n",
       "    progress:not([value]), progress:not([value])::-webkit-progress-bar {\n",
       "        background: repeating-linear-gradient(45deg, #7e7e7e, #7e7e7e 10px, #5c5c5c 10px, #5c5c5c 20px);\n",
       "    }\n",
       "    .progress-bar-interrupted, .progress-bar-interrupted::-webkit-progress-bar {\n",
       "        background: #F44336;\n",
       "    }\n",
       "</style>\n"
      ],
      "text/plain": [
       "<IPython.core.display.HTML object>"
      ]
     },
     "metadata": {},
     "output_type": "display_data"
    },
    {
     "data": {
      "text/html": [],
      "text/plain": [
       "<IPython.core.display.HTML object>"
      ]
     },
     "metadata": {},
     "output_type": "display_data"
    },
    {
     "data": {
      "image/png": "[encoded data removed]",
      "text/plain": [
       "<Figure size 700x800 with 12 Axes>"
      ]
     },
     "metadata": {},
     "output_type": "display_data"
    }
   ],
   "source": [
    "learn.show_results(max_n=6, figsize=(7,8))"
   ]
  },
  {
   "attachments": {},
   "cell_type": "markdown",
   "metadata": {},
   "source": [
    "在过去的几年里，另一个深度学习取得巨大进步的领域是自然语言处理（NLP）。计算机现在可以生成文本，把一种语言自动翻译为另一种语言，分析评论，标注句子中的单词等等。下面是训练一个模型的全部代码，它能够对影评观点进行分类，优于五年前存在的所有模型："
   ]
  },
  {
   "cell_type": "code",
   "execution_count": null,
   "metadata": {},
   "outputs": [
    {
     "data": {
      "text/html": [
       "\n",
       "<style>\n",
       "    /* Turns off some styling */\n",
       "    progress {\n",
       "        /* gets rid of default border in Firefox and Opera. */\n",
       "        border: none;\n",
       "        /* Needs to be in here for Safari polyfill so background images work as expected. */\n",
       "        background-size: auto;\n",
       "    }\n",
       "    progress:not([value]), progress:not([value])::-webkit-progress-bar {\n",
       "        background: repeating-linear-gradient(45deg, #7e7e7e, #7e7e7e 10px, #5c5c5c 10px, #5c5c5c 20px);\n",
       "    }\n",
       "    .progress-bar-interrupted, .progress-bar-interrupted::-webkit-progress-bar {\n",
       "        background: #F44336;\n",
       "    }\n",
       "</style>\n"
      ],
      "text/plain": [
       "<IPython.core.display.HTML object>"
      ]
     },
     "metadata": {},
     "output_type": "display_data"
    },
    {
     "data": {
      "text/html": [
       "<table border=\"1\" class=\"dataframe\">\n",
       "  <thead>\n",
       "    <tr style=\"text-align: left;\">\n",
       "      <th>epoch</th>\n",
       "      <th>train_loss</th>\n",
       "      <th>valid_loss</th>\n",
       "      <th>accuracy</th>\n",
       "      <th>time</th>\n",
       "    </tr>\n",
       "  </thead>\n",
       "  <tbody>\n",
       "    <tr>\n",
       "      <td>0</td>\n",
       "      <td>0.579781</td>\n",
       "      <td>0.540394</td>\n",
       "      <td>0.731760</td>\n",
       "      <td>04:10</td>\n",
       "    </tr>\n",
       "  </tbody>\n",
       "</table>"
      ],
      "text/plain": [
       "<IPython.core.display.HTML object>"
      ]
     },
     "metadata": {},
     "output_type": "display_data"
    },
    {
     "data": {
      "text/html": [
       "\n",
       "<style>\n",
       "    /* Turns off some styling */\n",
       "    progress {\n",
       "        /* gets rid of default border in Firefox and Opera. */\n",
       "        border: none;\n",
       "        /* Needs to be in here for Safari polyfill so background images work as expected. */\n",
       "        background-size: auto;\n",
       "    }\n",
       "    progress:not([value]), progress:not([value])::-webkit-progress-bar {\n",
       "        background: repeating-linear-gradient(45deg, #7e7e7e, #7e7e7e 10px, #5c5c5c 10px, #5c5c5c 20px);\n",
       "    }\n",
       "    .progress-bar-interrupted, .progress-bar-interrupted::-webkit-progress-bar {\n",
       "        background: #F44336;\n",
       "    }\n",
       "</style>\n"
      ],
      "text/plain": [
       "<IPython.core.display.HTML object>"
      ]
     },
     "metadata": {},
     "output_type": "display_data"
    },
    {
     "data": {
      "text/html": [
       "\n",
       "    <div>\n",
       "      <progress value='1' class='' max='4' style='width:300px; height:20px; vertical-align: middle;'></progress>\n",
       "      25.00% [1/4 08:53&lt;26:40]\n",
       "    </div>\n",
       "    \n",
       "<table border=\"1\" class=\"dataframe\">\n",
       "  <thead>\n",
       "    <tr style=\"text-align: left;\">\n",
       "      <th>epoch</th>\n",
       "      <th>train_loss</th>\n",
       "      <th>valid_loss</th>\n",
       "      <th>accuracy</th>\n",
       "      <th>time</th>\n",
       "    </tr>\n",
       "  </thead>\n",
       "  <tbody>\n",
       "    <tr>\n",
       "      <td>0</td>\n",
       "      <td>0.284717</td>\n",
       "      <td>0.240007</td>\n",
       "      <td>0.902160</td>\n",
       "      <td>08:53</td>\n",
       "    </tr>\n",
       "  </tbody>\n",
       "</table><p>\n",
       "\n",
       "    <div>\n",
       "      <progress value='193' class='' max='781' style='width:300px; height:20px; vertical-align: middle;'></progress>\n",
       "      24.71% [193/781 01:37&lt;04:58 0.2478]\n",
       "    </div>\n",
       "    "
      ],
      "text/plain": [
       "<IPython.core.display.HTML object>"
      ]
     },
     "metadata": {},
     "output_type": "display_data"
    }
   ],
   "source": [
    "from fastai.text.all import *\n",
    "\n",
    "dls = TextDataLoaders.from_folder(untar_data(URLs.IMDB), valid='test')\n",
    "learn = text_classifier_learner(dls, AWD_LSTM, drop_mult=0.5, metrics=accuracy)\n",
    "learn.fine_tune(4, 1e-2)"
   ]
  },
  {
   "attachments": {},
   "cell_type": "markdown",
   "metadata": {},
   "source": [
    "### 清空 \n",
    "如何运行这个单元后遇到“CUDA内存不足错误”，点击菜单中的 Kernel 然后点击 Restart Kernel，进行内核重启。不要执行上面单元的代码，复制并粘贴下面代码：\n",
    "```\n",
    "from fastai.text.all import *\n",
    "\n",
    "dls = TextDataLoaders.from_folder(untar_data(URLs.IMDB), valid='test', bs=32)\n",
    "learn = text_classifier_learner(dls, AWD_LSTM, drop_mult=0.5, metrics=accuracy)\n",
    "learn.fine_tune(4, 1e-2)\n",
    "```\n",
    "\n",
    "它会将训练批次的大小减少为32（稍后我们会解释）。假如你还是遇到同样的错误，将32改为16。"
   ]
  },
  {
   "attachments": {},
   "cell_type": "markdown",
   "metadata": {},
   "source": [
    "此模型使用来自 Andrew Maas 等人论文“学习情感分析的单词向量”中的[“IMDB大影评数据集”](https://ai.stanford.edu/~ang/papers/acl11-WordVectorsSentimentAnalysis.pdf)。模型可以很好地处理数千字的影评，不过让我们在一个简短的评论上测试它，来看它是如何做的："
   ]
  },
  {
   "cell_type": "code",
   "execution_count": 3,
   "metadata": {},
   "outputs": [
    {
     "data": {
      "text/html": [
       "\n",
       "<style>\n",
       "    /* Turns off some styling */\n",
       "    progress {\n",
       "        /* gets rid of default border in Firefox and Opera. */\n",
       "        border: none;\n",
       "        /* Needs to be in here for Safari polyfill so background images work as expected. */\n",
       "        background-size: auto;\n",
       "    }\n",
       "    progress:not([value]), progress:not([value])::-webkit-progress-bar {\n",
       "        background: repeating-linear-gradient(45deg, #7e7e7e, #7e7e7e 10px, #5c5c5c 10px, #5c5c5c 20px);\n",
       "    }\n",
       "    .progress-bar-interrupted, .progress-bar-interrupted::-webkit-progress-bar {\n",
       "        background: #F44336;\n",
       "    }\n",
       "</style>\n"
      ],
      "text/plain": [
       "<IPython.core.display.HTML object>"
      ]
     },
     "metadata": {},
     "output_type": "display_data"
    },
    {
     "data": {
      "text/html": [],
      "text/plain": [
       "<IPython.core.display.HTML object>"
      ]
     },
     "metadata": {},
     "output_type": "display_data"
    },
    {
     "data": {
      "text/plain": [
       "('pos', tensor(1), tensor([1.8377e-04, 9.9982e-01]))"
      ]
     },
     "execution_count": 3,
     "metadata": {},
     "output_type": "execute_result"
    }
   ],
   "source": [
    "learn.predict(\"I really liked that movie!\")"
   ]
  },
  {
   "attachments": {},
   "cell_type": "markdown",
   "metadata": {},
   "source": [
    "在这里，我们可以看到模型认为这是正面的评论。输出结果的第二部分是在我们数据词汇中的“pos”的索引，最后一部分是归因到每个分类的概率（“pos”为99.982%，“neg”为0.018%）。\n",
    "\n",
    "现在轮到你了！写下你自己的简短影评，或者从互联网上复制一个，就能够看到这个模型对它的看法。"
   ]
  },
  {
   "attachments": {},
   "cell_type": "markdown",
   "metadata": {},
   "source": [
    "### 边栏：顺序很重要"
   ]
  },
  {
   "attachments": {},
   "cell_type": "markdown",
   "metadata": {},
   "source": [
    "在 Jupyter 中，你执行每个单元格的顺序非常重要。它不像 Excel，一旦你在某处输入内容，所有内容都会得到更新 —— 它有一个内部状态，每次你执行一个单元就会得到更新。例如，当您运行 notebook 的第一个单元格（带有“ Click Me ”注释）时，你创建了一个名为`learn`的对象，包含图像分类问题的一个模型和数据。如果我们直接运行刚刚单元的内容（预测评论是好还是坏的），你会获得一个错误，因为这个`learn`对象不含文本分类模型。这个单元需要在下面这个内容之后运行：\n",
    "```python\n",
    "from fastai.text.all import *\n",
    "\n",
    "dls = TextDataLoaders.from_folder(untar_data(URLs.IMDB), valid='test')\n",
    "learn = text_classifier_learner(dls, AWD_LSTM, drop_mult=0.5,\n",
    "                                metrics=accuracy)\n",
    "learn.fine_tune(4, 1e-2)\n",
    "```\n",
    "输出本身可能具有欺骗性，因为它们包含了最后一次执行单元的结果。如果更改单元中的代码，而没有执行它，则老的（误导性的）结果会保留。\n",
    "\n",
    "除非我们明确地提及，否则在[本书网站](https://book.fast.ai/)上的notebooks应该按照从上到下的顺序运行。一般来说，在做实验时，你会发现自己以任意顺序执行单元会很快（这是Jupyter Notebook超级简洁的特性），但是一旦你完成了探索，并完成了最终版本的版本，确保你能够按顺序运行 notebooks 中的单元（不然将来你自己不一定还记得那条复杂路径！）\n",
    "\n",
    "在命令模式下，按两次 `0` 将重启 *内核（kernel）*（即 notebook 的引擎开关）。这会清除你的状态，使其恢复到刚刚启动 notebook 时的状态。选择 “Run —— Run All Above Selected Cell”菜单，运行你所在点之上的所有单元格。在开发 fastai 库时，我们发现这个功能很有用。"
   ]
  },
  {
   "attachments": {},
   "cell_type": "markdown",
   "metadata": {},
   "source": [
    "### 边栏结束"
   ]
  },
  {
   "attachments": {},
   "cell_type": "markdown",
   "metadata": {},
   "source": [
    "如果你有任何关于 fastai 方法的问题，你可以使用 `doc` 函数，给它传递方法名：\n",
    "```python\n",
    "doc(learn.predict)\n",
    "```\n",
    "它会弹出一个包含内容的小窗口，如下所求：\n",
    "\n",
    "<img src=\"images/doc_ex.png\" width=\"600\">"
   ]
  },
  {
   "attachments": {},
   "cell_type": "markdown",
   "metadata": {},
   "source": [
    "`doc` 提供了一行简短的说明。点击“Show in docs”链接可以查看完整文档了解所有细节和大量实例。此外，fastai的大多数方法只有几行代码，您可以点击“ source ”链接来查看后台到底发生了什么。\n",
    "\n",
    "我们继续讨论一些不那么吸引人，但可能特别具有商业用途的东西：从普通 *表格* 数据构建模型。"
   ]
  },
  {
   "attachments": {},
   "cell_type": "markdown",
   "metadata": {},
   "source": [
    "> 术语：表格。表格形式的数据，如电子表格、数据库或者 CSV 文件。表格模型是根据表中其他列的信息预测某一列的模型。\n"
   ]
  },
  {
   "attachments": {},
   "cell_type": "markdown",
   "metadata": {},
   "source": [
    "事实证明，这看起来也非常相似。下面是训练一个模型所需的代码，该模型可以根据一个人的社会经济背景来预测他是否是高收入者："
   ]
  },
  {
   "cell_type": "code",
   "execution_count": 4,
   "metadata": {},
   "outputs": [],
   "source": [
    "from fastai.tabular.all import *\n",
    "path = untar_data(URLs.ADULT_SAMPLE)\n",
    "\n",
    "dls = TabularDataLoaders.from_csv(path/'adult.csv', path=path, y_names=\"salary\",\n",
    "    cat_names = ['workclass', 'education', 'marital-status', 'occupation',\n",
    "                 'relationship', 'race'],\n",
    "    cont_names = ['age', 'fnlwgt', 'education-num'],\n",
    "    procs = [Categorify, FillMissing, Normalize])\n",
    "\n",
    "learn = tabular_learner(dls, metrics=accuracy)"
   ]
  },
  {
   "attachments": {},
   "cell_type": "markdown",
   "metadata": {},
   "source": [
    "正如您所看到的，我们必须告诉fastai哪些列是*分类的*（即，包含一组选定的离散值，如`occupation`），哪些列是*连续的*（即，包含表示数量的数值，如`age`）。\n",
    "\n",
    "这里没有可用于此任务的预训练模型（通常，许多表格建模任务的预训练模型无法广泛获得，尽管一些组织已经创建了供内部使用的模型），在这种情况下，我们不使用`fine_tune`，而是使用`fit_one_cycle`，这是从`零`开始训练 fastai 模型的最常用方法（即，没有迁移学习）："
   ]
  },
  {
   "cell_type": "code",
   "execution_count": 5,
   "metadata": {},
   "outputs": [
    {
     "data": {
      "text/html": [
       "\n",
       "<style>\n",
       "    /* Turns off some styling */\n",
       "    progress {\n",
       "        /* gets rid of default border in Firefox and Opera. */\n",
       "        border: none;\n",
       "        /* Needs to be in here for Safari polyfill so background images work as expected. */\n",
       "        background-size: auto;\n",
       "    }\n",
       "    progress:not([value]), progress:not([value])::-webkit-progress-bar {\n",
       "        background: repeating-linear-gradient(45deg, #7e7e7e, #7e7e7e 10px, #5c5c5c 10px, #5c5c5c 20px);\n",
       "    }\n",
       "    .progress-bar-interrupted, .progress-bar-interrupted::-webkit-progress-bar {\n",
       "        background: #F44336;\n",
       "    }\n",
       "</style>\n"
      ],
      "text/plain": [
       "<IPython.core.display.HTML object>"
      ]
     },
     "metadata": {},
     "output_type": "display_data"
    },
    {
     "data": {
      "text/html": [
       "<table border=\"1\" class=\"dataframe\">\n",
       "  <thead>\n",
       "    <tr style=\"text-align: left;\">\n",
       "      <th>epoch</th>\n",
       "      <th>train_loss</th>\n",
       "      <th>valid_loss</th>\n",
       "      <th>accuracy</th>\n",
       "      <th>time</th>\n",
       "    </tr>\n",
       "  </thead>\n",
       "  <tbody>\n",
       "    <tr>\n",
       "      <td>0</td>\n",
       "      <td>0.374053</td>\n",
       "      <td>0.372600</td>\n",
       "      <td>0.828471</td>\n",
       "      <td>00:03</td>\n",
       "    </tr>\n",
       "    <tr>\n",
       "      <td>1</td>\n",
       "      <td>0.371670</td>\n",
       "      <td>0.362348</td>\n",
       "      <td>0.833999</td>\n",
       "      <td>00:03</td>\n",
       "    </tr>\n",
       "    <tr>\n",
       "      <td>2</td>\n",
       "      <td>0.350932</td>\n",
       "      <td>0.359070</td>\n",
       "      <td>0.838145</td>\n",
       "      <td>00:03</td>\n",
       "    </tr>\n",
       "  </tbody>\n",
       "</table>"
      ],
      "text/plain": [
       "<IPython.core.display.HTML object>"
      ]
     },
     "metadata": {},
     "output_type": "display_data"
    }
   ],
   "source": [
    "learn.fit_one_cycle(3)"
   ]
  },
  {
   "attachments": {},
   "cell_type": "markdown",
   "metadata": {},
   "source": [
    "此模型所使用的[Adult dataset](http://robotics.stanford.edu/~ronnyk/nbtree.pdf) ，来自 Rob Kohavi 的论文“提高朴素贝叶斯分类器的准确率：混合决策树”，这个数据集包含很多个人的统计数据（如他们的教育、婚姻状况、种族、性别以及年收入是否超过5万美元）。该模型训练时间约为10秒，准确率超过80%。"
   ]
  },
  {
   "attachments": {},
   "cell_type": "markdown",
   "metadata": {},
   "source": [
    "让我们再看一个。推荐系统非常重要，尤其是在电子商务中。亚马逊（Amazon）和网飞（Netflix）等公司竭尽全力推荐用户可能喜欢的产品或电影。下面展示了使用[MovieLens dataset](https://doi.org/10.1145/2827872)数据集如何训练一个模型，该模型可以根据人们以前的观影习惯来预测他们可能喜欢的电影。"
   ]
  },
  {
   "cell_type": "code",
   "execution_count": 6,
   "metadata": {},
   "outputs": [
    {
     "data": {
      "text/html": [
       "\n",
       "<style>\n",
       "    /* Turns off some styling */\n",
       "    progress {\n",
       "        /* gets rid of default border in Firefox and Opera. */\n",
       "        border: none;\n",
       "        /* Needs to be in here for Safari polyfill so background images work as expected. */\n",
       "        background-size: auto;\n",
       "    }\n",
       "    progress:not([value]), progress:not([value])::-webkit-progress-bar {\n",
       "        background: repeating-linear-gradient(45deg, #7e7e7e, #7e7e7e 10px, #5c5c5c 10px, #5c5c5c 20px);\n",
       "    }\n",
       "    .progress-bar-interrupted, .progress-bar-interrupted::-webkit-progress-bar {\n",
       "        background: #F44336;\n",
       "    }\n",
       "</style>\n"
      ],
      "text/plain": [
       "<IPython.core.display.HTML object>"
      ]
     },
     "metadata": {},
     "output_type": "display_data"
    },
    {
     "data": {
      "text/html": [
       "<table border=\"1\" class=\"dataframe\">\n",
       "  <thead>\n",
       "    <tr style=\"text-align: left;\">\n",
       "      <th>epoch</th>\n",
       "      <th>train_loss</th>\n",
       "      <th>valid_loss</th>\n",
       "      <th>time</th>\n",
       "    </tr>\n",
       "  </thead>\n",
       "  <tbody>\n",
       "    <tr>\n",
       "      <td>0</td>\n",
       "      <td>1.510421</td>\n",
       "      <td>1.409248</td>\n",
       "      <td>00:00</td>\n",
       "    </tr>\n",
       "  </tbody>\n",
       "</table>"
      ],
      "text/plain": [
       "<IPython.core.display.HTML object>"
      ]
     },
     "metadata": {},
     "output_type": "display_data"
    },
    {
     "data": {
      "text/html": [
       "\n",
       "<style>\n",
       "    /* Turns off some styling */\n",
       "    progress {\n",
       "        /* gets rid of default border in Firefox and Opera. */\n",
       "        border: none;\n",
       "        /* Needs to be in here for Safari polyfill so background images work as expected. */\n",
       "        background-size: auto;\n",
       "    }\n",
       "    progress:not([value]), progress:not([value])::-webkit-progress-bar {\n",
       "        background: repeating-linear-gradient(45deg, #7e7e7e, #7e7e7e 10px, #5c5c5c 10px, #5c5c5c 20px);\n",
       "    }\n",
       "    .progress-bar-interrupted, .progress-bar-interrupted::-webkit-progress-bar {\n",
       "        background: #F44336;\n",
       "    }\n",
       "</style>\n"
      ],
      "text/plain": [
       "<IPython.core.display.HTML object>"
      ]
     },
     "metadata": {},
     "output_type": "display_data"
    },
    {
     "data": {
      "text/html": [
       "<table border=\"1\" class=\"dataframe\">\n",
       "  <thead>\n",
       "    <tr style=\"text-align: left;\">\n",
       "      <th>epoch</th>\n",
       "      <th>train_loss</th>\n",
       "      <th>valid_loss</th>\n",
       "      <th>time</th>\n",
       "    </tr>\n",
       "  </thead>\n",
       "  <tbody>\n",
       "    <tr>\n",
       "      <td>0</td>\n",
       "      <td>1.378706</td>\n",
       "      <td>1.353837</td>\n",
       "      <td>00:00</td>\n",
       "    </tr>\n",
       "    <tr>\n",
       "      <td>1</td>\n",
       "      <td>1.283051</td>\n",
       "      <td>1.182615</td>\n",
       "      <td>00:00</td>\n",
       "    </tr>\n",
       "    <tr>\n",
       "      <td>2</td>\n",
       "      <td>1.051507</td>\n",
       "      <td>0.870182</td>\n",
       "      <td>00:00</td>\n",
       "    </tr>\n",
       "    <tr>\n",
       "      <td>3</td>\n",
       "      <td>0.827181</td>\n",
       "      <td>0.705093</td>\n",
       "      <td>00:00</td>\n",
       "    </tr>\n",
       "    <tr>\n",
       "      <td>4</td>\n",
       "      <td>0.702141</td>\n",
       "      <td>0.661779</td>\n",
       "      <td>00:00</td>\n",
       "    </tr>\n",
       "    <tr>\n",
       "      <td>5</td>\n",
       "      <td>0.646693</td>\n",
       "      <td>0.647653</td>\n",
       "      <td>00:00</td>\n",
       "    </tr>\n",
       "    <tr>\n",
       "      <td>6</td>\n",
       "      <td>0.621587</td>\n",
       "      <td>0.642445</td>\n",
       "      <td>00:00</td>\n",
       "    </tr>\n",
       "    <tr>\n",
       "      <td>7</td>\n",
       "      <td>0.605313</td>\n",
       "      <td>0.639461</td>\n",
       "      <td>00:00</td>\n",
       "    </tr>\n",
       "    <tr>\n",
       "      <td>8</td>\n",
       "      <td>0.602502</td>\n",
       "      <td>0.638560</td>\n",
       "      <td>00:00</td>\n",
       "    </tr>\n",
       "    <tr>\n",
       "      <td>9</td>\n",
       "      <td>0.606968</td>\n",
       "      <td>0.638429</td>\n",
       "      <td>00:00</td>\n",
       "    </tr>\n",
       "  </tbody>\n",
       "</table>"
      ],
      "text/plain": [
       "<IPython.core.display.HTML object>"
      ]
     },
     "metadata": {},
     "output_type": "display_data"
    }
   ],
   "source": [
    "from fastai.collab import *\n",
    "path = untar_data(URLs.ML_SAMPLE)\n",
    "dls = CollabDataLoaders.from_csv(path/'ratings.csv')\n",
    "learn = collab_learner(dls, y_range=(0.5,5.5))\n",
    "learn.fine_tune(10)"
   ]
  },
  {
   "attachments": {},
   "cell_type": "markdown",
   "metadata": {},
   "source": [
    "该模型在0.5到5.0的范围内预测电影评级，平均错误大约在0.6。由于我们预测的是连续的数字，而不是类别，因此我们必须使用参数`y_range`来告诉 fastai 我们的目标范围。\n",
    "\n",
    "尽管我们没有实际使用预训练模型（与表格模型没有使用的原因相同），但 fastai 允许我们在本例中使用`fine_tune`（你会在第五章中学习它如何及为什么工作)。有时，最好将`fine_tune`和`fit_one_cycle`进行对比实验，来看在你的数据上哪个工作最好。\n",
    "\n",
    "我们可以调用`show_results`来查看一些用户ID、电影ID、实际评级和预测评级的示例："
   ]
  },
  {
   "cell_type": "code",
   "execution_count": 7,
   "metadata": {},
   "outputs": [
    {
     "data": {
      "text/html": [
       "\n",
       "<style>\n",
       "    /* Turns off some styling */\n",
       "    progress {\n",
       "        /* gets rid of default border in Firefox and Opera. */\n",
       "        border: none;\n",
       "        /* Needs to be in here for Safari polyfill so background images work as expected. */\n",
       "        background-size: auto;\n",
       "    }\n",
       "    progress:not([value]), progress:not([value])::-webkit-progress-bar {\n",
       "        background: repeating-linear-gradient(45deg, #7e7e7e, #7e7e7e 10px, #5c5c5c 10px, #5c5c5c 20px);\n",
       "    }\n",
       "    .progress-bar-interrupted, .progress-bar-interrupted::-webkit-progress-bar {\n",
       "        background: #F44336;\n",
       "    }\n",
       "</style>\n"
      ],
      "text/plain": [
       "<IPython.core.display.HTML object>"
      ]
     },
     "metadata": {},
     "output_type": "display_data"
    },
    {
     "data": {
      "text/html": [],
      "text/plain": [
       "<IPython.core.display.HTML object>"
      ]
     },
     "metadata": {},
     "output_type": "display_data"
    },
    {
     "data": {
      "text/html": [
       "<table border=\"1\" class=\"dataframe\">\n",
       "  <thead>\n",
       "    <tr style=\"text-align: right;\">\n",
       "      <th></th>\n",
       "      <th>userId</th>\n",
       "      <th>movieId</th>\n",
       "      <th>rating</th>\n",
       "      <th>rating_pred</th>\n",
       "    </tr>\n",
       "  </thead>\n",
       "  <tbody>\n",
       "    <tr>\n",
       "      <th>0</th>\n",
       "      <td>79.0</td>\n",
       "      <td>83.0</td>\n",
       "      <td>4.5</td>\n",
       "      <td>4.650622</td>\n",
       "    </tr>\n",
       "    <tr>\n",
       "      <th>1</th>\n",
       "      <td>49.0</td>\n",
       "      <td>77.0</td>\n",
       "      <td>5.0</td>\n",
       "      <td>4.435779</td>\n",
       "    </tr>\n",
       "    <tr>\n",
       "      <th>2</th>\n",
       "      <td>64.0</td>\n",
       "      <td>51.0</td>\n",
       "      <td>4.0</td>\n",
       "      <td>4.211000</td>\n",
       "    </tr>\n",
       "    <tr>\n",
       "      <th>3</th>\n",
       "      <td>98.0</td>\n",
       "      <td>7.0</td>\n",
       "      <td>5.0</td>\n",
       "      <td>4.833302</td>\n",
       "    </tr>\n",
       "    <tr>\n",
       "      <th>4</th>\n",
       "      <td>1.0</td>\n",
       "      <td>45.0</td>\n",
       "      <td>4.0</td>\n",
       "      <td>3.840652</td>\n",
       "    </tr>\n",
       "    <tr>\n",
       "      <th>5</th>\n",
       "      <td>86.0</td>\n",
       "      <td>48.0</td>\n",
       "      <td>3.0</td>\n",
       "      <td>3.797843</td>\n",
       "    </tr>\n",
       "    <tr>\n",
       "      <th>6</th>\n",
       "      <td>8.0</td>\n",
       "      <td>84.0</td>\n",
       "      <td>4.5</td>\n",
       "      <td>4.272635</td>\n",
       "    </tr>\n",
       "    <tr>\n",
       "      <th>7</th>\n",
       "      <td>93.0</td>\n",
       "      <td>71.0</td>\n",
       "      <td>3.0</td>\n",
       "      <td>4.155020</td>\n",
       "    </tr>\n",
       "    <tr>\n",
       "      <th>8</th>\n",
       "      <td>35.0</td>\n",
       "      <td>16.0</td>\n",
       "      <td>4.0</td>\n",
       "      <td>3.304728</td>\n",
       "    </tr>\n",
       "  </tbody>\n",
       "</table>"
      ],
      "text/plain": [
       "<IPython.core.display.HTML object>"
      ]
     },
     "metadata": {},
     "output_type": "display_data"
    }
   ],
   "source": [
    "learn.show_results()"
   ]
  },
  {
   "attachments": {},
   "cell_type": "markdown",
   "metadata": {},
   "source": [
    "### 边栏：数据集：模型的食物"
   ]
  },
  {
   "attachments": {},
   "cell_type": "markdown",
   "metadata": {},
   "source": [
    "您已经在本节中看到了不少模型，每个都使用不同的数据集进行训练去做不同的任务。在机器学习和深度学习中，没有数据我们什么都做不了。因此，为我们创建数据集去训练我们的模型都是英雄（通常却是被低估的）。一些最有用和重要的数据集变成了重要的*学术基线*；即，被研究人员广泛研究并用于比较算法的变化的数据集。一些成为家喻户晓的名字（至少在训练模型中家喻户晓），如 MNIST、CIFAR-10 和 ImageNet。\n",
    "\n",
    "本书中被使用的数据集被选中是因为他们提供了你可能遇到的最好的数据类型示例，而且在学术文献中也有许多使用这些数据集的模型结果例子，你能够对比你的工作。\n",
    "\n",
    "本书中使用的大多数数据集花费了创建大量的工作去构建。例如，在本书中稍后我们会向你展示如何创建一个可以在法语和英语之间进行翻译的模型。关键输入是法语/英文并行文本语料，在2009年由由宾夕法尼亚大学 Chris Callison-Burch 教授准备的。这个数据集包含超过两千万法语和英文的句子对。他以一种非常聪明的方式创建数据集：通过爬取数百万个加拿大网页（通常是多语言网页），然后使用一组简单的启发式方法将法语内容的 URL 转换为指向英文相同内容的 URL 。\n",
    "\n",
    "当你查看这本书的数据集时，想想它们可能来自哪里，以及它们可能是如何策划的。然后考虑你能够为你自己的项目创建哪些有趣的数据集（很快我们就会带你一步一步地实现创建你自己的图像数据集的过程）。\n",
    "\n",
    "fast.ai花费了大量时间创建流行数据集的精简版本，这些数据集是支持快速原型开发和实验专门设计的，并且更易于学习。在本书中，我们通常会先使用一个精简版，然后再扩展到完整版（就像我们在本章中所做的那样！）。实际上，这就是世界顶级从业人员在实践中进行建模的方法。他们用他们的数据子集做大部分实验和原型，只有他们已经很好的理解了他们必要做的内容才使用完整的数据集。"
   ]
  },
  {
   "attachments": {},
   "cell_type": "markdown",
   "metadata": {},
   "source": [
    "### 边栏"
   ]
  },
  {
   "attachments": {},
   "cell_type": "markdown",
   "metadata": {},
   "source": [
    "我们训练的每一个模型都展示了训练损失和验证损失。一个好的验证集是训练过程中最重要的部分。让我们来看看为什么及学习如何创建它。"
   ]
  },
  {
   "attachments": {},
   "cell_type": "markdown",
   "metadata": {},
   "source": [
    "## 验证集和测试集"
   ]
  },
  {
   "attachments": {},
   "cell_type": "markdown",
   "metadata": {},
   "source": [
    "正如我们之前讨论的，模型的目标是对数据进行预测。但从根本上说，模型训练过程是简易的。如果用我们所有的数据训练模型，然后用同样的数据去评价模型，将无法判断该模型在没有见过的数据上表现如何。如果没有这个有价值的信息来指导我们训练模型，它很有可能会变得善于对这些数据进行预测，但在新的数据上表现不佳。\n",
    "\n",
    "为了避免这种情况，首先需要将数据集分为两个集合：*训练集*（模型在训练中看到的）和*验证集*，也称为*开发集*（仅用于评价）。可以让我们测试模型是否将从训练数据中学习到的经验泛化到新的数据，也就是验证数据。\n",
    "\n",
    "理解这种情况的一种方式是，从某种意义上说，我们不希望模型通过“作弊”来获得好的结果。如果它对一个数据项做出了准确的预测，那应该是因为它已经学习了这种数据项的特征，而不是因为模型被*已经见过的那些特定数据项* 所限定。\n",
    "\n",
    "分离出我们的验证数据，意味着模型从未在训练中见过它，因此完全不受验证数据的影响，所以无论如何也不会作弊。对吗？\n",
    "\n",
    "实际上未必，这很微妙。因为在实际场景中，我们几乎不能仅仅训练一次模型的权重参数来创建模型。相反，建模与网络架构、学习率、数据增强策略，及我们在后续章节中要讨论的其他因素相关，我们会根据不同的建模选择开发很多个版本的模型。其中某些选项被描述为 *超参数（hyperparameters）* 的选项。该词反映出他们是参数的参数，因为他们是控制权重参数含义的更高级别的选项。"
   ]
  },
  {
   "attachments": {},
   "cell_type": "markdown",
   "metadata": {},
   "source": [
    "问题是，普通的训练过程在学习权重参数值时只查看训练数据的预测，但我们的情况并非如此。作为建模者，在我们决定探索新的超参数值时，会通过查看验证数据上的预测来评估模型！因此，模型的后续版本是通过我们查看了验证数据后间接形成的。正如自动训练过程存在过拟合训练数据的风险一样，人工试错和探索过程也存在过拟合验证数据的风险。\n",
    "\n",
    "这个难题的解决方案是引入另一个更高级别的保留数据*测试集*。正如为训练过程中保留验证数据一样，我们还要为自己保留测试集数据。它不能用于优化模型；只能用来评估我们的最终模型。实际上，根据我们希望在训练和建模过程中隐藏数据的程度，定义了数据切割的层次结构：训练数据完全暴露，验证数据较少暴露，测试数据完全隐藏。这种层次结构平行于不同类型的建模和评估过程本身 —— 使用反向传播的自动训练过程，在训练会话之间尝试不同超参数的手动处理，以及对最终结果的评估过程。\n",
    "\n",
    "测试集和验证集应该有足够的数据，以确保您可以很好地估计模型的准确性。例如，如果您正在创建一个猫检测器，通常需要在验证集中至少有30只猫的图像。这意味着如果你有一个包含数千个数据项的数据集，使验证集默认占20%，可能会超出您的需要。另一方面，如果你有大量的数据，使用其中的一些数据来进行验证可能不会带来任何负面影响。\n",
    "\n",
    "拥有两个级别的“保留数据”（验证集和测试集，其中一个级别表示实际上您对自己隐藏的数据），可能看起来有点极端。但这通常是必要的，因为模型往往倾向于用最简单的方法来做出好的预测（记忆），而我们作为易犯错误的人类，往往倾向于自欺欺人地认为我们的模型表现得有多好。测试集的约束可以帮助我们理性的保持诚实。这并不意味着我们 *总是* 需要一个单独的测试集（如果只有少量的数据，可能只需要一个验证集），但一般来说，如果可能的话，最好有一个。\n",
    "\n",
    "如果您打算雇用第三方来代表您执行建模工作，同样的约束也是至关重要的。第三方或许不能准确地理解您的要求，或者他们的动机甚至可能鼓励他们产生误解。一个好的测试集能够很大程度上规避这些风险，并可以让您评估他们的工作是否解决了您的实际问题。\n",
    "\n",
    "坦率地说，如果您是组织中的高级决策者（或者为高级决策者提供建议），那么最重要的收获是：如果您确保真正理解了什么是测试集和验证集，以及它们为什么如此重要，那么当组织决定使用人工智能时，您会避开我们所见过的最大失败根源。例如，如果您正在考虑引入外部供应商或服务，请确保您保留了一些供应商 *永远不会看到* 的测试数据。然后 *您* 在测试数据上检查他们的模型，使用实践中对 *您* 真正重要的评价指标，然后 *您* 决定什么级别的性能是达到要求的。（您自己尝试简单基准也是一个好主意，这样您就知道一个真正简单的模型可以实现什么。通常，您的简单模型的性能与外部“专家”生成的模型一样好！）"
   ]
  },
  {
   "attachments": {},
   "cell_type": "markdown",
   "metadata": {},
   "source": [
    "### 定义测试集时加入判断"
   ]
  },
  {
   "attachments": {},
   "cell_type": "markdown",
   "metadata": {},
   "source": [
    "要很好地定义验证集（可能还有测试集），有时候您要做的不仅仅是随机抓取原始数据集的一部分。记住：验证集和测试集的一个关键特性是它们必须能够代表您将在未来看到的新数据。这听起来像是一个不可能实现的要求。根据定义，你还没有见到这些数据。但你通常还是知道一些内容的。\n",
    "\n",
    "看几个有启发性的例子。这些例子中有许多来自 [Kaggle](https://www.kaggle.com/)平台的预测建模竞赛，很好地代表了您可能在实践中遇到的问题和方法。\n",
    "\n",
    "如果您正在查看时间序列数据。对于时间序列，选择数据的随机子集太容易了（您可以查看所要预测的日期之前和之后的数据），但不能代表大多数业务用例（您使用历史数据来构建供将来使用的模型）。如果您的数据包括日期，并且您正在构建一个在将来使用的模型，则您应该选择最新日期的连续部分作为您的验证集（例如，最近两周或上个月的可用数据）。\n",
    "\n",
    "假设您要将下图中的时间序列数据拆分为训练集和验证集。"
   ]
  },
  {
   "attachments": {},
   "cell_type": "markdown",
   "metadata": {},
   "source": [
    "<img src=\"images/timeseries1.png\" width=\"400\" id=\"timeseries1\" caption=\"A time series\" alt=\"A serie of values\">"
   ]
  },
  {
   "attachments": {},
   "cell_type": "markdown",
   "metadata": {},
   "source": [
    "随机子集是一个糟糕的选择（太容易填补空白，而且不代表你在生产中会需要它），如下图所示。"
   ]
  },
  {
   "attachments": {},
   "cell_type": "markdown",
   "metadata": {},
   "source": [
    "<img src=\"images/timeseries2.png\" width=\"400\" id=\"timeseries2\" caption=\"A poor training subset\" alt=\"Random training subset\">"
   ]
  },
  {
   "attachments": {},
   "cell_type": "markdown",
   "metadata": {},
   "source": [
    "相反，使用前面的数据作为训练集（后面的数据作为验证集），如下图所示。"
   ]
  },
  {
   "attachments": {},
   "cell_type": "markdown",
   "metadata": {},
   "source": [
    "<img src=\"images/timeseries3.png\" width=\"400\" id=\"timeseries3\" caption=\"A good training subset\" alt=\"Training subset using the data up to a certain timestamp\">"
   ]
  },
  {
   "attachments": {},
   "cell_type": "markdown",
   "metadata": {},
   "source": [
    "例如，Kaggle有一场比赛是[预测厄瓜多尔杂货连锁店的销售额](https://www.kaggle.com/c/favorita-grocery-sales-forecasting)。Kaggle的训练数据从2013年1月1日到2017年8月15日，测试数据从2017年8月16日到2017年8月31日。通过这种方式，竞赛组织者确保参赛者从其模型的角度对 *未来* 的时间段进行预测。这类似于量化对冲基金交易员进行 *回溯测试*，以检查他们的模型是否能根据过去的数据对未来做出预测。"
   ]
  },
  {
   "attachments": {},
   "cell_type": "markdown",
   "metadata": {},
   "source": [
    "第二种常见的情况，可以很容易地预料到，在生产中进行预测的数据可能与用来训练模型的数据有 *质的不同*。\n",
    "\n",
    "在Kaggle[分心驾驶员比赛](https://www.kaggle.com/c/state-farm-distracted-driver-detection)中，自变量是坐在方向盘前驾驶员的图像，因变量是发短信，吃东西，或安全地向前看。很多都是相同驾驶员在不同位置的图像，如下图所求。如果您是一家保险公司，根据这些数据构建模型，您最感兴趣的是该模型在从未见过的驾驶员行为上的表现（因为您可能只有一小部分人的训练数据）。认识到这一点，比赛的测试数据由没有出现在训练集中的人的图像组成。"
   ]
  },
  {
   "attachments": {},
   "cell_type": "markdown",
   "metadata": {},
   "source": [
    "<img src=\"images/driver.PNG\" width=\"600\" id=\"img_driver\" caption=\"Two pictures from the training data\" alt=\"Two pictures from the training data, showing the same driver\">"
   ]
  },
  {
   "attachments": {},
   "cell_type": "markdown",
   "metadata": {},
   "source": [
    "假如您将上图中的一张图像放到训练集里，将另一张图像放到验证集里，您的模型将很容易对验证集中的图像做出预测，所以它似乎比在新人身上表现得更好。另一种观点是，如果您在训练模型时使用了所有的人，模型可能会对这些具体的人的细节过拟合，而不仅仅是学习他们的状态（发短信、吃东西等）。\n",
    "\n",
    "类似的方式也在[Kaggle渔业竞赛](https://www.kaggle.com/c/the-nature-conservancy-fisheries-monitoring)中，通过识别被渔船捕捉的鱼的种类，以减少对濒危种群的非法捕捞。测试集中的渔船没有在训练数据中出现过。这表示验证集中的渔船应该不在训练集中。\n",
    "\n",
    "有时可能不是很清楚验证数据会有什么不同。例如，对于使用卫星图像的问题，您是需要收集更多只是包含某些地理位置信息的训练集，还是来自地理上分散的数据。\n"
   ]
  },
  {
   "attachments": {},
   "cell_type": "markdown",
   "metadata": {},
   "source": [
    "现在您已经知道怎样构建模型，您可以决定下一步要深入研究些什么了。"
   ]
  },
  {
   "attachments": {},
   "cell_type": "markdown",
   "metadata": {},
   "source": [
    "## 选择您自己的冒险"
   ]
  },
  {
   "attachments": {},
   "cell_type": "markdown",
   "metadata": {},
   "source": [
    "如果您想了解更多关于如何在实践中使用深度学习模型的内容，包括如何识别和修复错误，如何创建Web应用程序，以及如何避免您的模型对自身组织或社会造成无法意料的损害，请继续阅读接下来的两章。如果您想从深度学习内部工作机制的基本原理开始学习，请直接学习第四章。（你小时候读过 *_选择你自己的冒险_* 吗？是的，这有点像... 除了比那本书系列包含更多的深度学习。）\n",
    "\n",
    "您需要阅读所有章节才会取得更大进展，但阅读的顺序完全取决于您自己。他们并不互相依赖。如果您跳到第四章，我们会在最后提醒您，在继续往下学习之前，先回来阅读您跳过的章节。"
   ]
  },
  {
   "attachments": {},
   "cell_type": "markdown",
   "metadata": {},
   "source": [
    "## 练习题"
   ]
  },
  {
   "attachments": {},
   "cell_type": "markdown",
   "metadata": {},
   "source": [
    "在阅读了一页又一页的文章之后，很难知道您真正需要关注和记住的关键事项。所以，我们在每一章结束时准备了一个问题清单和建议完成的步骤。所有的答案都在这一章的正文中，所以如果有任何不确定的问题，请重读相关的正文，并确保理解了它。所有问题的答案也可以在[本书网站](https://book.fast.ai)找到。当遇到困难的时候您也可以通过访问[论坛](https://forums.fast.ai)，从其他学习本书的伙伴那里得到帮助。\n",
    "\n",
    "对于更多问题，包括详细解答和视频链接，请访问：Radek Osmulski 的 [aiquizzes](http://aiquizzes.com/howto)。"
   ]
  },
  {
   "attachments": {},
   "cell_type": "markdown",
   "metadata": {},
   "source": [
    "1. 您进行深度学习时需要下列内容吗？\n",
    "   - 大量的数学知识   是/否\n",
    "   - 海量数据        是/否\n",
    "   - 大量昂贵的算力   是/否\n",
    "   - 博士学位        是/否\n",
    "2. 列举当今深度学习表现最佳的五个领域。\n",
    "3. 基于人工神经元原理的第一个装置叫什么名字？？\n",
    "4. 根据同名书籍，并行分布式处理（PDP）的必备条件是什么？\n",
    "5. 是哪两个理论上的误解制约了神经网络领域的发展？\n",
    "6. 什么是GPU？\n",
    "7. 打开一个notebook并执行一个单元格包含：`1+1`，看看会发生什么？\n",
    "8. 对本章节的notebook精简版的每个单元格进行操作。在执行每个单元格之前，猜猜会发生什么。\n",
    "9. 完成 Jupyter notebook 在线附录。\n",
    "10. 为什么很难使用传统的计算机程序来识别照片中的图像？\n",
    "11. 塞缪尔所说的“权重分配”是什么意思？\n",
    "12. 在深度学习中，我们通常使用什么术语来表示塞缪尔所说的“权重”？\n",
    "13. 画一张图，概括塞缪尔对机器学习模型的观点。\n",
    "14. 为什么很难理解深度学习模型为什么会做出特定的预测？\n",
    "15. 表明神经网络能以任何精度解决任何数学问题的定理叫什么？\n",
    "16. 训练一个模型需要什么？\n",
    "17. 反馈回路如何影响预测警务模型的推广？\n",
    "18. 对于猫识别模型，我们是否总是必须使用 224×224 像素的图像？\n",
    "19. 分类和回归的区别是什么？\n",
    "20. 什么是验证集？什么是测试集？我们为什么需要他们？\n",
    "21. 如果您不提供验证集，fastai 会怎么做？\n",
    "22. 我们是否可以始终使用随机样本作为验证集？为什么或为什么不？\n",
    "23. 什么是过拟合？举个例子。\n",
    "24. 什么是评价指标？它与“损失”有何不同？\n",
    "25. 预训练模型能够提供怎样的帮助？\n",
    "26. 模型的“头”是什么？\n",
    "27. CNN 前面的层发现了哪些类型的特征？后面的层呢？\n",
    "28. 图像模型只用于照片吗？\n",
    "29. 什么是“架构”？\n",
    "30. 什么是分割？\n",
    "31. y_range 有何用途？我们什么时候需要它？\n",
    "32. 什么是“超参数”？\n",
    "33. 在组织中使用人工智能时，避免失败的最佳方法是什么？"
   ]
  },
  {
   "attachments": {},
   "cell_type": "markdown",
   "metadata": {},
   "source": [
    "### 进一步研究"
   ]
  },
  {
   "attachments": {},
   "cell_type": "markdown",
   "metadata": {},
   "source": [
    "每一章还有一个“进一步研究”部分，会提出一些在正文中没有完全回答出来的问题，或者给出一些更高级的作业。本书的网站上没有这些问题的答案，您需要自己做些研究。"
   ]
  },
  {
   "attachments": {},
   "cell_type": "markdown",
   "metadata": {},
   "source": [
    "1. 为什么GPU对深度学习有用？CPU有什么不同，为什么它对深度学习不那么有效？\n",
    "2. 试着想想反馈循环可能影响机器学习使用的三个领域。看看你是否能找到在实践中发生的那些被记录下来的例子。"
   ]
  }
 ],
 "metadata": {
  "jupytext": {
   "split_at_heading": true
  },
  "kernelspec": {
   "display_name": "Python 3 (ipykernel)",
   "language": "python",
   "name": "python3"
  },
  "language_info": {
   "codemirror_mode": {
    "name": "ipython",
    "version": 3
   },
   "file_extension": ".py",
   "mimetype": "text/x-python",
   "name": "python",
   "nbconvert_exporter": "python",
   "pygments_lexer": "ipython3",
   "version": "3.10.18"
  }
 },
 "nbformat": 4,
 "nbformat_minor": 4
}
