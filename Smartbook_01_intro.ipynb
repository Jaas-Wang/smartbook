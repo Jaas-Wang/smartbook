{
 "cells": [
  {
   "cell_type": "code",
   "execution_count": 1,
   "metadata": {},
   "outputs": [],
   "source": [
    "#hide\n",
    "! [ -e /content ] && pip install -Uqq fastbook\n",
    "import fastbook\n",
    "fastbook.setup_book()"
   ]
  },
  {
   "cell_type": "code",
   "execution_count": 1,
   "metadata": {},
   "outputs": [],
   "source": [
    "#hide\n",
    "from fastbook import *"
   ]
  },
  {
   "cell_type": "markdown",
   "metadata": {},
   "source": [
    "# 开启深度学习之旅"
   ]
  },
  {
   "cell_type": "markdown",
   "metadata": {},
   "source": [
    "您好，无论您掌握到什么程度，我们都深感荣幸可以加入到您的深度学习之旅中来！在本章，我们会告诉您更多关于这本书的内容，包括介绍深度学习的关键概念，以及在不同的任务中训练我们的首个模型。即便您没有相关的技术背景或者数学基础也没有任何关系（有的话也可以）。撰写本书的目的是希望让尽可能多的人可以接触到深度学习。 "
   ]
  },
  {
   "cell_type": "markdown",
   "metadata": {},
   "source": [
    "## 深度学习适合所有人"
   ]
  },
  {
   "cell_type": "markdown",
   "metadata": {},
   "source": [
    "很多人认为，想要利用深度学习取到很好的结果需要各种难以获取的资源，但是通过这本书您会发现这种想法是错误的。下表列举了几项，即便是世界级的深度学习任务也是完全不需要具备。\n",
    "\n",
    "|     误解（不需要）     |                     事实                     |\n",
    "| :--------------------: | :------------------------------------------: |\n",
    "|   大量专业数学知识   |         高中数学就足够了         |\n",
    "|       海量数据       | 我们曾见过用不到50条的数据取得破纪录结果 |\n",
    "| 大量昂贵的算力 |        你可以免费获得最先进的工作成果        |\n",
    "\n",
    "\n",
    "深度学习是一种应用多层神经网络进行数据提取与转换的计算机技术，应用场景从人类语音识别到动物图像分类。每层神经网络通过前层神经网络获取输入并不断细化。算法训练这些层，从而减少误差提高精度。通过这种方式，网络学习完成特定的任务。在下一节中我们将详细讨论训练算法。 "
   ]
  },
  {
   "cell_type": "markdown",
   "metadata": {},
   "source": [
    "深度学习具有强大、灵活、简单的特点。 正因为如此，我们相信可以在许多学科应用它。其中包括社会科学和自然科学 、艺术、医学、金融、科学研究等等。举个例子，杰里米尽管没有任何医学背景，但创建了 Enlitic 公司，该公司利用深度学习算法来诊断疾病。在成立几个月后，公司宣布其算法可以[比放射科医生更为准确](https://www.nytimes.com/2016/02/29/technology/the-promise-of-artificial-intelligence-unfolds-in-small-steps.html)地识别恶性肿瘤。\n",
    "\n",
    "利用深度学习或大量使用深度学习方法进行处理的任务有很多很多，以下列出了其中的一些领域，都是目前世界上最优的 ：\n",
    "- 自然语言处理（NLP）：回答问题；语音识别；文档汇总；文档分类；在文档中查找姓名、日期等；搜索提及某一概念的文章\n",
    "- 计算机视觉：卫星和无人机图像判读（例如，抗灾能力）、面部识别、图像标注、交通标志识别、自动驾驶中定位行人和车辆\n",
    "- 医药：发现放射学图像中的异常，包括CT、MRI和X射线图像；病理切片计数特征；超声波的测量特性；诊断糖尿病视网膜病变\n",
    "- 生物：蛋白质折叠；蛋白质分类；许多基因组学任务，例如肿瘤正常测序和分类临床可操作的基因突变分类：细胞分类；蛋白质分析/蛋白质交互作用\n",
    "- 图像生成：图像着色，增强图像分辨率，图像去噪，将图像转换成著名艺术家风格的作品\n",
    "- 推荐系统：网页搜索，产品推荐，主页设计\n",
    "- 玩游戏：国际象棋，围棋，大多数Atari视频游戏，和许多即时战略游戏\n",
    "- 机器人：处理难以定位的对象（例如，透明的、有光泽的、缺乏纹理的）或难以采集的对象\n",
    "- 其他应用：财务和物流预测，文本转语音，等许多许多......\n"
   ]
  },
  {
   "cell_type": "markdown",
   "metadata": {},
   "source": [
    "值得注意的是，深度学习有各种各样的应用，但几乎所有的深度学习都基于一种创新模型：神经网络。 \n",
    "\n",
    "然而，事实上神经网络并不是全新的事物。为了对本领域有更加全面的认识，有必要介绍一些它的历史。  "
   ]
  },
  {
   "cell_type": "markdown",
   "metadata": {},
   "source": [
    "## 神经网络：简史"
   ]
  },
  {
   "cell_type": "markdown",
   "metadata": {},
   "source": [
    "1943年，神经生理学家沃伦·麦卡洛克（Warren McCulloch）和逻辑学家沃尔特·皮茨（Walter Pitts）合作开发了人工神经元的数学模型。在他们的[论文](https://link.springer.com/article/10.1007/BF02478259)《神经活动中内在思想的逻辑计算》中，他们认为：\n",
    "> 由于神经活动的\"全有或全无\"特点，神经事件及其间的关系可以被看做命题逻辑。每个网络的行为都可以用这种方式描述。 "
   ]
  },
  {
   "cell_type": "markdown",
   "metadata": {},
   "source": [
    "他们意识到一个真实神经元的简化模型可以用简单的加法和阈值来表示，如下图<<神经元>>所示。皮茨是自学成才的，12岁时，他收到了剑桥大学的邀请，跟随伟大的伯特兰·罗素学习。他没有接受这一邀请，事实上，在他的一生中，他没有接受任何高级学位或权威职位的邀请。他的大部分著名工作都是在他无家可归的时候完成的。尽管他没有官方认可的职位，且越来越与社会隔绝，但他与麦卡洛克的工作成果却很有影响力，并由一位名叫弗兰克·罗森布拉特的心理学家将他的研究继续进行下来。"
   ]
  },
  {
   "cell_type": "markdown",
   "metadata": {},
   "source": [
    "<div style=\"text-align:center\" align=\"left\">\n",
    "  <p align=\"center\">\n",
    "    <img src=\"./images/chapter1_neuron.png\" alt=\"neuor\" style=\"zoom:85%;\" />\n",
    "  </p>\n",
    "  <p align=\"center\">图：神经元</p>\n",
    "</div>"
   ]
  },
  {
   "cell_type": "markdown",
   "metadata": {},
   "source": [
    "罗森布拉特进一步开发了人工神经元，使其具有学习能力。更重要的是，他致力于建造第一个使用这些原理的设备，即Mark I感知器。在《智能自动机的设计》一书中，罗森布拉特写到了这项工作：“我们现在即将见证这样一台机器的诞生——一台不需要任何人类训练或控制就能感知、辨认和识别周围环境的机器。”感知器被建造出来，并能够成功识别简单的形状。\n",
    "\n",
    "一位名叫马文·明斯基（Marvin Minsky）的麻省理工学院教授（和罗森布拉特在同一所高中仅仅比他低一个年级！）和西摩·帕佩特（Seymour Papert）一起写了一本关于罗森布拉特发明的书，名为《感知器》（Perceptrons）（麻省理工学院出版社）。他们表示，这些设备的单层无法学习一些简单但关键的数学函数（如XOR）。在此书中，他们还表明，使用多层设备将使这些限制得到解决。不幸的是，这些见解中只有第一个得到了广泛认可。因此，在接下来的二十年里，全球学术界几乎完全放弃了神经网络。\n"
   ]
  },
  {
   "cell_type": "markdown",
   "metadata": {},
   "source": [
    "在过去50年中，神经网络领域最关键的工作可能是David Rumelhart、James McClelland和PDP研究小组的并行分布式处理（PDP），它于1986年由麻省理工学院出版。第一章展示了与罗森布拉特类似的希望：\n",
    "> 人类比当前的计算机更聪明是因为大脑采用了基本的计算架构，它更适合应对那些自然信息处理任务的核心问题，而这恰恰是人非常擅长的。我们将介绍一个模拟认知过程的计算框架，由于可能是大脑来完成的，因此它似乎…比其他框架更接近计算的模式。\n",
    ">\n",
    "在此使用PDP的前提是传统计算机程序的工作方式与大脑非常不同，这可能就是为什么计算机程序（在这一点上）在做一些大脑认为轻而易举的事情时会如此糟糕（例如识别图片中的物体）的原因。作者声称PDP方法“比其他框架更接近”大脑的工作方式，因此它或许能够更好地处理这类任务。\n",
    "\n",
    "事实上，PDP中的方法与当今神经网络中使用的方法非常相似。该书将并行分布式处理定义为以下需求：\n",
    "   1. 一组*处理单元*\n",
    "   2. *激活*状态\n",
    "   3. 每个单元的*输出函数*\n",
    "   4. 单元之间的*连接模式*\n",
    "   5. 用于通过连接性网络传播活动模式的*传播规则*\n",
    "   6. 一种*激活规则*，用于将作用于单元的输入与该单元的当前状态相结合，以产生该单元的输出 \n",
    "   7. 通过经验修改连接模式的一种*学习规则*\n",
    "   8. 必要的系统运行*环境* \n",
    "\n",
    "我们将在本书中看到现代神经网络处理上面的每个需求。 \n",
    "\n",
    "在20世纪80年代，大多数模型都是用第二层神经元构建的，从而避免了明斯基和帕佩特认识到的问题（也就是采用上述架构时被他们称做的“单元之间的连接模式”）。事实上，神经网络在80年代和90年代被广泛用于实际项目。然而，理论问题的偏差再次阻碍了该领域的发展。理论上，仅仅增加一层额外的神经元层就足以用这些神经网络估计任何数学函数。但在实践中，这样的网络通常太大太慢而无法使用。 \n",
    "\n",
    "尽管研究人员在30年前就表明，要获得实用、良好的性能，你需要使用更多层的神经元，但是仅在近十年里，这一原则才被更广泛的重视和应用。由于使用了更多的层，再加上计算机硬件的提升、数据可用性的增加以及使得神经网络更快、更容易训练算法的优化，神经网络终于实现了其潜力。我们现在实现了罗森布拉特所设想的：“一台在没有任何人类训练或控制的情况下，能够感知、认识和识别其周围环境的机器。”\n",
    "\n",
    "这将是在本书中您学习如何实现的内容。因为我们将会共同度过很长一段时间，首先让我们互相了解一下...\n",
    "\n"
   ]
  },
  {
   "cell_type": "markdown",
   "metadata": {},
   "source": [
    "## 我们是谁"
   ]
  },
  {
   "cell_type": "markdown",
   "metadata": {},
   "source": [
    "我们是西尔万和杰里米，是您本次学习之旅的向导，希望您认为我们很称职。\n",
    "\n",
    "杰里米已经使用和讲授机器学习大约30年了。他在25年前就开始使用神经网络。在此期间，他领导了许多以机器学习为核心的公司和项目，包括创立了第一个专注于深度学习和医学的公司Enlitic，并担任全球最大的机器学习社区Kaggle的总裁和首席科学家。他和Rachel Thomas博士是fast.ai的联合创始人，进而创建了本书所立足的课程。\n",
    "\n",
    "您将时常在边栏中看到我们，比如这个来自杰里米的：\n"
   ]
  },
  {
   "cell_type": "markdown",
   "metadata": {},
   "source": [
    "> 杰里米: 大家好，我是杰里米！你可能有兴趣知道，我其实并没有接受过任何正规的技术教育。我曾经获得了哲学专业的学士学位，但成绩不是很好。我更有兴趣做实际项目，而不是理论研究，所以整个大学时期我都在一家名为麦肯锡的管理咨询公司做全职工作。假如你是一个宁愿亲自动手建造东西而不是花几年时间学习抽象概念的人，你就会理解我的意思了！像我这样具有较少数学或正式技术背景的人，可以通过留意我的边栏内容，去获取最适合你的信息。\n"
   ]
  },
  {
   "cell_type": "markdown",
   "metadata": {},
   "source": [
    "另一方面，西尔万对正规技术教育非常了解。他写了10本数学教科书，涵盖了整个法国高级数学课程 "
   ]
  },
  {
   "cell_type": "markdown",
   "metadata": {},
   "source": [
    "> 西尔万: 与杰里米不同，我没有花很多年的时间编写代码和应用机器学习算法。我最近通过观看杰里米的Fast.AI课程视频来到了机器学习世界。所以，如果你是一个没有打开过终端，并输入命令行的人，你就会理解我的意思了！像我一样具有更多数学或正式技术背景，但实际编程经验较少的人，请留意我的边栏，获取适合你的信息。\n"
   ]
  },
  {
   "cell_type": "markdown",
   "metadata": {},
   "source": [
    "来自世界各地各行各业的数十万名学生学习了fast.ai课程。西尔万作为最令杰里米印象深刻的学生从中脱颖而出，这使他加入了fast.ai，然后与杰里米一起成为fastai软件库的合著者。\n",
    "\n",
    "这些意味着，你同时拥有两个方面的优势：比任何人都更了解这个软件的人，因为他们编写了它，其中一位是数学家，别一位是编码和机器学习方面的专家；同时，他们既能理解数学领域的门外汉，也能理解编码和机器学习领域的门外汉。\n",
    "\n",
    "看过体育节目的人都知道，如果解说员团队是两个人，那么还需要第三个人来做“特别评论”。我们的特别评论员是亚历克西斯·加拉格尔。亚历克西斯有着非常多元化的背景：他做过数学生物学研究员、编剧、即兴表演者、麦肯锡顾问（就像杰里米一样！）、Swift程序员和首席技术官。\n"
   ]
  },
  {
   "cell_type": "markdown",
   "metadata": {},
   "source": [
    "> 亚历克西斯: \n",
    "> 我决定是时候学习人工智能了！毕竟，我几乎什么都试过了。但我并没有构建机器学习模型的背景。嗯...这会有多难呢？就像你们一样，我将通过这本书来进行学习。请留意我边栏中的学习技巧，它们对我的学习很有帮助，希望能够对您也有所帮助。\n"
   ]
  },
  {
   "cell_type": "markdown",
   "metadata": {},
   "source": [
    "## 如何学习深度学习"
   ]
  },
  {
   "cell_type": "markdown",
   "metadata": {},
   "source": [
    "哈佛大学（Harvard）的教授戴维·珀金斯（David Perkins）对教学有很多见解，他著有《全局学习法》（Making Learning Whole，Jossey-Bass）。其基本的思路是讲授整体。意思是，如果你在教棒球，你首先要带人们去看棒球比赛，或者让他们去玩棒球。你不会教他们如何从零开始缠绕麻线来制作棒球，也不会教他们抛物线的物理性质，或者球在球棒上的摩擦系数。\n",
    "\n",
    "哥伦比亚大学数学博士，前布朗大学教授，K-12数学教师保罗·洛克哈特（Paul Lockhart）写了篇颇具影响力[文章](https://www.maa.org/external_archive/devlin/LockhartsLament.pdf)“数学家的悲叹”，这篇文章想象了用讲授数学的方式去教音乐和美术时噩梦般的世界【它想象一个噩梦般的世界在用讲授数学的方式去教音乐和美术】。孩子们不允许听或演奏音乐，除非他们花了十多年的时间掌握乐谱和乐理，在课堂上把乐谱换成不同的音调。在美术课上，学生们学习颜色和涂抹器，但在大学之前却不允许真正的去画画。这听起来很荒谬吗？这恰恰是数学的教学方式——我们要求学生花数年时间死记硬背，学习枯燥、不连贯的基础知识，我们声称这些将在今后得到回报，但是等得太久以至于大多数人已经放弃了这门学科。\n",
    "\n",
    "不幸的是，这正是许多深度学习教学资源的方式 —— 要求学习者遵循海森定义和损失函数的泰勒近似，但是从来没有列举真实代码。我们不是在批评微积分。我们喜欢微积分，西尔万甚至还在大学里教过它，但我们不认为微积分是学习深度学习的最佳起点！\n",
    "\n",
    "在深度学习中，如果你有动力去修正你的模型，让它变得更好，将是非常有帮助的。即，开始学习相关理论的时候，首先需要有模型。我们对每个知识点都尽量用实例讲授。通过这些示例，逐步深入的向您展示如何使您的项目越来越好。这意味着你将在这个环境中逐步学习到需要的所有理论基础，以这样一种方式，你会知道它的重要性与工作方式。\n",
    "\n",
    "下面是我们对您的承诺。在本书中，我们会遵循以如原则：\n",
    "  - 讲授*整体*。首先，我们将向您展示如何通过简单明了的工具使用一个完整的、有效的、可用的、最先进的深度学习网络来解决实际问题。然后，我们将逐渐深入理解那些工具是如何生成的，以及生成那些工具的工具是如何生成的，等等...\n",
    "  - 实例化教学。我们将确保提供可以让您直观理解的环境和效果，而不是从代数符号开始。\n",
    "  - 尽可能的简化。多年来，我们一直在努力创建更加简化的工具和教学方法。\n",
    "  - 消除障碍。到目前为止，深度学习一直是一款独家游戏。我们正在开放它，确保每个人都能玩。\n"
   ]
  },
  {
   "cell_type": "markdown",
   "metadata": {},
   "source": [
    "深度学习最难的部分是实践：你如何知道你是否有足够的数据，它们的格式是否正确，你的模型是否训练得当，如果不是，你应该怎么做？这就是为什么我们信奉要在实践中学习的原因。与基础数据科学技能一样，深度学习只有通过实践经验才能变得更好。试图在理论上花费太多时间可能会适得其反。关键是要编码并尝试解决问题：在你具备背景知识和学习动机之前，可以暂时先不学习理论知识。\n",
    "\n",
    "有时这个学习之旅会很艰难。当你卡壳的时候。不要放弃！倒回去，找到你没有被卡住的最后的地方，从那里慢慢读下去，找到第一个不清楚的地方。然后自己尝试做一些代码实验，并搜索更多关于你卡壳问题的教程 —— 通常你会从不同的角度找到可能会有所帮助的材料。此外，在第一次阅读时不理解所有内容（尤其是代码）也是正常的。尝试连续理解材料有时会很困难。有时候，当你从后续内容学习到更多的背景知识，对内容有了一个更全面的了解，当前的问题就会迎刃而解了。因此，如果您确实在某个部分卡住了，无论如何都要试着继续前进，记好笔记以后再回来解决。\n",
    "\n",
    "记住，你不需要任何特定的学术背景就能在深度学习中取得成功。许多重要的突破都是由没有博士学位的人在研究和实践中取得的，比如这篇论文[“基于深度卷积生成对抗网络的无监督表示学习”](https://arxiv.org/abs/1511.06434)，这是过去十年中最具影响力的论文之一，引用次数超过5000次，是亚历克·雷德福（Alec Radford）在读本科的时候撰写的。即使在特斯拉，他们正在努力解决制造自动驾驶汽车这一极其艰巨的挑战，首席执行官埃隆·马斯克说:\n",
    "> “绝对不要求必须具有博士学位。重要的是对人工智能的深刻理解和具备采用切实有效的方法来实现神经网络的能力（后者才是真正的难点）。高中毕业也无所谓的。”\n"
   ]
  },
  {
   "cell_type": "markdown",
   "metadata": {},
   "source": [
    "然而，要想成功，你需要做的是将你在本书中学到的东西应用到个人项目中，并始终坚持下去。"
   ]
  },
  {
   "cell_type": "markdown",
   "metadata": {},
   "source": [
    "### 你的项目和你的心态"
   ]
  },
  {
   "cell_type": "markdown",
   "metadata": {},
   "source": [
    "无论你是兴奋地从叶子的图片中识别植物是否患病，自动的生成编织图案，从X光片中诊断结核病，还是确定何时浣熊正在使用你的猫洞，我们会尽快的让你在自己的问题上使用深度学习（通过别人的预训练模型），然后逐步深入到更多细节。在下一章的前30分钟内，您将学习如何使用深度学习以最高精度解决自己的问题（如果您渴望立即开始编写代码，可以直接跳过这部分）。不是需要拥有谷歌那种级别的计算资源和数据集才能够进行深度学习。\n",
    "\n",
    "那么，什么样的任务才是好的测试用例呢？你可以训练你的模型区分毕加索和莫奈的画作，或者选出你女儿的照片而不是你儿子的照片。专注于你的爱好和激情是非常有帮助的。在开始的时候最好是给自己设定四五个小项目，而不是努力解决一个大问题。过早地雄心勃勃往往会事与愿违，反而容易陷入困境。一旦你掌握了基础知识，把目标放到完成你真正引以为豪的事情上！\n"
   ]
  },
  {
   "cell_type": "markdown",
   "metadata": {},
   "source": [
    "> 杰里米: 深度学习几乎可以解决任何问题。例如，我的第一家创业公司是一家名为FastMail的公司，该公司在1999年成立时提供增强的电子邮件服务（直到今天仍然如此）。2002年，我使用一种早期形式的深度学习，即单层神经网络，来帮助对电子邮件进行分类，并阻止客户收到垃圾邮件。\n"
   ]
  },
  {
   "cell_type": "markdown",
   "metadata": {},
   "source": [
    "擅长深度学习的人都具有爱玩和好奇心强这样的性格特征。已故物理学家理查德·费曼（Richard Feynman）就是一个我们认为擅长深度学习的例子：他从餐碟在空中旋转的乐趣中理解了亚原子粒子运动。 "
   ]
  },
  {
   "cell_type": "markdown",
   "metadata": {},
   "source": [
    "现在让我们关注您将学到的内容，从软件开始。"
   ]
  },
  {
   "cell_type": "markdown",
   "metadata": {},
   "source": [
    "## 软件：PyTorch, fastai 和 Jupyter\n"
   ]
  },
  {
   "cell_type": "markdown",
   "metadata": {},
   "source": [
    "（以及为什么无关紧要）"
   ]
  },
  {
   "cell_type": "markdown",
   "metadata": {},
   "source": [
    "我们已经使用数十个软件包和许多编程语言完成了数百个机器学习项目。在fast.ai，我们用现有的大多数主要深度学习和机器学习软件包编写了课程。2017年PyTorch问世后，我们花了一千多个小时测试它，然后决定将它用于未来的课程、软件开发和研究。从那时起，PyTorch已经成为世界上增长【成长】最快的深度学习库，并且已经被用于顶级会议的大多数研究论文。这通常是工业界的主要指标，因为这些论文【成果】最终会应用在商业产品和服务中。我们发现PyTorch是深度学习的最灵活和最具表现力的库。它并没有为了简单而牺牲速度，而是兼顾两者。\n",
    "\n",
    "PyTorch作为底层基础库可以很好的为高层功能提供基本操作。fastai库是在PyTorch基础上添加这些高级功能的最流行的库。它也特别适合本书，因为它在提供深层软件架构方面是独一无二的（甚至有一篇关于此分层API的[同行评议学术论文](https://arxiv.org/abs/2002.04688)）。在这本书中，随着我们越来越深入地研究深度学习的原理，我们也将越来越深入地研究fastai的各个层。这本书涵盖了第2版的fastai库，这是一个从零开始的重写，可以提供许多独特的功能的库。\n"
   ]
  },
  {
   "cell_type": "markdown",
   "metadata": {},
   "source": [
    "然而，你学什么软件并不重要，因为只需要几天时间就能学会从一个库切换到另一个库。真正重要的是正确学习深度学习的原理和技术。我们聚焦在使用代码尽可能清晰地表达您需要学习的概念。在我们讲授高层概念的地方，我们会使用高层fastai代码。在我们讲授底层概念的地方，我们将使用底层PyTorch甚至纯Python代码。\n",
    "\n",
    "虽然看起来新的深度学习库正在不断快速涌现，但你需要为未来几个月和几年更快的变化速度做好准备。随着越来越多的人进入这个领域，他们会带来更多的技术和想法，并且尝试更多的事情。你应该设想你今天学到的任何特定的库和软件在一两年内都会被淘汰。就想想在网络编程世界中软件库和技术栈发生的变化吧，这还是一个比深度学习更成熟、增长更缓慢的领域。我们坚信，学习的重点需要放在理解底层技术，和如何在实践中应用它们，以及如何在新工具和技术发布时快速掌握专业技能。"
   ]
  },
  {
   "cell_type": "markdown",
   "metadata": {},
   "source": [
    "在本书结束时，您将了解fastai中几乎所有的代码（以及PyTorch的大部分代码），因为在每一章中，我们都将更深入地向您展示当我们构建和训练模型时到底发生了什么。这意味着你将学会现代深度学习中最重要的最佳实践——不仅仅是如何使用它们，而是知道它们真正的工作原理和实现。如果您想在另一个技术框架中使用这些方法，您将拥有必备的知识。\n",
    "\n",
    "因为学会深度学习最重要的是写代码和做实验。你有一个好的平台来进行代码实验是很重要的。我们将在本书中使用最流行的编程实验平台--Jupyter。我们将【会】向您展示如何使用Jupyter来训练和试验模型，并反思数据预处理和模型开发流水线的每个阶段。[Jupyter Notebook](https://jupyter.org/)是最受欢迎的Python数据科学工具，正是由于它功能强大、灵活且易于使用。我们相信你会喜欢它的！ "
   ]
  },
  {
   "cell_type": "markdown",
   "metadata": {},
   "source": [
    "让我们在实践中学习它，开始训练我们的第一个模型吧。 "
   ]
  },
  {
   "cell_type": "markdown",
   "metadata": {},
   "source": [
    "## 你的第一个模型"
   ]
  },
  {
   "cell_type": "markdown",
   "metadata": {},
   "source": [
    "正如我们之前所说的，我们会先教你如何去做，然后再解释为什么这样做。按照这种自上而下的方法，我们将开始实际训练一个识别猫和狗的图像分类器，它有着近乎100%的准确率。要训练这个模型并运行我们的实验，您需要进行一些初始设置。别担心，这并不像看起来那么难。 【它没有看起那么难】"
   ]
  },
  {
   "cell_type": "markdown",
   "metadata": {},
   "source": [
    "> 西尔万：不要跳过设置部分，即使它一开始看起来很有难度，特别是如果您很少或没有使用终端或命令行的经验。实际上大部分设置工作都不是必需的，您会发现最简单的服务器只需使用您常用的Web浏览器即可设置。为了学习，与本书同步运行自己的实验是至关重要的。\n"
   ]
  },
  {
   "cell_type": "markdown",
   "metadata": {},
   "source": [
    "### 获取一个图形处理（GPU）深度学习服务器"
   ]
  },
  {
   "cell_type": "markdown",
   "metadata": {},
   "source": [
    "要完成本书中的几乎所有工作，您最好有一台配备了英伟达（NVIDIA）图形处理器（GPU）的计算机（虽然主要的深度学习库也会支持其它品牌的GPU，但在训练模型时你可能会碰到很多意想不到的问题）。但是，我们不建议您购买。事实上，即使你已经有了一个，我们也不建议你使用它！配置计算机需要耗费大量的时间和精力，你现在需要把所有的精力都集中在深度学习上。因此，我们建议您租用一台已经预装了您所需的一切随时可用的云服务器。使用费用可以低至每小时几块钱，有些选项甚至是免费的。"
   ]
  },
  {
   "cell_type": "markdown",
   "metadata": {},
   "source": [
    "> 术语：图形处理器（GPU）。也称为图形卡。计算机中的一种特殊处理器，可同时处理数千个单一任务，专为在计算机上显示3D环境玩游戏而设计。这些相同的基本任务和神经网络非常类似，因此GPU运行神经网络的速度比普通CPU快数百倍。所有新型计算机都有GPU，但很少有适合深度学习所需的GPU.\n"
   ]
  },
  {
   "cell_type": "markdown",
   "metadata": {},
   "source": [
    "由于公司和价格的变化，本书使用的最佳GPU服务器将随着时间发生变化。我们在[本书的网站](https://book.fast.ai/)上提供了推荐的选项列表。可以按照说明连接到GPU深度学习服务器。别担心，大多数平台只需要大约两分钟就可以完成设置，很多平台不需要支付任何费用，甚至不需要信用卡就可以开始使用。 \n",
    "\n",
    "> 亚历克西斯：我的两点看法：注意这个建议！如果你喜欢电脑，你会被诱惑去创建自己的工具箱。当心！这是虽然可行的，但是非常复杂和分神。这本书之所以没有被命名为 _《关于Ubuntu系统管理、NVIDIA驱动安装、apt-get、conda、pip和Jupyter Notebook配置的一切》_ 是有充分理由的。那将是另外的一本书。我在工作中设计并部署了我们的机器学习基础设施，我可以证明这有满足感，但与建模无关，就像维护一架飞机与驾驶一架飞机无关一样。\n",
    "\n",
    "网站上显示的每个选项都包括一个教程。完成相关教程后，您会看到如下图所示的页面。"
   ]
  },
  {
   "cell_type": "markdown",
   "metadata": {},
   "source": [
    "<img alt=\"Initial view of Jupyter Notebook\" width=\"658\" caption=\"Initial view of Jupyter Notebook\" id=\"notebook_init\" src=\"images/att_00057.png\">"
   ]
  },
  {
   "cell_type": "markdown",
   "metadata": {},
   "source": [
    "现在，您可以运行您的第一个Jupyter Notebook了！"
   ]
  },
  {
   "cell_type": "markdown",
   "metadata": {},
   "source": [
    "> 术语：Jupyter Notebook是一款软件，允许您在单个交互式文档中包含格式化的文本、代码、图像、视频等。由于Jupyter在学术领域和工业界的广泛应用和巨大影响，它获得了软件的最高荣誉——ACM软件系统奖。Jupyter Notebook被数据科学家广泛用于深度学习模型的开发和交互。"
   ]
  },
  {
   "cell_type": "markdown",
   "metadata": {},
   "source": [
    "### 运行你的第一个 Notebook "
   ]
  },
  {
   "cell_type": "markdown",
   "metadata": {},
   "source": [
    "Notebook按照和本书相同的章节顺序编号。因此，您将看到列出的第一个Notebook就是您现在要使用的。您将使用它来训练狗和猫图像分类模型。您会下载一个狗和猫图像的数据集，并使用它来训练模型。数据集是一组数据，它可以是图像、电子邮件、财务指标、声音或其他任何东西。有许多用来训练模型的免费数据集。这些数据集有的是由学者创建的，以帮助推进研究，有的是为了比赛而提供的（数据科学家可以通过比赛看谁拥有最准确的模型！），还有一些是其他流程的副产品（如财务文件）。"
   ]
  },
  {
   "cell_type": "markdown",
   "metadata": {},
   "source": [
    "> 注：完整版和精简版的Notebooks。两个文件夹包含Notebooks的不同版本。*完整版*包含用于创建本书的Notebooks，以及所有的练习和输出。*精简版*有相同的标题和代码单元，但去掉了输出和练习。在阅读了本书的一节后，我们建议您合上本，仔细阅读精简版Notebook，看看您是否能在执行前弄清楚每个单元将显示什么。并试着回忆代码演示的内容。\n"
   ]
  },
  {
   "cell_type": "markdown",
   "metadata": {},
   "source": [
    "点击Notebook文件，打开后如下图所示（请注意，不同平台之间的细节可能略有不同；您可以忽略这些差异）。 "
   ]
  },
  {
   "cell_type": "markdown",
   "metadata": {},
   "source": [
    "<img alt=\"An example of notebook\" width=\"700\" caption=\"A Jupyter notebook\" src=\"images/0_jupyter.png\" id=\"jupyter\"/>"
   ]
  },
  {
   "cell_type": "markdown",
   "metadata": {},
   "source": [
    "Notebook由单元组成。有两种主要类型的单元：\n",
    "- 包含格式化文本、图像等的单元。您很快就会学到，使用一种名为*Markdown*语言格式。\n",
    "- 包含可以执行的代码的单元，可以立即在下面显示输出（可以是纯文本、表格、图像、动画、声音，甚至是交互式应用）。\n",
    "\n",
    "Jupyter Notebook可以是两种模式之一：编辑模式或命令模式。在编辑模式下，在键盘上以常用方式将字母输入到单元中。但是在命令模式下，你不会看到任何闪烁的光标，键盘上的每个键对应特定功能。\n",
    "\n",
    "在继续之前，请按键盘上的Esc键切换到命令模式（如果您已经处于命令模式，则不会执行任何操作，因此为了以防万一现在按Esc键）。要查看的完整功能列表，请按 H 键，按Esc可以退出帮助界面。请注意，与大多数程序不同的是，在命令模式下，执行命令不需要您按住Control、Alt或类似的键，您只要按下所需的字母键即可。 \n",
    "\n",
    "您可以通过按 C 键复制单元（需要先选择单元，用环绕的边框来表示；如果尚未选中，请单击）。然后按V键粘贴它的副本。 "
   ]
  },
  {
   "cell_type": "markdown",
   "metadata": {},
   "source": [
    "单击并选中以“# CLICK ME”行开头的单元。该行第一个字符表示后面的内容是Python代码的注释，因此在执行单元时将省略它。信不信由你，其余部分是一个创建和训练最先进的识别猫或狗模型的完整系统。所以，让我们现在就开始训练吧！为此，只需按键盘上的Shift-Enter组合键，或单击工具栏上的Play按钮，然后等待几分钟，会发生以下事项：\n",
    "\n",
    "1. 一个包含37个品种猫和狗的7349张图像，名为[牛津-IIIT宠物数据集](http://www.robots.ox.ac.uk/~vgg/data/pets/)将从fast.ai数据集集合下载到您正在使用的GPU服务器，然后将被提取。\n",
    "2. 从互联网上下载一个*预训练的模型*，该模型已经用竞赛获奖模型对130万张图像进行了训练。\n",
    "3. 预训练模型将使用最新的迁移学习进行*微调*，来创建一个专门为识别狗和猫而定制的模型。\n",
    "\n",
    "\n",
    "前两个步骤只在GPU服务器上执行一次。如果您再次运行该单元，它将使用已经下载的数据集和模型，而不需要重复下载。让我们来看看单元的内容和模型训练的输出结果： "
   ]
  },
  {
   "cell_type": "code",
   "execution_count": 3,
   "metadata": {},
   "outputs": [
    {
     "data": {
      "text/html": [
       "\n",
       "<style>\n",
       "    /* Turns off some styling */\n",
       "    progress {\n",
       "        /* gets rid of default border in Firefox and Opera. */\n",
       "        border: none;\n",
       "        /* Needs to be in here for Safari polyfill so background images work as expected. */\n",
       "        background-size: auto;\n",
       "    }\n",
       "    progress:not([value]), progress:not([value])::-webkit-progress-bar {\n",
       "        background: repeating-linear-gradient(45deg, #7e7e7e, #7e7e7e 10px, #5c5c5c 10px, #5c5c5c 20px);\n",
       "    }\n",
       "    .progress-bar-interrupted, .progress-bar-interrupted::-webkit-progress-bar {\n",
       "        background: #F44336;\n",
       "    }\n",
       "</style>\n"
      ],
      "text/plain": [
       "<IPython.core.display.HTML object>"
      ]
     },
     "metadata": {},
     "output_type": "display_data"
    },
    {
     "data": {
      "text/html": [
       "<table border=\"1\" class=\"dataframe\">\n",
       "  <thead>\n",
       "    <tr style=\"text-align: left;\">\n",
       "      <th>epoch</th>\n",
       "      <th>train_loss</th>\n",
       "      <th>valid_loss</th>\n",
       "      <th>error_rate</th>\n",
       "      <th>time</th>\n",
       "    </tr>\n",
       "  </thead>\n",
       "  <tbody>\n",
       "    <tr>\n",
       "      <td>0</td>\n",
       "      <td>0.158505</td>\n",
       "      <td>0.021897</td>\n",
       "      <td>0.004736</td>\n",
       "      <td>01:54</td>\n",
       "    </tr>\n",
       "  </tbody>\n",
       "</table>"
      ],
      "text/plain": [
       "<IPython.core.display.HTML object>"
      ]
     },
     "metadata": {},
     "output_type": "display_data"
    },
    {
     "data": {
      "text/html": [
       "\n",
       "<style>\n",
       "    /* Turns off some styling */\n",
       "    progress {\n",
       "        /* gets rid of default border in Firefox and Opera. */\n",
       "        border: none;\n",
       "        /* Needs to be in here for Safari polyfill so background images work as expected. */\n",
       "        background-size: auto;\n",
       "    }\n",
       "    progress:not([value]), progress:not([value])::-webkit-progress-bar {\n",
       "        background: repeating-linear-gradient(45deg, #7e7e7e, #7e7e7e 10px, #5c5c5c 10px, #5c5c5c 20px);\n",
       "    }\n",
       "    .progress-bar-interrupted, .progress-bar-interrupted::-webkit-progress-bar {\n",
       "        background: #F44336;\n",
       "    }\n",
       "</style>\n"
      ],
      "text/plain": [
       "<IPython.core.display.HTML object>"
      ]
     },
     "metadata": {},
     "output_type": "display_data"
    },
    {
     "data": {
      "text/html": [
       "<table border=\"1\" class=\"dataframe\">\n",
       "  <thead>\n",
       "    <tr style=\"text-align: left;\">\n",
       "      <th>epoch</th>\n",
       "      <th>train_loss</th>\n",
       "      <th>valid_loss</th>\n",
       "      <th>error_rate</th>\n",
       "      <th>time</th>\n",
       "    </tr>\n",
       "  </thead>\n",
       "  <tbody>\n",
       "    <tr>\n",
       "      <td>0</td>\n",
       "      <td>0.084709</td>\n",
       "      <td>0.015119</td>\n",
       "      <td>0.006089</td>\n",
       "      <td>00:16</td>\n",
       "    </tr>\n",
       "  </tbody>\n",
       "</table>"
      ],
      "text/plain": [
       "<IPython.core.display.HTML object>"
      ]
     },
     "metadata": {},
     "output_type": "display_data"
    }
   ],
   "source": [
    "#id first_training\n",
    "#caption Results from the first training\n",
    "# CLICK ME\n",
    "from fastai.vision.all import *\n",
    "path = untar_data(URLs.PETS)/'images'\n",
    "\n",
    "def is_cat(x): return x[0].isupper()\n",
    "dls = ImageDataLoaders.from_name_func(\n",
    "    path, get_image_files(path), valid_pct=0.2, seed=42,\n",
    "    label_func=is_cat, item_tfms=Resize(224))\n",
    "\n",
    "learn = vision_learner(dls, resnet34, metrics=error_rate)\n",
    "learn.fine_tune(1)"
   ]
  },
  {
   "cell_type": "markdown",
   "metadata": {},
   "source": [
    "您看到的结果不一定跟此处显示的完全相同。在训练模型中存在许多小的随机变化。在这个例子中，我们的误差率一般会远小于0.02。 "
   ]
  },
  {
   "cell_type": "markdown",
   "metadata": {},
   "source": [
    "> 名词解释：训练时间。根据您的网络速度，下载预训练模型和数据集可能需要几分钟时间。`微调`可能也需要一分钟左右的时间。通常训练本书中的模型或你自己的模型需要几分钟的时间。当你训练模型时，为了充分利用这段时间，您可以继续阅读下一节，或者打开另一个notebook做编码实验。\n"
   ]
  },
  {
   "cell_type": "markdown",
   "metadata": {},
   "source": [
    "### 补充内容：这本书是用Jupyter Notebook编写的"
   ]
  },
  {
   "cell_type": "markdown",
   "metadata": {},
   "source": [
    "我们用Jupyter Notebook编写了这本书，所以本书中几乎每个图、表与公式计算我们都会向您展示可运行的代码，以便于您可以亲自复现。这就是为什么在本书中，您经常会看到一些代码后面会紧跟着表格、图片或文本。如果去本书的[官网](https://book.fast.ai)，您将找到所有代码，并且可以尝试自己运行和修改每个示例。"
   ]
  },
  {
   "cell_type": "markdown",
   "metadata": {},
   "source": [
    "您刚才看到了单元如何输出书中的表格。下面是一个输出文本的单元示例："
   ]
  },
  {
   "cell_type": "code",
   "execution_count": 4,
   "metadata": {},
   "outputs": [
    {
     "data": {
      "text/plain": [
       "2"
      ]
     },
     "execution_count": 4,
     "metadata": {},
     "output_type": "execute_result"
    }
   ],
   "source": [
    "1+1"
   ]
  },
  {
   "cell_type": "markdown",
   "metadata": {},
   "source": [
    "Jupyter 始终打印或显示最后一行的结果（如果有的话）。例如，下面是一个输出图像的单元示例："
   ]
  },
  {
   "cell_type": "code",
   "execution_count": 5,
   "metadata": {},
   "outputs": [
    {
     "data": {
      "image/png": "[encoded data removed]",
      "text/plain": [
       "<PIL.Image.Image image mode=RGB size=151x192>"
      ]
     },
     "execution_count": 5,
     "metadata": {},
     "output_type": "execute_result"
    }
   ],
   "source": [
    "img = PILImage.create(image_cat())\n",
    "img.to_thumb(192)"
   ]
  },
  {
   "cell_type": "markdown",
   "metadata": {},
   "source": [
    "### 补充内容结束"
   ]
  },
  {
   "cell_type": "markdown",
   "metadata": {},
   "source": [
    "那么，我们怎么知道这个模型好不好呢？在表的最后一列中，您可以看到错误率，即被错误识别的图像比例。错误率作为我们对模型质量的衡量标准是直观的和可理解的。正如你所看到的，这个模型几乎是完美的，而且训练时间只有几秒钟（不包括下载数据集和预训练模型）。事实上，您的准确率比10年前任何人都要好得多！\n",
    "\n",
    "最后，让我们检查一下这个模型是否真的有效。去拍一张狗或猫的照片。如果身边没有，可以搜索谷歌图片并下载下来。现在执行定义好的上传代码模块。它会输出一个可以点击的按钮 `uploader`，这样就可以选择您想要分类的图像：\n"
   ]
  },
  {
   "cell_type": "code",
   "execution_count": 6,
   "metadata": {},
   "outputs": [
    {
     "data": {
      "application/vnd.jupyter.widget-view+json": {
       "model_id": "106e468ab1944b1885235780275ec2e0",
       "version_major": 2,
       "version_minor": 0
      },
      "text/plain": [
       "FileUpload(value={}, description='Upload')"
      ]
     },
     "metadata": {},
     "output_type": "display_data"
    }
   ],
   "source": [
    "#hide_output\n",
    "uploader = widgets.FileUpload()\n",
    "uploader"
   ]
  },
  {
   "cell_type": "markdown",
   "metadata": {},
   "source": [
    "<img alt=\"An upload button\" width=\"159\" id=\"upload\" src=\"images/att_00008.png\">"
   ]
  },
  {
   "cell_type": "markdown",
   "metadata": {},
   "source": [
    "现在，您可以把上传的文件给模型。确保它是一只狗或一只猫的清晰照片，而不是线条、卡通或类似的东西。Notebook会告诉您它认为这是一只狗还是一只猫，以及准确率是多少。希望您觉得您的模型做得很棒："
   ]
  },
  {
   "cell_type": "code",
   "execution_count": 9,
   "metadata": {
    "hide_input": false
   },
   "outputs": [],
   "source": [
    "#hide\n",
    "# For the book, we can't actually click an upload button, so we fake it\n",
    "uploader = SimpleNamespace(data = ['images/chapter1_cat_example.jpg'])"
   ]
  },
  {
   "cell_type": "code",
   "execution_count": 10,
   "metadata": {},
   "outputs": [
    {
     "data": {
      "text/html": [
       "\n",
       "<style>\n",
       "    /* Turns off some styling */\n",
       "    progress {\n",
       "        /* gets rid of default border in Firefox and Opera. */\n",
       "        border: none;\n",
       "        /* Needs to be in here for Safari polyfill so background images work as expected. */\n",
       "        background-size: auto;\n",
       "    }\n",
       "    progress:not([value]), progress:not([value])::-webkit-progress-bar {\n",
       "        background: repeating-linear-gradient(45deg, #7e7e7e, #7e7e7e 10px, #5c5c5c 10px, #5c5c5c 20px);\n",
       "    }\n",
       "    .progress-bar-interrupted, .progress-bar-interrupted::-webkit-progress-bar {\n",
       "        background: #F44336;\n",
       "    }\n",
       "</style>\n"
      ],
      "text/plain": [
       "<IPython.core.display.HTML object>"
      ]
     },
     "metadata": {},
     "output_type": "display_data"
    },
    {
     "data": {
      "text/html": [],
      "text/plain": [
       "<IPython.core.display.HTML object>"
      ]
     },
     "metadata": {},
     "output_type": "display_data"
    },
    {
     "name": "stdout",
     "output_type": "stream",
     "text": [
      "Is this a cat?: True.\n",
      "Probability it's a cat: 1.000000\n"
     ]
    }
   ],
   "source": [
    "img = PILImage.create(uploader.data[0])\n",
    "is_cat,_,probs = learn.predict(img)\n",
    "print(f\"Is this a cat?: {is_cat}.\")\n",
    "print(f\"Probability it's a cat: {probs[1].item():.6f}\")"
   ]
  },
  {
   "cell_type": "markdown",
   "metadata": {},
   "source": [
    "恭喜您得到第一个分类器！\n",
    "\n",
    "但这意味着什么呢？您到底做了些什么工作呢？为了解释这一点，让我们把视野放大, 从全局来看看。\n"
   ]
  },
  {
   "cell_type": "markdown",
   "metadata": {},
   "source": [
    "### 什么是机器学习"
   ]
  },
  {
   "cell_type": "markdown",
   "metadata": {},
   "source": [
    "您的分类器是一个深度学习模型。正如之前提到过的，深度学习模型使用神经网络，神经网络起源于20世纪50年代，得益于最近的发展，开始变得非常强大。\n",
    "\n",
    "另一个关键的背景是，深度学习只是机器学习这一更广泛学科中的一个现代领域。在理解训练自己的分类模型本质时，其实并不需要理解深度学习。一般来说，看看你的模型和训练过程是如何应用机器学习概念的例子就足够了。\n",
    "\n",
    "所以在这一部分，我们将描述什么是机器学习。我们会探索关键的概念，并追溯介绍它们的原始论文。\n",
    "\n",
    "机器学习和常规程序一样，是一种让计算机完成特定任务的方法。但是，我们如何使用常规编程来完成我们在上一节中所做的事情：识别照片中的狗和猫？我们必须为计算机写下完成任务所需的确切步骤。\n",
    "\n",
    "通常，当我们编写程序时，写下完成任务的步骤对我们来说很容易。只需思考我们手工完成任务的步骤，然后将其转换为代码。例如，我们写一个对列表进行排序的功能。通常，我们会编写一个如下图<<basic_program>>所示流程的功能（其中输入可能是未排序的列表，而结果是排序后的列表）。"
   ]
  },
  {
   "cell_type": "code",
   "execution_count": 12,
   "metadata": {
    "hide_input": false
   },
   "outputs": [
    {
     "data": {
      "image/svg+xml": [
       "<?xml version=\"1.0\" encoding=\"UTF-8\" standalone=\"no\"?>\n",
       "<!DOCTYPE svg PUBLIC \"-//W3C//DTD SVG 1.1//EN\"\n",
       " \"http://www.w3.org/Graphics/SVG/1.1/DTD/svg11.dtd\">\n",
       "<!-- Generated by graphviz version 2.43.0 (0)\n",
       " -->\n",
       "<!-- Title: G Pages: 1 -->\n",
       "<svg width=\"269pt\" height=\"58pt\"\n",
       " viewBox=\"0.00 0.00 268.99 58.00\" xmlns=\"http://www.w3.org/2000/svg\" xmlns:xlink=\"http://www.w3.org/1999/xlink\">\n",
       "<g id=\"graph0\" class=\"graph\" transform=\"scale(1 1) rotate(0) translate(4 54)\">\n",
       "<title>G</title>\n",
       "<polygon fill=\"white\" stroke=\"transparent\" points=\"-4,4 -4,-54 264.99,-54 264.99,4 -4,4\"/>\n",
       "<!-- 程序 -->\n",
       "<g id=\"node1\" class=\"node\">\n",
       "<title>程序</title>\n",
       "<polygon fill=\"none\" stroke=\"black\" points=\"166.49,-50 98.49,-50 94.49,-46 94.49,0 162.49,0 166.49,-4 166.49,-50\"/>\n",
       "<polyline fill=\"none\" stroke=\"black\" points=\"162.49,-46 94.49,-46 \"/>\n",
       "<polyline fill=\"none\" stroke=\"black\" points=\"162.49,-46 162.49,0 \"/>\n",
       "<polyline fill=\"none\" stroke=\"black\" points=\"162.49,-46 166.49,-50 \"/>\n",
       "<text text-anchor=\"middle\" x=\"130.49\" y=\"-21.3\" font-family=\"Times,serif\" font-size=\"14.00\">程序</text>\n",
       "</g>\n",
       "<!-- 结果 -->\n",
       "<g id=\"node3\" class=\"node\">\n",
       "<title>结果</title>\n",
       "<ellipse fill=\"none\" stroke=\"black\" cx=\"231.74\" cy=\"-25\" rx=\"29.5\" ry=\"18\"/>\n",
       "<text text-anchor=\"middle\" x=\"231.74\" y=\"-21.3\" font-family=\"Times,serif\" font-size=\"14.00\">结果</text>\n",
       "</g>\n",
       "<!-- 程序&#45;&gt;结果 -->\n",
       "<g id=\"edge2\" class=\"edge\">\n",
       "<title>程序&#45;&gt;结果</title>\n",
       "<path fill=\"none\" stroke=\"black\" d=\"M166.77,-25C175.08,-25 183.99,-25 192.44,-25\"/>\n",
       "<polygon fill=\"black\" stroke=\"black\" points=\"192.44,-28.5 202.44,-25 192.44,-21.5 192.44,-28.5\"/>\n",
       "</g>\n",
       "<!-- 输入 -->\n",
       "<g id=\"node2\" class=\"node\">\n",
       "<title>输入</title>\n",
       "<ellipse fill=\"none\" stroke=\"black\" cx=\"29.25\" cy=\"-25\" rx=\"29.5\" ry=\"18\"/>\n",
       "<text text-anchor=\"middle\" x=\"29.25\" y=\"-21.3\" font-family=\"Times,serif\" font-size=\"14.00\">输入</text>\n",
       "</g>\n",
       "<!-- 输入&#45;&gt;程序 -->\n",
       "<g id=\"edge1\" class=\"edge\">\n",
       "<title>输入&#45;&gt;程序</title>\n",
       "<path fill=\"none\" stroke=\"black\" d=\"M58.69,-25C66.67,-25 75.56,-25 84.27,-25\"/>\n",
       "<polygon fill=\"black\" stroke=\"black\" points=\"84.34,-28.5 94.34,-25 84.34,-21.5 84.34,-28.5\"/>\n",
       "</g>\n",
       "</g>\n",
       "</svg>\n"
      ],
      "text/plain": [
       "<graphviz.sources.Source at 0x7f94e6e1d510>"
      ]
     },
     "execution_count": 12,
     "metadata": {},
     "output_type": "execute_result"
    }
   ],
   "source": [
    "#hide_input\n",
    "#caption A traditional program\n",
    "#id basic_program\n",
    "#alt Pipeline inputs, program, results\n",
    "gv('''程序[shape=box3d width=1 height=0.7]  输入->程序->结果''')"
   ]
  },
  {
   "cell_type": "markdown",
   "metadata": {},
   "source": [
    "但对于识别照片中的物体来说，这有点棘手。当我们识别图片中的物体时，将会采取什么步骤？我们真的不知道，因为这一切都发生在我们的大脑中，而我们没有意识到它。\n",
    "\n",
    "早在1949年计算机刚刚诞生的时候，一位名叫亚瑟·塞缪尔的IBM研究员就开始研究让计算机完成任务的不同方法，他称之为机器学习。在他1962年的经典论文《人工智能：自动化前沿》中，他写道： "
   ]
  },
  {
   "cell_type": "markdown",
   "metadata": {},
   "source": [
    "> 为这样的计算编写计算机程序是一项困难的任务，不仅仅因为计算机自身内在的复杂性，而是因为需要以令人恼火的细节详细说明该过程的每一个细小步骤。正像任何程序员都会告诉你的那样，计算机是巨大的白痴，而不是巨大的大脑。"
   ]
  },
  {
   "cell_type": "markdown",
   "metadata": {},
   "source": [
    "他的基本想法是这样的：不是告诉计算机解决问题所需的确切步骤，而是向它展示所解决问题的例子，让它弄清楚如何自己去解决问题。这被证明是非常有效的：到1961年，他的跳棋程序通过这种学习击败了康涅狄格州的冠军！下面是他的思路（同样出自前面提到的文章）："
   ]
  },
  {
   "cell_type": "markdown",
   "metadata": {},
   "source": [
    "> 假设我们采用了一些自动化方式，可以根据实际性能来测试当前权重分配的有效性，并提供一种变更权重分配的机制，以使性能最大化。我们不需要深入这种程序的细节，就可以看到它能够完全自动化，也可以看到这样编程的机器会从它的经验中“学习”。"
   ]
  },
  {
   "cell_type": "markdown",
   "metadata": {},
   "source": [
    "在这个简短的声明中包含了许多强有力的概念：\n",
    "- “权重分配”的概念\n",
    "- 事实上，每个权重分配都有一些“实际性能”\n",
    "- 要求有一种测试该性能的“自动化方式”\n",
    "- 需要通过更改权重分配来优化性能的“机制”（即另一种自动化程序）\n",
    "\n",
    "让我们逐一了解这些概念，以便了解它们在实践中是如何组合在一起的。首先，我们需要理解塞缪尔所说的权重分配是什么意思。\n",
    "\n",
    "权重就是变量，权重分配就是为这些变量选择特定的值。程序的输入值是为了产生处理结果——例如，将图像像素作为输入，会返回分类“狗”作为结果。程序的权重分配是定义程序如何运行的其他值。\n",
    "\n",
    "因为它们会影响程序，它们在某种意义上是另一种输入。考虑到这一点，我们将图<<basic_program>>替换为图<<weight_assignment>>。\n"
   ]
  },
  {
   "cell_type": "code",
   "execution_count": 13,
   "metadata": {
    "hide_input": true
   },
   "outputs": [
    {
     "data": {
      "image/svg+xml": [
       "<?xml version=\"1.0\" encoding=\"UTF-8\" standalone=\"no\"?>\n",
       "<!DOCTYPE svg PUBLIC \"-//W3C//DTD SVG 1.1//EN\"\n",
       " \"http://www.w3.org/Graphics/SVG/1.1/DTD/svg11.dtd\">\n",
       "<!-- Generated by graphviz version 2.43.0 (0)\n",
       " -->\n",
       "<!-- Title: G Pages: 1 -->\n",
       "<svg width=\"269pt\" height=\"98pt\"\n",
       " viewBox=\"0.00 0.00 268.99 98.00\" xmlns=\"http://www.w3.org/2000/svg\" xmlns:xlink=\"http://www.w3.org/1999/xlink\">\n",
       "<g id=\"graph0\" class=\"graph\" transform=\"scale(1 1) rotate(0) translate(4 94)\">\n",
       "<title>G</title>\n",
       "<polygon fill=\"white\" stroke=\"transparent\" points=\"-4,4 -4,-94 264.99,-94 264.99,4 -4,4\"/>\n",
       "<!-- 模型 -->\n",
       "<g id=\"node1\" class=\"node\">\n",
       "<title>模型</title>\n",
       "<polygon fill=\"none\" stroke=\"black\" points=\"166.49,-70 98.49,-70 94.49,-66 94.49,-20 162.49,-20 166.49,-24 166.49,-70\"/>\n",
       "<polyline fill=\"none\" stroke=\"black\" points=\"162.49,-66 94.49,-66 \"/>\n",
       "<polyline fill=\"none\" stroke=\"black\" points=\"162.49,-66 162.49,-20 \"/>\n",
       "<polyline fill=\"none\" stroke=\"black\" points=\"162.49,-66 166.49,-70 \"/>\n",
       "<text text-anchor=\"middle\" x=\"130.49\" y=\"-41.3\" font-family=\"Times,serif\" font-size=\"14.00\">模型</text>\n",
       "</g>\n",
       "<!-- 结果 -->\n",
       "<g id=\"node3\" class=\"node\">\n",
       "<title>结果</title>\n",
       "<ellipse fill=\"none\" stroke=\"black\" cx=\"231.74\" cy=\"-45\" rx=\"29.5\" ry=\"18\"/>\n",
       "<text text-anchor=\"middle\" x=\"231.74\" y=\"-41.3\" font-family=\"Times,serif\" font-size=\"14.00\">结果</text>\n",
       "</g>\n",
       "<!-- 模型&#45;&gt;结果 -->\n",
       "<g id=\"edge2\" class=\"edge\">\n",
       "<title>模型&#45;&gt;结果</title>\n",
       "<path fill=\"none\" stroke=\"black\" d=\"M166.77,-45C175.08,-45 183.99,-45 192.44,-45\"/>\n",
       "<polygon fill=\"black\" stroke=\"black\" points=\"192.44,-48.5 202.44,-45 192.44,-41.5 192.44,-48.5\"/>\n",
       "</g>\n",
       "<!-- 输入 -->\n",
       "<g id=\"node2\" class=\"node\">\n",
       "<title>输入</title>\n",
       "<ellipse fill=\"none\" stroke=\"black\" cx=\"29.25\" cy=\"-72\" rx=\"29.5\" ry=\"18\"/>\n",
       "<text text-anchor=\"middle\" x=\"29.25\" y=\"-68.3\" font-family=\"Times,serif\" font-size=\"14.00\">输入</text>\n",
       "</g>\n",
       "<!-- 输入&#45;&gt;模型 -->\n",
       "<g id=\"edge1\" class=\"edge\">\n",
       "<title>输入&#45;&gt;模型</title>\n",
       "<path fill=\"none\" stroke=\"black\" d=\"M56.32,-64.91C64.93,-62.56 74.78,-59.89 84.39,-57.27\"/>\n",
       "<polygon fill=\"black\" stroke=\"black\" points=\"85.53,-60.59 94.26,-54.58 83.7,-53.83 85.53,-60.59\"/>\n",
       "</g>\n",
       "<!-- 权重 -->\n",
       "<g id=\"node4\" class=\"node\">\n",
       "<title>权重</title>\n",
       "<ellipse fill=\"none\" stroke=\"black\" cx=\"29.25\" cy=\"-18\" rx=\"29.5\" ry=\"18\"/>\n",
       "<text text-anchor=\"middle\" x=\"29.25\" y=\"-14.3\" font-family=\"Times,serif\" font-size=\"14.00\">权重</text>\n",
       "</g>\n",
       "<!-- 权重&#45;&gt;模型 -->\n",
       "<g id=\"edge3\" class=\"edge\">\n",
       "<title>权重&#45;&gt;模型</title>\n",
       "<path fill=\"none\" stroke=\"black\" d=\"M56.32,-25.09C64.93,-27.44 74.78,-30.11 84.39,-32.73\"/>\n",
       "<polygon fill=\"black\" stroke=\"black\" points=\"83.7,-36.17 94.26,-35.42 85.53,-29.41 83.7,-36.17\"/>\n",
       "</g>\n",
       "</g>\n",
       "</svg>\n"
      ],
      "text/plain": [
       "<graphviz.sources.Source at 0x7f94e6e3e020>"
      ]
     },
     "execution_count": 13,
     "metadata": {},
     "output_type": "execute_result"
    }
   ],
   "source": [
    "#hide_input\n",
    "#caption A program using weight assignment\n",
    "#id weight_assignment\n",
    "gv('''模型[shape=box3d width=1 height=0.7]\n",
    "输入->模型->结果; 权重->模型''')"
   ]
  },
  {
   "cell_type": "markdown",
   "metadata": {},
   "source": [
    "我们已将方框的名称从“程序”更改为“模型”。这是为了遵循现代术语，并且可以反映出模型是一种特殊的程序：根据权重，它可以完成许多不同的事情。这可以通过许多不同的方式来实现。例如，在塞缪尔的跳棋程序中，不同的权重值将产生不同玩跳棋的策略。\n",
    "\n",
    "（为防止您遇到这个专有名词，顺便提一下，塞缪尔所说的“权重”现在通常被称为模型*参数*。而*权重*是为特定类型的模型参数保留的。）\n",
    "\n",
    "接下来，塞缪尔说*我们需要一种自动化方法来根据实际性能测试当前权重分配的有效性*。以他的跳棋程序为例，模型的“实际性能”将是它玩得有多好。你可以通过让两个模型互为对手，看哪一个赢得多，来自动测试两个模型的性能。\n",
    "\n",
    "最后，他说，我们需要*一种能够调整权重分配以便取得最好性能的机制*。例如，我们可以查看获胜模型和失败模型之间的权重差异，并朝着获胜的方向逐步调整权重。\n",
    "\n",
    "我们现在可以明白*为什么他说这种程序可以完全自动化，而且……这样编程的机器会从它的经验中“学习”*。当权重的调整也是自动化的时候，学习将变得完全自动化 —— 当我们不是通过手动调整权重来改进模型，而是依赖于基于性能进行调整的自动化机制时。\n",
    "\n",
    "下图<<training_loop>>展示了塞缪尔训练机器学习模型想法的全貌。 "
   ]
  },
  {
   "cell_type": "code",
   "execution_count": 14,
   "metadata": {
    "hide_input": true
   },
   "outputs": [
    {
     "data": {
      "image/svg+xml": [
       "<?xml version=\"1.0\" encoding=\"UTF-8\" standalone=\"no\"?>\n",
       "<!DOCTYPE svg PUBLIC \"-//W3C//DTD SVG 1.1//EN\"\n",
       " \"http://www.w3.org/Graphics/SVG/1.1/DTD/svg11.dtd\">\n",
       "<!-- Generated by graphviz version 2.43.0 (0)\n",
       " -->\n",
       "<!-- Title: G Pages: 1 -->\n",
       "<svg width=\"394pt\" height=\"98pt\"\n",
       " viewBox=\"0.00 0.00 394.48 98.00\" xmlns=\"http://www.w3.org/2000/svg\" xmlns:xlink=\"http://www.w3.org/1999/xlink\">\n",
       "<g id=\"graph0\" class=\"graph\" transform=\"scale(1 1) rotate(0) translate(4 94)\">\n",
       "<title>G</title>\n",
       "<polygon fill=\"white\" stroke=\"transparent\" points=\"-4,4 -4,-94 390.48,-94 390.48,4 -4,4\"/>\n",
       "<!-- 模型 -->\n",
       "<g id=\"node1\" class=\"node\">\n",
       "<title>模型</title>\n",
       "<polygon fill=\"none\" stroke=\"black\" points=\"167.49,-77 99.49,-77 95.49,-73 95.49,-27 163.49,-27 167.49,-31 167.49,-77\"/>\n",
       "<polyline fill=\"none\" stroke=\"black\" points=\"163.49,-73 95.49,-73 \"/>\n",
       "<polyline fill=\"none\" stroke=\"black\" points=\"163.49,-73 163.49,-27 \"/>\n",
       "<polyline fill=\"none\" stroke=\"black\" points=\"163.49,-73 167.49,-77 \"/>\n",
       "<text text-anchor=\"middle\" x=\"131.49\" y=\"-48.3\" font-family=\"Times,serif\" font-size=\"14.00\">模型</text>\n",
       "</g>\n",
       "<!-- 结果 -->\n",
       "<g id=\"node3\" class=\"node\">\n",
       "<title>结果</title>\n",
       "<ellipse fill=\"none\" stroke=\"black\" cx=\"261.74\" cy=\"-52\" rx=\"29.5\" ry=\"18\"/>\n",
       "<text text-anchor=\"middle\" x=\"261.74\" y=\"-48.3\" font-family=\"Times,serif\" font-size=\"14.00\">结果</text>\n",
       "</g>\n",
       "<!-- 模型&#45;&gt;结果 -->\n",
       "<g id=\"edge2\" class=\"edge\">\n",
       "<title>模型&#45;&gt;结果</title>\n",
       "<path fill=\"none\" stroke=\"black\" d=\"M167.54,-52C184.37,-52 204.59,-52 221.88,-52\"/>\n",
       "<polygon fill=\"black\" stroke=\"black\" points=\"222.22,-55.5 232.22,-52 222.22,-48.5 222.22,-55.5\"/>\n",
       "</g>\n",
       "<!-- 输入 -->\n",
       "<g id=\"node2\" class=\"node\">\n",
       "<title>输入</title>\n",
       "<ellipse fill=\"none\" stroke=\"black\" cx=\"29.25\" cy=\"-72\" rx=\"29.5\" ry=\"18\"/>\n",
       "<text text-anchor=\"middle\" x=\"29.25\" y=\"-68.3\" font-family=\"Times,serif\" font-size=\"14.00\">输入</text>\n",
       "</g>\n",
       "<!-- 输入&#45;&gt;模型 -->\n",
       "<g id=\"edge1\" class=\"edge\">\n",
       "<title>输入&#45;&gt;模型</title>\n",
       "<path fill=\"none\" stroke=\"black\" d=\"M57.38,-66.59C66.07,-64.85 75.94,-62.88 85.56,-60.97\"/>\n",
       "<polygon fill=\"black\" stroke=\"black\" points=\"86.3,-64.39 95.42,-59 84.93,-57.52 86.3,-64.39\"/>\n",
       "</g>\n",
       "<!-- 性能 -->\n",
       "<g id=\"node5\" class=\"node\">\n",
       "<title>性能</title>\n",
       "<ellipse fill=\"none\" stroke=\"black\" cx=\"357.24\" cy=\"-52\" rx=\"29.5\" ry=\"18\"/>\n",
       "<text text-anchor=\"middle\" x=\"357.24\" y=\"-48.3\" font-family=\"Times,serif\" font-size=\"14.00\">性能</text>\n",
       "</g>\n",
       "<!-- 结果&#45;&gt;性能 -->\n",
       "<g id=\"edge4\" class=\"edge\">\n",
       "<title>结果&#45;&gt;性能</title>\n",
       "<path fill=\"none\" stroke=\"black\" d=\"M291.05,-52C299.39,-52 308.67,-52 317.55,-52\"/>\n",
       "<polygon fill=\"black\" stroke=\"black\" points=\"317.71,-55.5 327.71,-52 317.71,-48.5 317.71,-55.5\"/>\n",
       "</g>\n",
       "<!-- 权重 -->\n",
       "<g id=\"node4\" class=\"node\">\n",
       "<title>权重</title>\n",
       "<ellipse fill=\"none\" stroke=\"black\" cx=\"29.25\" cy=\"-18\" rx=\"29.5\" ry=\"18\"/>\n",
       "<text text-anchor=\"middle\" x=\"29.25\" y=\"-14.3\" font-family=\"Times,serif\" font-size=\"14.00\">权重</text>\n",
       "</g>\n",
       "<!-- 权重&#45;&gt;模型 -->\n",
       "<g id=\"edge3\" class=\"edge\">\n",
       "<title>权重&#45;&gt;模型</title>\n",
       "<path fill=\"none\" stroke=\"black\" d=\"M55.29,-26.49C64.43,-29.59 75.07,-33.2 85.42,-36.71\"/>\n",
       "<polygon fill=\"black\" stroke=\"black\" points=\"84.6,-40.13 95.2,-40.03 86.85,-33.5 84.6,-40.13\"/>\n",
       "</g>\n",
       "<!-- 性能&#45;&gt;权重 -->\n",
       "<g id=\"edge5\" class=\"edge\">\n",
       "<title>性能&#45;&gt;权重</title>\n",
       "<path fill=\"none\" stroke=\"black\" d=\"M334.2,-40.71C321.84,-34.93 305.93,-28.41 290.99,-25 213.55,-7.32 119.81,-10.58 68.47,-14.39\"/>\n",
       "<polygon fill=\"black\" stroke=\"black\" points=\"68.18,-10.9 58.48,-15.18 68.73,-17.88 68.18,-10.9\"/>\n",
       "<text text-anchor=\"middle\" x=\"199.99\" y=\"-17.8\" font-family=\"Times,serif\" font-size=\"14.00\">更新</text>\n",
       "</g>\n",
       "</g>\n",
       "</svg>\n"
      ],
      "text/plain": [
       "<graphviz.sources.Source at 0x7f94e6e1c5b0>"
      ]
     },
     "execution_count": 14,
     "metadata": {},
     "output_type": "execute_result"
    }
   ],
   "source": [
    "#hide_input\n",
    "#caption Training a machine learning model\n",
    "#id training_loop\n",
    "#alt The basic training loop\n",
    "gv('''ordering=in\n",
    "模型[shape=box3d width=1 height=0.7]\n",
    "输入->模型->结果; 权重->模型; 结果->性能\n",
    "性能->权重[constraint=false label=更新]''')"
   ]
  },
  {
   "cell_type": "markdown",
   "metadata": {},
   "source": [
    "注意模型的结果（例如，跳棋游戏中的走法）与其性能（例如，它是否赢得游戏，或者它赢得有多快）之间的区别。\n",
    "\n",
    "还要注意的是，一旦模型被训练 —— 即，一旦我们选择了最终的、最好的、最喜欢的权重分配，那么我们就可以将权重视为模型的一部分，因为我们不会再变更它们了。\n",
    "\n",
    "因此，实际使用一个经过训练的模型，看起来如下图<<using_model>>所示.\n"
   ]
  },
  {
   "cell_type": "code",
   "execution_count": 15,
   "metadata": {
    "hide_input": true
   },
   "outputs": [
    {
     "data": {
      "image/svg+xml": [
       "<?xml version=\"1.0\" encoding=\"UTF-8\" standalone=\"no\"?>\n",
       "<!DOCTYPE svg PUBLIC \"-//W3C//DTD SVG 1.1//EN\"\n",
       " \"http://www.w3.org/Graphics/SVG/1.1/DTD/svg11.dtd\">\n",
       "<!-- Generated by graphviz version 2.43.0 (0)\n",
       " -->\n",
       "<!-- Title: G Pages: 1 -->\n",
       "<svg width=\"269pt\" height=\"58pt\"\n",
       " viewBox=\"0.00 0.00 268.99 58.00\" xmlns=\"http://www.w3.org/2000/svg\" xmlns:xlink=\"http://www.w3.org/1999/xlink\">\n",
       "<g id=\"graph0\" class=\"graph\" transform=\"scale(1 1) rotate(0) translate(4 54)\">\n",
       "<title>G</title>\n",
       "<polygon fill=\"white\" stroke=\"transparent\" points=\"-4,4 -4,-54 264.99,-54 264.99,4 -4,4\"/>\n",
       "<!-- 模型 -->\n",
       "<g id=\"node1\" class=\"node\">\n",
       "<title>模型</title>\n",
       "<polygon fill=\"none\" stroke=\"black\" points=\"166.49,-50 98.49,-50 94.49,-46 94.49,0 162.49,0 166.49,-4 166.49,-50\"/>\n",
       "<polyline fill=\"none\" stroke=\"black\" points=\"162.49,-46 94.49,-46 \"/>\n",
       "<polyline fill=\"none\" stroke=\"black\" points=\"162.49,-46 162.49,0 \"/>\n",
       "<polyline fill=\"none\" stroke=\"black\" points=\"162.49,-46 166.49,-50 \"/>\n",
       "<text text-anchor=\"middle\" x=\"130.49\" y=\"-21.3\" font-family=\"Times,serif\" font-size=\"14.00\">模型</text>\n",
       "</g>\n",
       "<!-- 结果 -->\n",
       "<g id=\"node3\" class=\"node\">\n",
       "<title>结果</title>\n",
       "<ellipse fill=\"none\" stroke=\"black\" cx=\"231.74\" cy=\"-25\" rx=\"29.5\" ry=\"18\"/>\n",
       "<text text-anchor=\"middle\" x=\"231.74\" y=\"-21.3\" font-family=\"Times,serif\" font-size=\"14.00\">结果</text>\n",
       "</g>\n",
       "<!-- 模型&#45;&gt;结果 -->\n",
       "<g id=\"edge2\" class=\"edge\">\n",
       "<title>模型&#45;&gt;结果</title>\n",
       "<path fill=\"none\" stroke=\"black\" d=\"M166.77,-25C175.08,-25 183.99,-25 192.44,-25\"/>\n",
       "<polygon fill=\"black\" stroke=\"black\" points=\"192.44,-28.5 202.44,-25 192.44,-21.5 192.44,-28.5\"/>\n",
       "</g>\n",
       "<!-- 输入 -->\n",
       "<g id=\"node2\" class=\"node\">\n",
       "<title>输入</title>\n",
       "<ellipse fill=\"none\" stroke=\"black\" cx=\"29.25\" cy=\"-25\" rx=\"29.5\" ry=\"18\"/>\n",
       "<text text-anchor=\"middle\" x=\"29.25\" y=\"-21.3\" font-family=\"Times,serif\" font-size=\"14.00\">输入</text>\n",
       "</g>\n",
       "<!-- 输入&#45;&gt;模型 -->\n",
       "<g id=\"edge1\" class=\"edge\">\n",
       "<title>输入&#45;&gt;模型</title>\n",
       "<path fill=\"none\" stroke=\"black\" d=\"M58.69,-25C66.67,-25 75.56,-25 84.27,-25\"/>\n",
       "<polygon fill=\"black\" stroke=\"black\" points=\"84.34,-28.5 94.34,-25 84.34,-21.5 84.34,-28.5\"/>\n",
       "</g>\n",
       "</g>\n",
       "</svg>\n"
      ],
      "text/plain": [
       "<graphviz.sources.Source at 0x7f94e6e1efb0>"
      ]
     },
     "execution_count": 15,
     "metadata": {},
     "output_type": "execute_result"
    }
   ],
   "source": [
    "#hide_input\n",
    "#caption Using a trained model as a program\n",
    "#id using_model\n",
    "gv('''模型[shape=box3d width=1 height=0.7]\n",
    "输入->模型->结果''')"
   ]
  },
  {
   "cell_type": "markdown",
   "metadata": {},
   "source": [
    "这与我们最初的流程图<<basic_program>>看起来相同，只是把程序一词替换为模型。这是一个重要的理解：可以像对待常规计算机程序一样对待训练过的模型。"
   ]
  },
  {
   "cell_type": "markdown",
   "metadata": {},
   "source": [
    "> 术语：机器学习。允许计算机从经验中学习的开发程序训练，而不是通过对各个步骤手动编码来开发的程序。\n"
   ]
  },
  {
   "cell_type": "markdown",
   "metadata": {},
   "source": [
    "### 什么是神经网络"
   ]
  },
  {
   "cell_type": "markdown",
   "metadata": {},
   "source": [
    "不难想象跳棋程序的模型会是什么样子。它可能会包含一些跳棋策略的编码，以及某种搜索机制，并且权重可以改变选取策略的方式，在搜索过程中关注棋盘的哪些部分等等。但是，对于图像识别，文本分析，或者我们能想象到的许多其他有趣的问题，该模型可能看起来并不是那么明显。\n",
    "\n",
    "我们想要的是某种只需改变它的权重就可以用来解决任何给定的问题的足够灵活的功能。令人惊讶的是，这种功能真的存在！就是我们已经讨论过的神经网络。也就是说，如果你把神经网络看作是数学函数，那么它就是一个可以由权重决定的灵活的功能。被称为*全局逼近定理*的数学证明显示该功能在理论上可以以任何精度解决任何问题。事实上，神经网络非常灵活，这表示它们通常是一种合适的模型，在实践中，你可以把精力集中在训练它们的过程上 —— 即找到好的权重分配。\n",
    "\n",
    "但这个过程是怎样的呢？可以想象，您可能需要找到一种新的“机制”来自动更新每个问题的权重。这将是相当费力的。我们想要的是一种完全通用的方法来更新神经网络的权重，使其在任何给定的任务中都有所改进。这也是可以方便的实现！\n",
    "\n",
    "这被称为随机梯度下降（SGD）。第四章详细了解神经网络和SGD工作机制，及解释全局逼近定理。然而，现在，我们将使用塞缪尔自己的话：我们不需要深入研究这样一个程序的细节，就看出它可以完全自动化，并且看到这样编程的机器能够从它的经验中“学习”。\n"
   ]
  },
  {
   "cell_type": "markdown",
   "metadata": {},
   "source": [
    "> 杰里米说：别担心，无论SGD和神经网络在数学上都不是很复杂。它们几乎完全依靠加法和乘法来完成的（但确实是做了*大量*的加法和乘法运算！）。当学生看到这些细节时，他们的反应大部分都是：“这就是全部吗？”"
   ]
  },
  {
   "cell_type": "markdown",
   "metadata": {},
   "source": [
    "简而言之，神经网络是一种符合塞缪尔最初概念的特定的机器学习模型。神经网络的高度灵活性令它非常特别，因为这意味着它仅仅通过找到合适的权重就能解决各种各样的问题。这种功能是非常强大的，因为随机梯度下降给我们了提供了一种能够自动找到那些权重值的方法。\n",
    "\n",
    "从全局了解完后，我们现在回头再从局部看一下使用塞缪尔框架的图像分类问题。\n",
    "\n",
    "我们的输入是图像，权重是神经网络中的权重，模型是神经网络，结果是由神经网络计算出的值，如“狗”或“猫”。\n",
    "\n",
    "那下一步如何*根据实际性能来测试当前权重分配的有效性的自动化措施*呢？ 我们可以简单地将模型的性能定义为其预测正确答案的准确率。\n",
    "\n",
    "把它们组合起来，假设SGD是我们用来更新权重分配的机制，可以看到，我们的图像分类器就像塞缪尔设想的那样，是一个机器学习模型。"
   ]
  },
  {
   "cell_type": "markdown",
   "metadata": {},
   "source": [
    "### 机器学习术语"
   ]
  },
  {
   "cell_type": "markdown",
   "metadata": {},
   "source": [
    "塞缪尔工作于20世纪60年代，在那之后，专有名词发生了变化。以下是我们讨论过的所有现代深度学习专有名词：\n",
    "- *模型*的功能形式称为其*框架*（但要小心—有时人们把*模型*当作*框架*的同义词，所以这可能会令人困惑）。\n",
    "- *权重*称为*参数*。\n",
    "- *预测*是根据*自变量*（即*数据*）计算的，其中不包括*标注*。\n",
    "- 模型的*结果*被称为*预测*。\n",
    "- *性能*的度量称为*损失*。\n",
    "- 损失不仅取决于预测，还取决于正确的*标注*（也称为*目标*或*因变量*）。例如，“狗”或“猫”。\n",
    "- \n",
    "做完这些改动后，我们的图<<training_loop>>就变成图<<detailed_loop>>"
   ]
  },
  {
   "cell_type": "code",
   "execution_count": 16,
   "metadata": {
    "hide_input": true
   },
   "outputs": [
    {
     "data": {
      "image/svg+xml": [
       "<?xml version=\"1.0\" encoding=\"UTF-8\" standalone=\"no\"?>\n",
       "<!DOCTYPE svg PUBLIC \"-//W3C//DTD SVG 1.1//EN\"\n",
       " \"http://www.w3.org/Graphics/SVG/1.1/DTD/svg11.dtd\">\n",
       "<!-- Generated by graphviz version 2.43.0 (0)\n",
       " -->\n",
       "<!-- Title: G Pages: 1 -->\n",
       "<svg width=\"394pt\" height=\"132pt\"\n",
       " viewBox=\"0.00 0.00 394.48 132.00\" xmlns=\"http://www.w3.org/2000/svg\" xmlns:xlink=\"http://www.w3.org/1999/xlink\">\n",
       "<g id=\"graph0\" class=\"graph\" transform=\"scale(1 1) rotate(0) translate(4 128)\">\n",
       "<title>G</title>\n",
       "<polygon fill=\"white\" stroke=\"transparent\" points=\"-4,4 -4,-128 390.48,-128 390.48,4 -4,4\"/>\n",
       "<!-- 模型 -->\n",
       "<g id=\"node1\" class=\"node\">\n",
       "<title>模型</title>\n",
       "<polygon fill=\"none\" stroke=\"black\" points=\"167.49,-77 99.49,-77 95.49,-73 95.49,-27 163.49,-27 167.49,-31 167.49,-77\"/>\n",
       "<polyline fill=\"none\" stroke=\"black\" points=\"163.49,-73 95.49,-73 \"/>\n",
       "<polyline fill=\"none\" stroke=\"black\" points=\"163.49,-73 163.49,-27 \"/>\n",
       "<polyline fill=\"none\" stroke=\"black\" points=\"163.49,-73 167.49,-77 \"/>\n",
       "<text text-anchor=\"middle\" x=\"131.49\" y=\"-48.3\" font-family=\"Times,serif\" font-size=\"14.00\">框架</text>\n",
       "</g>\n",
       "<!-- 预测 -->\n",
       "<g id=\"node3\" class=\"node\">\n",
       "<title>预测</title>\n",
       "<ellipse fill=\"none\" stroke=\"black\" cx=\"261.74\" cy=\"-52\" rx=\"29.5\" ry=\"18\"/>\n",
       "<text text-anchor=\"middle\" x=\"261.74\" y=\"-48.3\" font-family=\"Times,serif\" font-size=\"14.00\">预测</text>\n",
       "</g>\n",
       "<!-- 模型&#45;&gt;预测 -->\n",
       "<g id=\"edge2\" class=\"edge\">\n",
       "<title>模型&#45;&gt;预测</title>\n",
       "<path fill=\"none\" stroke=\"black\" d=\"M167.54,-52C184.37,-52 204.59,-52 221.88,-52\"/>\n",
       "<polygon fill=\"black\" stroke=\"black\" points=\"222.22,-55.5 232.22,-52 222.22,-48.5 222.22,-55.5\"/>\n",
       "</g>\n",
       "<!-- 输入 -->\n",
       "<g id=\"node2\" class=\"node\">\n",
       "<title>输入</title>\n",
       "<ellipse fill=\"none\" stroke=\"black\" cx=\"29.25\" cy=\"-72\" rx=\"29.5\" ry=\"18\"/>\n",
       "<text text-anchor=\"middle\" x=\"29.25\" y=\"-68.3\" font-family=\"Times,serif\" font-size=\"14.00\">输入</text>\n",
       "</g>\n",
       "<!-- 输入&#45;&gt;模型 -->\n",
       "<g id=\"edge1\" class=\"edge\">\n",
       "<title>输入&#45;&gt;模型</title>\n",
       "<path fill=\"none\" stroke=\"black\" d=\"M57.38,-66.59C66.07,-64.85 75.94,-62.88 85.56,-60.97\"/>\n",
       "<polygon fill=\"black\" stroke=\"black\" points=\"86.3,-64.39 95.42,-59 84.93,-57.52 86.3,-64.39\"/>\n",
       "</g>\n",
       "<!-- 损失 -->\n",
       "<g id=\"node6\" class=\"node\">\n",
       "<title>损失</title>\n",
       "<ellipse fill=\"none\" stroke=\"black\" cx=\"357.24\" cy=\"-81\" rx=\"29.5\" ry=\"18\"/>\n",
       "<text text-anchor=\"middle\" x=\"357.24\" y=\"-77.3\" font-family=\"Times,serif\" font-size=\"14.00\">损失</text>\n",
       "</g>\n",
       "<!-- 预测&#45;&gt;损失 -->\n",
       "<g id=\"edge5\" class=\"edge\">\n",
       "<title>预测&#45;&gt;损失</title>\n",
       "<path fill=\"none\" stroke=\"black\" d=\"M288.29,-59.92C298.39,-63.06 310.17,-66.71 321.05,-70.09\"/>\n",
       "<polygon fill=\"black\" stroke=\"black\" points=\"320.13,-73.47 330.72,-73.09 322.21,-66.78 320.13,-73.47\"/>\n",
       "</g>\n",
       "<!-- 参数 -->\n",
       "<g id=\"node4\" class=\"node\">\n",
       "<title>参数</title>\n",
       "<ellipse fill=\"none\" stroke=\"black\" cx=\"29.25\" cy=\"-18\" rx=\"29.5\" ry=\"18\"/>\n",
       "<text text-anchor=\"middle\" x=\"29.25\" y=\"-14.3\" font-family=\"Times,serif\" font-size=\"14.00\">参数</text>\n",
       "</g>\n",
       "<!-- 参数&#45;&gt;模型 -->\n",
       "<g id=\"edge3\" class=\"edge\">\n",
       "<title>参数&#45;&gt;模型</title>\n",
       "<path fill=\"none\" stroke=\"black\" d=\"M55.29,-26.49C64.43,-29.59 75.07,-33.2 85.42,-36.71\"/>\n",
       "<polygon fill=\"black\" stroke=\"black\" points=\"84.6,-40.13 95.2,-40.03 86.85,-33.5 84.6,-40.13\"/>\n",
       "</g>\n",
       "<!-- 标注 -->\n",
       "<g id=\"node5\" class=\"node\">\n",
       "<title>标注</title>\n",
       "<ellipse fill=\"none\" stroke=\"black\" cx=\"261.74\" cy=\"-106\" rx=\"29.5\" ry=\"18\"/>\n",
       "<text text-anchor=\"middle\" x=\"261.74\" y=\"-102.3\" font-family=\"Times,serif\" font-size=\"14.00\">标注</text>\n",
       "</g>\n",
       "<!-- 标注&#45;&gt;损失 -->\n",
       "<g id=\"edge4\" class=\"edge\">\n",
       "<title>标注&#45;&gt;损失</title>\n",
       "<path fill=\"none\" stroke=\"black\" d=\"M288.79,-99.04C298.53,-96.43 309.78,-93.42 320.27,-90.62\"/>\n",
       "<polygon fill=\"black\" stroke=\"black\" points=\"321.25,-93.98 330.01,-88.01 319.44,-87.22 321.25,-93.98\"/>\n",
       "</g>\n",
       "<!-- 损失&#45;&gt;参数 -->\n",
       "<g id=\"edge6\" class=\"edge\">\n",
       "<title>损失&#45;&gt;参数</title>\n",
       "<path fill=\"none\" stroke=\"black\" d=\"M343.1,-64.98C331.09,-51.63 312.04,-33.48 290.99,-25 216.33,5.08 119.64,-3.24 67.51,-11.13\"/>\n",
       "<polygon fill=\"black\" stroke=\"black\" points=\"66.71,-7.71 57.39,-12.75 67.82,-14.63 66.71,-7.71\"/>\n",
       "<text text-anchor=\"middle\" x=\"199.99\" y=\"-10.8\" font-family=\"Times,serif\" font-size=\"14.00\">更新</text>\n",
       "</g>\n",
       "</g>\n",
       "</svg>\n"
      ],
      "text/plain": [
       "<graphviz.sources.Source at 0x7f94dfc85360>"
      ]
     },
     "execution_count": 16,
     "metadata": {},
     "output_type": "execute_result"
    }
   ],
   "source": [
    "#hide_input\n",
    "#caption Detailed training loop\n",
    "#id detailed_loop\n",
    "gv('''ordering=in\n",
    "模型[shape=box3d width=1 height=0.7 label=框架]\n",
    "输入->模型->预测; 参数->模型; 标注->损失; 预测->损失\n",
    "损失->参数[constraint=false label=更新]''')"
   ]
  },
  {
   "cell_type": "markdown",
   "metadata": {},
   "source": [
    "### 机器学习的内在局限性\n",
    "从上图中，我们可以看到训练深度学习模型的一些基本内容：\n",
    "- 没有数据就无法创建模型。\n",
    "- 模型只能学习操作模式，这个模式是从用于训练它的输入数据中得到的。\n",
    "- 这种学习方法只创建*预测*，而不是推荐*措施*。\n",
    "- 仅仅有输入数据样例是不够的；我们还需要这些数据的*标注*（例如，狗和猫的图片不足以训练模型；我们需要标注它们，说明哪些是狗，哪些是猫）。\n",
    "  \n",
    "一般来说，我们看到大多数机构所说的他们没有足够多的数据，实际上指的是他们没有足够多已经*标注*好的数据。如果任何机构有兴趣使用模型做些实践工作，那么他们可能会有一些输入，计划运行他们的模型。也可能他们已经用其他方法做了一段时间了（例如，手动，或者用一些启发式程序），所以他们会在那些过程中得到了数据！例如，放射学实践肯定会有医学扫描资料（因为他们需要检查病人病情随着时间如何变化），但这些资料可能没有包含诊断或干预措施列表的结构化标注信息（因为放射科医生一般会生成自由文本自然语言的报告，而不是结构化数据）。我们将在这本书中讨论很多标注方法，因为它在实践中是一个非常重要的问题。\n",
    "\n",
    "由于这些类型的机器学习模型只能进行预测（即，尝试着验证标注），这可能导致机构的目标和模型的能力之间出现巨大差距。例如，在本书中，您将学习如何创建可以预测用户可能购买的产品的*推荐系统*。这通常用于电子商务中，例如通过显示排名最高的项目来定制主页上显示的产品。但这样的模型通常是通过查看用户和他们购买的历史记录（*输入*）以及他们想要购买或查看的内容（*标注*）来创建的，这意味着该模型可能会告诉您用户已经拥有或已经了解的产品，而不是他们听说的最有可能感兴趣的新产品。与此不同的是，当地的专业书商会通过问问题来了解你的品味，然后推荐一些你从未听说过的作家或丛书。 "
   ]
  },
  {
   "cell_type": "markdown",
   "metadata": {},
   "source": [
    "另一个关键的见解来自于考虑模型如何与其环境进行交互。这会产生*反馈循环*，如下所述：\n",
    "- 基于过去实施逮捕的地点创建了*一个预测性警务*模型。这实际上不是预测犯罪，而是预测逮捕，因此只反映了现有警务过程中的偏差。\n",
    "- 然后，执法人员可以利用这个模型来决定他们的警务活动的重点，从而增加这些地区的逮捕人数。\n",
    "- 这些额外逮捕的数据将被反馈回来，以重新训练模型的新版本。\n",
    "这是一个*正反馈循环*，模型使用得越多，数据的偏差就越大，从而使模型的偏差更大，以此类推。\n",
    "\n",
    "反馈循环也会在商业环境中产生问题。例如，视频推荐系统可能偏向于推荐那些观看人数最多的视频（例如，阴谋论者和极端主义者倾向于观看比平均水平更多的在线视频），导致那些用户增加了他们视频的观看量，导致更多那类视频被重新推荐。我们将在第三章中详细地讨论这个问题。"
   ]
  },
  {
   "cell_type": "markdown",
   "metadata": {},
   "source": [
    "现在您已经了解了理论的基础，让我们回到代码示例，并详细了解代码如何对应我们刚才描述的过程。"
   ]
  },
  {
   "cell_type": "markdown",
   "metadata": {},
   "source": [
    "### 我们图像识别器的工作机制"
   ]
  },
  {
   "cell_type": "markdown",
   "metadata": {},
   "source": [
    "让我们看看我们的图像识别器代码和这些概念是如何关联的。我们将把每一行放到一个单独的单元格中，并查看每一行在做什么（我们不会解释每个参数的细节，但会解释比较重要的部分；完整的细节将在本书后面介绍）。 "
   ]
  },
  {
   "cell_type": "markdown",
   "metadata": {},
   "source": [
    "第一行导入所有fastai.vision库 。\n",
    "```python\n",
    "from fastai.vision.all import *\n",
    "```\n",
    "它为我们提供了创建各种计算机视觉模型所需的所有函数和类。"
   ]
  },
  {
   "cell_type": "markdown",
   "metadata": {},
   "source": [
    "> 杰里米：许多Python程序员建议避免以这种方式（使用`import *`语法）导入整个库，因为在大型软件项目中可能会引发出很多问题。然而，像Jupyter notebook这样的交互式操作效果却很好。fastai库是专门为支持这种交互式使用而设计的，它只将必要的部分导入到您的运行环境中。"
   ]
  },
  {
   "cell_type": "markdown",
   "metadata": {},
   "source": [
    "第二行从[fast.ai数据集集合](https://course.fast.ai/datasets)（如果之前未下载过）下载标准数据集到您的服务器，并将其解压（如果以前未解压过），返回包含解压缩位置的`路径`对象：\n",
    "```python\n",
    "path = untar_data(URL.PETS)/'images'\n",
    "```\n",
    "> 西尔万：在Fast.ai学习期间，甚至直到今天，我都学到了很多关于高效编码实践的知识。fastai库和fast.ai Notebooks中有很多很棒的小技巧可以帮助我成为更好的程序员。例如，请注意fastai库不仅返回包含数据路径的字符串，还有`路径`对象。这是来自Python3标准库的一个非常有用的类，它使访问文件和目录变得更加容易。如果您以前没有遇到过它，请务必查看它的文档或教程并尝试着去使用它。请注意，书的[网址](https://book.fast.ai)包含指向每章推荐教程的链接。到时候将向您介绍我所发现的一些有用的编码小技巧"
   ]
  },
  {
   "cell_type": "markdown",
   "metadata": {},
   "source": [
    "在第三行中，我们定义了一个函数`is_cat`，它根据数据集创建者提供的文件名规则来标注猫：\n",
    "```python\n",
    "def is_cat(x): return x[0].isupper()\n",
    "```"
   ]
  },
  {
   "cell_type": "markdown",
   "metadata": {},
   "source": [
    "我们在第四行中使用该函数，告诉fastai我们有哪种数据集以及它是如何构造的：\n",
    "```python\n",
    "dls = ImageDataLoaders.from_name_func(\n",
    "    path, get_image_files(path), valid_pct=0.2, seed=42,\n",
    "    label_func=is_cat, item_tfms=Resize(224))\n",
    "```\n",
    "对于不同类型的深度学习数据集和问题，有不同的类 —— 这里我们使用的是`ImageDataLoaders`。类名的第一部分通常是的数据类型，如图像或文本。\n",
    "\n",
    "另外一个重要内容是，我们必须告诉fastai如何从数据集中获取标注信息。计算机视觉数据集通常以这样一种方式构建，即图像的标注是文件名或路径的一部分，最常见的是父文件夹名称。fastai提供了许多标准化的标注方法，以及您自己的标注方法。在这里，我们让fastai使用我们刚刚定义的`is_cat`函数。\n",
    "\n",
    "最后，我们定义所需的`变换`。一个`变换`包含在训练期间自动使用的代码；fastai包含着许多预定义的`变换`，并且添加新的`变换`就像创建Python函数一样简单。它们有两种类型：`item_tfms`应用于每张图像（在此每张图像被为缩放为224*224像素的正方形），而`batch_tfms`使用GPU一次性处理一`批`图像，因此它们的速度特别快（我们将在本书中看到许多这样的例子）。\n",
    "\n",
    "为什么是224*224像素？由于历史性原因这是标准尺寸（旧的预训练模型就需要这个大小），但您几乎可以随意调整。如果您增加尺寸，您通常会得到一个更好的模型（因为它能专注更多细节），但代价是速度和内存消耗。如果减小尺寸，则情况正好相反。\n"
   ]
  },
  {
   "cell_type": "markdown",
   "metadata": {},
   "source": [
    "> 术语：分类和回归。分类和回归在机器学习中具有特定的含义。这是我们将在本书中研究的两种主要类型的模型。分类模型用来预测类别或种类的模型。也就是说，它根据许多离散概率进行预测，例如“狗”或“猫”。回归模型用来预测一个或多个数字和数量的模型，例如温度或位置。有时人们用*回归* 这个词来指特定种类的*线性回归模型*。这是一种不好的做法，我们不会在本书中使用该术语。 "
   ]
  },
  {
   "cell_type": "markdown",
   "metadata": {},
   "source": [
    "宠物数据集包含7390张狗和猫的照片，由37个品种组成。每个图像都使用其文件名进行标注：例如，文件 *great_pyrenees_173.jpg* 是数据集中Great Pyrenees品种狗的第173个图像。如果图像是一只猫，则文件名以大写字母开头，其他则以小写字母开头。我们通过调用函数`from_name_funchan`（这意味着可以使用函数来提取文件名）和传递`is_cat`的返回值，来告诉fastai怎样从文件名中获取标注信息，如果第一个字母是大写，则`X[0].isUpper()`为`True`（即，它是只猫）。 \n",
    "\n",
    "这此提到的最重要的参数是`valid_pct=0.2`。这告诉fastai保留 20% 的数据，*根本*不用它们来*训练模型*。这 20% 的数据称为*验证集*。剩余 80% 的数据称为*训练集*。验证集是用来衡量模型的准确率。默认情况下，这 20% 是随机选择的。我们每次运行此代码时，参数`seed=42`将 *随机数种子* 设置为相同的值，意味着我们每次都会获得相同的验证集 —— 这样，如果我们变更模型并重新训练它，我们就知道任何差异都是由于模型的变更，而不是由于不同的验证集。 \n",
    "\n",
    "fastai将*始终只使用* 验证集来显示您的模型准确率，*永远不是* 训练集。这至关重要，因为如果你用足够长的时间训练一个足够大的模型，它最终会记住数据集中每条数据的标注信息！得到的实际上不是一个有用的模型，因为我们关心的是该模型处理*从未见过的图像* 效果如何。创建模型时我们的目标始终都是：训练后的模型，它只对未来看到的数据有效。\n",
    "\n",
    "即使你的模型没有完全记住所有的数据，在刚开始训练时，它可能也已经记住了其中的某些部分。因此，你训练的时间越长，在训练集上得到准确率也就越高，一段时间内验证集的准确率也会改善，但最终情况会变糟，因为模型开始记忆训练集，而不是在数据中找到可泛化的基本模式。当这种情况发生时，我们说模型*过拟合*。\n",
    "\n",
    "下图展示了发生过拟合的状况，这个简例基于函数`X**2`只有一个参数和一些随机生成的数据。正如您所看到的，尽管过拟合模型的预测对观察数据点附近的数据是准确的，但当超出该范围时，它们就相差甚远了。\n"
   ]
  },
  {
   "cell_type": "markdown",
   "metadata": {},
   "source": [
    "<img src=\"images/att_00000.png\" alt=\"Example of overfitting\" caption=\"Example of overfitting\" id=\"img_overfit\" width=\"700\">"
   ]
  },
  {
   "cell_type": "markdown",
   "metadata": {},
   "source": [
    "所有的机器学习实践者和所有的算法进行训练时，**过拟合是最重要和极具挑战性的问题**。正如您将看到的，创建一个对训练过的数据进行预测的好模型很容易，但要对模型从未见过的数据进行准确预测则要困难得多。当然，这些数据在实践中很重要。例如，如果您创建了一个手写数字分类器（我们很快就会！），并使用它来识别支票上写的数字，那么您将永远不会看到模型所训练的任何数字 —— 会处理每张支票略微不同的书写变化。在本书中，您将学到许多避免过拟合的方法。但是，只有在确认发生了过拟合后（即，您在训练时观察到验证准确率降低）才应使用这些方法。我们经常看到实践者在他们有足够多的数据时，仍然使用规避过拟合的技术，那么他们最终所得模型的准确率可能会低于原本应该能够达到的程度。\n"
   ]
  },
  {
   "cell_type": "markdown",
   "metadata": {},
   "source": [
    "> 重要：验证集。在训练模型时，必须 _始终_ 同时具有训练集和验证集，并必须只在验证集上度量模型的准确性。如果您没有足够的数据并且训练的时间太长，会发现模型的准确率开始变差。这被称为*过拟合*。fastai默认`valid_pct`为`0.2`，因此即使您忘记，fastai也会为您创建一个验证集！\n"
   ]
  },
  {
   "cell_type": "markdown",
   "metadata": {},
   "source": [
    "训练图像识别器代码的第五行代码告诉fastai创建一个 _卷积神经网络_（CNN），并指定使用什么 _架构_（即，创建什么类型的模型），我们想要在什么数据上训练它，以及使用什么 _评价指标_：\n",
    "\n",
    "```python\n",
    "learn = vision_learner(dls, resnet34, metrics=error_rate)\n",
    "```\n",
    "\n",
    "为什么是CNN？这是目前最先进的创建计算机视觉模型的方法。我们将在这本书中学习所有关于CNN如何工作的知识。它们的结构灵感来自于人类视觉系统的工作原理。\n",
    "\n",
    "我们将在本书介绍fastai中的许多不同架构（以及讨论如何创建自己的架构）。然而，大多数时候，选择某个架构并不是深度学习过程中非常重要的一部分。这是学者们喜欢谈论的事情，但在实践中，您在这件事情上并不需要花很多时间。一些标准架构在大多数情况下都是有效的，在此，我们使用一种名为 _ResNet_ 的架构，我们将在书中详细讨论它。对于许多数据集和`问题`来说，它既快速又准确。`ResNet34`中的`34`是指这种架构变体的层数（还可以选择`18`、`50`、`101`和`152`）。那些使用更多层架构的模型训练的时间更长，也更容易过拟合（即，在验证集的准确性开始变差之前，您不能训练太多轮次）。另一方面，当使用更多的数据时，它们可以更加准确。\n",
    "\n",
    "什么是评价指标（metric）？_评价指标_ 是使用验证集度量模型预测效果的函数，在每个 _训练轮次_ 结束时显示输出。在本例中，我们使用fastai提供的`error_rate`函数，它的作用正如它的命名：告诉您验证集中被错误分类图像的百分比。分类的另一个常用评价指标是`准确率（accuracy）`（即`1.0-error_rate`）。fastai提供了更多内容，我们将在本书中进行讨论。\n",
    "\n",
    "评价指标的概念可能会让你想到 _loss_，但有它们有重要的区别。loss 的目的完全是为了定义训练系统可以用来自动更新权重的“性能度量”。换句话说，对 loss 来说好的选择是易于使用随机梯度下降的选择。但是评价指标是为人类定义的，所以一个好的评价指标很容易被理解的，并且尽可能接近你想要的模型。有时，您可能会认为损失函数是一个合适的评价指标，但情况未必如此。 "
   ]
  },
  {
   "cell_type": "markdown",
   "metadata": {},
   "source": [
    "`vision_learner`也有一个默认值为`true`的参数`pretrained`（即使我们没有指明它，在本例中已经使用它了），它将您模型中的权重设置为经过专门训练可以从130万张图像中识别出一千个不同类别（使用著名的[ImageNet数据集](http://www.image-net.org/)）的那些值。使用已经在另一个数据集上训练出具有权重的模型被称为 _预训练模型_。您应该几乎总是使用预先训练模型，因为这意味着在您向它展示任何数据之前，您的模型就已经非常有效了！正如您将看到的，在深度学习模型中，您会需要到这些与您项目的细节几乎无关的能力。例如，预训练模型的部分能力会处理许多任务所需的边缘、梯度和颜色检测。\n",
    "\n",
    "当使用预训练的模型时，`vision_learner`将移除最后一层，因为该层总是专门针对原始训练任务（即，ImageNet数据集分类）专门定制的，用一个或多个具有随机权重的新层将其替换，其大小适合于您正在处理的数据集。模型的最后部分被称为 _head_。\n",
    "\n",
    "使用预训练模型是我们*最* 重要的方法，它可以让我们用更少的数据、更少的时间和金钱，更快地训练出更准确的模型。你可能会认为这意味着使用预训练模型将是学术深度学习理论中研究最多的领域... 但你大错特错了！在大多数课程、书籍或软件库功能中，通常不会认可或讨论预训练模型的重要性，在学术论文中也很少考虑。在2020年初我们写这些的时候，事情才刚刚开始改变，但可能还需要一段时间。所以要小心：与你交流的大多数人可能会极大低估你在资源很少的情况下用深度学习中所能做的事情，因为他们可能不会深入理解如何使用预训练模型。\n",
    "\n",
    "使用预训练模型来完成与最初训练不同的任务被称为*迁移学习*。不幸的是，由于对迁移学习的研究不足，很少领域有可用的预训练模型。例如，目前医学中可用的预训练模型很少，使得在该领域中应用迁移学习非常具有挑战性。此外，如何将迁移学习用于时间序列分析等任务还没有得到很好的研究。 "
   ]
  },
  {
   "cell_type": "markdown",
   "metadata": {},
   "source": [
    "> 术语：迁移学习。使用预训练模型来完成与最初训练不同的任务。"
   ]
  },
  {
   "cell_type": "markdown",
   "metadata": {},
   "source": [
    "> 译者：在2023年初我们翻译本书时，情况已发生变化，迁移学习成为该领域的热门研究。"
   ]
  },
  {
   "cell_type": "markdown",
   "metadata": {},
   "source": [
    "我们代码的第六行告诉fastai如何 _拟合_ 模型：\n",
    "```python\n",
    "learn.fine_tune(1)\n",
    "```\n",
    "正如我们所讨论的，架构仅仅描述数学函数的*模板*；在我们为它包含的数百万个参数赋值之前，它实际上不会做任何事情。\n",
    "\n",
    "这是深度学习的关键 —— 确定如何拟合模型参数，以便于解决你的问题。为了拟合模型，我们必须提供至少一条信息：检测每个图像的次数（称为*训练轮次*）。你选择的轮次数很大程度上取决于你有多少可用时间，以及在实践中需要多长时间来拟合你的模型。如果你选择了一个太小的数字，就总是要训练更多的轮次。\n",
    "\n",
    "但为什么这种方法被称为`微调（fine_tune）`，而不是`拟合（fit）`呢？fastai确实有一种称为`拟合`的方法，它确实拟合模型（即，多次检测训练集中的图像，每次更新参数以使预测越来越接近目标标注）。但在此例中，我们从一个预训练模型开始，我们不想放弃它已经具有的那些能力。正如您将在本书中了解到的，有一些重要的技巧可以使预训练模型适合新的数据集 —— 这个过程称为*微调（fine-tuning）*。"
   ]
  },
  {
   "cell_type": "markdown",
   "metadata": {},
   "source": [
    "> 术语：微调。一种迁移学习技术，通过添加额外的训练轮次，来训练不同于预训练模型的任务，从而更新预训练模型的参数。"
   ]
  },
  {
   "cell_type": "markdown",
   "metadata": {},
   "source": [
    "当您使用`fine_tune`方法时，fastai将为您使用这些技巧。您可以设置一些参数（我们将在后面讨论），但在此处展示在默认情况下的两个步骤：\n",
    "1. 使用一个训练轮次只拟合模型必要的那部分，使新的随机 head 与数据集正确工作。\n",
    "2. 使用要求的训练轮次数来拟合整个模型，更新后面的层（尤其是 head）的权重比更新前面的层更快（正如我们将看到的，通常不需要对预训练的权重进行很多更改）。\n",
    "\n",
    "模型的 _head_ 是新添加的针对新数据集的那部分。一个*训练轮次* 是对数据集的一次完整遍历。调用`拟合`后，每个训练轮次的结果都会被输出，显示训练轮次编号、训练集和验证集的loss（用于训练模型的“性能度量”）以及您需要的任何*评价指标*（本例中为错误率）。\n"
   ]
  },
  {
   "cell_type": "markdown",
   "metadata": {},
   "source": [
    "所以，有了所有这些代码，我们的模型学会了从标注的例子中识别猫和狗。但它是怎么做到的？"
   ]
  },
  {
   "cell_type": "markdown",
   "metadata": {},
   "source": [
    "### 我们图形分类器学习到了什么"
   ]
  },
  {
   "cell_type": "markdown",
   "metadata": {},
   "source": [
    "在此阶段，我们有一个运行良好的图像识别器，但并不知道它在做什么。尽管许多人抱怨深度学习产生难以理解的“黑箱”模型（即可以预测却没有人能理解），但事实并非如此。大量的研究可以让我们深入检查深度学习模型，并从中获得丰富的见解。话虽如此，完全理解各种机器学习模型（包括深度学习和传统统计模型）都非常具有挑战性，尤其是模型在遇到跟训练时不同的数据会如何表现的问题上。我们将在本书中讨论这个问题。\n",
    "\n",
    "2013年，博士生 Matt Zeiler 和他的导师 Rob Fergus 发表了[卷积网络的可视化和理解](https://arxiv.org/pdf/1311.2901.pdf)，展示了如何将模型在每一层学习到的神经网络权重可视化。他们仔细分析了2012年ImageNet竞赛的获胜模型，并利用这一分析大大改进了模型，从而能够继续赢得2013年的竞赛。下图是他们发布的第一层（Layer 1）权重。\n"
   ]
  },
  {
   "cell_type": "markdown",
   "metadata": {},
   "source": [
    "<img src=\"images/layer1.png\" alt=\"Activations of the first layer of a CNN\" width=\"300\" caption=\"Activations of the first layer of a CNN (courtesy of Matthew D. Zeiler and Rob Fergus)\" id=\"img_layer1\">"
   ]
  },
  {
   "cell_type": "markdown",
   "metadata": {},
   "source": [
    "我们需要对这幅画做出一些解释。对于每一层，图像中具有浅灰色背景的部分显示了重建的权重，而底部较大的部分显示了所训练图像中与每组权重最匹配的部分。对于 Layer 1，我们可以看出模型已经发现了表示对角、水平和垂直边界以及各种梯度的权重。（注意，每一层仅显示特征的子集；实际上所有层会有上千个特征。）这些是模型在计算机视觉中学习到的基本构建块。神经科学家和计算机视觉研究人员对它们进行了大量分析，并证明这些学习到的构建模块与人眼的基本视觉机制非常相似，也与深度学习时代之前研发的手工计算机视觉特征非常相似。下一层（Layer 2）的展示如下图所示。"
   ]
  },
  {
   "cell_type": "markdown",
   "metadata": {},
   "source": [
    "<img src=\"images/layer2.png\" alt=\"Activations of the second layer of a CNN\" width=\"800\" caption=\"Activations of the second layer of a CNN (courtesy of Matthew D. Zeiler and Rob Fergus)\" id=\"img_layer2\">"
   ]
  },
  {
   "cell_type": "markdown",
   "metadata": {},
   "source": [
    "层2（Layer 2）有九个由模型找到的每个特征权重重建的示例。我们可以看到，该模型已经学会创建特征检测器来查找拐角、重复线、圆圈和其他简单模式。这些是从第一层的基本构建块构建的。右侧图像显示了每个与实际图像最匹配特征的小块。例如，第2行第1列中的特定图案匹配与日落相关的梯度和纹理。\n",
    "\n",
    "下图显示了层 3（Layer 3）重建特征的结果。"
   ]
  },
  {
   "cell_type": "markdown",
   "metadata": {},
   "source": [
    "<img src=\"images/chapter2_layer3.PNG\" alt=\"Activations of the third layer of a CNN\" width=\"800\" caption=\"Activations of the third layer of a CNN (courtesy of Matthew D. Zeiler and Rob Fergus)\" id=\"img_layer3\">"
   ]
  },
  {
   "cell_type": "markdown",
   "metadata": {},
   "source": [
    "正如您通过图像右侧所看到的一样，这些特征现在能够识别并匹配更高级别的语义组件，如车轮、文本和花瓣。使用这些组件，层 4（Layer 4）和层 5（Layer 5）甚至可以识别更高级别的概念，如下图所求。"
   ]
  },
  {
   "cell_type": "markdown",
   "metadata": {},
   "source": [
    "<img src=\"images/chapter2_layer4and5.PNG\" alt=\"Activations of layers 4 and 5 of a CNN\" width=\"800\" caption=\"Activations of layers 4 and 5 of a CNN (courtesy of Matthew D. Zeiler and Rob Fergus)\" id=\"img_layer4\">"
   ]
  },
  {
   "cell_type": "markdown",
   "metadata": {},
   "source": [
    "这篇文献研究的是一个只包含五层，名为 *_AlexNet_* 的旧模型。后来的网络已经发展到有数百层，因此您可以想象这些模型的特征有多么丰富！\n",
    "\n",
    "当我们之前对预训练模型进行微调时，我们调整了最后几层所关注的内容（花、人类、动物），专门处理猫与狗的问题。通常来说，我们可以在许多不同的任务上专门处理这样的预训练模型。让我们来看几个例子。"
   ]
  },
  {
   "cell_type": "markdown",
   "metadata": {},
   "source": [
    "### 图像识别器可以处理非图像类任务"
   ]
  },
  {
   "cell_type": "markdown",
   "metadata": {},
   "source": [
    "顾名思义，图像识别器只能识别图像。但很多事物都可以用图像来表示，这意味着图像识别器可以学习去完成许多任务。\n",
    "\n",
    "例如，声音可以转换为声谱图，声谱图是显示音频文件中每个时间每个频率的图表。Fast.ai的学生Ethan Sutin采用这种方法使用8732个城市声音的数据集轻松击败最先进的[环境声音检测模型](https://medium.com/@etown/great-results-on-audio-classification-with-fastai-library-ccaf906c5f52)所公布的准确率。正如你在图中看到的，fastai的`show_batch`清楚地展示了每种不同的声音都有非常独特的声谱图。 "
   ]
  },
  {
   "cell_type": "markdown",
   "metadata": {},
   "source": [
    "<img alt=\"show_batch with spectrograms of sounds\" width=\"400\" caption=\"show_batch with spectrograms of sounds\" id=\"img_spect\" src=\"images/att_00012.png\">"
   ]
  },
  {
   "cell_type": "markdown",
   "metadata": {},
   "source": [
    "通过在图上简单的绘制时间序列，可以容易地将其转换为图像。但是，尝试用尽可能容易的方式提取最重要内容，来表示数据通常是个好主意。在时间序列里，季节性和异常最有可能引起人们的兴趣。时间序列数据可进行各种转换。例如，fast.ai的学生Ignacio Oguiza使用被称为格拉姆角差场（GADF）的技术，从时间序列数据集中创建了用于橄榄油分类的图像。您可以在下图中看到它的结果。接着，就如您在本章中看到的一样，他将这些图像输入到图像分类模型中。尽管只有30个训练集图像，但结果的准确率超过90%，接近最先进的水平。\n"
   ]
  },
  {
   "cell_type": "markdown",
   "metadata": {},
   "source": [
    "<img alt=\"Converting a time series into an image\" width=\"700\" caption=\"Converting a time series into an image\" id=\"ts_image\" src=\"images/att_00013.png\">"
   ]
  },
  {
   "cell_type": "markdown",
   "metadata": {},
   "source": [
    "另一个有趣的fast.ai学生项目示例来自Gleb Esman。他在Splunk使用用户鼠标移动和点击的数据集进行欺诈检测。他通过使用彩色线条绘制显示鼠标指针的位置、速度和加速度的图像，并使用[彩色小圆圈](https://www.splunk.com/en_us/blog/security/deep-learning-with-splunk-and-tensorflow-for-security-catching-the-fraudster-in-neural-networks-with-behavioral-biometrics.html)表示点击鼠标，如下图所求。然后输入到本章所采用的图像识别模型中，由于它的效果非常好，还为这种欺诈分析方法申请了专利!。"
   ]
  },
  {
   "cell_type": "markdown",
   "metadata": {},
   "source": [
    "<img alt=\"Converting computer mouse behavior to an image\" width=\"450\" caption=\"Converting computer mouse behavior to an image\" id=\"splunk\" src=\"images/att_00014.png\">"
   ]
  },
  {
   "cell_type": "markdown",
   "metadata": {},
   "source": [
    "另一个例子来自Mahmoud Kalash等人的论文[“利用深度卷积进行恶意软件分类”](https://ieeexplore.ieee.org/abstract/document/8328749)，解释了“恶意软件二进制文件被划分为8位序列，然后将其转换为相应的十进制值。这个十进制向量进行整理并生成了表示恶意软件样本的灰度图像，” 如下图所示。\n"
   ]
  },
  {
   "cell_type": "markdown",
   "metadata": {},
   "source": [
    "<img alt=\"Malware classification process\" width=\"623\" caption=\"Malware classification process\" id=\"malware_proc\" src=\"images/att_00055.png\">"
   ]
  },
  {
   "cell_type": "markdown",
   "metadata": {},
   "source": [
    "接着作者通过用这种方式对不同类别恶意软件生成的“图片”进行了展示，如下图所示。 "
   ]
  },
  {
   "cell_type": "markdown",
   "metadata": {},
   "source": [
    "<img alt=\"Malware examples\" width=\"650\" caption=\"Malware examples\" id=\"malware_eg\" src=\"images/att_00056.png\">"
   ]
  },
  {
   "cell_type": "markdown",
   "metadata": {},
   "source": [
    "正如您所看到的，不同类型的恶意软件在人眼看来很容易区分。研究人员基于这种图像表示训练出来的模型在恶意软件分类方面比之前任何学术文献中的方法都更准确。这为将数据集转换为图像表示提供了一个很好的经验法则：如果人眼可以从图像中识别出类别，那么深度学习模型也应该能够做到。\n",
    "\n",
    "一般来说，如果你在如何表示数据方面有些创新的话，你会发现深度学习中的少量通用方法非常有效。你不要认为像这里描述的那些方法是“笨拙的变通方案”，因为他们经常（正像这里一样）优于之前最先进的结果。这确实是思考这些问题的正确方法。 "
   ]
  },
  {
   "cell_type": "markdown",
   "metadata": {},
   "source": [
    "### 术语概述"
   ]
  },
  {
   "cell_type": "markdown",
   "metadata": {},
   "source": [
    "我们简单重述一下前面介绍过的术语，见下面的词汇简表 \n",
    "|     专有名词     |                     含义                     |\n",
    "| :--------------------: | :------------------------------------------: |\n",
    "|   标注    |         我们尝试预测的数据，例如“狗”或“猫”          |\n",
    "|   架构    |         我们想要拟合模型的 _模板_；即，某种实际数学的函数，我们传递输入数据和参数给它 |\n",
    "|模型 |具有特定参数架构的组合 |\n",
    "|参数 |模型中可以随所执行任务进行改变的值，并通过模型训练进行更新 |\n",
    "|拟合 |更新模型的参数，使得模型用输入数据所得到的预测与目标标注一致 |\n",
    "|训练 |_拟合_ 的同义词 |\n",
    "|预训练模型 |   一个通常已经使用大数据集被训练过的模型，并且会被微调 |\n",
    "|微调 |为不同的任务更新预训练模型 |\n",
    "|训练轮次 |对输入数据的一次完整遍历 |\n",
    "|损失 |度量模型的优劣，通过SGD驱动训练 |\n",
    "|评价标准 |使用验证集度量模型的优劣，为人类使用 |\n",
    "|验证集 |在训练中获得的一组数据，仅用于度量模型的好坏 |\n",
    "|训练集 |用于拟合模型的数据；不包括验证集的任何数据 |\n",
    "|过拟合 |通过让它 _记住_ 输入数据的特定特征来训练模型，而不是泛化到训练时没有见过的数据 |\n",
    "|卷积神经网络（CNN） |一种特别适用于计算机视觉任务的神经网络 |\n",
    "\n"
   ]
  },
  {
   "cell_type": "markdown",
   "metadata": {},
   "source": [
    "掌握了这些名词，我们现在就能将迄今为止介绍的所有关键概念汇集在一起。花点时间回顾这些定义，并阅读下面的小结。如果你能理解的话，就为接下来的讨论做好了准备。\n",
    "\n",
    "*机器学习* 是一门学科，我们定义一个程序通过从数据中学习，而不是完全自己编写程序。*深度学习* 是使用 *多层神经网络* 的机器学习中的一个专业。*图像分类*（也称为*图像识别*）是个代表性例子。我们从 *标注过的数据* 开始，即，我们为一组图像中的每张图像进行 *标注*，说明他们表示什么。我们的目标是产生一个程序，称为*模型*，会对给出的新图像所表示的内容做出准确的*预测*。\n",
    "\n",
    "每个模型都从选择 *架构*  开始，这是一种模型内部如何进行工作的通用模板。*训练*（或 *拟合*）模型的过程就是找到一组 *参数值*（或*权重*）的过程，他们可以把通用架构转换为一个适用于我们特定类型数据的模型。为了定义模型在单一预测上的表现，我们需要定义可以用来判定模型好坏的 *损失函数*。\n",
    "\n",
    "为了训练得更快，可以从 *预训练模型* 开始 —— 一个已经在其他数据上训练过的模型。通过在我们的数据上进行更多的训练来使其适应我们的数据，这一过程称为 *微调*。\n",
    "\n",
    "当我们训练模型时，关键的问题是确保我们的模型可以 *泛化*。即，它从我们的数据中学习一般的经验，同时也适用于它将遇到的新数据项，从而可以做出很好的预测。如果我们的模型训练得不好，它不是学习一般的经验，而是记住它已经见过的内容，然后就会对新图像做出糟糕的预测。这被称为 *过拟合*。为了避免这种情况，我们总是将数据分为 *训练集* 和 *验证集* 两部分。只用训练集来训练模型，然后我们通过查看模型在验证集上的表现来评估模型的性能。通过这种方式，我们检查模型从训练集学习到的经验是否可以泛化到验证集。为了让人们评估模型在验证集上的整体表现，我们定义了 *评价指标*。在训练过程中，当模型遍历训练集中的每项数据时，我们称为一个 *训练轮次* 。\n",
    "\n",
    "所有这些概念通常都适用于机器学习。各种用数据训练的方式来定义模型的方案都可以使用它们。基于 *神经网络* 的架构令深度学习与众不同。特别是，我们将很快讨论到的图像分类这样的任务尤其依赖于 *卷积神经网络*。 "
   ]
  },
  {
   "cell_type": "markdown",
   "metadata": {},
   "source": [
    "## 深度学习不只图像分类"
   ]
  },
  {
   "cell_type": "markdown",
   "metadata": {},
   "source": [
    "近年来，深度学习在图像分类方面的有效性得到了广泛讨论，甚至在 CT 扫描中识别恶性肿瘤等复杂任务上也展示出了 *超越人类* 的效果。但正如我们在此介绍的，它可以做的远不止这些。\n",
    "\n",
    "例如，让我们谈谈对自动驾驶车辆来说至关重要的事情：在图像中定位物体。如果自动驾驶汽车不知道行人在哪里，它就不知道如何避开行人。创建可以识别图像中每个像素内容的模型称为 *分割*。下面是我们用fastai在[*Camvid* 数据集](http://www0.cs.ucl.ac.uk/staff/G.Brostow/papers/Brostow_2009-PRL.pdf)的子集上训练分割模型的过程，它来自于Gabriel J.Brostow, Julien Fauqueur, and Roberto Cipolla所著的论文“视频中语义对象分类：高清地面实况数据库”。"
   ]
  },
  {
   "cell_type": "code",
   "execution_count": 17,
   "metadata": {},
   "outputs": [
    {
     "data": {
      "text/html": [
       "\n",
       "<style>\n",
       "    /* Turns off some styling */\n",
       "    progress {\n",
       "        /* gets rid of default border in Firefox and Opera. */\n",
       "        border: none;\n",
       "        /* Needs to be in here for Safari polyfill so background images work as expected. */\n",
       "        background-size: auto;\n",
       "    }\n",
       "    progress:not([value]), progress:not([value])::-webkit-progress-bar {\n",
       "        background: repeating-linear-gradient(45deg, #7e7e7e, #7e7e7e 10px, #5c5c5c 10px, #5c5c5c 20px);\n",
       "    }\n",
       "    .progress-bar-interrupted, .progress-bar-interrupted::-webkit-progress-bar {\n",
       "        background: #F44336;\n",
       "    }\n",
       "</style>\n"
      ],
      "text/plain": [
       "<IPython.core.display.HTML object>"
      ]
     },
     "metadata": {},
     "output_type": "display_data"
    },
    {
     "data": {
      "text/html": [
       "<table border=\"1\" class=\"dataframe\">\n",
       "  <thead>\n",
       "    <tr style=\"text-align: left;\">\n",
       "      <th>epoch</th>\n",
       "      <th>train_loss</th>\n",
       "      <th>valid_loss</th>\n",
       "      <th>time</th>\n",
       "    </tr>\n",
       "  </thead>\n",
       "  <tbody>\n",
       "    <tr>\n",
       "      <td>0</td>\n",
       "      <td>2.937635</td>\n",
       "      <td>2.450794</td>\n",
       "      <td>00:01</td>\n",
       "    </tr>\n",
       "  </tbody>\n",
       "</table>"
      ],
      "text/plain": [
       "<IPython.core.display.HTML object>"
      ]
     },
     "metadata": {},
     "output_type": "display_data"
    },
    {
     "data": {
      "text/html": [
       "\n",
       "<style>\n",
       "    /* Turns off some styling */\n",
       "    progress {\n",
       "        /* gets rid of default border in Firefox and Opera. */\n",
       "        border: none;\n",
       "        /* Needs to be in here for Safari polyfill so background images work as expected. */\n",
       "        background-size: auto;\n",
       "    }\n",
       "    progress:not([value]), progress:not([value])::-webkit-progress-bar {\n",
       "        background: repeating-linear-gradient(45deg, #7e7e7e, #7e7e7e 10px, #5c5c5c 10px, #5c5c5c 20px);\n",
       "    }\n",
       "    .progress-bar-interrupted, .progress-bar-interrupted::-webkit-progress-bar {\n",
       "        background: #F44336;\n",
       "    }\n",
       "</style>\n"
      ],
      "text/plain": [
       "<IPython.core.display.HTML object>"
      ]
     },
     "metadata": {},
     "output_type": "display_data"
    },
    {
     "data": {
      "text/html": [
       "<table border=\"1\" class=\"dataframe\">\n",
       "  <thead>\n",
       "    <tr style=\"text-align: left;\">\n",
       "      <th>epoch</th>\n",
       "      <th>train_loss</th>\n",
       "      <th>valid_loss</th>\n",
       "      <th>time</th>\n",
       "    </tr>\n",
       "  </thead>\n",
       "  <tbody>\n",
       "    <tr>\n",
       "      <td>0</td>\n",
       "      <td>1.859666</td>\n",
       "      <td>1.448111</td>\n",
       "      <td>00:01</td>\n",
       "    </tr>\n",
       "    <tr>\n",
       "      <td>1</td>\n",
       "      <td>1.587261</td>\n",
       "      <td>1.317544</td>\n",
       "      <td>00:01</td>\n",
       "    </tr>\n",
       "    <tr>\n",
       "      <td>2</td>\n",
       "      <td>1.450715</td>\n",
       "      <td>1.185401</td>\n",
       "      <td>00:01</td>\n",
       "    </tr>\n",
       "    <tr>\n",
       "      <td>3</td>\n",
       "      <td>1.317219</td>\n",
       "      <td>0.993299</td>\n",
       "      <td>00:01</td>\n",
       "    </tr>\n",
       "    <tr>\n",
       "      <td>4</td>\n",
       "      <td>1.195271</td>\n",
       "      <td>0.967617</td>\n",
       "      <td>00:01</td>\n",
       "    </tr>\n",
       "    <tr>\n",
       "      <td>5</td>\n",
       "      <td>1.082508</td>\n",
       "      <td>0.802155</td>\n",
       "      <td>00:01</td>\n",
       "    </tr>\n",
       "    <tr>\n",
       "      <td>6</td>\n",
       "      <td>0.985344</td>\n",
       "      <td>0.779184</td>\n",
       "      <td>00:01</td>\n",
       "    </tr>\n",
       "    <tr>\n",
       "      <td>7</td>\n",
       "      <td>0.912565</td>\n",
       "      <td>0.778174</td>\n",
       "      <td>00:01</td>\n",
       "    </tr>\n",
       "  </tbody>\n",
       "</table>"
      ],
      "text/plain": [
       "<IPython.core.display.HTML object>"
      ]
     },
     "metadata": {},
     "output_type": "display_data"
    }
   ],
   "source": [
    "path = untar_data(URLs.CAMVID_TINY)\n",
    "dls = SegmentationDataLoaders.from_label_func(\n",
    "    path, bs=8, fnames = get_image_files(path/\"images\"),\n",
    "    label_func = lambda o: path/'labels'/f'{o.stem}_P{o.suffix}',\n",
    "    codes = np.loadtxt(path/'codes.txt', dtype=str)\n",
    ")\n",
    "\n",
    "learn = unet_learner(dls, resnet34)\n",
    "learn.fine_tune(8)"
   ]
  },
  {
   "cell_type": "markdown",
   "metadata": {},
   "source": [
    "我们不打算逐行查看这段代码，因为它与我们之前的例子几乎完全一样！（然而我们会在第十五章深入研究分割模型 ，和在本章中简要介绍的所有其他模型，以及更多更多的模型。）\n",
    "\n",
    "通过让模型对图像中的每个像素进行颜色编码，能可视化它完成任务的情况。正如您所看到的，它几乎完美地分类了每个对象中的每个像素。例如，请注意，所有的汽车都用相同的颜色覆盖，所有的树都用相同的颜色覆盖（在每对图像中，左边的图像是地面实况标注，右边的是模型的预测）："
   ]
  },
  {
   "cell_type": "code",
   "execution_count": 18,
   "metadata": {},
   "outputs": [
    {
     "data": {
      "text/html": [
       "\n",
       "<style>\n",
       "    /* Turns off some styling */\n",
       "    progress {\n",
       "        /* gets rid of default border in Firefox and Opera. */\n",
       "        border: none;\n",
       "        /* Needs to be in here for Safari polyfill so background images work as expected. */\n",
       "        background-size: auto;\n",
       "    }\n",
       "    progress:not([value]), progress:not([value])::-webkit-progress-bar {\n",
       "        background: repeating-linear-gradient(45deg, #7e7e7e, #7e7e7e 10px, #5c5c5c 10px, #5c5c5c 20px);\n",
       "    }\n",
       "    .progress-bar-interrupted, .progress-bar-interrupted::-webkit-progress-bar {\n",
       "        background: #F44336;\n",
       "    }\n",
       "</style>\n"
      ],
      "text/plain": [
       "<IPython.core.display.HTML object>"
      ]
     },
     "metadata": {},
     "output_type": "display_data"
    },
    {
     "data": {
      "text/html": [],
      "text/plain": [
       "<IPython.core.display.HTML object>"
      ]
     },
     "metadata": {},
     "output_type": "display_data"
    },
    {
     "data": {
      "image/png": "[encoded data removed]",
      "text/plain": [
       "<Figure size 700x800 with 12 Axes>"
      ]
     },
     "metadata": {},
     "output_type": "display_data"
    }
   ],
   "source": [
    "learn.show_results(max_n=6, figsize=(7,8))"
   ]
  },
  {
   "cell_type": "markdown",
   "metadata": {},
   "source": [
    "在过去的几年里，另一个深度学习取得巨大进步的领域是自然语言处理（NLP）。计算机现在可以生成文本，把一种语言自动翻译为另一种语言，分析评论，标注句子中的单词等等。下面是训练一个可以对影评观点进行分类的模型所需的全部代码，它优于五年来所有的模型："
   ]
  },
  {
   "cell_type": "code",
   "execution_count": 2,
   "metadata": {},
   "outputs": [
    {
     "data": {
      "text/html": [
       "\n",
       "<style>\n",
       "    /* Turns off some styling */\n",
       "    progress {\n",
       "        /* gets rid of default border in Firefox and Opera. */\n",
       "        border: none;\n",
       "        /* Needs to be in here for Safari polyfill so background images work as expected. */\n",
       "        background-size: auto;\n",
       "    }\n",
       "    progress:not([value]), progress:not([value])::-webkit-progress-bar {\n",
       "        background: repeating-linear-gradient(45deg, #7e7e7e, #7e7e7e 10px, #5c5c5c 10px, #5c5c5c 20px);\n",
       "    }\n",
       "    .progress-bar-interrupted, .progress-bar-interrupted::-webkit-progress-bar {\n",
       "        background: #F44336;\n",
       "    }\n",
       "</style>\n"
      ],
      "text/plain": [
       "<IPython.core.display.HTML object>"
      ]
     },
     "metadata": {},
     "output_type": "display_data"
    },
    {
     "data": {
      "text/html": [
       "<table border=\"1\" class=\"dataframe\">\n",
       "  <thead>\n",
       "    <tr style=\"text-align: left;\">\n",
       "      <th>epoch</th>\n",
       "      <th>train_loss</th>\n",
       "      <th>valid_loss</th>\n",
       "      <th>accuracy</th>\n",
       "      <th>time</th>\n",
       "    </tr>\n",
       "  </thead>\n",
       "  <tbody>\n",
       "    <tr>\n",
       "      <td>0</td>\n",
       "      <td>0.478642</td>\n",
       "      <td>0.391697</td>\n",
       "      <td>0.823560</td>\n",
       "      <td>02:05</td>\n",
       "    </tr>\n",
       "  </tbody>\n",
       "</table>"
      ],
      "text/plain": [
       "<IPython.core.display.HTML object>"
      ]
     },
     "metadata": {},
     "output_type": "display_data"
    },
    {
     "data": {
      "text/html": [
       "\n",
       "<style>\n",
       "    /* Turns off some styling */\n",
       "    progress {\n",
       "        /* gets rid of default border in Firefox and Opera. */\n",
       "        border: none;\n",
       "        /* Needs to be in here for Safari polyfill so background images work as expected. */\n",
       "        background-size: auto;\n",
       "    }\n",
       "    progress:not([value]), progress:not([value])::-webkit-progress-bar {\n",
       "        background: repeating-linear-gradient(45deg, #7e7e7e, #7e7e7e 10px, #5c5c5c 10px, #5c5c5c 20px);\n",
       "    }\n",
       "    .progress-bar-interrupted, .progress-bar-interrupted::-webkit-progress-bar {\n",
       "        background: #F44336;\n",
       "    }\n",
       "</style>\n"
      ],
      "text/plain": [
       "<IPython.core.display.HTML object>"
      ]
     },
     "metadata": {},
     "output_type": "display_data"
    },
    {
     "data": {
      "text/html": [
       "<table border=\"1\" class=\"dataframe\">\n",
       "  <thead>\n",
       "    <tr style=\"text-align: left;\">\n",
       "      <th>epoch</th>\n",
       "      <th>train_loss</th>\n",
       "      <th>valid_loss</th>\n",
       "      <th>accuracy</th>\n",
       "      <th>time</th>\n",
       "    </tr>\n",
       "  </thead>\n",
       "  <tbody>\n",
       "    <tr>\n",
       "      <td>0</td>\n",
       "      <td>0.296199</td>\n",
       "      <td>0.227741</td>\n",
       "      <td>0.910040</td>\n",
       "      <td>03:40</td>\n",
       "    </tr>\n",
       "    <tr>\n",
       "      <td>1</td>\n",
       "      <td>0.241753</td>\n",
       "      <td>0.191765</td>\n",
       "      <td>0.924920</td>\n",
       "      <td>03:40</td>\n",
       "    </tr>\n",
       "    <tr>\n",
       "      <td>2</td>\n",
       "      <td>0.201701</td>\n",
       "      <td>0.179183</td>\n",
       "      <td>0.931280</td>\n",
       "      <td>03:40</td>\n",
       "    </tr>\n",
       "    <tr>\n",
       "      <td>3</td>\n",
       "      <td>0.141331</td>\n",
       "      <td>0.194938</td>\n",
       "      <td>0.929240</td>\n",
       "      <td>03:40</td>\n",
       "    </tr>\n",
       "  </tbody>\n",
       "</table>"
      ],
      "text/plain": [
       "<IPython.core.display.HTML object>"
      ]
     },
     "metadata": {},
     "output_type": "display_data"
    }
   ],
   "source": [
    "from fastai.text.all import *\n",
    "\n",
    "dls = TextDataLoaders.from_folder(untar_data(URLs.IMDB), valid='test')\n",
    "learn = text_classifier_learner(dls, AWD_LSTM, drop_mult=0.5, metrics=accuracy)\n",
    "learn.fine_tune(4, 1e-2)"
   ]
  },
  {
   "cell_type": "markdown",
   "metadata": {},
   "source": [
    "如何执行完这个单元的代码后遇到“CUDA内存不足错误”，先点击菜单中的 Kernal 然后点击 Restart，进行内核重启。不要执行上面的单元，而是复制粘贴下面代码：\n",
    "```\n",
    "from fastai.text.all import *\n",
    "\n",
    "dls = TextDataLoaders.from_folder(untar_data(URLs.IMDB), valid='test', bs=32)\n",
    "learn = text_classifier_learner(dls, AWD_LSTM, drop_mult=0.5, metrics=accuracy)\n",
    "learn.fine_tune(4, 1e-2)\n",
    "```\n",
    "\n",
    "它会将训练批次的大小减少为32（我们将在后面作出解释）。假如您还是遇到同样的错误，将32改为16。"
   ]
  },
  {
   "cell_type": "markdown",
   "metadata": {},
   "source": [
    "此模型使用 Andrew Maas 等人所著论文“学习情感分析单词向量”中的[“IMDB大影评数据集”](https://ai.stanford.edu/~ang/papers/acl11-WordVectorsSentimentAnalysis.pdf)。它可以很好地处理数千字的影评，不过我们在一个简短的评论上测试它，看看它是如何处理的："
   ]
  },
  {
   "cell_type": "code",
   "execution_count": 3,
   "metadata": {},
   "outputs": [
    {
     "data": {
      "text/html": [
       "\n",
       "<style>\n",
       "    /* Turns off some styling */\n",
       "    progress {\n",
       "        /* gets rid of default border in Firefox and Opera. */\n",
       "        border: none;\n",
       "        /* Needs to be in here for Safari polyfill so background images work as expected. */\n",
       "        background-size: auto;\n",
       "    }\n",
       "    progress:not([value]), progress:not([value])::-webkit-progress-bar {\n",
       "        background: repeating-linear-gradient(45deg, #7e7e7e, #7e7e7e 10px, #5c5c5c 10px, #5c5c5c 20px);\n",
       "    }\n",
       "    .progress-bar-interrupted, .progress-bar-interrupted::-webkit-progress-bar {\n",
       "        background: #F44336;\n",
       "    }\n",
       "</style>\n"
      ],
      "text/plain": [
       "<IPython.core.display.HTML object>"
      ]
     },
     "metadata": {},
     "output_type": "display_data"
    },
    {
     "data": {
      "text/html": [],
      "text/plain": [
       "<IPython.core.display.HTML object>"
      ]
     },
     "metadata": {},
     "output_type": "display_data"
    },
    {
     "data": {
      "text/plain": [
       "('pos', tensor(1), tensor([1.8377e-04, 9.9982e-01]))"
      ]
     },
     "execution_count": 3,
     "metadata": {},
     "output_type": "execute_result"
    }
   ],
   "source": [
    "learn.predict(\"I really liked that movie!\")"
   ]
  },
  {
   "cell_type": "markdown",
   "metadata": {},
   "source": [
    "在这里，我们可以看到模型认为认为这是正面的评论。输出结果的第二部分是“ pos ”在我们数据词汇中的索引，最后一部分是每个分类的概率（“pos”为99.982%，“neg”为0.018%）。 \n",
    "\n",
    "现在轮到你了！写下您自己的简短影评，或者从互联网上复制一个，就能够看到这个模型对它的看法。"
   ]
  },
  {
   "cell_type": "markdown",
   "metadata": {},
   "source": [
    "### 补充内容：顺序很重要"
   ]
  },
  {
   "cell_type": "markdown",
   "metadata": {},
   "source": [
    "在 Jupyter notebook 中，每个单元格的执行顺序非常重要。它不像 Excel 那样，当你在任何地方输入，所有的都会随之更新 —— 它有一个内部状态，每次执行一个单元时都会更新。例如，当您运行 notebook 的第一个单元格（带有“ Click Me ”注释）时，您创建了一个名为`learn`的对象，其中包含图像分类问题的模型和数据。如果我们直接运行刚刚单元的内容（预测评论是好还是坏的），因为这个对象`learn`里面没有文本分类模型，所以会报错。首先需要运行包含以下内容的单元：\n",
    "```python\n",
    "from fastai.text.all import *\n",
    "\n",
    "dls = TextDataLoaders.from_folder(untar_data(URLs.IMDB), valid='test')\n",
    "learn = text_classifier_learner(dls, AWD_LSTM, drop_mult=0.5, \n",
    "                                metrics=accuracy)\n",
    "learn.fine_tune(4, 1e-2)\n",
    "```\n",
    "输出本身可能具有欺骗性，因为它们包含了上次执行单元的结果。如果更改单元中的代码，而没有执行它，则原有（误导性的）结果将会保留。\n",
    "\n",
    "除非我们明确地提及，否则在[网站](https://book.fast.ai/)上的notebooks应该按照从上到下的顺序运行。一般来说，实验中，你会发现自己以任何顺序执行单元都很快（这是Jupyter Notebook超棒的特点），但是一旦你开发并完成了代码的最终版本，确保能够按顺序运行 notebooks 中的单元（不然将来你自己不一定还记得那些复杂路径！）\n",
    "\n",
    "在命令模式下，按下两次 `0` 将重启 *内核（kernel）*（即 notebook 的引擎开关）。这将清除您的状态，使其恢复到刚刚启动 notebook 时的状态。从 cell 菜单中选择“Run All Above”以运行您所在位置之前的所有单元格。我们在开发 fastai 库时，发现这个功能很有用。\n"
   ]
  },
  {
   "cell_type": "markdown",
   "metadata": {},
   "source": [
    "### 补充内容结束"
   ]
  },
  {
   "cell_type": "markdown",
   "metadata": {},
   "source": [
    "如果你有任何关于 fastai 方法的问题，你可以使用 `doc` 函数，给它传递方法名：\n",
    "```python\n",
    "doc(learn.predict)\n",
    "```\n",
    "它会弹出一个像下图这样的小窗口：\n",
    "\n",
    "<img src=\"images/doc_ex.png\" width=\"600\">"
   ]
  },
  {
   "cell_type": "markdown",
   "metadata": {},
   "source": [
    "`doc` 提供了一行简短的说明。点击“Show in docs”链接可以查看完整文档了解所有细节和大量实例。此外，fastai的大多数方法只有几行代码，您可以点击“ source ”链接来查看后台到底发生了什么。\n",
    "\n",
    "我们继续讨论一些不那么吸引人，但可能特别具有商业用途的东西：从简单的 *表格* 数据中构建模型。"
   ]
  },
  {
   "cell_type": "markdown",
   "metadata": {},
   "source": [
    "> 术语：表格。表格形式的数据，如电子表格、数据库或者 CSV 文件。表格模型是根据表中其他列的信息预测某一列的模型。\n"
   ]
  },
  {
   "cell_type": "markdown",
   "metadata": {},
   "source": [
    "事实证明，这看起来也非常相似。下面是训练一个模型所需的代码，该模型可以根据一个人的社会经济背景来预测他是否是高收入者："
   ]
  },
  {
   "cell_type": "code",
   "execution_count": 4,
   "metadata": {},
   "outputs": [],
   "source": [
    "from fastai.tabular.all import *\n",
    "path = untar_data(URLs.ADULT_SAMPLE)\n",
    "\n",
    "dls = TabularDataLoaders.from_csv(path/'adult.csv', path=path, y_names=\"salary\",\n",
    "    cat_names = ['workclass', 'education', 'marital-status', 'occupation',\n",
    "                 'relationship', 'race'],\n",
    "    cont_names = ['age', 'fnlwgt', 'education-num'],\n",
    "    procs = [Categorify, FillMissing, Normalize])\n",
    "\n",
    "learn = tabular_learner(dls, metrics=accuracy)"
   ]
  },
  {
   "cell_type": "markdown",
   "metadata": {},
   "source": [
    "正如您所看到的，我们必须告诉fastai哪些列是*分类的*（包含属于离散选项集合中的值，如`职业`），哪些列是*连续的*（包含表示数量的数字，如`年龄`）。\n",
    "\n",
    "没有可用于此任务的预训练模型（通常，许多表格建模任务没有预训练模型，尽管一些组织已经创建了供内部使用的模型），因此在这种情况下，我们不使用`fine_tune`，而是使用`fit_one_cycle`，这是从`零`开始训练 fastai 模型的最常用方法（即，没有迁移学习）："
   ]
  },
  {
   "cell_type": "code",
   "execution_count": 5,
   "metadata": {},
   "outputs": [
    {
     "data": {
      "text/html": [
       "\n",
       "<style>\n",
       "    /* Turns off some styling */\n",
       "    progress {\n",
       "        /* gets rid of default border in Firefox and Opera. */\n",
       "        border: none;\n",
       "        /* Needs to be in here for Safari polyfill so background images work as expected. */\n",
       "        background-size: auto;\n",
       "    }\n",
       "    progress:not([value]), progress:not([value])::-webkit-progress-bar {\n",
       "        background: repeating-linear-gradient(45deg, #7e7e7e, #7e7e7e 10px, #5c5c5c 10px, #5c5c5c 20px);\n",
       "    }\n",
       "    .progress-bar-interrupted, .progress-bar-interrupted::-webkit-progress-bar {\n",
       "        background: #F44336;\n",
       "    }\n",
       "</style>\n"
      ],
      "text/plain": [
       "<IPython.core.display.HTML object>"
      ]
     },
     "metadata": {},
     "output_type": "display_data"
    },
    {
     "data": {
      "text/html": [
       "<table border=\"1\" class=\"dataframe\">\n",
       "  <thead>\n",
       "    <tr style=\"text-align: left;\">\n",
       "      <th>epoch</th>\n",
       "      <th>train_loss</th>\n",
       "      <th>valid_loss</th>\n",
       "      <th>accuracy</th>\n",
       "      <th>time</th>\n",
       "    </tr>\n",
       "  </thead>\n",
       "  <tbody>\n",
       "    <tr>\n",
       "      <td>0</td>\n",
       "      <td>0.374053</td>\n",
       "      <td>0.372600</td>\n",
       "      <td>0.828471</td>\n",
       "      <td>00:03</td>\n",
       "    </tr>\n",
       "    <tr>\n",
       "      <td>1</td>\n",
       "      <td>0.371670</td>\n",
       "      <td>0.362348</td>\n",
       "      <td>0.833999</td>\n",
       "      <td>00:03</td>\n",
       "    </tr>\n",
       "    <tr>\n",
       "      <td>2</td>\n",
       "      <td>0.350932</td>\n",
       "      <td>0.359070</td>\n",
       "      <td>0.838145</td>\n",
       "      <td>00:03</td>\n",
       "    </tr>\n",
       "  </tbody>\n",
       "</table>"
      ],
      "text/plain": [
       "<IPython.core.display.HTML object>"
      ]
     },
     "metadata": {},
     "output_type": "display_data"
    }
   ],
   "source": [
    "learn.fit_one_cycle(3)"
   ]
  },
  {
   "cell_type": "markdown",
   "metadata": {},
   "source": [
    "此模型所使用的[Adult dataset](http://robotics.stanford.edu/~ronnyk/nbtree.pdf) ，来自 Rob Kohavi 的论文“提高朴素贝叶斯分类器的准确率：混合决策树”，这个数据集包含关于个人的一些统计数据（如教育、婚姻状况、种族、性别以及年收入是否超过5万美元）。该模型训练时间约为30秒，准确率超过80%。"
   ]
  },
  {
   "cell_type": "markdown",
   "metadata": {},
   "source": [
    "让我们再看一个。推荐系统非常重要，尤其是在电子商务中。亚马逊（Amazon）和网飞（Netflix）等公司竭尽全力推荐用户可能喜欢的产品或电影。下面展示了使用[MovieLens dataset](https://doi.org/10.1145/2827872)数据集如何训练一个模型，该模型可以根据人们以前的观看习惯来预测他们可能喜欢的电影。"
   ]
  },
  {
   "cell_type": "code",
   "execution_count": 6,
   "metadata": {},
   "outputs": [
    {
     "data": {
      "text/html": [
       "\n",
       "<style>\n",
       "    /* Turns off some styling */\n",
       "    progress {\n",
       "        /* gets rid of default border in Firefox and Opera. */\n",
       "        border: none;\n",
       "        /* Needs to be in here for Safari polyfill so background images work as expected. */\n",
       "        background-size: auto;\n",
       "    }\n",
       "    progress:not([value]), progress:not([value])::-webkit-progress-bar {\n",
       "        background: repeating-linear-gradient(45deg, #7e7e7e, #7e7e7e 10px, #5c5c5c 10px, #5c5c5c 20px);\n",
       "    }\n",
       "    .progress-bar-interrupted, .progress-bar-interrupted::-webkit-progress-bar {\n",
       "        background: #F44336;\n",
       "    }\n",
       "</style>\n"
      ],
      "text/plain": [
       "<IPython.core.display.HTML object>"
      ]
     },
     "metadata": {},
     "output_type": "display_data"
    },
    {
     "data": {
      "text/html": [
       "<table border=\"1\" class=\"dataframe\">\n",
       "  <thead>\n",
       "    <tr style=\"text-align: left;\">\n",
       "      <th>epoch</th>\n",
       "      <th>train_loss</th>\n",
       "      <th>valid_loss</th>\n",
       "      <th>time</th>\n",
       "    </tr>\n",
       "  </thead>\n",
       "  <tbody>\n",
       "    <tr>\n",
       "      <td>0</td>\n",
       "      <td>1.510421</td>\n",
       "      <td>1.409248</td>\n",
       "      <td>00:00</td>\n",
       "    </tr>\n",
       "  </tbody>\n",
       "</table>"
      ],
      "text/plain": [
       "<IPython.core.display.HTML object>"
      ]
     },
     "metadata": {},
     "output_type": "display_data"
    },
    {
     "data": {
      "text/html": [
       "\n",
       "<style>\n",
       "    /* Turns off some styling */\n",
       "    progress {\n",
       "        /* gets rid of default border in Firefox and Opera. */\n",
       "        border: none;\n",
       "        /* Needs to be in here for Safari polyfill so background images work as expected. */\n",
       "        background-size: auto;\n",
       "    }\n",
       "    progress:not([value]), progress:not([value])::-webkit-progress-bar {\n",
       "        background: repeating-linear-gradient(45deg, #7e7e7e, #7e7e7e 10px, #5c5c5c 10px, #5c5c5c 20px);\n",
       "    }\n",
       "    .progress-bar-interrupted, .progress-bar-interrupted::-webkit-progress-bar {\n",
       "        background: #F44336;\n",
       "    }\n",
       "</style>\n"
      ],
      "text/plain": [
       "<IPython.core.display.HTML object>"
      ]
     },
     "metadata": {},
     "output_type": "display_data"
    },
    {
     "data": {
      "text/html": [
       "<table border=\"1\" class=\"dataframe\">\n",
       "  <thead>\n",
       "    <tr style=\"text-align: left;\">\n",
       "      <th>epoch</th>\n",
       "      <th>train_loss</th>\n",
       "      <th>valid_loss</th>\n",
       "      <th>time</th>\n",
       "    </tr>\n",
       "  </thead>\n",
       "  <tbody>\n",
       "    <tr>\n",
       "      <td>0</td>\n",
       "      <td>1.378706</td>\n",
       "      <td>1.353837</td>\n",
       "      <td>00:00</td>\n",
       "    </tr>\n",
       "    <tr>\n",
       "      <td>1</td>\n",
       "      <td>1.283051</td>\n",
       "      <td>1.182615</td>\n",
       "      <td>00:00</td>\n",
       "    </tr>\n",
       "    <tr>\n",
       "      <td>2</td>\n",
       "      <td>1.051507</td>\n",
       "      <td>0.870182</td>\n",
       "      <td>00:00</td>\n",
       "    </tr>\n",
       "    <tr>\n",
       "      <td>3</td>\n",
       "      <td>0.827181</td>\n",
       "      <td>0.705093</td>\n",
       "      <td>00:00</td>\n",
       "    </tr>\n",
       "    <tr>\n",
       "      <td>4</td>\n",
       "      <td>0.702141</td>\n",
       "      <td>0.661779</td>\n",
       "      <td>00:00</td>\n",
       "    </tr>\n",
       "    <tr>\n",
       "      <td>5</td>\n",
       "      <td>0.646693</td>\n",
       "      <td>0.647653</td>\n",
       "      <td>00:00</td>\n",
       "    </tr>\n",
       "    <tr>\n",
       "      <td>6</td>\n",
       "      <td>0.621587</td>\n",
       "      <td>0.642445</td>\n",
       "      <td>00:00</td>\n",
       "    </tr>\n",
       "    <tr>\n",
       "      <td>7</td>\n",
       "      <td>0.605313</td>\n",
       "      <td>0.639461</td>\n",
       "      <td>00:00</td>\n",
       "    </tr>\n",
       "    <tr>\n",
       "      <td>8</td>\n",
       "      <td>0.602502</td>\n",
       "      <td>0.638560</td>\n",
       "      <td>00:00</td>\n",
       "    </tr>\n",
       "    <tr>\n",
       "      <td>9</td>\n",
       "      <td>0.606968</td>\n",
       "      <td>0.638429</td>\n",
       "      <td>00:00</td>\n",
       "    </tr>\n",
       "  </tbody>\n",
       "</table>"
      ],
      "text/plain": [
       "<IPython.core.display.HTML object>"
      ]
     },
     "metadata": {},
     "output_type": "display_data"
    }
   ],
   "source": [
    "from fastai.collab import *\n",
    "path = untar_data(URLs.ML_SAMPLE)\n",
    "dls = CollabDataLoaders.from_csv(path/'ratings.csv')\n",
    "learn = collab_learner(dls, y_range=(0.5,5.5))\n",
    "learn.fine_tune(10)"
   ]
  },
  {
   "cell_type": "markdown",
   "metadata": {},
   "source": [
    "该模型在0.5到5.0的范围内预测电影评级，平均误差在0.6左右。由于我们预测的是连续的数字，而不是类别，因此我们必须使用参数`y_range`来告诉 fastai 我们的目标范围。\n",
    "\n",
    "尽管我们没有实际使用预训练模型（与表格模型没有使用的原因相同），但 fastai 允许我们在本例中使用`fine_tune`（您将在第五章中了解到它的工作方式)。有时，最好将`fine_tune`和`fit_one_cycle`进行对比实验，以确定哪种方法最适合您的数据集。\n",
    "\n",
    "我们可以调用`show_results`来查看用户ID、电影ID、实际评级和预测评级的一些示例："
   ]
  },
  {
   "cell_type": "code",
   "execution_count": 7,
   "metadata": {},
   "outputs": [
    {
     "data": {
      "text/html": [
       "\n",
       "<style>\n",
       "    /* Turns off some styling */\n",
       "    progress {\n",
       "        /* gets rid of default border in Firefox and Opera. */\n",
       "        border: none;\n",
       "        /* Needs to be in here for Safari polyfill so background images work as expected. */\n",
       "        background-size: auto;\n",
       "    }\n",
       "    progress:not([value]), progress:not([value])::-webkit-progress-bar {\n",
       "        background: repeating-linear-gradient(45deg, #7e7e7e, #7e7e7e 10px, #5c5c5c 10px, #5c5c5c 20px);\n",
       "    }\n",
       "    .progress-bar-interrupted, .progress-bar-interrupted::-webkit-progress-bar {\n",
       "        background: #F44336;\n",
       "    }\n",
       "</style>\n"
      ],
      "text/plain": [
       "<IPython.core.display.HTML object>"
      ]
     },
     "metadata": {},
     "output_type": "display_data"
    },
    {
     "data": {
      "text/html": [],
      "text/plain": [
       "<IPython.core.display.HTML object>"
      ]
     },
     "metadata": {},
     "output_type": "display_data"
    },
    {
     "data": {
      "text/html": [
       "<table border=\"1\" class=\"dataframe\">\n",
       "  <thead>\n",
       "    <tr style=\"text-align: right;\">\n",
       "      <th></th>\n",
       "      <th>userId</th>\n",
       "      <th>movieId</th>\n",
       "      <th>rating</th>\n",
       "      <th>rating_pred</th>\n",
       "    </tr>\n",
       "  </thead>\n",
       "  <tbody>\n",
       "    <tr>\n",
       "      <th>0</th>\n",
       "      <td>79.0</td>\n",
       "      <td>83.0</td>\n",
       "      <td>4.5</td>\n",
       "      <td>4.650622</td>\n",
       "    </tr>\n",
       "    <tr>\n",
       "      <th>1</th>\n",
       "      <td>49.0</td>\n",
       "      <td>77.0</td>\n",
       "      <td>5.0</td>\n",
       "      <td>4.435779</td>\n",
       "    </tr>\n",
       "    <tr>\n",
       "      <th>2</th>\n",
       "      <td>64.0</td>\n",
       "      <td>51.0</td>\n",
       "      <td>4.0</td>\n",
       "      <td>4.211000</td>\n",
       "    </tr>\n",
       "    <tr>\n",
       "      <th>3</th>\n",
       "      <td>98.0</td>\n",
       "      <td>7.0</td>\n",
       "      <td>5.0</td>\n",
       "      <td>4.833302</td>\n",
       "    </tr>\n",
       "    <tr>\n",
       "      <th>4</th>\n",
       "      <td>1.0</td>\n",
       "      <td>45.0</td>\n",
       "      <td>4.0</td>\n",
       "      <td>3.840652</td>\n",
       "    </tr>\n",
       "    <tr>\n",
       "      <th>5</th>\n",
       "      <td>86.0</td>\n",
       "      <td>48.0</td>\n",
       "      <td>3.0</td>\n",
       "      <td>3.797843</td>\n",
       "    </tr>\n",
       "    <tr>\n",
       "      <th>6</th>\n",
       "      <td>8.0</td>\n",
       "      <td>84.0</td>\n",
       "      <td>4.5</td>\n",
       "      <td>4.272635</td>\n",
       "    </tr>\n",
       "    <tr>\n",
       "      <th>7</th>\n",
       "      <td>93.0</td>\n",
       "      <td>71.0</td>\n",
       "      <td>3.0</td>\n",
       "      <td>4.155020</td>\n",
       "    </tr>\n",
       "    <tr>\n",
       "      <th>8</th>\n",
       "      <td>35.0</td>\n",
       "      <td>16.0</td>\n",
       "      <td>4.0</td>\n",
       "      <td>3.304728</td>\n",
       "    </tr>\n",
       "  </tbody>\n",
       "</table>"
      ],
      "text/plain": [
       "<IPython.core.display.HTML object>"
      ]
     },
     "metadata": {},
     "output_type": "display_data"
    }
   ],
   "source": [
    "learn.show_results()"
   ]
  },
  {
   "cell_type": "markdown",
   "metadata": {},
   "source": [
    "### 补充内容：数据集：模型的食物"
   ]
  },
  {
   "cell_type": "markdown",
   "metadata": {},
   "source": [
    "您已经在本节中看到一些模型，每个模型都使用不同的数据集进行训练用来处理不同的任务。在机器学习和深度学习中，没有数据我们什么都做不了。因此，为我们创建训练模型所需数据集的人都是英雄（通常却是被低估的）。其中一些最有用和最重要的数据集已经成为重要的*学术基准*；即被研究人员广泛研究并用于比较算法的变化。其中一些成为家喻户晓的名字（至少在训练模型中），如 MNIST、CIFAR-10 和 ImageNet。\n",
    "\n",
    "本书中的数据集之所以被选用，是因为他们提供了很多您可能遇到的各种数据实例，而且在学术文献中也有许多使用这些数据集的模型结果，可以将您的工作与之进行比较。\n",
    "\n",
    "创建者们做了大量的工作来构建本书中使用的数据集。例如，稍后在本书中，我们将向您展示如何创建一个可以在法语和英语之间进行翻译的模型。这个模型的关键输入是一个法语/英语并行文本语料库，它是由宾夕法尼亚大学的 Chris Callison-Burch 教授于2009年制作的。该数据集包含超过2000万条法语和英语句子对。他以一种非常聪明的方式构建了数据集：通过爬取数百万个加拿大网页（通常是多语言网页），然后使用一组简单的启发式方法将法语内容的 URL 转换为指向相同英语内容的 URL 。\n",
    "\n",
    "当你看这本书中的数据集时，想想它们可能来自哪里，以及它们可能是如何展现的。然后考虑您可以为自己的项目创建哪些有趣的数据集（很快我们就会带您一步一步地实现创建自己图像数据集的过程）。\n",
    "\n",
    "fast.ai花费了大量时间创建流行数据集的精简版本，这些数据集是为支持快速原型开发和实验专门设计的，并且更易于学习。在本书中，我们通常会先使用某一个精简版，然后再扩展到完整版（就像我们在本章中所做的那样！）。实际上，这就是世界一流的专业人员在实践中进行建模的方法。他们用数据的子集进行大部分实验和原型开发，只有在很清楚他们要做什么时才使用完整的数据集。"
   ]
  },
  {
   "cell_type": "markdown",
   "metadata": {},
   "source": [
    "### 补充内容结束"
   ]
  },
  {
   "cell_type": "markdown",
   "metadata": {},
   "source": [
    "我们训练过的每一个模型都展示了训练损失和验证损失。一个好的验证集是训练过程中最重要的部分。让我们来看了解其中的原因并学着去创建它。"
   ]
  },
  {
   "cell_type": "markdown",
   "metadata": {},
   "source": [
    "## 验证集和测试集"
   ]
  },
  {
   "cell_type": "markdown",
   "metadata": {},
   "source": [
    "正如我们之前讨论的，模型的目标是对数据进行预测。但从根本上说，模型训练过程是简易的。如果用我们所有的数据训练模型，然后用同样的数据去评价模型，将无法判断该模型在没有见过的数据上表现如何。如果没有这个有价值的信息来指导我们训练模型，它很有可能会变得善于对这些数据进行预测，但在新的数据上表现不佳。\n",
    "\n",
    "为了避免这种情况，首先需要将数据集分为两个集合：*训练集*（模型在训练中看到的）和*验证集*，也称为*开发集*（仅用于评价）。可以让我们测试模型是否将从训练数据中学习到的经验泛化到新的数据，也就是验证数据。\n",
    "\n",
    "理解这种情况的一种方式是，从某种意义上说，我们不希望模型通过“作弊”来获得好的结果。如果它对一个数据项做出了准确的预测，那应该是因为它已经学习了这种数据项的特征，而不是因为模型被*已经见过的那些特定数据项* 所限定。\n",
    "\n",
    "分离出我们的验证数据，意味着模型从未在训练中见过它，因此完全不受验证数据的影响，所以无论如何也不会作弊。对吗？\n",
    "\n",
    "实际上未必，这很微妙。因为在实际场景中，我们几乎不能仅仅训练一次模型的权重参数来创建模型。相反，建模与网络架构、学习率、数据增强策略，及我们在后续章节中要讨论的其他因素相关，我们会根据不同的建模选择开发很多个版本的模型。其中某些选项被描述为 *超参数（hyperparameters）* 的选项。该词反映出他们是参数的参数，因为他们是控制权重参数含义的更高级别的选项。"
   ]
  },
  {
   "cell_type": "markdown",
   "metadata": {},
   "source": [
    "The problem is that even though the ordinary training process is only looking at predictions on the training data when it learns values for the weight parameters, the same is not true of us. We, as modelers, are evaluating the model by looking at predictions on the validation data when we decide to explore new hyperparameter values! So subsequent versions of the model are, indirectly, shaped by us having seen the validation data. Just as the automatic training process is in danger of overfitting the training data, we are in danger of overfitting the validation data through human trial and error and exploration.\n",
    "\n",
    "The solution to this conundrum is to introduce another level of even more highly reserved data, the *test set*. Just as we hold back the validation data from the training process, we must hold back the test set data even from ourselves. It cannot be used to improve the model; it can only be used to evaluate the model at the very end of our efforts. In effect, we define a hierarchy of cuts of our data, based on how fully we want to hide it from training and modeling processes: training data is fully exposed, the validation data is less exposed, and test data is totally hidden. This hierarchy parallels the different kinds of modeling and evaluation processes themselves—the automatic training process with back propagation, the more manual process of trying different hyper-parameters between training sessions, and the assessment of our final result.\n",
    "\n",
    "The test and validation sets should have enough data to ensure that you get a good estimate of your accuracy. If you're creating a cat detector, for instance, you generally want at least 30 cats in your validation set. That means that if you have a dataset with thousands of items, using the default 20% validation set size may be more than you need. On the other hand, if you have lots of data, using some of it for validation probably doesn't have any downsides.\n",
    "\n",
    "Having two levels of \"reserved data\"—a validation set and a test set, with one level representing data that you are virtually hiding from yourself—may seem a bit extreme. But the reason it is often necessary is because models tend to gravitate toward the simplest way to do good predictions (memorization), and we as fallible humans tend to gravitate toward fooling ourselves about how well our models are performing. The discipline of the test set helps us keep ourselves intellectually honest. That doesn't mean we *always* need a separate test set—if you have very little data, you may need to just have a validation set—but generally it's best to use one if at all possible.\n",
    "\n",
    "This same discipline can be critical if you intend to hire a third party to perform modeling work on your behalf. A third party might not understand your requirements accurately, or their incentives might even encourage them to misunderstand them. A good test set can greatly mitigate these risks and let you evaluate whether their work solves your actual problem.\n",
    "\n",
    "To put it bluntly, if you're a senior decision maker in your organization (or you're advising senior decision makers), the most important takeaway is this: if you ensure that you really understand what test and validation sets are and why they're important, then you'll avoid the single biggest source of failures we've seen when organizations decide to use AI. For instance, if you're considering bringing in an external vendor or service, make sure that you hold out some test data that the vendor *never gets to see*. Then *you* check their model on your test data, using a metric that *you* choose based on what actually matters to you in practice, and *you* decide what level of performance is adequate. (It's also a good idea for you to try out some simple baseline yourself, so you know what a really simple model can achieve. Often it'll turn out that your simple model performs just as well as one produced by an external \"expert\"!)"
   ]
  },
  {
   "attachments": {},
   "cell_type": "markdown",
   "metadata": {},
   "source": [
    "问题是，即使普通的训练过程只在学习权重参数值时查看训练数据的预测，但我们的情况并非如此。作为建模者，当我们决定探索新的超参值时，会通过查看验证数据上的预测来评估模型!因此，模型的后续版本是由我们在看到验证数据后间接形成的。正如自动训练过程存在过拟合训练数据的风险一样，人工试错和探索过程也存在过拟合验证数据的风险。 \n",
    "\n",
    "这个难题的解决方案是引入另一个更高级别的保留数据：测试集。正如为训练过程中保留验证数据一样，我们还要为自己保留测试集数据。它不能用于改进模型；只能用来评估我们的最终模型。实际上，根据我们希望在训练和建模过程中隐藏数据的程度，定义了数据切割的层次结构：训练数据完全暴露，验证数据较少暴露，测试数据完全隐藏。这种层次结构平行于不同类型的建模和评估过程本身——使用反向传播的自动训练过程，在训练会话之间尝试不同超参的手动过程，以及对最终结果的评估过程。 \n",
    "\n",
    "测试集和验证集应该有足够的数据，以确保您可以很好地估计模型的准确性。例如，如果您正在创建一个猫检测器，您通常希望验证集中至少有30只猫。这意味着如果你有一个包含数千个数据项的数据集，使用默认20%大小的验证集可能会超出您的需要。另一方面，如果你有大量的数据，使用其中的一些数据来进行验证或许不会引起任何性能的下降。 \n",
    "\n",
    "拥有两个级别的“保留数据”—验证集和测试集，其中一个级别表示您实际上对自己隐藏的数据—可能看起来有点极端。但这通常是必要的，因为模型往往倾向于能够预测准确的最简单方法（记忆），而我们作为易犯错误的人类，往往倾向于自欺欺人地认为我们的模型表现得有多好。测试集的约束可以帮助我们理性的保持诚实。这并不意味着我们总是需要一个单独的测试集——如果只有少量的数据，可能只需要一个验证集——但一般来说，如果可能的话，最好有一个。 \n",
    "\n",
    "如果您打算雇用第三方来代表您执行建模工作，同样的约束也是至关重要的。第三方或许不能准确地理解您的要求，或者他们的动机甚至可能鼓励他们产生误解。一个好的测试集能够很大程度上规避这些风险，并可以让您评估他们的工作是否解决了您的实际问题。 \n",
    "\n",
    "坦率地说，如果您是组织中的高级决策者（或者为高级决策者提供建议），那么最重要的收获是：如果您确保真正理解了什么是测试集和验证集，以及它们为什么如此重要，那么当组织决定使用人工智能时，你将有幸避开我们所见过失败的最大根源。例如，如果您正在考虑引入外部供应商或服务，请确保您保留了一些供应商永远不会看到的测试数据。然后在测试数据上检查他们的模型，使用实践中对您真正重要的评价指标，并决定什么级别的性能是达到要求的。（您自己尝试简单基准也是一个好主意，这样您就知道一个真正简单的模型可以实现什么。通常，您的简单模型的性能与外部“专家”生成的模型一样好！） "
   ]
  },
  {
   "cell_type": "markdown",
   "metadata": {},
   "source": [
    "### Use Judgment in Defining Test Sets"
   ]
  },
  {
   "attachments": {},
   "cell_type": "markdown",
   "metadata": {},
   "source": [
    "### 定义测试集的时候加入判断"
   ]
  },
  {
   "cell_type": "markdown",
   "metadata": {},
   "source": [
    "To do a good job of defining a validation set (and possibly a test set), you will sometimes want to do more than just randomly grab a fraction of your original dataset. Remember: a key property of the validation and test sets is that they must be representative of the new data you will see in the future. This may sound like an impossible order! By definition, you haven’t seen this data yet. But you usually still do know some things.\n",
    "\n",
    "It's instructive to look at a few example cases. Many of these examples come from predictive modeling competitions on the [Kaggle](https://www.kaggle.com/) platform, which is a good representation of problems and methods you might see in practice.\n",
    "\n",
    "One case might be if you are looking at time series data. For a time series, choosing a random subset of the data will be both too easy (you can look at the data both before and after the dates you are trying to predict) and not representative of most business use cases (where you are using historical data to build a model for use in the future). If your data includes the date and you are building a model to use in the future, you will want to choose a continuous section with the latest dates as your validation set (for instance, the last two weeks or last month of available data).\n",
    "\n",
    "Suppose you want to split the time series data in <<timeseries1>> into training and validation sets."
   ]
  },
  {
   "attachments": {},
   "cell_type": "markdown",
   "metadata": {},
   "source": [
    "要很好地定义验证集（可能还有测试集），您要做的不仅仅是随机抓取原始数据集的一部分。记住：验证集和测试集的一个关键性质是它们必须能够代表您将在未来看到的新数据。这听起来像是一个不可能实现的要求。根据定义，你还没有见到这些数据。但你通常还是知道一些的。\n",
    "\n",
    "看几个有启发性的例子。这些例子中有许多来自Kaggle platform的预测建模竞赛，很好地代表了您可能在实践中遇到的问题和方法。 \n",
    "\n",
    "如果您正在查看时间序列数据。对于时间序列，选择数据的随机子集太容易了（您可以查看预测的日期之前和之后的数据），但不能代表大多数业务用例（您使用历史数据来构建供将来使用的模型）。如果您的数据包括日期，并且您正在构建一个将来要使用的模型，则您将需要选择一个具有最新日期的连续部分作为您的验证集（例如，最近两周或上个月的可用数据）。\n",
    "\n",
    "假设您要将下图中的时间序列数据拆分为训练集和验证集。 "
   ]
  },
  {
   "cell_type": "markdown",
   "metadata": {},
   "source": [
    "<img src=\"images/timeseries1.png\" width=\"400\" id=\"timeseries1\" caption=\"A time series\" alt=\"A serie of values\">"
   ]
  },
  {
   "cell_type": "markdown",
   "metadata": {},
   "source": [
    "A random subset is a poor choice (too easy to fill in the gaps, and not indicative of what you'll need in production), as we can see in <<timeseries2>>."
   ]
  },
  {
   "attachments": {},
   "cell_type": "markdown",
   "metadata": {},
   "source": [
    "随机子集是一个糟糕的选择（太容易填补空白，并且对于您实际需要的问题不具有参考性），如下图所示。"
   ]
  },
  {
   "cell_type": "markdown",
   "metadata": {},
   "source": [
    "<img src=\"images/timeseries2.png\" width=\"400\" id=\"timeseries2\" caption=\"A poor training subset\" alt=\"Random training subset\">"
   ]
  },
  {
   "cell_type": "markdown",
   "metadata": {},
   "source": [
    "Instead, use the earlier data as your training set (and the later data for the validation set), as shown in <<timeseries3>>."
   ]
  },
  {
   "attachments": {},
   "cell_type": "markdown",
   "metadata": {},
   "source": [
    "相反，使用前面的数据作为训练集（后面的数据作为验证集），如下图所示。 "
   ]
  },
  {
   "cell_type": "markdown",
   "metadata": {},
   "source": [
    "<img src=\"images/timeseries3.png\" width=\"400\" id=\"timeseries3\" caption=\"A good training subset\" alt=\"Training subset using the data up to a certain timestamp\">"
   ]
  },
  {
   "cell_type": "markdown",
   "metadata": {},
   "source": [
    "For example, Kaggle had a competition to [predict the sales in a chain of Ecuadorian grocery stores](https://www.kaggle.com/c/favorita-grocery-sales-forecasting). Kaggle's training data ran from Jan 1 2013 to Aug 15 2017, and the test data spanned Aug 16 2017 to Aug 31 2017. That way, the competition organizer ensured that entrants were making predictions for a time period that was *in the future*, from the perspective of their model. This is similar to the way quant hedge fund traders do *back-testing* to check whether their models are predictive of future periods, based on past data."
   ]
  },
  {
   "cell_type": "code",
   "execution_count": null,
   "metadata": {},
   "outputs": [],
   "source": []
  },
  {
   "cell_type": "markdown",
   "metadata": {},
   "source": [
    "A second common case is when you can easily anticipate ways the data you will be making predictions for in production may be *qualitatively different* from the data you have to train your model with.\n",
    "\n",
    "In the Kaggle [distracted driver competition](https://www.kaggle.com/c/state-farm-distracted-driver-detection), the independent variables are pictures of drivers at the wheel of a car, and the dependent variables are categories such as texting, eating, or safely looking ahead. Lots of pictures are of the same drivers in different positions, as we can see in <<img_driver>>. If you were an insurance company building a model from this data, note that you would be most interested in how the model performs on drivers it hasn't seen before (since you would likely have training data only for a small group of people). In recognition of this, the test data for the competition consists of images of people that don't appear in the training set."
   ]
  },
  {
   "cell_type": "markdown",
   "metadata": {},
   "source": [
    "<img src=\"images/driver.PNG\" width=\"600\" id=\"img_driver\" caption=\"Two pictures from the training data\" alt=\"Two pictures from the training data, showing the same driver\">"
   ]
  },
  {
   "cell_type": "markdown",
   "metadata": {},
   "source": [
    "If you put one of the images in <<img_driver>> in your training set and one in the validation set, your model will have an easy time making a prediction for the one in the validation set, so it will seem to be performing better than it would on new people. Another perspective is that if you used all the people in training your model, your model might be overfitting to particularities of those specific people, and not just learning the states (texting, eating, etc.).\n",
    "\n",
    "A similar dynamic was at work in the [Kaggle fisheries competition](https://www.kaggle.com/c/the-nature-conservancy-fisheries-monitoring) to identify the species of fish caught by fishing boats in order to reduce illegal fishing of endangered populations.  The test set consisted of boats that didn't appear in the training data.  This means that you'd want your validation set to include boats that are not in the training set.\n",
    "\n",
    "Sometimes it may not be clear how your validation data will differ.  For instance, for a problem using satellite imagery, you'd need to gather more information on whether the training set just contained certain geographic locations, or if it came from geographically scattered data."
   ]
  },
  {
   "cell_type": "markdown",
   "metadata": {},
   "source": [
    "Now that you have gotten a taste of how to build a model, you can decide what you want to dig into next."
   ]
  },
  {
   "cell_type": "markdown",
   "metadata": {},
   "source": [
    "## A _Choose Your Own Adventure_ moment"
   ]
  },
  {
   "cell_type": "markdown",
   "metadata": {},
   "source": [
    "If you would like to learn more about how to use deep learning models in practice, including how to identify and fix errors, create a real working web application, and avoid your model causing unexpected harm to your organization or society more generally, then keep reading the next two chapters. If you would like to start learning the foundations of how deep learning works under the hood, skip to <<chapter_mnist_basics>>. (Did you ever read _Choose Your Own Adventure_ books as a kid? Well, this is kind of like that… except with more deep learning than that book series contained.)\n",
    "\n",
    "You will need to read all these chapters to progress further in the book, but it is totally up to you which order you read them in. They don't depend on each other. If you skip ahead to <<chapter_mnist_basics>>, we will remind you at the end to come back and read the chapters you skipped over before you go any further."
   ]
  },
  {
   "cell_type": "markdown",
   "metadata": {},
   "source": [
    "## Questionnaire"
   ]
  },
  {
   "cell_type": "markdown",
   "metadata": {},
   "source": [
    "It can be hard to know in pages and pages of prose what the key things are that you really need to focus on and remember. So, we've prepared a list of questions and suggested steps to complete at the end of each chapter. All the answers are in the text of the chapter, so if you're not sure about anything here, reread that part of the text and make sure you understand it. Answers to all these questions are also available on the [book's website](https://book.fast.ai). You can also visit [the forums](https://forums.fast.ai) if you get stuck to get help from other folks studying this material.\n",
    "\n",
    "For more questions, including detailed answers and links to the video timeline, have a look at Radek Osmulski's [aiquizzes](http://aiquizzes.com/howto)."
   ]
  },
  {
   "cell_type": "markdown",
   "metadata": {},
   "source": [
    "1. Do you need these for deep learning?\n",
    "\n",
    "   - Lots of math T / F\n",
    "   - Lots of data T / F\n",
    "   - Lots of expensive computers T / F\n",
    "   - A PhD T / F\n",
    "   \n",
    "1. Name five areas where deep learning is now the best in the world.\n",
    "1. What was the name of the first device that was based on the principle of the artificial neuron?\n",
    "1. Based on the book of the same name, what are the requirements for parallel distributed processing (PDP)?\n",
    "1. What were the two theoretical misunderstandings that held back the field of neural networks?\n",
    "1. What is a GPU?\n",
    "1. Open a notebook and execute a cell containing: `1+1`. What happens?\n",
    "1. Follow through each cell of the stripped version of the notebook for this chapter. Before executing each cell, guess what will happen.\n",
    "1. Complete the Jupyter Notebook online appendix.\n",
    "1. Why is it hard to use a traditional computer program to recognize images in a photo?\n",
    "1. What did Samuel mean by \"weight assignment\"?\n",
    "1. What term do we normally use in deep learning for what Samuel called \"weights\"?\n",
    "1. Draw a picture that summarizes Samuel's view of a machine learning model.\n",
    "1. Why is it hard to understand why a deep learning model makes a particular prediction?\n",
    "1. What is the name of the theorem that shows that a neural network can solve any mathematical problem to any level of accuracy?\n",
    "1. What do you need in order to train a model?\n",
    "1. How could a feedback loop impact the rollout of a predictive policing model?\n",
    "1. Do we always have to use 224×224-pixel images with the cat recognition model?\n",
    "1. What is the difference between classification and regression?\n",
    "1. What is a validation set? What is a test set? Why do we need them?\n",
    "1. What will fastai do if you don't provide a validation set?\n",
    "1. Can we always use a random sample for a validation set? Why or why not?\n",
    "1. What is overfitting? Provide an example.\n",
    "1. What is a metric? How does it differ from \"loss\"?\n",
    "1. How can pretrained models help?\n",
    "1. What is the \"head\" of a model?\n",
    "1. What kinds of features do the early layers of a CNN find? How about the later layers?\n",
    "1. Are image models only useful for photos?\n",
    "1. What is an \"architecture\"?\n",
    "1. What is segmentation?\n",
    "1. What is `y_range` used for? When do we need it?\n",
    "1. What are \"hyperparameters\"?\n",
    "1. What's the best way to avoid failures when using AI in an organization?"
   ]
  },
  {
   "cell_type": "markdown",
   "metadata": {},
   "source": [
    "### Further Research"
   ]
  },
  {
   "cell_type": "markdown",
   "metadata": {},
   "source": [
    "Each chapter also has a \"Further Research\" section that poses questions that aren't fully answered in the text, or gives more advanced assignments. Answers to these questions aren't on the book's website; you'll need to do your own research!"
   ]
  },
  {
   "cell_type": "markdown",
   "metadata": {},
   "source": [
    "1. Why is a GPU useful for deep learning? How is a CPU different, and why is it less effective for deep learning?\n",
    "1. Try to think of three areas where feedback loops might impact the use of machine learning. See if you can find documented examples of that happening in practice."
   ]
  },
  {
   "cell_type": "code",
   "execution_count": null,
   "metadata": {},
   "outputs": [],
   "source": []
  }
 ],
 "metadata": {
  "jupytext": {
   "split_at_heading": true
  },
  "kernelspec": {
   "display_name": "Python 3 (ipykernel)",
   "language": "python",
   "name": "python3"
  },
  "language_info": {
   "codemirror_mode": {
    "name": "ipython",
    "version": 3
   },
   "file_extension": ".py",
   "mimetype": "text/x-python",
   "name": "python",
   "nbconvert_exporter": "python",
   "pygments_lexer": "ipython3",
   "version": "3.10.6"
  }
 },
 "nbformat": 4,
 "nbformat_minor": 4
}
