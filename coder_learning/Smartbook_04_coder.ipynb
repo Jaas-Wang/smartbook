{
 "cells": [
  {
   "cell_type": "code",
   "execution_count": 1,
   "id": "a4f42d47-2469-446a-b121-0e3e04550dc8",
   "metadata": {},
   "outputs": [],
   "source": [
    "from fastai.vision.all import *\n",
    "from fastbook import *\n",
    "\n",
    "matplotlib.rc('image', cmap='Greys')"
   ]
  },
  {
   "cell_type": "markdown",
   "id": "5818ff6e-8102-43d5-9347-4245396b21cd",
   "metadata": {},
   "source": [
    "## 准备数据"
   ]
  },
  {
   "cell_type": "code",
   "execution_count": 2,
   "id": "3103c86c-9fc7-415d-8e1a-3acd8abba2f9",
   "metadata": {},
   "outputs": [
    {
     "data": {
      "text/html": [
       "\n",
       "<style>\n",
       "    /* Turns off some styling */\n",
       "    progress {\n",
       "        /* gets rid of default border in Firefox and Opera. */\n",
       "        border: none;\n",
       "        /* Needs to be in here for Safari polyfill so background images work as expected. */\n",
       "        background-size: auto;\n",
       "    }\n",
       "    progress:not([value]), progress:not([value])::-webkit-progress-bar {\n",
       "        background: repeating-linear-gradient(45deg, #7e7e7e, #7e7e7e 10px, #5c5c5c 10px, #5c5c5c 20px);\n",
       "    }\n",
       "    .progress-bar-interrupted, .progress-bar-interrupted::-webkit-progress-bar {\n",
       "        background: #F44336;\n",
       "    }\n",
       "</style>\n"
      ],
      "text/plain": [
       "<IPython.core.display.HTML object>"
      ]
     },
     "metadata": {},
     "output_type": "display_data"
    },
    {
     "data": {
      "text/html": [
       "\n",
       "    <div>\n",
       "      <progress value='3219456' class='' max='3214948' style='width:300px; height:20px; vertical-align: middle;'></progress>\n",
       "      100.14% [3219456/3214948 00:12&lt;00:00]\n",
       "    </div>\n",
       "    "
      ],
      "text/plain": [
       "<IPython.core.display.HTML object>"
      ]
     },
     "metadata": {},
     "output_type": "display_data"
    }
   ],
   "source": [
    "path = untar_data(URLs.MNIST_SAMPLE)"
   ]
  },
  {
   "cell_type": "code",
   "execution_count": 4,
   "id": "c0ab5e43-9e79-401f-aaaa-4c86116de536",
   "metadata": {},
   "outputs": [],
   "source": [
    "Path.BASE_PATH = path"
   ]
  },
  {
   "cell_type": "code",
   "execution_count": 5,
   "id": "f4ecefa5-3e70-4103-a5fd-28290a7e12f8",
   "metadata": {},
   "outputs": [
    {
     "data": {
      "text/plain": [
       "(#2) [Path('train/7'),Path('train/3')]"
      ]
     },
     "execution_count": 5,
     "metadata": {},
     "output_type": "execute_result"
    }
   ],
   "source": [
    "(path/'train').ls()"
   ]
  },
  {
   "cell_type": "code",
   "execution_count": 6,
   "id": "fbc62ec1-82fc-4cb3-a993-64184687fcb4",
   "metadata": {},
   "outputs": [
    {
     "data": {
      "text/plain": [
       "(#6131) [Path('train/3/10.png'),Path('train/3/10000.png'),Path('train/3/10011.png'),Path('train/3/10031.png'),Path('train/3/10034.png'),Path('train/3/10042.png'),Path('train/3/10052.png'),Path('train/3/1007.png'),Path('train/3/10074.png'),Path('train/3/10091.png'),Path('train/3/10093.png'),Path('train/3/10097.png'),Path('train/3/10099.png'),Path('train/3/10116.png'),Path('train/3/10125.png'),Path('train/3/10137.png'),Path('train/3/10141.png'),Path('train/3/10144.png'),Path('train/3/10155.png'),Path('train/3/10161.png')...]"
      ]
     },
     "execution_count": 6,
     "metadata": {},
     "output_type": "execute_result"
    }
   ],
   "source": [
    "threes = (path/'train'/'3').ls().sorted()\n",
    "sevens = (path/'train'/'7').ls().sorted()\n",
    "threes"
   ]
  },
  {
   "cell_type": "code",
   "execution_count": 7,
   "id": "15d21a7d-c5cb-4884-9b4b-f081f370b798",
   "metadata": {},
   "outputs": [
    {
     "data": {
      "image/jpeg": "[encoded data removed]",
      "image/png": "[encoded data removed]",
      "text/plain": [
       "<PIL.PngImagePlugin.PngImageFile image mode=L size=28x28>"
      ]
     },
     "execution_count": 7,
     "metadata": {},
     "output_type": "execute_result"
    }
   ],
   "source": [
    "im3_path = threes[1]\n",
    "im3 = Image.open(im3_path)\n",
    "im3"
   ]
  },
  {
   "cell_type": "code",
   "execution_count": 10,
   "id": "07796402-4587-4a8a-99d3-b4fbe88b26ea",
   "metadata": {},
   "outputs": [
    {
     "data": {
      "text/plain": [
       "array([[  0,   0,   0,   0,   0,   0,   0,   0,   0,   0,   0,   0,   0,   0,   0,   0],\n",
       "       [  0,   0,   0,   0,   0,  29, 150, 195, 254, 255, 254, 176, 193, 150,  96,   0],\n",
       "       [  0,   0,   0,  48, 166, 224, 253, 253, 234, 196, 253, 253, 253, 253, 233,   0],\n",
       "       [  0,  93, 244, 249, 253, 187,  46,  10,   8,   4,  10, 194, 253, 253, 233,   0],\n",
       "       [  0, 107, 253, 253, 230,  48,   0,   0,   0,   0,   0, 192, 253, 253, 156,   0],\n",
       "       [  0,   3,  20,  20,  15,   0,   0,   0,   0,   0,  43, 224, 253, 245,  74,   0],\n",
       "       [  0,   0,   0,   0,   0,   0,   0,   0,   0,   0, 249, 253, 245, 126,   0,   0],\n",
       "       [  0,   0,   0,   0,   0,   0,   0,  14, 101, 223, 253, 248, 124,   0,   0,   0],\n",
       "       [  0,   0,   0,   0,   0,  11, 166, 239, 253, 253, 253, 187,  30,   0,   0,   0],\n",
       "       [  0,   0,   0,   0,   0,  16, 248, 250, 253, 253, 253, 253, 232, 213, 111,   2],\n",
       "       [  0,   0,   0,   0,   0,   0,   0,  43,  98,  98, 208, 253, 253, 253, 253, 187],\n",
       "       [  0,   0,   0,   0,   0,   0,   0,   0,   0,   0,   9,  51, 119, 253, 253, 253],\n",
       "       [  0,   0,   0,   0,   0,   0,   0,   0,   0,   0,   0,   0,   1, 183, 253, 253],\n",
       "       [  0,   0,   0,   0,   0,   0,   0,   0,   0,   0,   0,   0,   0, 182, 253, 253],\n",
       "       [  0,   0,   0,   0,   0,   0,   0,   0,   0,   0,   0,   0,  85, 249, 253, 253],\n",
       "       [  0,   0,   0,   0,   0,   0,   0,   0,   0,   0,   0,  60, 214, 253, 253, 173],\n",
       "       [  0,   0,   0,   0,   0,   0,   0,   0,   0,   0,  98, 247, 253, 253, 226,   9],\n",
       "       [  0,   0,   0,   0,   0,   0,   0,   0,  42, 150, 252, 253, 253, 233,  53,   0],\n",
       "       [  0,   0,  42, 115,  42,  60, 115, 159, 240, 253, 253, 250, 175,  25,   0,   0],\n",
       "       [  0,   0, 187, 253, 253, 253, 253, 253, 253, 253, 197,  86,   0,   0,   0,   0],\n",
       "       [  0,   0, 103, 253, 253, 253, 253, 253, 232,  67,   1,   0,   0,   0,   0,   0],\n",
       "       [  0,   0,   0,   0,   0,   0,   0,   0,   0,   0,   0,   0,   0,   0,   0,   0],\n",
       "       [  0,   0,   0,   0,   0,   0,   0,   0,   0,   0,   0,   0,   0,   0,   0,   0],\n",
       "       [  0,   0,   0,   0,   0,   0,   0,   0,   0,   0,   0,   0,   0,   0,   0,   0]], dtype=uint8)"
      ]
     },
     "execution_count": 10,
     "metadata": {},
     "output_type": "execute_result"
    }
   ],
   "source": [
    "array(im3)[4:40,4:20]"
   ]
  },
  {
   "cell_type": "code",
   "execution_count": 11,
   "id": "bfd2e09f-5053-451b-a578-5263380207f7",
   "metadata": {},
   "outputs": [
    {
     "data": {
      "text/plain": [
       "tensor([[  0,   0,   0,   0,   0,   0,   0,   0,   0,   0,   0,   0,   0,   0,   0,   0],\n",
       "        [  0,   0,   0,   0,   0,  29, 150, 195, 254, 255, 254, 176, 193, 150,  96,   0],\n",
       "        [  0,   0,   0,  48, 166, 224, 253, 253, 234, 196, 253, 253, 253, 253, 233,   0],\n",
       "        [  0,  93, 244, 249, 253, 187,  46,  10,   8,   4,  10, 194, 253, 253, 233,   0],\n",
       "        [  0, 107, 253, 253, 230,  48,   0,   0,   0,   0,   0, 192, 253, 253, 156,   0],\n",
       "        [  0,   3,  20,  20,  15,   0,   0,   0,   0,   0,  43, 224, 253, 245,  74,   0],\n",
       "        [  0,   0,   0,   0,   0,   0,   0,   0,   0,   0, 249, 253, 245, 126,   0,   0],\n",
       "        [  0,   0,   0,   0,   0,   0,   0,  14, 101, 223, 253, 248, 124,   0,   0,   0],\n",
       "        [  0,   0,   0,   0,   0,  11, 166, 239, 253, 253, 253, 187,  30,   0,   0,   0],\n",
       "        [  0,   0,   0,   0,   0,  16, 248, 250, 253, 253, 253, 253, 232, 213, 111,   2],\n",
       "        [  0,   0,   0,   0,   0,   0,   0,  43,  98,  98, 208, 253, 253, 253, 253, 187],\n",
       "        [  0,   0,   0,   0,   0,   0,   0,   0,   0,   0,   9,  51, 119, 253, 253, 253],\n",
       "        [  0,   0,   0,   0,   0,   0,   0,   0,   0,   0,   0,   0,   1, 183, 253, 253],\n",
       "        [  0,   0,   0,   0,   0,   0,   0,   0,   0,   0,   0,   0,   0, 182, 253, 253],\n",
       "        [  0,   0,   0,   0,   0,   0,   0,   0,   0,   0,   0,   0,  85, 249, 253, 253],\n",
       "        [  0,   0,   0,   0,   0,   0,   0,   0,   0,   0,   0,  60, 214, 253, 253, 173],\n",
       "        [  0,   0,   0,   0,   0,   0,   0,   0,   0,   0,  98, 247, 253, 253, 226,   9],\n",
       "        [  0,   0,   0,   0,   0,   0,   0,   0,  42, 150, 252, 253, 253, 233,  53,   0],\n",
       "        [  0,   0,  42, 115,  42,  60, 115, 159, 240, 253, 253, 250, 175,  25,   0,   0],\n",
       "        [  0,   0, 187, 253, 253, 253, 253, 253, 253, 253, 197,  86,   0,   0,   0,   0],\n",
       "        [  0,   0, 103, 253, 253, 253, 253, 253, 232,  67,   1,   0,   0,   0,   0,   0],\n",
       "        [  0,   0,   0,   0,   0,   0,   0,   0,   0,   0,   0,   0,   0,   0,   0,   0],\n",
       "        [  0,   0,   0,   0,   0,   0,   0,   0,   0,   0,   0,   0,   0,   0,   0,   0],\n",
       "        [  0,   0,   0,   0,   0,   0,   0,   0,   0,   0,   0,   0,   0,   0,   0,   0]], dtype=torch.uint8)"
      ]
     },
     "execution_count": 11,
     "metadata": {},
     "output_type": "execute_result"
    }
   ],
   "source": [
    "tensor(im3)[4:40,4:20]"
   ]
  },
  {
   "cell_type": "code",
   "execution_count": 12,
   "id": "f944b58a-0d5b-468d-a487-ee80311564a7",
   "metadata": {},
   "outputs": [
    {
     "data": {
      "text/html": [
       "<style type=\"text/css\">\n",
       "#T_cc318_row0_col0, #T_cc318_row0_col1, #T_cc318_row0_col2, #T_cc318_row0_col3, #T_cc318_row0_col4, #T_cc318_row0_col5, #T_cc318_row0_col6, #T_cc318_row0_col7, #T_cc318_row0_col8, #T_cc318_row0_col9, #T_cc318_row0_col10, #T_cc318_row0_col11, #T_cc318_row0_col12, #T_cc318_row0_col13, #T_cc318_row0_col14, #T_cc318_row0_col15, #T_cc318_row0_col16, #T_cc318_row0_col17, #T_cc318_row1_col0, #T_cc318_row1_col1, #T_cc318_row1_col2, #T_cc318_row1_col3, #T_cc318_row1_col4, #T_cc318_row1_col15, #T_cc318_row1_col16, #T_cc318_row1_col17, #T_cc318_row2_col0, #T_cc318_row2_col1, #T_cc318_row2_col2, #T_cc318_row2_col15, #T_cc318_row2_col16, #T_cc318_row2_col17, #T_cc318_row3_col0, #T_cc318_row3_col15, #T_cc318_row3_col16, #T_cc318_row3_col17, #T_cc318_row4_col0, #T_cc318_row4_col6, #T_cc318_row4_col7, #T_cc318_row4_col8, #T_cc318_row4_col9, #T_cc318_row4_col10, #T_cc318_row4_col15, #T_cc318_row4_col16, #T_cc318_row4_col17, #T_cc318_row5_col0, #T_cc318_row5_col5, #T_cc318_row5_col6, #T_cc318_row5_col7, #T_cc318_row5_col8, #T_cc318_row5_col9, #T_cc318_row5_col15, #T_cc318_row5_col16, #T_cc318_row5_col17, #T_cc318_row6_col0, #T_cc318_row6_col1, #T_cc318_row6_col2, #T_cc318_row6_col3, #T_cc318_row6_col4, #T_cc318_row6_col5, #T_cc318_row6_col6, #T_cc318_row6_col7, #T_cc318_row6_col8, #T_cc318_row6_col9, #T_cc318_row6_col14, #T_cc318_row6_col15, #T_cc318_row6_col16, #T_cc318_row6_col17, #T_cc318_row7_col0, #T_cc318_row7_col1, #T_cc318_row7_col2, #T_cc318_row7_col3, #T_cc318_row7_col4, #T_cc318_row7_col5, #T_cc318_row7_col6, #T_cc318_row7_col13, #T_cc318_row7_col14, #T_cc318_row7_col15, #T_cc318_row7_col16, #T_cc318_row7_col17, #T_cc318_row8_col0, #T_cc318_row8_col1, #T_cc318_row8_col2, #T_cc318_row8_col3, #T_cc318_row8_col4, #T_cc318_row8_col13, #T_cc318_row8_col14, #T_cc318_row8_col15, #T_cc318_row8_col16, #T_cc318_row8_col17, #T_cc318_row9_col0, #T_cc318_row9_col1, #T_cc318_row9_col2, #T_cc318_row9_col3, #T_cc318_row9_col4, #T_cc318_row9_col16, #T_cc318_row9_col17, #T_cc318_row10_col0, #T_cc318_row10_col1, #T_cc318_row10_col2, #T_cc318_row10_col3, #T_cc318_row10_col4, #T_cc318_row10_col5, #T_cc318_row10_col6, #T_cc318_row10_col17, #T_cc318_row11_col0, #T_cc318_row11_col1, #T_cc318_row11_col2, #T_cc318_row11_col3, #T_cc318_row11_col4, #T_cc318_row11_col5, #T_cc318_row11_col6, #T_cc318_row11_col7, #T_cc318_row11_col8, #T_cc318_row11_col9, #T_cc318_row11_col17, #T_cc318_row12_col0, #T_cc318_row12_col1, #T_cc318_row12_col2, #T_cc318_row12_col3, #T_cc318_row12_col4, #T_cc318_row12_col5, #T_cc318_row12_col6, #T_cc318_row12_col7, #T_cc318_row12_col8, #T_cc318_row12_col9, #T_cc318_row12_col10, #T_cc318_row12_col11, #T_cc318_row12_col12, #T_cc318_row12_col17, #T_cc318_row13_col0, #T_cc318_row13_col1, #T_cc318_row13_col2, #T_cc318_row13_col3, #T_cc318_row13_col4, #T_cc318_row13_col5, #T_cc318_row13_col6, #T_cc318_row13_col7, #T_cc318_row13_col8, #T_cc318_row13_col9, #T_cc318_row13_col10, #T_cc318_row13_col11, #T_cc318_row13_col12, #T_cc318_row13_col17, #T_cc318_row14_col0, #T_cc318_row14_col1, #T_cc318_row14_col2, #T_cc318_row14_col3, #T_cc318_row14_col4, #T_cc318_row14_col5, #T_cc318_row14_col6, #T_cc318_row14_col7, #T_cc318_row14_col8, #T_cc318_row14_col9, #T_cc318_row14_col10, #T_cc318_row14_col11, #T_cc318_row14_col17, #T_cc318_row15_col0, #T_cc318_row15_col1, #T_cc318_row15_col2, #T_cc318_row15_col3, #T_cc318_row15_col4, #T_cc318_row15_col5, #T_cc318_row15_col6, #T_cc318_row15_col7, #T_cc318_row15_col8, #T_cc318_row15_col9, #T_cc318_row15_col10, #T_cc318_row15_col17, #T_cc318_row16_col0, #T_cc318_row16_col1, #T_cc318_row16_col2, #T_cc318_row16_col3, #T_cc318_row16_col4, #T_cc318_row16_col5, #T_cc318_row16_col6, #T_cc318_row16_col7, #T_cc318_row16_col8, #T_cc318_row16_col9, #T_cc318_row16_col16, #T_cc318_row16_col17, #T_cc318_row17_col0, #T_cc318_row17_col1, #T_cc318_row17_col2, #T_cc318_row17_col3, #T_cc318_row17_col4, #T_cc318_row17_col5, #T_cc318_row17_col6, #T_cc318_row17_col7, #T_cc318_row17_col15, #T_cc318_row17_col16, #T_cc318_row17_col17, #T_cc318_row18_col0, #T_cc318_row18_col1, #T_cc318_row18_col14, #T_cc318_row18_col15, #T_cc318_row18_col16, #T_cc318_row18_col17, #T_cc318_row19_col0, #T_cc318_row19_col1, #T_cc318_row19_col12, #T_cc318_row19_col13, #T_cc318_row19_col14, #T_cc318_row19_col15, #T_cc318_row19_col16, #T_cc318_row19_col17, #T_cc318_row20_col0, #T_cc318_row20_col1, #T_cc318_row20_col10, #T_cc318_row20_col11, #T_cc318_row20_col12, #T_cc318_row20_col13, #T_cc318_row20_col14, #T_cc318_row20_col15, #T_cc318_row20_col16, #T_cc318_row20_col17, #T_cc318_row21_col0, #T_cc318_row21_col1, #T_cc318_row21_col2, #T_cc318_row21_col3, #T_cc318_row21_col4, #T_cc318_row21_col5, #T_cc318_row21_col6, #T_cc318_row21_col7, #T_cc318_row21_col8, #T_cc318_row21_col9, #T_cc318_row21_col10, #T_cc318_row21_col11, #T_cc318_row21_col12, #T_cc318_row21_col13, #T_cc318_row21_col14, #T_cc318_row21_col15, #T_cc318_row21_col16, #T_cc318_row21_col17, #T_cc318_row22_col0, #T_cc318_row22_col1, #T_cc318_row22_col2, #T_cc318_row22_col3, #T_cc318_row22_col4, #T_cc318_row22_col5, #T_cc318_row22_col6, #T_cc318_row22_col7, #T_cc318_row22_col8, #T_cc318_row22_col9, #T_cc318_row22_col10, #T_cc318_row22_col11, #T_cc318_row22_col12, #T_cc318_row22_col13, #T_cc318_row22_col14, #T_cc318_row22_col15, #T_cc318_row22_col16, #T_cc318_row22_col17, #T_cc318_row23_col0, #T_cc318_row23_col1, #T_cc318_row23_col2, #T_cc318_row23_col3, #T_cc318_row23_col4, #T_cc318_row23_col5, #T_cc318_row23_col6, #T_cc318_row23_col7, #T_cc318_row23_col8, #T_cc318_row23_col9, #T_cc318_row23_col10, #T_cc318_row23_col11, #T_cc318_row23_col12, #T_cc318_row23_col13, #T_cc318_row23_col14, #T_cc318_row23_col15, #T_cc318_row23_col16, #T_cc318_row23_col17 {\n",
       "  font-size: 6pt;\n",
       "  background-color: #ffffff;\n",
       "  color: #000000;\n",
       "}\n",
       "#T_cc318_row1_col5, #T_cc318_row8_col12 {\n",
       "  font-size: 6pt;\n",
       "  background-color: #f1f1f1;\n",
       "  color: #000000;\n",
       "}\n",
       "#T_cc318_row1_col6, #T_cc318_row1_col13 {\n",
       "  font-size: 6pt;\n",
       "  background-color: #7c7c7c;\n",
       "  color: #f1f1f1;\n",
       "}\n",
       "#T_cc318_row1_col7 {\n",
       "  font-size: 6pt;\n",
       "  background-color: #4a4a4a;\n",
       "  color: #f1f1f1;\n",
       "}\n",
       "#T_cc318_row1_col8, #T_cc318_row1_col9, #T_cc318_row1_col10, #T_cc318_row2_col6, #T_cc318_row2_col7, #T_cc318_row2_col11, #T_cc318_row2_col12, #T_cc318_row2_col13, #T_cc318_row3_col4, #T_cc318_row3_col12, #T_cc318_row3_col13, #T_cc318_row4_col1, #T_cc318_row4_col2, #T_cc318_row4_col3, #T_cc318_row4_col12, #T_cc318_row4_col13, #T_cc318_row5_col12, #T_cc318_row6_col11, #T_cc318_row9_col11, #T_cc318_row10_col11, #T_cc318_row10_col12, #T_cc318_row10_col13, #T_cc318_row10_col14, #T_cc318_row11_col13, #T_cc318_row11_col14, #T_cc318_row11_col15, #T_cc318_row12_col14, #T_cc318_row12_col15, #T_cc318_row12_col16, #T_cc318_row13_col14, #T_cc318_row13_col15, #T_cc318_row14_col14, #T_cc318_row14_col15, #T_cc318_row15_col13, #T_cc318_row15_col14, #T_cc318_row16_col12, #T_cc318_row16_col13, #T_cc318_row17_col11, #T_cc318_row17_col12, #T_cc318_row19_col3, #T_cc318_row19_col4, #T_cc318_row19_col5, #T_cc318_row19_col6, #T_cc318_row19_col7, #T_cc318_row20_col3, #T_cc318_row20_col4, #T_cc318_row20_col5, #T_cc318_row20_col6, #T_cc318_row20_col7 {\n",
       "  font-size: 6pt;\n",
       "  background-color: #000000;\n",
       "  color: #f1f1f1;\n",
       "}\n",
       "#T_cc318_row1_col11 {\n",
       "  font-size: 6pt;\n",
       "  background-color: #606060;\n",
       "  color: #f1f1f1;\n",
       "}\n",
       "#T_cc318_row1_col12 {\n",
       "  font-size: 6pt;\n",
       "  background-color: #4d4d4d;\n",
       "  color: #f1f1f1;\n",
       "}\n",
       "#T_cc318_row1_col14 {\n",
       "  font-size: 6pt;\n",
       "  background-color: #bbbbbb;\n",
       "  color: #000000;\n",
       "}\n",
       "#T_cc318_row2_col3, #T_cc318_row4_col5 {\n",
       "  font-size: 6pt;\n",
       "  background-color: #e4e4e4;\n",
       "  color: #000000;\n",
       "}\n",
       "#T_cc318_row2_col4, #T_cc318_row8_col6 {\n",
       "  font-size: 6pt;\n",
       "  background-color: #6b6b6b;\n",
       "  color: #f1f1f1;\n",
       "}\n",
       "#T_cc318_row2_col5, #T_cc318_row5_col11 {\n",
       "  font-size: 6pt;\n",
       "  background-color: #222222;\n",
       "  color: #f1f1f1;\n",
       "}\n",
       "#T_cc318_row2_col8, #T_cc318_row2_col14, #T_cc318_row3_col14, #T_cc318_row17_col13 {\n",
       "  font-size: 6pt;\n",
       "  background-color: #171717;\n",
       "  color: #f1f1f1;\n",
       "}\n",
       "#T_cc318_row2_col9, #T_cc318_row3_col11 {\n",
       "  font-size: 6pt;\n",
       "  background-color: #4b4b4b;\n",
       "  color: #f1f1f1;\n",
       "}\n",
       "#T_cc318_row2_col10, #T_cc318_row7_col10, #T_cc318_row8_col8, #T_cc318_row8_col10, #T_cc318_row9_col8, #T_cc318_row9_col10, #T_cc318_row18_col10, #T_cc318_row19_col8 {\n",
       "  font-size: 6pt;\n",
       "  background-color: #010101;\n",
       "  color: #f1f1f1;\n",
       "}\n",
       "#T_cc318_row3_col1 {\n",
       "  font-size: 6pt;\n",
       "  background-color: #272727;\n",
       "  color: #f1f1f1;\n",
       "}\n",
       "#T_cc318_row3_col2 {\n",
       "  font-size: 6pt;\n",
       "  background-color: #0a0a0a;\n",
       "  color: #f1f1f1;\n",
       "}\n",
       "#T_cc318_row3_col3, #T_cc318_row14_col13 {\n",
       "  font-size: 6pt;\n",
       "  background-color: #050505;\n",
       "  color: #f1f1f1;\n",
       "}\n",
       "#T_cc318_row3_col5, #T_cc318_row8_col11, #T_cc318_row10_col15, #T_cc318_row19_col2 {\n",
       "  font-size: 6pt;\n",
       "  background-color: #545454;\n",
       "  color: #f1f1f1;\n",
       "}\n",
       "#T_cc318_row3_col6 {\n",
       "  font-size: 6pt;\n",
       "  background-color: #e6e6e6;\n",
       "  color: #000000;\n",
       "}\n",
       "#T_cc318_row3_col7, #T_cc318_row3_col10, #T_cc318_row8_col5 {\n",
       "  font-size: 6pt;\n",
       "  background-color: #fafafa;\n",
       "  color: #000000;\n",
       "}\n",
       "#T_cc318_row3_col8, #T_cc318_row11_col10, #T_cc318_row16_col15 {\n",
       "  font-size: 6pt;\n",
       "  background-color: #fbfbfb;\n",
       "  color: #000000;\n",
       "}\n",
       "#T_cc318_row3_col9 {\n",
       "  font-size: 6pt;\n",
       "  background-color: #fdfdfd;\n",
       "  color: #000000;\n",
       "}\n",
       "#T_cc318_row4_col4 {\n",
       "  font-size: 6pt;\n",
       "  background-color: #1b1b1b;\n",
       "  color: #f1f1f1;\n",
       "}\n",
       "#T_cc318_row4_col11 {\n",
       "  font-size: 6pt;\n",
       "  background-color: #4e4e4e;\n",
       "  color: #f1f1f1;\n",
       "}\n",
       "#T_cc318_row4_col14 {\n",
       "  font-size: 6pt;\n",
       "  background-color: #767676;\n",
       "  color: #f1f1f1;\n",
       "}\n",
       "#T_cc318_row5_col1 {\n",
       "  font-size: 6pt;\n",
       "  background-color: #fcfcfc;\n",
       "  color: #000000;\n",
       "}\n",
       "#T_cc318_row5_col2, #T_cc318_row5_col3, #T_cc318_row15_col16 {\n",
       "  font-size: 6pt;\n",
       "  background-color: #f6f6f6;\n",
       "  color: #000000;\n",
       "}\n",
       "#T_cc318_row5_col4, #T_cc318_row7_col7 {\n",
       "  font-size: 6pt;\n",
       "  background-color: #f8f8f8;\n",
       "  color: #000000;\n",
       "}\n",
       "#T_cc318_row5_col10, #T_cc318_row10_col7 {\n",
       "  font-size: 6pt;\n",
       "  background-color: #e8e8e8;\n",
       "  color: #000000;\n",
       "}\n",
       "#T_cc318_row5_col13, #T_cc318_row6_col12 {\n",
       "  font-size: 6pt;\n",
       "  background-color: #090909;\n",
       "  color: #f1f1f1;\n",
       "}\n",
       "#T_cc318_row5_col14 {\n",
       "  font-size: 6pt;\n",
       "  background-color: #d0d0d0;\n",
       "  color: #000000;\n",
       "}\n",
       "#T_cc318_row6_col10, #T_cc318_row7_col11, #T_cc318_row9_col6 {\n",
       "  font-size: 6pt;\n",
       "  background-color: #060606;\n",
       "  color: #f1f1f1;\n",
       "}\n",
       "#T_cc318_row6_col13 {\n",
       "  font-size: 6pt;\n",
       "  background-color: #979797;\n",
       "  color: #f1f1f1;\n",
       "}\n",
       "#T_cc318_row7_col8 {\n",
       "  font-size: 6pt;\n",
       "  background-color: #b6b6b6;\n",
       "  color: #000000;\n",
       "}\n",
       "#T_cc318_row7_col9 {\n",
       "  font-size: 6pt;\n",
       "  background-color: #252525;\n",
       "  color: #f1f1f1;\n",
       "}\n",
       "#T_cc318_row7_col12 {\n",
       "  font-size: 6pt;\n",
       "  background-color: #999999;\n",
       "  color: #f1f1f1;\n",
       "}\n",
       "#T_cc318_row8_col7, #T_cc318_row18_col8 {\n",
       "  font-size: 6pt;\n",
       "  background-color: #101010;\n",
       "  color: #f1f1f1;\n",
       "}\n",
       "#T_cc318_row8_col9, #T_cc318_row9_col9, #T_cc318_row17_col10, #T_cc318_row18_col9, #T_cc318_row19_col9 {\n",
       "  font-size: 6pt;\n",
       "  background-color: #020202;\n",
       "  color: #f1f1f1;\n",
       "}\n",
       "#T_cc318_row9_col5 {\n",
       "  font-size: 6pt;\n",
       "  background-color: #f7f7f7;\n",
       "  color: #000000;\n",
       "}\n",
       "#T_cc318_row9_col7, #T_cc318_row18_col11 {\n",
       "  font-size: 6pt;\n",
       "  background-color: #030303;\n",
       "  color: #f1f1f1;\n",
       "}\n",
       "#T_cc318_row9_col12 {\n",
       "  font-size: 6pt;\n",
       "  background-color: #181818;\n",
       "  color: #f1f1f1;\n",
       "}\n",
       "#T_cc318_row9_col13 {\n",
       "  font-size: 6pt;\n",
       "  background-color: #303030;\n",
       "  color: #f1f1f1;\n",
       "}\n",
       "#T_cc318_row9_col14 {\n",
       "  font-size: 6pt;\n",
       "  background-color: #a9a9a9;\n",
       "  color: #f1f1f1;\n",
       "}\n",
       "#T_cc318_row9_col15 {\n",
       "  font-size: 6pt;\n",
       "  background-color: #fefefe;\n",
       "  color: #000000;\n",
       "}\n",
       "#T_cc318_row10_col8, #T_cc318_row10_col9, #T_cc318_row16_col10 {\n",
       "  font-size: 6pt;\n",
       "  background-color: #bababa;\n",
       "  color: #000000;\n",
       "}\n",
       "#T_cc318_row10_col10 {\n",
       "  font-size: 6pt;\n",
       "  background-color: #393939;\n",
       "  color: #f1f1f1;\n",
       "}\n",
       "#T_cc318_row10_col16 {\n",
       "  font-size: 6pt;\n",
       "  background-color: #eaeaea;\n",
       "  color: #000000;\n",
       "}\n",
       "#T_cc318_row11_col11 {\n",
       "  font-size: 6pt;\n",
       "  background-color: #e2e2e2;\n",
       "  color: #000000;\n",
       "}\n",
       "#T_cc318_row11_col12 {\n",
       "  font-size: 6pt;\n",
       "  background-color: #9f9f9f;\n",
       "  color: #f1f1f1;\n",
       "}\n",
       "#T_cc318_row11_col16 {\n",
       "  font-size: 6pt;\n",
       "  background-color: #898989;\n",
       "  color: #f1f1f1;\n",
       "}\n",
       "#T_cc318_row12_col13 {\n",
       "  font-size: 6pt;\n",
       "  background-color: #585858;\n",
       "  color: #f1f1f1;\n",
       "}\n",
       "#T_cc318_row13_col13 {\n",
       "  font-size: 6pt;\n",
       "  background-color: #5a5a5a;\n",
       "  color: #f1f1f1;\n",
       "}\n",
       "#T_cc318_row13_col16 {\n",
       "  font-size: 6pt;\n",
       "  background-color: #525252;\n",
       "  color: #f1f1f1;\n",
       "}\n",
       "#T_cc318_row14_col12, #T_cc318_row19_col11 {\n",
       "  font-size: 6pt;\n",
       "  background-color: #c5c5c5;\n",
       "  color: #000000;\n",
       "}\n",
       "#T_cc318_row14_col16 {\n",
       "  font-size: 6pt;\n",
       "  background-color: #d7d7d7;\n",
       "  color: #000000;\n",
       "}\n",
       "#T_cc318_row15_col11, #T_cc318_row18_col5 {\n",
       "  font-size: 6pt;\n",
       "  background-color: #dcdcdc;\n",
       "  color: #000000;\n",
       "}\n",
       "#T_cc318_row15_col12 {\n",
       "  font-size: 6pt;\n",
       "  background-color: #2f2f2f;\n",
       "  color: #f1f1f1;\n",
       "}\n",
       "#T_cc318_row15_col15 {\n",
       "  font-size: 6pt;\n",
       "  background-color: #636363;\n",
       "  color: #f1f1f1;\n",
       "}\n",
       "#T_cc318_row16_col11 {\n",
       "  font-size: 6pt;\n",
       "  background-color: #070707;\n",
       "  color: #f1f1f1;\n",
       "}\n",
       "#T_cc318_row16_col14 {\n",
       "  font-size: 6pt;\n",
       "  background-color: #1f1f1f;\n",
       "  color: #f1f1f1;\n",
       "}\n",
       "#T_cc318_row17_col8, #T_cc318_row18_col2, #T_cc318_row18_col4 {\n",
       "  font-size: 6pt;\n",
       "  background-color: #e9e9e9;\n",
       "  color: #000000;\n",
       "}\n",
       "#T_cc318_row17_col9 {\n",
       "  font-size: 6pt;\n",
       "  background-color: #7d7d7d;\n",
       "  color: #f1f1f1;\n",
       "}\n",
       "#T_cc318_row17_col14 {\n",
       "  font-size: 6pt;\n",
       "  background-color: #e1e1e1;\n",
       "  color: #000000;\n",
       "}\n",
       "#T_cc318_row18_col3, #T_cc318_row18_col6 {\n",
       "  font-size: 6pt;\n",
       "  background-color: #a4a4a4;\n",
       "  color: #f1f1f1;\n",
       "}\n",
       "#T_cc318_row18_col7 {\n",
       "  font-size: 6pt;\n",
       "  background-color: #727272;\n",
       "  color: #f1f1f1;\n",
       "}\n",
       "#T_cc318_row18_col12 {\n",
       "  font-size: 6pt;\n",
       "  background-color: #616161;\n",
       "  color: #f1f1f1;\n",
       "}\n",
       "#T_cc318_row18_col13 {\n",
       "  font-size: 6pt;\n",
       "  background-color: #f3f3f3;\n",
       "  color: #000000;\n",
       "}\n",
       "#T_cc318_row19_col10 {\n",
       "  font-size: 6pt;\n",
       "  background-color: #484848;\n",
       "  color: #f1f1f1;\n",
       "}\n",
       "#T_cc318_row20_col2 {\n",
       "  font-size: 6pt;\n",
       "  background-color: #b3b3b3;\n",
       "  color: #000000;\n",
       "}\n",
       "#T_cc318_row20_col8 {\n",
       "  font-size: 6pt;\n",
       "  background-color: #1a1a1a;\n",
       "  color: #f1f1f1;\n",
       "}\n",
       "#T_cc318_row20_col9 {\n",
       "  font-size: 6pt;\n",
       "  background-color: #d6d6d6;\n",
       "  color: #000000;\n",
       "}\n",
       "</style>\n",
       "<table id=\"T_cc318\">\n",
       "  <thead>\n",
       "    <tr>\n",
       "      <th class=\"blank level0\" >&nbsp;</th>\n",
       "      <th id=\"T_cc318_level0_col0\" class=\"col_heading level0 col0\" >0</th>\n",
       "      <th id=\"T_cc318_level0_col1\" class=\"col_heading level0 col1\" >1</th>\n",
       "      <th id=\"T_cc318_level0_col2\" class=\"col_heading level0 col2\" >2</th>\n",
       "      <th id=\"T_cc318_level0_col3\" class=\"col_heading level0 col3\" >3</th>\n",
       "      <th id=\"T_cc318_level0_col4\" class=\"col_heading level0 col4\" >4</th>\n",
       "      <th id=\"T_cc318_level0_col5\" class=\"col_heading level0 col5\" >5</th>\n",
       "      <th id=\"T_cc318_level0_col6\" class=\"col_heading level0 col6\" >6</th>\n",
       "      <th id=\"T_cc318_level0_col7\" class=\"col_heading level0 col7\" >7</th>\n",
       "      <th id=\"T_cc318_level0_col8\" class=\"col_heading level0 col8\" >8</th>\n",
       "      <th id=\"T_cc318_level0_col9\" class=\"col_heading level0 col9\" >9</th>\n",
       "      <th id=\"T_cc318_level0_col10\" class=\"col_heading level0 col10\" >10</th>\n",
       "      <th id=\"T_cc318_level0_col11\" class=\"col_heading level0 col11\" >11</th>\n",
       "      <th id=\"T_cc318_level0_col12\" class=\"col_heading level0 col12\" >12</th>\n",
       "      <th id=\"T_cc318_level0_col13\" class=\"col_heading level0 col13\" >13</th>\n",
       "      <th id=\"T_cc318_level0_col14\" class=\"col_heading level0 col14\" >14</th>\n",
       "      <th id=\"T_cc318_level0_col15\" class=\"col_heading level0 col15\" >15</th>\n",
       "      <th id=\"T_cc318_level0_col16\" class=\"col_heading level0 col16\" >16</th>\n",
       "      <th id=\"T_cc318_level0_col17\" class=\"col_heading level0 col17\" >17</th>\n",
       "    </tr>\n",
       "  </thead>\n",
       "  <tbody>\n",
       "    <tr>\n",
       "      <th id=\"T_cc318_level0_row0\" class=\"row_heading level0 row0\" >0</th>\n",
       "      <td id=\"T_cc318_row0_col0\" class=\"data row0 col0\" >0</td>\n",
       "      <td id=\"T_cc318_row0_col1\" class=\"data row0 col1\" >0</td>\n",
       "      <td id=\"T_cc318_row0_col2\" class=\"data row0 col2\" >0</td>\n",
       "      <td id=\"T_cc318_row0_col3\" class=\"data row0 col3\" >0</td>\n",
       "      <td id=\"T_cc318_row0_col4\" class=\"data row0 col4\" >0</td>\n",
       "      <td id=\"T_cc318_row0_col5\" class=\"data row0 col5\" >0</td>\n",
       "      <td id=\"T_cc318_row0_col6\" class=\"data row0 col6\" >0</td>\n",
       "      <td id=\"T_cc318_row0_col7\" class=\"data row0 col7\" >0</td>\n",
       "      <td id=\"T_cc318_row0_col8\" class=\"data row0 col8\" >0</td>\n",
       "      <td id=\"T_cc318_row0_col9\" class=\"data row0 col9\" >0</td>\n",
       "      <td id=\"T_cc318_row0_col10\" class=\"data row0 col10\" >0</td>\n",
       "      <td id=\"T_cc318_row0_col11\" class=\"data row0 col11\" >0</td>\n",
       "      <td id=\"T_cc318_row0_col12\" class=\"data row0 col12\" >0</td>\n",
       "      <td id=\"T_cc318_row0_col13\" class=\"data row0 col13\" >0</td>\n",
       "      <td id=\"T_cc318_row0_col14\" class=\"data row0 col14\" >0</td>\n",
       "      <td id=\"T_cc318_row0_col15\" class=\"data row0 col15\" >0</td>\n",
       "      <td id=\"T_cc318_row0_col16\" class=\"data row0 col16\" >0</td>\n",
       "      <td id=\"T_cc318_row0_col17\" class=\"data row0 col17\" >0</td>\n",
       "    </tr>\n",
       "    <tr>\n",
       "      <th id=\"T_cc318_level0_row1\" class=\"row_heading level0 row1\" >1</th>\n",
       "      <td id=\"T_cc318_row1_col0\" class=\"data row1 col0\" >0</td>\n",
       "      <td id=\"T_cc318_row1_col1\" class=\"data row1 col1\" >0</td>\n",
       "      <td id=\"T_cc318_row1_col2\" class=\"data row1 col2\" >0</td>\n",
       "      <td id=\"T_cc318_row1_col3\" class=\"data row1 col3\" >0</td>\n",
       "      <td id=\"T_cc318_row1_col4\" class=\"data row1 col4\" >0</td>\n",
       "      <td id=\"T_cc318_row1_col5\" class=\"data row1 col5\" >29</td>\n",
       "      <td id=\"T_cc318_row1_col6\" class=\"data row1 col6\" >150</td>\n",
       "      <td id=\"T_cc318_row1_col7\" class=\"data row1 col7\" >195</td>\n",
       "      <td id=\"T_cc318_row1_col8\" class=\"data row1 col8\" >254</td>\n",
       "      <td id=\"T_cc318_row1_col9\" class=\"data row1 col9\" >255</td>\n",
       "      <td id=\"T_cc318_row1_col10\" class=\"data row1 col10\" >254</td>\n",
       "      <td id=\"T_cc318_row1_col11\" class=\"data row1 col11\" >176</td>\n",
       "      <td id=\"T_cc318_row1_col12\" class=\"data row1 col12\" >193</td>\n",
       "      <td id=\"T_cc318_row1_col13\" class=\"data row1 col13\" >150</td>\n",
       "      <td id=\"T_cc318_row1_col14\" class=\"data row1 col14\" >96</td>\n",
       "      <td id=\"T_cc318_row1_col15\" class=\"data row1 col15\" >0</td>\n",
       "      <td id=\"T_cc318_row1_col16\" class=\"data row1 col16\" >0</td>\n",
       "      <td id=\"T_cc318_row1_col17\" class=\"data row1 col17\" >0</td>\n",
       "    </tr>\n",
       "    <tr>\n",
       "      <th id=\"T_cc318_level0_row2\" class=\"row_heading level0 row2\" >2</th>\n",
       "      <td id=\"T_cc318_row2_col0\" class=\"data row2 col0\" >0</td>\n",
       "      <td id=\"T_cc318_row2_col1\" class=\"data row2 col1\" >0</td>\n",
       "      <td id=\"T_cc318_row2_col2\" class=\"data row2 col2\" >0</td>\n",
       "      <td id=\"T_cc318_row2_col3\" class=\"data row2 col3\" >48</td>\n",
       "      <td id=\"T_cc318_row2_col4\" class=\"data row2 col4\" >166</td>\n",
       "      <td id=\"T_cc318_row2_col5\" class=\"data row2 col5\" >224</td>\n",
       "      <td id=\"T_cc318_row2_col6\" class=\"data row2 col6\" >253</td>\n",
       "      <td id=\"T_cc318_row2_col7\" class=\"data row2 col7\" >253</td>\n",
       "      <td id=\"T_cc318_row2_col8\" class=\"data row2 col8\" >234</td>\n",
       "      <td id=\"T_cc318_row2_col9\" class=\"data row2 col9\" >196</td>\n",
       "      <td id=\"T_cc318_row2_col10\" class=\"data row2 col10\" >253</td>\n",
       "      <td id=\"T_cc318_row2_col11\" class=\"data row2 col11\" >253</td>\n",
       "      <td id=\"T_cc318_row2_col12\" class=\"data row2 col12\" >253</td>\n",
       "      <td id=\"T_cc318_row2_col13\" class=\"data row2 col13\" >253</td>\n",
       "      <td id=\"T_cc318_row2_col14\" class=\"data row2 col14\" >233</td>\n",
       "      <td id=\"T_cc318_row2_col15\" class=\"data row2 col15\" >0</td>\n",
       "      <td id=\"T_cc318_row2_col16\" class=\"data row2 col16\" >0</td>\n",
       "      <td id=\"T_cc318_row2_col17\" class=\"data row2 col17\" >0</td>\n",
       "    </tr>\n",
       "    <tr>\n",
       "      <th id=\"T_cc318_level0_row3\" class=\"row_heading level0 row3\" >3</th>\n",
       "      <td id=\"T_cc318_row3_col0\" class=\"data row3 col0\" >0</td>\n",
       "      <td id=\"T_cc318_row3_col1\" class=\"data row3 col1\" >93</td>\n",
       "      <td id=\"T_cc318_row3_col2\" class=\"data row3 col2\" >244</td>\n",
       "      <td id=\"T_cc318_row3_col3\" class=\"data row3 col3\" >249</td>\n",
       "      <td id=\"T_cc318_row3_col4\" class=\"data row3 col4\" >253</td>\n",
       "      <td id=\"T_cc318_row3_col5\" class=\"data row3 col5\" >187</td>\n",
       "      <td id=\"T_cc318_row3_col6\" class=\"data row3 col6\" >46</td>\n",
       "      <td id=\"T_cc318_row3_col7\" class=\"data row3 col7\" >10</td>\n",
       "      <td id=\"T_cc318_row3_col8\" class=\"data row3 col8\" >8</td>\n",
       "      <td id=\"T_cc318_row3_col9\" class=\"data row3 col9\" >4</td>\n",
       "      <td id=\"T_cc318_row3_col10\" class=\"data row3 col10\" >10</td>\n",
       "      <td id=\"T_cc318_row3_col11\" class=\"data row3 col11\" >194</td>\n",
       "      <td id=\"T_cc318_row3_col12\" class=\"data row3 col12\" >253</td>\n",
       "      <td id=\"T_cc318_row3_col13\" class=\"data row3 col13\" >253</td>\n",
       "      <td id=\"T_cc318_row3_col14\" class=\"data row3 col14\" >233</td>\n",
       "      <td id=\"T_cc318_row3_col15\" class=\"data row3 col15\" >0</td>\n",
       "      <td id=\"T_cc318_row3_col16\" class=\"data row3 col16\" >0</td>\n",
       "      <td id=\"T_cc318_row3_col17\" class=\"data row3 col17\" >0</td>\n",
       "    </tr>\n",
       "    <tr>\n",
       "      <th id=\"T_cc318_level0_row4\" class=\"row_heading level0 row4\" >4</th>\n",
       "      <td id=\"T_cc318_row4_col0\" class=\"data row4 col0\" >0</td>\n",
       "      <td id=\"T_cc318_row4_col1\" class=\"data row4 col1\" >107</td>\n",
       "      <td id=\"T_cc318_row4_col2\" class=\"data row4 col2\" >253</td>\n",
       "      <td id=\"T_cc318_row4_col3\" class=\"data row4 col3\" >253</td>\n",
       "      <td id=\"T_cc318_row4_col4\" class=\"data row4 col4\" >230</td>\n",
       "      <td id=\"T_cc318_row4_col5\" class=\"data row4 col5\" >48</td>\n",
       "      <td id=\"T_cc318_row4_col6\" class=\"data row4 col6\" >0</td>\n",
       "      <td id=\"T_cc318_row4_col7\" class=\"data row4 col7\" >0</td>\n",
       "      <td id=\"T_cc318_row4_col8\" class=\"data row4 col8\" >0</td>\n",
       "      <td id=\"T_cc318_row4_col9\" class=\"data row4 col9\" >0</td>\n",
       "      <td id=\"T_cc318_row4_col10\" class=\"data row4 col10\" >0</td>\n",
       "      <td id=\"T_cc318_row4_col11\" class=\"data row4 col11\" >192</td>\n",
       "      <td id=\"T_cc318_row4_col12\" class=\"data row4 col12\" >253</td>\n",
       "      <td id=\"T_cc318_row4_col13\" class=\"data row4 col13\" >253</td>\n",
       "      <td id=\"T_cc318_row4_col14\" class=\"data row4 col14\" >156</td>\n",
       "      <td id=\"T_cc318_row4_col15\" class=\"data row4 col15\" >0</td>\n",
       "      <td id=\"T_cc318_row4_col16\" class=\"data row4 col16\" >0</td>\n",
       "      <td id=\"T_cc318_row4_col17\" class=\"data row4 col17\" >0</td>\n",
       "    </tr>\n",
       "    <tr>\n",
       "      <th id=\"T_cc318_level0_row5\" class=\"row_heading level0 row5\" >5</th>\n",
       "      <td id=\"T_cc318_row5_col0\" class=\"data row5 col0\" >0</td>\n",
       "      <td id=\"T_cc318_row5_col1\" class=\"data row5 col1\" >3</td>\n",
       "      <td id=\"T_cc318_row5_col2\" class=\"data row5 col2\" >20</td>\n",
       "      <td id=\"T_cc318_row5_col3\" class=\"data row5 col3\" >20</td>\n",
       "      <td id=\"T_cc318_row5_col4\" class=\"data row5 col4\" >15</td>\n",
       "      <td id=\"T_cc318_row5_col5\" class=\"data row5 col5\" >0</td>\n",
       "      <td id=\"T_cc318_row5_col6\" class=\"data row5 col6\" >0</td>\n",
       "      <td id=\"T_cc318_row5_col7\" class=\"data row5 col7\" >0</td>\n",
       "      <td id=\"T_cc318_row5_col8\" class=\"data row5 col8\" >0</td>\n",
       "      <td id=\"T_cc318_row5_col9\" class=\"data row5 col9\" >0</td>\n",
       "      <td id=\"T_cc318_row5_col10\" class=\"data row5 col10\" >43</td>\n",
       "      <td id=\"T_cc318_row5_col11\" class=\"data row5 col11\" >224</td>\n",
       "      <td id=\"T_cc318_row5_col12\" class=\"data row5 col12\" >253</td>\n",
       "      <td id=\"T_cc318_row5_col13\" class=\"data row5 col13\" >245</td>\n",
       "      <td id=\"T_cc318_row5_col14\" class=\"data row5 col14\" >74</td>\n",
       "      <td id=\"T_cc318_row5_col15\" class=\"data row5 col15\" >0</td>\n",
       "      <td id=\"T_cc318_row5_col16\" class=\"data row5 col16\" >0</td>\n",
       "      <td id=\"T_cc318_row5_col17\" class=\"data row5 col17\" >0</td>\n",
       "    </tr>\n",
       "    <tr>\n",
       "      <th id=\"T_cc318_level0_row6\" class=\"row_heading level0 row6\" >6</th>\n",
       "      <td id=\"T_cc318_row6_col0\" class=\"data row6 col0\" >0</td>\n",
       "      <td id=\"T_cc318_row6_col1\" class=\"data row6 col1\" >0</td>\n",
       "      <td id=\"T_cc318_row6_col2\" class=\"data row6 col2\" >0</td>\n",
       "      <td id=\"T_cc318_row6_col3\" class=\"data row6 col3\" >0</td>\n",
       "      <td id=\"T_cc318_row6_col4\" class=\"data row6 col4\" >0</td>\n",
       "      <td id=\"T_cc318_row6_col5\" class=\"data row6 col5\" >0</td>\n",
       "      <td id=\"T_cc318_row6_col6\" class=\"data row6 col6\" >0</td>\n",
       "      <td id=\"T_cc318_row6_col7\" class=\"data row6 col7\" >0</td>\n",
       "      <td id=\"T_cc318_row6_col8\" class=\"data row6 col8\" >0</td>\n",
       "      <td id=\"T_cc318_row6_col9\" class=\"data row6 col9\" >0</td>\n",
       "      <td id=\"T_cc318_row6_col10\" class=\"data row6 col10\" >249</td>\n",
       "      <td id=\"T_cc318_row6_col11\" class=\"data row6 col11\" >253</td>\n",
       "      <td id=\"T_cc318_row6_col12\" class=\"data row6 col12\" >245</td>\n",
       "      <td id=\"T_cc318_row6_col13\" class=\"data row6 col13\" >126</td>\n",
       "      <td id=\"T_cc318_row6_col14\" class=\"data row6 col14\" >0</td>\n",
       "      <td id=\"T_cc318_row6_col15\" class=\"data row6 col15\" >0</td>\n",
       "      <td id=\"T_cc318_row6_col16\" class=\"data row6 col16\" >0</td>\n",
       "      <td id=\"T_cc318_row6_col17\" class=\"data row6 col17\" >0</td>\n",
       "    </tr>\n",
       "    <tr>\n",
       "      <th id=\"T_cc318_level0_row7\" class=\"row_heading level0 row7\" >7</th>\n",
       "      <td id=\"T_cc318_row7_col0\" class=\"data row7 col0\" >0</td>\n",
       "      <td id=\"T_cc318_row7_col1\" class=\"data row7 col1\" >0</td>\n",
       "      <td id=\"T_cc318_row7_col2\" class=\"data row7 col2\" >0</td>\n",
       "      <td id=\"T_cc318_row7_col3\" class=\"data row7 col3\" >0</td>\n",
       "      <td id=\"T_cc318_row7_col4\" class=\"data row7 col4\" >0</td>\n",
       "      <td id=\"T_cc318_row7_col5\" class=\"data row7 col5\" >0</td>\n",
       "      <td id=\"T_cc318_row7_col6\" class=\"data row7 col6\" >0</td>\n",
       "      <td id=\"T_cc318_row7_col7\" class=\"data row7 col7\" >14</td>\n",
       "      <td id=\"T_cc318_row7_col8\" class=\"data row7 col8\" >101</td>\n",
       "      <td id=\"T_cc318_row7_col9\" class=\"data row7 col9\" >223</td>\n",
       "      <td id=\"T_cc318_row7_col10\" class=\"data row7 col10\" >253</td>\n",
       "      <td id=\"T_cc318_row7_col11\" class=\"data row7 col11\" >248</td>\n",
       "      <td id=\"T_cc318_row7_col12\" class=\"data row7 col12\" >124</td>\n",
       "      <td id=\"T_cc318_row7_col13\" class=\"data row7 col13\" >0</td>\n",
       "      <td id=\"T_cc318_row7_col14\" class=\"data row7 col14\" >0</td>\n",
       "      <td id=\"T_cc318_row7_col15\" class=\"data row7 col15\" >0</td>\n",
       "      <td id=\"T_cc318_row7_col16\" class=\"data row7 col16\" >0</td>\n",
       "      <td id=\"T_cc318_row7_col17\" class=\"data row7 col17\" >0</td>\n",
       "    </tr>\n",
       "    <tr>\n",
       "      <th id=\"T_cc318_level0_row8\" class=\"row_heading level0 row8\" >8</th>\n",
       "      <td id=\"T_cc318_row8_col0\" class=\"data row8 col0\" >0</td>\n",
       "      <td id=\"T_cc318_row8_col1\" class=\"data row8 col1\" >0</td>\n",
       "      <td id=\"T_cc318_row8_col2\" class=\"data row8 col2\" >0</td>\n",
       "      <td id=\"T_cc318_row8_col3\" class=\"data row8 col3\" >0</td>\n",
       "      <td id=\"T_cc318_row8_col4\" class=\"data row8 col4\" >0</td>\n",
       "      <td id=\"T_cc318_row8_col5\" class=\"data row8 col5\" >11</td>\n",
       "      <td id=\"T_cc318_row8_col6\" class=\"data row8 col6\" >166</td>\n",
       "      <td id=\"T_cc318_row8_col7\" class=\"data row8 col7\" >239</td>\n",
       "      <td id=\"T_cc318_row8_col8\" class=\"data row8 col8\" >253</td>\n",
       "      <td id=\"T_cc318_row8_col9\" class=\"data row8 col9\" >253</td>\n",
       "      <td id=\"T_cc318_row8_col10\" class=\"data row8 col10\" >253</td>\n",
       "      <td id=\"T_cc318_row8_col11\" class=\"data row8 col11\" >187</td>\n",
       "      <td id=\"T_cc318_row8_col12\" class=\"data row8 col12\" >30</td>\n",
       "      <td id=\"T_cc318_row8_col13\" class=\"data row8 col13\" >0</td>\n",
       "      <td id=\"T_cc318_row8_col14\" class=\"data row8 col14\" >0</td>\n",
       "      <td id=\"T_cc318_row8_col15\" class=\"data row8 col15\" >0</td>\n",
       "      <td id=\"T_cc318_row8_col16\" class=\"data row8 col16\" >0</td>\n",
       "      <td id=\"T_cc318_row8_col17\" class=\"data row8 col17\" >0</td>\n",
       "    </tr>\n",
       "    <tr>\n",
       "      <th id=\"T_cc318_level0_row9\" class=\"row_heading level0 row9\" >9</th>\n",
       "      <td id=\"T_cc318_row9_col0\" class=\"data row9 col0\" >0</td>\n",
       "      <td id=\"T_cc318_row9_col1\" class=\"data row9 col1\" >0</td>\n",
       "      <td id=\"T_cc318_row9_col2\" class=\"data row9 col2\" >0</td>\n",
       "      <td id=\"T_cc318_row9_col3\" class=\"data row9 col3\" >0</td>\n",
       "      <td id=\"T_cc318_row9_col4\" class=\"data row9 col4\" >0</td>\n",
       "      <td id=\"T_cc318_row9_col5\" class=\"data row9 col5\" >16</td>\n",
       "      <td id=\"T_cc318_row9_col6\" class=\"data row9 col6\" >248</td>\n",
       "      <td id=\"T_cc318_row9_col7\" class=\"data row9 col7\" >250</td>\n",
       "      <td id=\"T_cc318_row9_col8\" class=\"data row9 col8\" >253</td>\n",
       "      <td id=\"T_cc318_row9_col9\" class=\"data row9 col9\" >253</td>\n",
       "      <td id=\"T_cc318_row9_col10\" class=\"data row9 col10\" >253</td>\n",
       "      <td id=\"T_cc318_row9_col11\" class=\"data row9 col11\" >253</td>\n",
       "      <td id=\"T_cc318_row9_col12\" class=\"data row9 col12\" >232</td>\n",
       "      <td id=\"T_cc318_row9_col13\" class=\"data row9 col13\" >213</td>\n",
       "      <td id=\"T_cc318_row9_col14\" class=\"data row9 col14\" >111</td>\n",
       "      <td id=\"T_cc318_row9_col15\" class=\"data row9 col15\" >2</td>\n",
       "      <td id=\"T_cc318_row9_col16\" class=\"data row9 col16\" >0</td>\n",
       "      <td id=\"T_cc318_row9_col17\" class=\"data row9 col17\" >0</td>\n",
       "    </tr>\n",
       "    <tr>\n",
       "      <th id=\"T_cc318_level0_row10\" class=\"row_heading level0 row10\" >10</th>\n",
       "      <td id=\"T_cc318_row10_col0\" class=\"data row10 col0\" >0</td>\n",
       "      <td id=\"T_cc318_row10_col1\" class=\"data row10 col1\" >0</td>\n",
       "      <td id=\"T_cc318_row10_col2\" class=\"data row10 col2\" >0</td>\n",
       "      <td id=\"T_cc318_row10_col3\" class=\"data row10 col3\" >0</td>\n",
       "      <td id=\"T_cc318_row10_col4\" class=\"data row10 col4\" >0</td>\n",
       "      <td id=\"T_cc318_row10_col5\" class=\"data row10 col5\" >0</td>\n",
       "      <td id=\"T_cc318_row10_col6\" class=\"data row10 col6\" >0</td>\n",
       "      <td id=\"T_cc318_row10_col7\" class=\"data row10 col7\" >43</td>\n",
       "      <td id=\"T_cc318_row10_col8\" class=\"data row10 col8\" >98</td>\n",
       "      <td id=\"T_cc318_row10_col9\" class=\"data row10 col9\" >98</td>\n",
       "      <td id=\"T_cc318_row10_col10\" class=\"data row10 col10\" >208</td>\n",
       "      <td id=\"T_cc318_row10_col11\" class=\"data row10 col11\" >253</td>\n",
       "      <td id=\"T_cc318_row10_col12\" class=\"data row10 col12\" >253</td>\n",
       "      <td id=\"T_cc318_row10_col13\" class=\"data row10 col13\" >253</td>\n",
       "      <td id=\"T_cc318_row10_col14\" class=\"data row10 col14\" >253</td>\n",
       "      <td id=\"T_cc318_row10_col15\" class=\"data row10 col15\" >187</td>\n",
       "      <td id=\"T_cc318_row10_col16\" class=\"data row10 col16\" >22</td>\n",
       "      <td id=\"T_cc318_row10_col17\" class=\"data row10 col17\" >0</td>\n",
       "    </tr>\n",
       "    <tr>\n",
       "      <th id=\"T_cc318_level0_row11\" class=\"row_heading level0 row11\" >11</th>\n",
       "      <td id=\"T_cc318_row11_col0\" class=\"data row11 col0\" >0</td>\n",
       "      <td id=\"T_cc318_row11_col1\" class=\"data row11 col1\" >0</td>\n",
       "      <td id=\"T_cc318_row11_col2\" class=\"data row11 col2\" >0</td>\n",
       "      <td id=\"T_cc318_row11_col3\" class=\"data row11 col3\" >0</td>\n",
       "      <td id=\"T_cc318_row11_col4\" class=\"data row11 col4\" >0</td>\n",
       "      <td id=\"T_cc318_row11_col5\" class=\"data row11 col5\" >0</td>\n",
       "      <td id=\"T_cc318_row11_col6\" class=\"data row11 col6\" >0</td>\n",
       "      <td id=\"T_cc318_row11_col7\" class=\"data row11 col7\" >0</td>\n",
       "      <td id=\"T_cc318_row11_col8\" class=\"data row11 col8\" >0</td>\n",
       "      <td id=\"T_cc318_row11_col9\" class=\"data row11 col9\" >0</td>\n",
       "      <td id=\"T_cc318_row11_col10\" class=\"data row11 col10\" >9</td>\n",
       "      <td id=\"T_cc318_row11_col11\" class=\"data row11 col11\" >51</td>\n",
       "      <td id=\"T_cc318_row11_col12\" class=\"data row11 col12\" >119</td>\n",
       "      <td id=\"T_cc318_row11_col13\" class=\"data row11 col13\" >253</td>\n",
       "      <td id=\"T_cc318_row11_col14\" class=\"data row11 col14\" >253</td>\n",
       "      <td id=\"T_cc318_row11_col15\" class=\"data row11 col15\" >253</td>\n",
       "      <td id=\"T_cc318_row11_col16\" class=\"data row11 col16\" >76</td>\n",
       "      <td id=\"T_cc318_row11_col17\" class=\"data row11 col17\" >0</td>\n",
       "    </tr>\n",
       "    <tr>\n",
       "      <th id=\"T_cc318_level0_row12\" class=\"row_heading level0 row12\" >12</th>\n",
       "      <td id=\"T_cc318_row12_col0\" class=\"data row12 col0\" >0</td>\n",
       "      <td id=\"T_cc318_row12_col1\" class=\"data row12 col1\" >0</td>\n",
       "      <td id=\"T_cc318_row12_col2\" class=\"data row12 col2\" >0</td>\n",
       "      <td id=\"T_cc318_row12_col3\" class=\"data row12 col3\" >0</td>\n",
       "      <td id=\"T_cc318_row12_col4\" class=\"data row12 col4\" >0</td>\n",
       "      <td id=\"T_cc318_row12_col5\" class=\"data row12 col5\" >0</td>\n",
       "      <td id=\"T_cc318_row12_col6\" class=\"data row12 col6\" >0</td>\n",
       "      <td id=\"T_cc318_row12_col7\" class=\"data row12 col7\" >0</td>\n",
       "      <td id=\"T_cc318_row12_col8\" class=\"data row12 col8\" >0</td>\n",
       "      <td id=\"T_cc318_row12_col9\" class=\"data row12 col9\" >0</td>\n",
       "      <td id=\"T_cc318_row12_col10\" class=\"data row12 col10\" >0</td>\n",
       "      <td id=\"T_cc318_row12_col11\" class=\"data row12 col11\" >0</td>\n",
       "      <td id=\"T_cc318_row12_col12\" class=\"data row12 col12\" >1</td>\n",
       "      <td id=\"T_cc318_row12_col13\" class=\"data row12 col13\" >183</td>\n",
       "      <td id=\"T_cc318_row12_col14\" class=\"data row12 col14\" >253</td>\n",
       "      <td id=\"T_cc318_row12_col15\" class=\"data row12 col15\" >253</td>\n",
       "      <td id=\"T_cc318_row12_col16\" class=\"data row12 col16\" >139</td>\n",
       "      <td id=\"T_cc318_row12_col17\" class=\"data row12 col17\" >0</td>\n",
       "    </tr>\n",
       "    <tr>\n",
       "      <th id=\"T_cc318_level0_row13\" class=\"row_heading level0 row13\" >13</th>\n",
       "      <td id=\"T_cc318_row13_col0\" class=\"data row13 col0\" >0</td>\n",
       "      <td id=\"T_cc318_row13_col1\" class=\"data row13 col1\" >0</td>\n",
       "      <td id=\"T_cc318_row13_col2\" class=\"data row13 col2\" >0</td>\n",
       "      <td id=\"T_cc318_row13_col3\" class=\"data row13 col3\" >0</td>\n",
       "      <td id=\"T_cc318_row13_col4\" class=\"data row13 col4\" >0</td>\n",
       "      <td id=\"T_cc318_row13_col5\" class=\"data row13 col5\" >0</td>\n",
       "      <td id=\"T_cc318_row13_col6\" class=\"data row13 col6\" >0</td>\n",
       "      <td id=\"T_cc318_row13_col7\" class=\"data row13 col7\" >0</td>\n",
       "      <td id=\"T_cc318_row13_col8\" class=\"data row13 col8\" >0</td>\n",
       "      <td id=\"T_cc318_row13_col9\" class=\"data row13 col9\" >0</td>\n",
       "      <td id=\"T_cc318_row13_col10\" class=\"data row13 col10\" >0</td>\n",
       "      <td id=\"T_cc318_row13_col11\" class=\"data row13 col11\" >0</td>\n",
       "      <td id=\"T_cc318_row13_col12\" class=\"data row13 col12\" >0</td>\n",
       "      <td id=\"T_cc318_row13_col13\" class=\"data row13 col13\" >182</td>\n",
       "      <td id=\"T_cc318_row13_col14\" class=\"data row13 col14\" >253</td>\n",
       "      <td id=\"T_cc318_row13_col15\" class=\"data row13 col15\" >253</td>\n",
       "      <td id=\"T_cc318_row13_col16\" class=\"data row13 col16\" >104</td>\n",
       "      <td id=\"T_cc318_row13_col17\" class=\"data row13 col17\" >0</td>\n",
       "    </tr>\n",
       "    <tr>\n",
       "      <th id=\"T_cc318_level0_row14\" class=\"row_heading level0 row14\" >14</th>\n",
       "      <td id=\"T_cc318_row14_col0\" class=\"data row14 col0\" >0</td>\n",
       "      <td id=\"T_cc318_row14_col1\" class=\"data row14 col1\" >0</td>\n",
       "      <td id=\"T_cc318_row14_col2\" class=\"data row14 col2\" >0</td>\n",
       "      <td id=\"T_cc318_row14_col3\" class=\"data row14 col3\" >0</td>\n",
       "      <td id=\"T_cc318_row14_col4\" class=\"data row14 col4\" >0</td>\n",
       "      <td id=\"T_cc318_row14_col5\" class=\"data row14 col5\" >0</td>\n",
       "      <td id=\"T_cc318_row14_col6\" class=\"data row14 col6\" >0</td>\n",
       "      <td id=\"T_cc318_row14_col7\" class=\"data row14 col7\" >0</td>\n",
       "      <td id=\"T_cc318_row14_col8\" class=\"data row14 col8\" >0</td>\n",
       "      <td id=\"T_cc318_row14_col9\" class=\"data row14 col9\" >0</td>\n",
       "      <td id=\"T_cc318_row14_col10\" class=\"data row14 col10\" >0</td>\n",
       "      <td id=\"T_cc318_row14_col11\" class=\"data row14 col11\" >0</td>\n",
       "      <td id=\"T_cc318_row14_col12\" class=\"data row14 col12\" >85</td>\n",
       "      <td id=\"T_cc318_row14_col13\" class=\"data row14 col13\" >249</td>\n",
       "      <td id=\"T_cc318_row14_col14\" class=\"data row14 col14\" >253</td>\n",
       "      <td id=\"T_cc318_row14_col15\" class=\"data row14 col15\" >253</td>\n",
       "      <td id=\"T_cc318_row14_col16\" class=\"data row14 col16\" >36</td>\n",
       "      <td id=\"T_cc318_row14_col17\" class=\"data row14 col17\" >0</td>\n",
       "    </tr>\n",
       "    <tr>\n",
       "      <th id=\"T_cc318_level0_row15\" class=\"row_heading level0 row15\" >15</th>\n",
       "      <td id=\"T_cc318_row15_col0\" class=\"data row15 col0\" >0</td>\n",
       "      <td id=\"T_cc318_row15_col1\" class=\"data row15 col1\" >0</td>\n",
       "      <td id=\"T_cc318_row15_col2\" class=\"data row15 col2\" >0</td>\n",
       "      <td id=\"T_cc318_row15_col3\" class=\"data row15 col3\" >0</td>\n",
       "      <td id=\"T_cc318_row15_col4\" class=\"data row15 col4\" >0</td>\n",
       "      <td id=\"T_cc318_row15_col5\" class=\"data row15 col5\" >0</td>\n",
       "      <td id=\"T_cc318_row15_col6\" class=\"data row15 col6\" >0</td>\n",
       "      <td id=\"T_cc318_row15_col7\" class=\"data row15 col7\" >0</td>\n",
       "      <td id=\"T_cc318_row15_col8\" class=\"data row15 col8\" >0</td>\n",
       "      <td id=\"T_cc318_row15_col9\" class=\"data row15 col9\" >0</td>\n",
       "      <td id=\"T_cc318_row15_col10\" class=\"data row15 col10\" >0</td>\n",
       "      <td id=\"T_cc318_row15_col11\" class=\"data row15 col11\" >60</td>\n",
       "      <td id=\"T_cc318_row15_col12\" class=\"data row15 col12\" >214</td>\n",
       "      <td id=\"T_cc318_row15_col13\" class=\"data row15 col13\" >253</td>\n",
       "      <td id=\"T_cc318_row15_col14\" class=\"data row15 col14\" >253</td>\n",
       "      <td id=\"T_cc318_row15_col15\" class=\"data row15 col15\" >173</td>\n",
       "      <td id=\"T_cc318_row15_col16\" class=\"data row15 col16\" >11</td>\n",
       "      <td id=\"T_cc318_row15_col17\" class=\"data row15 col17\" >0</td>\n",
       "    </tr>\n",
       "    <tr>\n",
       "      <th id=\"T_cc318_level0_row16\" class=\"row_heading level0 row16\" >16</th>\n",
       "      <td id=\"T_cc318_row16_col0\" class=\"data row16 col0\" >0</td>\n",
       "      <td id=\"T_cc318_row16_col1\" class=\"data row16 col1\" >0</td>\n",
       "      <td id=\"T_cc318_row16_col2\" class=\"data row16 col2\" >0</td>\n",
       "      <td id=\"T_cc318_row16_col3\" class=\"data row16 col3\" >0</td>\n",
       "      <td id=\"T_cc318_row16_col4\" class=\"data row16 col4\" >0</td>\n",
       "      <td id=\"T_cc318_row16_col5\" class=\"data row16 col5\" >0</td>\n",
       "      <td id=\"T_cc318_row16_col6\" class=\"data row16 col6\" >0</td>\n",
       "      <td id=\"T_cc318_row16_col7\" class=\"data row16 col7\" >0</td>\n",
       "      <td id=\"T_cc318_row16_col8\" class=\"data row16 col8\" >0</td>\n",
       "      <td id=\"T_cc318_row16_col9\" class=\"data row16 col9\" >0</td>\n",
       "      <td id=\"T_cc318_row16_col10\" class=\"data row16 col10\" >98</td>\n",
       "      <td id=\"T_cc318_row16_col11\" class=\"data row16 col11\" >247</td>\n",
       "      <td id=\"T_cc318_row16_col12\" class=\"data row16 col12\" >253</td>\n",
       "      <td id=\"T_cc318_row16_col13\" class=\"data row16 col13\" >253</td>\n",
       "      <td id=\"T_cc318_row16_col14\" class=\"data row16 col14\" >226</td>\n",
       "      <td id=\"T_cc318_row16_col15\" class=\"data row16 col15\" >9</td>\n",
       "      <td id=\"T_cc318_row16_col16\" class=\"data row16 col16\" >0</td>\n",
       "      <td id=\"T_cc318_row16_col17\" class=\"data row16 col17\" >0</td>\n",
       "    </tr>\n",
       "    <tr>\n",
       "      <th id=\"T_cc318_level0_row17\" class=\"row_heading level0 row17\" >17</th>\n",
       "      <td id=\"T_cc318_row17_col0\" class=\"data row17 col0\" >0</td>\n",
       "      <td id=\"T_cc318_row17_col1\" class=\"data row17 col1\" >0</td>\n",
       "      <td id=\"T_cc318_row17_col2\" class=\"data row17 col2\" >0</td>\n",
       "      <td id=\"T_cc318_row17_col3\" class=\"data row17 col3\" >0</td>\n",
       "      <td id=\"T_cc318_row17_col4\" class=\"data row17 col4\" >0</td>\n",
       "      <td id=\"T_cc318_row17_col5\" class=\"data row17 col5\" >0</td>\n",
       "      <td id=\"T_cc318_row17_col6\" class=\"data row17 col6\" >0</td>\n",
       "      <td id=\"T_cc318_row17_col7\" class=\"data row17 col7\" >0</td>\n",
       "      <td id=\"T_cc318_row17_col8\" class=\"data row17 col8\" >42</td>\n",
       "      <td id=\"T_cc318_row17_col9\" class=\"data row17 col9\" >150</td>\n",
       "      <td id=\"T_cc318_row17_col10\" class=\"data row17 col10\" >252</td>\n",
       "      <td id=\"T_cc318_row17_col11\" class=\"data row17 col11\" >253</td>\n",
       "      <td id=\"T_cc318_row17_col12\" class=\"data row17 col12\" >253</td>\n",
       "      <td id=\"T_cc318_row17_col13\" class=\"data row17 col13\" >233</td>\n",
       "      <td id=\"T_cc318_row17_col14\" class=\"data row17 col14\" >53</td>\n",
       "      <td id=\"T_cc318_row17_col15\" class=\"data row17 col15\" >0</td>\n",
       "      <td id=\"T_cc318_row17_col16\" class=\"data row17 col16\" >0</td>\n",
       "      <td id=\"T_cc318_row17_col17\" class=\"data row17 col17\" >0</td>\n",
       "    </tr>\n",
       "    <tr>\n",
       "      <th id=\"T_cc318_level0_row18\" class=\"row_heading level0 row18\" >18</th>\n",
       "      <td id=\"T_cc318_row18_col0\" class=\"data row18 col0\" >0</td>\n",
       "      <td id=\"T_cc318_row18_col1\" class=\"data row18 col1\" >0</td>\n",
       "      <td id=\"T_cc318_row18_col2\" class=\"data row18 col2\" >42</td>\n",
       "      <td id=\"T_cc318_row18_col3\" class=\"data row18 col3\" >115</td>\n",
       "      <td id=\"T_cc318_row18_col4\" class=\"data row18 col4\" >42</td>\n",
       "      <td id=\"T_cc318_row18_col5\" class=\"data row18 col5\" >60</td>\n",
       "      <td id=\"T_cc318_row18_col6\" class=\"data row18 col6\" >115</td>\n",
       "      <td id=\"T_cc318_row18_col7\" class=\"data row18 col7\" >159</td>\n",
       "      <td id=\"T_cc318_row18_col8\" class=\"data row18 col8\" >240</td>\n",
       "      <td id=\"T_cc318_row18_col9\" class=\"data row18 col9\" >253</td>\n",
       "      <td id=\"T_cc318_row18_col10\" class=\"data row18 col10\" >253</td>\n",
       "      <td id=\"T_cc318_row18_col11\" class=\"data row18 col11\" >250</td>\n",
       "      <td id=\"T_cc318_row18_col12\" class=\"data row18 col12\" >175</td>\n",
       "      <td id=\"T_cc318_row18_col13\" class=\"data row18 col13\" >25</td>\n",
       "      <td id=\"T_cc318_row18_col14\" class=\"data row18 col14\" >0</td>\n",
       "      <td id=\"T_cc318_row18_col15\" class=\"data row18 col15\" >0</td>\n",
       "      <td id=\"T_cc318_row18_col16\" class=\"data row18 col16\" >0</td>\n",
       "      <td id=\"T_cc318_row18_col17\" class=\"data row18 col17\" >0</td>\n",
       "    </tr>\n",
       "    <tr>\n",
       "      <th id=\"T_cc318_level0_row19\" class=\"row_heading level0 row19\" >19</th>\n",
       "      <td id=\"T_cc318_row19_col0\" class=\"data row19 col0\" >0</td>\n",
       "      <td id=\"T_cc318_row19_col1\" class=\"data row19 col1\" >0</td>\n",
       "      <td id=\"T_cc318_row19_col2\" class=\"data row19 col2\" >187</td>\n",
       "      <td id=\"T_cc318_row19_col3\" class=\"data row19 col3\" >253</td>\n",
       "      <td id=\"T_cc318_row19_col4\" class=\"data row19 col4\" >253</td>\n",
       "      <td id=\"T_cc318_row19_col5\" class=\"data row19 col5\" >253</td>\n",
       "      <td id=\"T_cc318_row19_col6\" class=\"data row19 col6\" >253</td>\n",
       "      <td id=\"T_cc318_row19_col7\" class=\"data row19 col7\" >253</td>\n",
       "      <td id=\"T_cc318_row19_col8\" class=\"data row19 col8\" >253</td>\n",
       "      <td id=\"T_cc318_row19_col9\" class=\"data row19 col9\" >253</td>\n",
       "      <td id=\"T_cc318_row19_col10\" class=\"data row19 col10\" >197</td>\n",
       "      <td id=\"T_cc318_row19_col11\" class=\"data row19 col11\" >86</td>\n",
       "      <td id=\"T_cc318_row19_col12\" class=\"data row19 col12\" >0</td>\n",
       "      <td id=\"T_cc318_row19_col13\" class=\"data row19 col13\" >0</td>\n",
       "      <td id=\"T_cc318_row19_col14\" class=\"data row19 col14\" >0</td>\n",
       "      <td id=\"T_cc318_row19_col15\" class=\"data row19 col15\" >0</td>\n",
       "      <td id=\"T_cc318_row19_col16\" class=\"data row19 col16\" >0</td>\n",
       "      <td id=\"T_cc318_row19_col17\" class=\"data row19 col17\" >0</td>\n",
       "    </tr>\n",
       "    <tr>\n",
       "      <th id=\"T_cc318_level0_row20\" class=\"row_heading level0 row20\" >20</th>\n",
       "      <td id=\"T_cc318_row20_col0\" class=\"data row20 col0\" >0</td>\n",
       "      <td id=\"T_cc318_row20_col1\" class=\"data row20 col1\" >0</td>\n",
       "      <td id=\"T_cc318_row20_col2\" class=\"data row20 col2\" >103</td>\n",
       "      <td id=\"T_cc318_row20_col3\" class=\"data row20 col3\" >253</td>\n",
       "      <td id=\"T_cc318_row20_col4\" class=\"data row20 col4\" >253</td>\n",
       "      <td id=\"T_cc318_row20_col5\" class=\"data row20 col5\" >253</td>\n",
       "      <td id=\"T_cc318_row20_col6\" class=\"data row20 col6\" >253</td>\n",
       "      <td id=\"T_cc318_row20_col7\" class=\"data row20 col7\" >253</td>\n",
       "      <td id=\"T_cc318_row20_col8\" class=\"data row20 col8\" >232</td>\n",
       "      <td id=\"T_cc318_row20_col9\" class=\"data row20 col9\" >67</td>\n",
       "      <td id=\"T_cc318_row20_col10\" class=\"data row20 col10\" >1</td>\n",
       "      <td id=\"T_cc318_row20_col11\" class=\"data row20 col11\" >0</td>\n",
       "      <td id=\"T_cc318_row20_col12\" class=\"data row20 col12\" >0</td>\n",
       "      <td id=\"T_cc318_row20_col13\" class=\"data row20 col13\" >0</td>\n",
       "      <td id=\"T_cc318_row20_col14\" class=\"data row20 col14\" >0</td>\n",
       "      <td id=\"T_cc318_row20_col15\" class=\"data row20 col15\" >0</td>\n",
       "      <td id=\"T_cc318_row20_col16\" class=\"data row20 col16\" >0</td>\n",
       "      <td id=\"T_cc318_row20_col17\" class=\"data row20 col17\" >0</td>\n",
       "    </tr>\n",
       "    <tr>\n",
       "      <th id=\"T_cc318_level0_row21\" class=\"row_heading level0 row21\" >21</th>\n",
       "      <td id=\"T_cc318_row21_col0\" class=\"data row21 col0\" >0</td>\n",
       "      <td id=\"T_cc318_row21_col1\" class=\"data row21 col1\" >0</td>\n",
       "      <td id=\"T_cc318_row21_col2\" class=\"data row21 col2\" >0</td>\n",
       "      <td id=\"T_cc318_row21_col3\" class=\"data row21 col3\" >0</td>\n",
       "      <td id=\"T_cc318_row21_col4\" class=\"data row21 col4\" >0</td>\n",
       "      <td id=\"T_cc318_row21_col5\" class=\"data row21 col5\" >0</td>\n",
       "      <td id=\"T_cc318_row21_col6\" class=\"data row21 col6\" >0</td>\n",
       "      <td id=\"T_cc318_row21_col7\" class=\"data row21 col7\" >0</td>\n",
       "      <td id=\"T_cc318_row21_col8\" class=\"data row21 col8\" >0</td>\n",
       "      <td id=\"T_cc318_row21_col9\" class=\"data row21 col9\" >0</td>\n",
       "      <td id=\"T_cc318_row21_col10\" class=\"data row21 col10\" >0</td>\n",
       "      <td id=\"T_cc318_row21_col11\" class=\"data row21 col11\" >0</td>\n",
       "      <td id=\"T_cc318_row21_col12\" class=\"data row21 col12\" >0</td>\n",
       "      <td id=\"T_cc318_row21_col13\" class=\"data row21 col13\" >0</td>\n",
       "      <td id=\"T_cc318_row21_col14\" class=\"data row21 col14\" >0</td>\n",
       "      <td id=\"T_cc318_row21_col15\" class=\"data row21 col15\" >0</td>\n",
       "      <td id=\"T_cc318_row21_col16\" class=\"data row21 col16\" >0</td>\n",
       "      <td id=\"T_cc318_row21_col17\" class=\"data row21 col17\" >0</td>\n",
       "    </tr>\n",
       "    <tr>\n",
       "      <th id=\"T_cc318_level0_row22\" class=\"row_heading level0 row22\" >22</th>\n",
       "      <td id=\"T_cc318_row22_col0\" class=\"data row22 col0\" >0</td>\n",
       "      <td id=\"T_cc318_row22_col1\" class=\"data row22 col1\" >0</td>\n",
       "      <td id=\"T_cc318_row22_col2\" class=\"data row22 col2\" >0</td>\n",
       "      <td id=\"T_cc318_row22_col3\" class=\"data row22 col3\" >0</td>\n",
       "      <td id=\"T_cc318_row22_col4\" class=\"data row22 col4\" >0</td>\n",
       "      <td id=\"T_cc318_row22_col5\" class=\"data row22 col5\" >0</td>\n",
       "      <td id=\"T_cc318_row22_col6\" class=\"data row22 col6\" >0</td>\n",
       "      <td id=\"T_cc318_row22_col7\" class=\"data row22 col7\" >0</td>\n",
       "      <td id=\"T_cc318_row22_col8\" class=\"data row22 col8\" >0</td>\n",
       "      <td id=\"T_cc318_row22_col9\" class=\"data row22 col9\" >0</td>\n",
       "      <td id=\"T_cc318_row22_col10\" class=\"data row22 col10\" >0</td>\n",
       "      <td id=\"T_cc318_row22_col11\" class=\"data row22 col11\" >0</td>\n",
       "      <td id=\"T_cc318_row22_col12\" class=\"data row22 col12\" >0</td>\n",
       "      <td id=\"T_cc318_row22_col13\" class=\"data row22 col13\" >0</td>\n",
       "      <td id=\"T_cc318_row22_col14\" class=\"data row22 col14\" >0</td>\n",
       "      <td id=\"T_cc318_row22_col15\" class=\"data row22 col15\" >0</td>\n",
       "      <td id=\"T_cc318_row22_col16\" class=\"data row22 col16\" >0</td>\n",
       "      <td id=\"T_cc318_row22_col17\" class=\"data row22 col17\" >0</td>\n",
       "    </tr>\n",
       "    <tr>\n",
       "      <th id=\"T_cc318_level0_row23\" class=\"row_heading level0 row23\" >23</th>\n",
       "      <td id=\"T_cc318_row23_col0\" class=\"data row23 col0\" >0</td>\n",
       "      <td id=\"T_cc318_row23_col1\" class=\"data row23 col1\" >0</td>\n",
       "      <td id=\"T_cc318_row23_col2\" class=\"data row23 col2\" >0</td>\n",
       "      <td id=\"T_cc318_row23_col3\" class=\"data row23 col3\" >0</td>\n",
       "      <td id=\"T_cc318_row23_col4\" class=\"data row23 col4\" >0</td>\n",
       "      <td id=\"T_cc318_row23_col5\" class=\"data row23 col5\" >0</td>\n",
       "      <td id=\"T_cc318_row23_col6\" class=\"data row23 col6\" >0</td>\n",
       "      <td id=\"T_cc318_row23_col7\" class=\"data row23 col7\" >0</td>\n",
       "      <td id=\"T_cc318_row23_col8\" class=\"data row23 col8\" >0</td>\n",
       "      <td id=\"T_cc318_row23_col9\" class=\"data row23 col9\" >0</td>\n",
       "      <td id=\"T_cc318_row23_col10\" class=\"data row23 col10\" >0</td>\n",
       "      <td id=\"T_cc318_row23_col11\" class=\"data row23 col11\" >0</td>\n",
       "      <td id=\"T_cc318_row23_col12\" class=\"data row23 col12\" >0</td>\n",
       "      <td id=\"T_cc318_row23_col13\" class=\"data row23 col13\" >0</td>\n",
       "      <td id=\"T_cc318_row23_col14\" class=\"data row23 col14\" >0</td>\n",
       "      <td id=\"T_cc318_row23_col15\" class=\"data row23 col15\" >0</td>\n",
       "      <td id=\"T_cc318_row23_col16\" class=\"data row23 col16\" >0</td>\n",
       "      <td id=\"T_cc318_row23_col17\" class=\"data row23 col17\" >0</td>\n",
       "    </tr>\n",
       "  </tbody>\n",
       "</table>\n"
      ],
      "text/plain": [
       "<pandas.io.formats.style.Styler at 0x1142db040>"
      ]
     },
     "execution_count": 12,
     "metadata": {},
     "output_type": "execute_result"
    }
   ],
   "source": [
    "im3_t = tensor(im3)\n",
    "df = pd.DataFrame(im3_t[4:40,4:22])\n",
    "# 这会根据单元格数值的大小自动生成深浅不同的灰色背景，数值越大（或越小，取决于具体配置）背景色越深，\n",
    "# 便于直观地观察数据的大小分布。\n",
    "df.style.set_properties(**{'font-size':'6pt'}).background_gradient('Greys')"
   ]
  },
  {
   "cell_type": "code",
   "execution_count": 13,
   "id": "445b6f88-4954-42e8-808c-01f0d3ca6e8a",
   "metadata": {},
   "outputs": [
    {
     "data": {
      "text/plain": [
       "(6131, 6265)"
      ]
     },
     "execution_count": 13,
     "metadata": {},
     "output_type": "execute_result"
    }
   ],
   "source": [
    "seven_tensors = [tensor(Image.open(o)) for o in sevens]\n",
    "three_tensors = [tensor(Image.open(o)) for o in threes]\n",
    "len(three_tensors),len(seven_tensors)"
   ]
  },
  {
   "cell_type": "code",
   "execution_count": 14,
   "id": "8f2b356e-69a6-41a1-b78f-a72120896df3",
   "metadata": {},
   "outputs": [
    {
     "data": {
      "image/png": "[encoded data removed]",
      "text/plain": [
       "<Figure size 100x100 with 1 Axes>"
      ]
     },
     "metadata": {},
     "output_type": "display_data"
    }
   ],
   "source": [
    "show_image(three_tensors[1]);"
   ]
  },
  {
   "cell_type": "code",
   "execution_count": 26,
   "id": "f0fa8d12-8498-4976-9676-c36e98ef33c7",
   "metadata": {},
   "outputs": [
    {
     "data": {
      "text/plain": [
       "torch.Size([6131, 28, 28])"
      ]
     },
     "execution_count": 26,
     "metadata": {},
     "output_type": "execute_result"
    }
   ],
   "source": [
    "stacked_sevens = torch.stack(seven_tensors).float()/255\n",
    "stacked_threes = torch.stack(three_tensors).float()/255\n",
    "stacked_threes.shape"
   ]
  },
  {
   "cell_type": "code",
   "execution_count": 33,
   "id": "a63013ec-36ec-4a20-8dd4-a26d89d8cadd",
   "metadata": {},
   "outputs": [],
   "source": [
    "a= tensor([1,2,3])\n",
    "b = tensor([4,5,6])\n",
    "ab = torch.stack((a,b))"
   ]
  },
  {
   "cell_type": "code",
   "execution_count": 34,
   "id": "71d1a200-c020-4874-abc9-1a535b7b5298",
   "metadata": {},
   "outputs": [
    {
     "data": {
      "text/plain": [
       "(torch.Size([2, 3]),\n",
       " tensor([[1, 2, 3],\n",
       "         [4, 5, 6]]))"
      ]
     },
     "execution_count": 34,
     "metadata": {},
     "output_type": "execute_result"
    }
   ],
   "source": [
    "ab.shape, ab"
   ]
  },
  {
   "cell_type": "code",
   "execution_count": 42,
   "id": "7491e490-d15d-477c-8c0f-9da0eb611722",
   "metadata": {},
   "outputs": [
    {
     "data": {
      "text/plain": [
       "([tensor([1, 2, 3]), tensor([4, 5, 6])],\n",
       " tensor([[1, 2, 3],\n",
       "         [4, 5, 6]]),\n",
       " torch.Size([2, 3]))"
      ]
     },
     "execution_count": 42,
     "metadata": {},
     "output_type": "execute_result"
    }
   ],
   "source": [
    "a= [tensor([1,2,3]),tensor([4,5,6])]\n",
    "ab = torch.stack(a)\n",
    "a, ab, ab.shape"
   ]
  },
  {
   "cell_type": "code",
   "execution_count": 43,
   "id": "782bf529-5226-46ab-b72d-e83834caa362",
   "metadata": {},
   "outputs": [
    {
     "data": {
      "text/plain": [
       "3"
      ]
     },
     "execution_count": 43,
     "metadata": {},
     "output_type": "execute_result"
    }
   ],
   "source": [
    "stacked_threes.ndim"
   ]
  },
  {
   "cell_type": "markdown",
   "id": "577d8eb8-1c46-4282-b07e-0e23add8437e",
   "metadata": {},
   "source": [
    "## 用传统方法计算相似性"
   ]
  },
  {
   "cell_type": "code",
   "execution_count": 44,
   "id": "48bacdce-656f-419b-9931-08cb9521fef7",
   "metadata": {},
   "outputs": [
    {
     "data": {
      "image/png": "[encoded data removed]",
      "text/plain": [
       "<Figure size 100x100 with 1 Axes>"
      ]
     },
     "metadata": {},
     "output_type": "display_data"
    }
   ],
   "source": [
    "mean3 = stacked_threes.mean(0)\n",
    "show_image(mean3);"
   ]
  },
  {
   "cell_type": "code",
   "execution_count": 45,
   "id": "5d626bdb-f89c-4e9a-901c-9ab1af1d6140",
   "metadata": {},
   "outputs": [
    {
     "data": {
      "image/png": "[encoded data removed]",
      "text/plain": [
       "<Figure size 100x100 with 1 Axes>"
      ]
     },
     "metadata": {},
     "output_type": "display_data"
    }
   ],
   "source": [
    "mean7 = stacked_sevens.mean(0)\n",
    "show_image(mean7);"
   ]
  },
  {
   "cell_type": "code",
   "execution_count": 46,
   "id": "911a96eb-c387-4321-b9d4-d550ef062472",
   "metadata": {},
   "outputs": [
    {
     "data": {
      "image/png": "[encoded data removed]",
      "text/plain": [
       "<Figure size 100x100 with 1 Axes>"
      ]
     },
     "metadata": {},
     "output_type": "display_data"
    }
   ],
   "source": [
    "a_3 = stacked_threes[1]\n",
    "show_image(a_3);"
   ]
  },
  {
   "cell_type": "code",
   "execution_count": 47,
   "id": "b514eee9-e818-48e2-bd82-10f16a40ce5b",
   "metadata": {},
   "outputs": [
    {
     "data": {
      "text/plain": [
       "(tensor(0.1114), tensor(0.2021))"
      ]
     },
     "execution_count": 47,
     "metadata": {},
     "output_type": "execute_result"
    }
   ],
   "source": [
    "dist_3_abs = (a_3 - mean3).abs().mean() # 平均绝对差（mean absolute difference）或L1范数（L1 norm）\n",
    "dist_3_sqr = ((a_3 - mean3)**2).mean().sqrt() # 均方根误差（root mean squared error，RMSE）或L2范数（L2 norm）\n",
    "dist_3_abs,dist_3_sqr\n",
    "#L1范数和均方误差（MSE）的区别在于，后者对较大的误差的惩罚会比前者更严厉（而对小误差则更为宽容）。"
   ]
  },
  {
   "cell_type": "code",
   "execution_count": 48,
   "id": "b23c1134-1845-4899-8775-05816ba93995",
   "metadata": {},
   "outputs": [
    {
     "data": {
      "text/plain": [
       "(tensor(0.1586), tensor(0.3021))"
      ]
     },
     "execution_count": 48,
     "metadata": {},
     "output_type": "execute_result"
    }
   ],
   "source": [
    "dist_7_abs = (a_3 - mean7).abs().mean()\n",
    "dist_7_sqr = ((a_3 - mean7)**2).mean().sqrt()\n",
    "dist_7_abs,dist_7_sqr"
   ]
  },
  {
   "cell_type": "code",
   "execution_count": 49,
   "id": "814a88a9-f418-4db8-94a4-1a946430d1d8",
   "metadata": {},
   "outputs": [
    {
     "data": {
      "text/plain": [
       "(tensor(0.1586), tensor(0.3021))"
      ]
     },
     "execution_count": 49,
     "metadata": {},
     "output_type": "execute_result"
    }
   ],
   "source": [
    "F.l1_loss(a_3.float(),mean7), F.mse_loss(a_3,mean7).sqrt()"
   ]
  },
  {
   "cell_type": "code",
   "execution_count": 50,
   "id": "e2ec1780-bf56-45b8-bb0c-350028ef6ccf",
   "metadata": {},
   "outputs": [
    {
     "data": {
      "text/plain": [
       "(array([[1, 2, 3],\n",
       "        [4, 5, 6]]),\n",
       " tensor([[1, 2, 3],\n",
       "         [4, 5, 6]]))"
      ]
     },
     "execution_count": 50,
     "metadata": {},
     "output_type": "execute_result"
    }
   ],
   "source": [
    "data = [[1,2,3],[4,5,6]]\n",
    "arr = array (data)\n",
    "tns = tensor(data)\n",
    "arr, tns"
   ]
  },
  {
   "cell_type": "code",
   "execution_count": 51,
   "id": "8eb41f6b-2816-430b-9855-ac1536cc0ebd",
   "metadata": {},
   "outputs": [
    {
     "data": {
      "text/plain": [
       "(tensor([4, 5, 6]), tensor([2, 5]))"
      ]
     },
     "execution_count": 51,
     "metadata": {},
     "output_type": "execute_result"
    }
   ],
   "source": [
    "tns[1], tns[:, 1]"
   ]
  },
  {
   "cell_type": "code",
   "execution_count": 52,
   "id": "513d9986-d05a-42a9-b51b-b7b1b3a1fab9",
   "metadata": {},
   "outputs": [
    {
     "data": {
      "text/plain": [
       "tensor([5, 6])"
      ]
     },
     "execution_count": 52,
     "metadata": {},
     "output_type": "execute_result"
    }
   ],
   "source": [
    "tns[1,1:3]"
   ]
  },
  {
   "cell_type": "code",
   "execution_count": 53,
   "id": "30731113-7982-4fac-8a16-5e3e16b78f39",
   "metadata": {},
   "outputs": [
    {
     "data": {
      "text/plain": [
       "tensor([[2, 3, 4],\n",
       "        [5, 6, 7]])"
      ]
     },
     "execution_count": 53,
     "metadata": {},
     "output_type": "execute_result"
    }
   ],
   "source": [
    "tns+1"
   ]
  },
  {
   "cell_type": "code",
   "execution_count": 54,
   "id": "162436ce-dfde-4d34-af09-20242afc2829",
   "metadata": {},
   "outputs": [
    {
     "data": {
      "text/plain": [
       "'torch.LongTensor'"
      ]
     },
     "execution_count": 54,
     "metadata": {},
     "output_type": "execute_result"
    }
   ],
   "source": [
    "tns.type()"
   ]
  },
  {
   "cell_type": "code",
   "execution_count": 55,
   "id": "231f5a51-0e85-4c59-9d13-58a8af492e42",
   "metadata": {},
   "outputs": [
    {
     "data": {
      "text/plain": [
       "tensor([[1.5000, 3.0000, 4.5000],\n",
       "        [6.0000, 7.5000, 9.0000]])"
      ]
     },
     "execution_count": 55,
     "metadata": {},
     "output_type": "execute_result"
    }
   ],
   "source": [
    "tns*1.5"
   ]
  },
  {
   "cell_type": "code",
   "execution_count": 57,
   "id": "117a7823-e967-4e7c-a021-bfedc00a0a2d",
   "metadata": {},
   "outputs": [
    {
     "data": {
      "text/plain": [
       "(torch.Size([1010, 28, 28]), torch.Size([1028, 28, 28]))"
      ]
     },
     "execution_count": 57,
     "metadata": {},
     "output_type": "execute_result"
    }
   ],
   "source": [
    "valid_3_tens = torch.stack([tensor(Image.open(o)) \n",
    "                            for o in (path/'valid'/'3').ls()])\n",
    "valid_3_tens = valid_3_tens.float()/255\n",
    "valid_7_tens = torch.stack([tensor(Image.open(o)) \n",
    "                            for o in (path/'valid'/'7').ls()])\n",
    "valid_7_tens = valid_7_tens.float()/255\n",
    "valid_3_tens.shape,valid_7_tens.shape"
   ]
  },
  {
   "cell_type": "code",
   "execution_count": 59,
   "id": "b7f76dc4-0994-4666-97e9-d25577af34a0",
   "metadata": {},
   "outputs": [
    {
     "data": {
      "text/plain": [
       "<Axes: >"
      ]
     },
     "execution_count": 59,
     "metadata": {},
     "output_type": "execute_result"
    },
    {
     "data": {
      "image/png": "[encoded data removed]",
      "text/plain": [
       "<Figure size 100x100 with 1 Axes>"
      ]
     },
     "metadata": {},
     "output_type": "display_data"
    }
   ],
   "source": [
    "show_image(valid_3_tens[1])"
   ]
  },
  {
   "cell_type": "code",
   "execution_count": 69,
   "id": "46402520-df5c-48e5-9bc6-9dd30fd957ed",
   "metadata": {},
   "outputs": [
    {
     "data": {
      "text/plain": [
       "tensor([[0.0000, 0.0000, 0.0000, 0.0000, 0.0000, 0.0000, 0.0000, 0.0000, 0.0000, 0.0000, 0.0000, 0.0000, 0.0000, 0.0000],\n",
       "        [0.0000, 0.0000, 0.2157, 0.5255, 0.6118, 0.7608, 0.6118, 0.9647, 0.9961, 1.0000, 0.9961, 0.9961, 0.9333, 0.6118],\n",
       "        [0.0000, 0.2627, 0.9804, 0.9922, 0.9961, 0.9922, 0.9922, 0.9922, 0.9922, 0.9961, 0.9922, 0.9373, 0.9569, 0.9922],\n",
       "        [0.0000, 0.0941, 0.8196, 0.9922, 0.9961, 0.7294, 0.6824, 0.5373, 0.5373, 0.3059, 0.3059, 0.0941, 0.2706, 0.9922],\n",
       "        [0.0000, 0.0000, 0.0431, 0.0745, 0.0745, 0.0118, 0.0000, 0.0000, 0.0000, 0.0000, 0.0000, 0.0000, 0.3608, 0.9922],\n",
       "        [0.0000, 0.0000, 0.0000, 0.0000, 0.0000, 0.0000, 0.0000, 0.0000, 0.0000, 0.0000, 0.0000, 0.1216, 0.8588, 0.9922],\n",
       "        [0.0000, 0.0000, 0.0000, 0.0000, 0.0000, 0.0000, 0.0000, 0.0000, 0.0000, 0.0000, 0.0510, 0.8784, 0.9961, 0.9961],\n",
       "        [0.0000, 0.0000, 0.0000, 0.0000, 0.0000, 0.0000, 0.0000, 0.0000, 0.0000, 0.0510, 0.2980, 0.9922, 0.9922, 0.9922],\n",
       "        [0.0000, 0.0000, 0.0000, 0.0000, 0.0000, 0.0000, 0.0000, 0.0510, 0.3098, 0.8784, 0.9922, 0.9922, 0.9922, 0.9922],\n",
       "        [0.0000, 0.0000, 0.0000, 0.0000, 0.0000, 0.0431, 0.6510, 0.9294, 0.9922, 0.9961, 0.9922, 0.9922, 0.9922, 0.7255],\n",
       "        [0.0000, 0.0000, 0.0000, 0.0000, 0.0000, 0.0471, 0.7255, 0.9922, 0.9922, 0.9961, 0.9922, 0.8706, 0.5490, 0.0549],\n",
       "        [0.0000, 0.0000, 0.0000, 0.0000, 0.0000, 0.0000, 0.0000, 0.4157, 0.9412, 1.0000, 0.9961, 0.8745, 0.5529, 0.0549],\n",
       "        [0.0000, 0.0000, 0.0000, 0.0000, 0.0000, 0.0000, 0.0000, 0.0000, 0.1176, 0.2392, 0.7098, 0.9686, 0.9922, 0.8745],\n",
       "        [0.0000, 0.0000, 0.0000, 0.0000, 0.0000, 0.0000, 0.0000, 0.0000, 0.0000, 0.0000, 0.0000, 0.3294, 0.9686, 0.9922],\n",
       "        [0.0000, 0.0000, 0.0000, 0.0000, 0.0000, 0.0000, 0.0000, 0.0000, 0.0000, 0.0000, 0.0000, 0.0000, 0.5608, 0.9922],\n",
       "        [0.0000, 0.0000, 0.0000, 0.0000, 0.0000, 0.0000, 0.0000, 0.0000, 0.0000, 0.0000, 0.0000, 0.0000, 0.5333, 0.9922],\n",
       "        [0.0000, 0.0000, 0.1255, 0.2314, 0.3804, 0.5529, 0.3373, 0.0000, 0.0000, 0.0000, 0.0000, 0.0745, 0.6431, 0.9961],\n",
       "        [0.0000, 0.2627, 0.9216, 0.9922, 0.9961, 0.9255, 0.0471, 0.0000, 0.0000, 0.0510, 0.2549, 0.7686, 0.9922, 0.9922],\n",
       "        [0.0000, 0.0941, 0.8196, 0.9922, 0.9961, 0.9686, 0.6863, 0.6863, 0.6863, 0.8784, 0.9922, 0.9922, 0.9922, 0.9922],\n",
       "        [0.0000, 0.0000, 0.0431, 0.2235, 0.7294, 0.9922, 0.9922, 0.9922, 0.9922, 0.9961, 0.9922, 0.9922, 0.9686, 0.8353],\n",
       "        [0.0000, 0.0000, 0.0000, 0.0000, 0.0549, 0.2275, 0.3451, 0.5490, 0.5216, 0.8471, 0.9608, 0.6078, 0.3686, 0.0000],\n",
       "        [0.0000, 0.0000, 0.0000, 0.0000, 0.0000, 0.0000, 0.0000, 0.0000, 0.0000, 0.0000, 0.0000, 0.0000, 0.0000, 0.0000],\n",
       "        [0.0000, 0.0000, 0.0000, 0.0000, 0.0000, 0.0000, 0.0000, 0.0000, 0.0000, 0.0000, 0.0000, 0.0000, 0.0000, 0.0000],\n",
       "        [0.0000, 0.0000, 0.0000, 0.0000, 0.0000, 0.0000, 0.0000, 0.0000, 0.0000, 0.0000, 0.0000, 0.0000, 0.0000, 0.0000]])"
      ]
     },
     "execution_count": 69,
     "metadata": {},
     "output_type": "execute_result"
    }
   ],
   "source": [
    "valid_3_tens[1, 4:40, 4:18]"
   ]
  },
  {
   "cell_type": "code",
   "execution_count": 70,
   "id": "7bc16f31-b4bb-4316-a66c-ae0f653116cf",
   "metadata": {},
   "outputs": [
    {
     "data": {
      "text/plain": [
       "tensor(0.1114)"
      ]
     },
     "execution_count": 70,
     "metadata": {},
     "output_type": "execute_result"
    }
   ],
   "source": [
    "def mnist_distance(a,b): return (a-b).abs().mean((-1,-2))\n",
    "mnist_distance(a_3, mean3)"
   ]
  },
  {
   "cell_type": "code",
   "execution_count": 71,
   "id": "f74027ee-cb05-4e96-a8bf-d177867c9eeb",
   "metadata": {},
   "outputs": [
    {
     "data": {
      "text/plain": [
       "(tensor([0.1634, 0.1145, 0.1363,  ..., 0.1105, 0.1111, 0.1640]),\n",
       " torch.Size([1010]))"
      ]
     },
     "execution_count": 71,
     "metadata": {},
     "output_type": "execute_result"
    }
   ],
   "source": [
    "valid_3_dist = mnist_distance(valid_3_tens, mean3)\n",
    "valid_3_dist, valid_3_dist.shape"
   ]
  },
  {
   "cell_type": "code",
   "execution_count": 72,
   "id": "b85f28e2-a64e-4f58-b25c-cdfe0e927984",
   "metadata": {},
   "outputs": [
    {
     "data": {
      "text/plain": [
       "tensor([2, 3, 4])"
      ]
     },
     "execution_count": 72,
     "metadata": {},
     "output_type": "execute_result"
    }
   ],
   "source": [
    "tensor([1,2,3]) + tensor([1,1,1])"
   ]
  },
  {
   "cell_type": "code",
   "execution_count": 74,
   "id": "403097d0-a378-43e5-8ec0-eff0e2428c58",
   "metadata": {},
   "outputs": [
    {
     "data": {
      "text/plain": [
       "tensor([[2, 3, 4],\n",
       "        [6, 7, 8]])"
      ]
     },
     "execution_count": 74,
     "metadata": {},
     "output_type": "execute_result"
    }
   ],
   "source": [
    "tensor([[1,2,3],[5,6,7]]) + tensor([1,1,1])"
   ]
  },
  {
   "cell_type": "code",
   "execution_count": 75,
   "id": "d6e1d77e-6452-4ae7-b0bb-263c43e84b93",
   "metadata": {},
   "outputs": [
    {
     "data": {
      "text/plain": [
       "torch.Size([1010, 28, 28])"
      ]
     },
     "execution_count": 75,
     "metadata": {},
     "output_type": "execute_result"
    }
   ],
   "source": [
    "(valid_3_tens-mean3).shape"
   ]
  },
  {
   "cell_type": "code",
   "execution_count": 76,
   "id": "27916357-86f2-443f-843c-583d4ef70756",
   "metadata": {},
   "outputs": [],
   "source": [
    "def is_3(x): return mnist_distance(x,mean3) < mnist_distance(x,mean7)"
   ]
  },
  {
   "cell_type": "code",
   "execution_count": 77,
   "id": "dde2e986-8293-4a2d-ba1a-514bc82a32b0",
   "metadata": {},
   "outputs": [
    {
     "data": {
      "text/plain": [
       "(tensor(True), tensor(1.))"
      ]
     },
     "execution_count": 77,
     "metadata": {},
     "output_type": "execute_result"
    }
   ],
   "source": [
    "is_3(a_3), is_3(a_3).float()"
   ]
  },
  {
   "cell_type": "code",
   "execution_count": 78,
   "id": "2f3c895c-39ce-46ee-913b-d0326f741a64",
   "metadata": {},
   "outputs": [
    {
     "data": {
      "text/plain": [
       "tensor([True, True, True,  ..., True, True, True])"
      ]
     },
     "execution_count": 78,
     "metadata": {},
     "output_type": "execute_result"
    }
   ],
   "source": [
    "is_3(valid_3_tens)"
   ]
  },
  {
   "cell_type": "code",
   "execution_count": 79,
   "id": "99b93bfd-56c0-4f3a-9239-184d0da81c95",
   "metadata": {},
   "outputs": [
    {
     "data": {
      "text/plain": [
       "torch.Size([1010])"
      ]
     },
     "execution_count": 79,
     "metadata": {},
     "output_type": "execute_result"
    }
   ],
   "source": [
    "is_3(valid_3_tens).shape"
   ]
  },
  {
   "cell_type": "code",
   "execution_count": 80,
   "id": "604bbf22-6da5-499d-8a5a-6b609e0f93ea",
   "metadata": {},
   "outputs": [
    {
     "data": {
      "text/plain": [
       "(tensor(0.9168), tensor(0.9854), tensor(0.9511))"
      ]
     },
     "execution_count": 80,
     "metadata": {},
     "output_type": "execute_result"
    }
   ],
   "source": [
    "accuracy_3s =      is_3(valid_3_tens).float() .mean()\n",
    "accuracy_7s = (1 - is_3(valid_7_tens).float()).mean()\n",
    "\n",
    "accuracy_3s,accuracy_7s,(accuracy_3s+accuracy_7s)/2"
   ]
  },
  {
   "cell_type": "markdown",
   "id": "f623879c-bb31-4b45-afe0-172a8c87d366",
   "metadata": {},
   "source": [
    "## 随机梯度下降 (SGD)¶"
   ]
  },
  {
   "cell_type": "code",
   "execution_count": 81,
   "id": "161cd26c-c4dd-4490-8980-7e6119cf3fb2",
   "metadata": {},
   "outputs": [
    {
     "data": {
      "image/svg+xml": [
       "<?xml version=\"1.0\" encoding=\"UTF-8\" standalone=\"no\"?>\n",
       "<!DOCTYPE svg PUBLIC \"-//W3C//DTD SVG 1.1//EN\"\n",
       " \"http://www.w3.org/Graphics/SVG/1.1/DTD/svg11.dtd\">\n",
       "<!-- Generated by graphviz version 13.1.0 (20250701.0955)\n",
       " -->\n",
       "<!-- Title: G Pages: 1 -->\n",
       "<svg width=\"596pt\" height=\"78pt\"\n",
       " viewBox=\"0.00 0.00 596.00 78.00\" xmlns=\"http://www.w3.org/2000/svg\" xmlns:xlink=\"http://www.w3.org/1999/xlink\">\n",
       "<g id=\"graph0\" class=\"graph\" transform=\"scale(1 1) rotate(0) translate(4 74)\">\n",
       "<title>G</title>\n",
       "<polygon fill=\"white\" stroke=\"none\" points=\"-4,4 -4,-74 592.25,-74 592.25,4 -4,4\"/>\n",
       "<!-- init -->\n",
       "<g id=\"node1\" class=\"node\">\n",
       "<title>init</title>\n",
       "<ellipse fill=\"none\" stroke=\"black\" cx=\"27\" cy=\"-18\" rx=\"27\" ry=\"18\"/>\n",
       "<text xml:space=\"preserve\" text-anchor=\"middle\" x=\"27\" y=\"-12.95\" font-family=\"Times,serif\" font-size=\"14.00\">init</text>\n",
       "</g>\n",
       "<!-- predict -->\n",
       "<g id=\"node2\" class=\"node\">\n",
       "<title>predict</title>\n",
       "<ellipse fill=\"none\" stroke=\"black\" cx=\"127.51\" cy=\"-18\" rx=\"36.51\" ry=\"18\"/>\n",
       "<text xml:space=\"preserve\" text-anchor=\"middle\" x=\"127.51\" y=\"-12.95\" font-family=\"Times,serif\" font-size=\"14.00\">predict</text>\n",
       "</g>\n",
       "<!-- init&#45;&gt;predict -->\n",
       "<g id=\"edge1\" class=\"edge\">\n",
       "<title>init&#45;&gt;predict</title>\n",
       "<path fill=\"none\" stroke=\"black\" d=\"M54.4,-18C62.17,-18 70.91,-18 79.55,-18\"/>\n",
       "<polygon fill=\"black\" stroke=\"black\" points=\"79.26,-21.5 89.26,-18 79.26,-14.5 79.26,-21.5\"/>\n",
       "</g>\n",
       "<!-- loss -->\n",
       "<g id=\"node3\" class=\"node\">\n",
       "<title>loss</title>\n",
       "<ellipse fill=\"none\" stroke=\"black\" cx=\"228.02\" cy=\"-52\" rx=\"27\" ry=\"18\"/>\n",
       "<text xml:space=\"preserve\" text-anchor=\"middle\" x=\"228.02\" y=\"-46.95\" font-family=\"Times,serif\" font-size=\"14.00\">loss</text>\n",
       "</g>\n",
       "<!-- predict&#45;&gt;loss -->\n",
       "<g id=\"edge2\" class=\"edge\">\n",
       "<title>predict&#45;&gt;loss</title>\n",
       "<path fill=\"none\" stroke=\"black\" d=\"M158.06,-28.2C168.95,-31.96 181.36,-36.24 192.63,-40.13\"/>\n",
       "<polygon fill=\"black\" stroke=\"black\" points=\"191.4,-43.41 201.99,-43.36 193.68,-36.79 191.4,-43.41\"/>\n",
       "</g>\n",
       "<!-- gradient -->\n",
       "<g id=\"node4\" class=\"node\">\n",
       "<title>gradient</title>\n",
       "<ellipse fill=\"none\" stroke=\"black\" cx=\"365.13\" cy=\"-52\" rx=\"41.12\" ry=\"18\"/>\n",
       "<text xml:space=\"preserve\" text-anchor=\"middle\" x=\"365.13\" y=\"-46.95\" font-family=\"Times,serif\" font-size=\"14.00\">gradient</text>\n",
       "</g>\n",
       "<!-- loss&#45;&gt;gradient -->\n",
       "<g id=\"edge3\" class=\"edge\">\n",
       "<title>loss&#45;&gt;gradient</title>\n",
       "<path fill=\"none\" stroke=\"black\" d=\"M255.39,-52C271.56,-52 292.81,-52 312.24,-52\"/>\n",
       "<polygon fill=\"black\" stroke=\"black\" points=\"312.21,-55.5 322.21,-52 312.21,-48.5 312.21,-55.5\"/>\n",
       "</g>\n",
       "<!-- step -->\n",
       "<g id=\"node5\" class=\"node\">\n",
       "<title>step</title>\n",
       "<ellipse fill=\"none\" stroke=\"black\" cx=\"470.25\" cy=\"-18\" rx=\"27\" ry=\"18\"/>\n",
       "<text xml:space=\"preserve\" text-anchor=\"middle\" x=\"470.25\" y=\"-12.95\" font-family=\"Times,serif\" font-size=\"14.00\">step</text>\n",
       "</g>\n",
       "<!-- gradient&#45;&gt;step -->\n",
       "<g id=\"edge4\" class=\"edge\">\n",
       "<title>gradient&#45;&gt;step</title>\n",
       "<path fill=\"none\" stroke=\"black\" d=\"M398.76,-41.24C410.3,-37.44 423.3,-33.15 434.97,-29.3\"/>\n",
       "<polygon fill=\"black\" stroke=\"black\" points=\"435.82,-32.71 444.22,-26.25 433.63,-26.06 435.82,-32.71\"/>\n",
       "</g>\n",
       "<!-- step&#45;&gt;predict -->\n",
       "<g id=\"edge6\" class=\"edge\">\n",
       "<title>step&#45;&gt;predict</title>\n",
       "<path fill=\"none\" stroke=\"black\" d=\"M443.04,-18C385.63,-18 248.13,-18 175.42,-18\"/>\n",
       "<polygon fill=\"black\" stroke=\"black\" points=\"175.84,-14.5 165.84,-18 175.84,-21.5 175.84,-14.5\"/>\n",
       "<text xml:space=\"preserve\" text-anchor=\"middle\" x=\"289.52\" y=\"-21.2\" font-family=\"Times,serif\" font-size=\"14.00\">repeat</text>\n",
       "</g>\n",
       "<!-- stop -->\n",
       "<g id=\"node6\" class=\"node\">\n",
       "<title>stop</title>\n",
       "<ellipse fill=\"none\" stroke=\"black\" cx=\"561.25\" cy=\"-18\" rx=\"27\" ry=\"18\"/>\n",
       "<text xml:space=\"preserve\" text-anchor=\"middle\" x=\"561.25\" y=\"-12.95\" font-family=\"Times,serif\" font-size=\"14.00\">stop</text>\n",
       "</g>\n",
       "<!-- step&#45;&gt;stop -->\n",
       "<g id=\"edge5\" class=\"edge\">\n",
       "<title>step&#45;&gt;stop</title>\n",
       "<path fill=\"none\" stroke=\"black\" d=\"M497.47,-18C505.37,-18 514.19,-18 522.67,-18\"/>\n",
       "<polygon fill=\"black\" stroke=\"black\" points=\"522.39,-21.5 532.39,-18 522.39,-14.5 522.39,-21.5\"/>\n",
       "</g>\n",
       "</g>\n",
       "</svg>\n"
      ],
      "text/plain": [
       "<graphviz.sources.Source at 0x33fd0b0d0>"
      ]
     },
     "execution_count": 81,
     "metadata": {},
     "output_type": "execute_result"
    }
   ],
   "source": [
    "gv('''\n",
    "init->predict->loss->gradient->step->stop\n",
    "step->predict[label=repeat]\n",
    "''')"
   ]
  },
  {
   "cell_type": "code",
   "execution_count": 82,
   "id": "705d15cb-06cd-41e8-bba2-3643922df222",
   "metadata": {},
   "outputs": [],
   "source": [
    "def f(x): return x**2"
   ]
  },
  {
   "cell_type": "code",
   "execution_count": 83,
   "id": "dae3514b-ef36-4c49-bfd4-4fe9e7b6f232",
   "metadata": {},
   "outputs": [
    {
     "data": {
      "image/png": "[encoded data removed]",
      "text/plain": [
       "<Figure size 600x400 with 1 Axes>"
      ]
     },
     "metadata": {},
     "output_type": "display_data"
    }
   ],
   "source": [
    "plot_function(f, 'x', 'x**2')"
   ]
  },
  {
   "cell_type": "code",
   "execution_count": 84,
   "id": "32b82460-7695-46c1-8fa0-24f7062db5c6",
   "metadata": {},
   "outputs": [
    {
     "data": {
      "image/png": "[encoded data removed]",
      "text/plain": [
       "<Figure size 600x400 with 1 Axes>"
      ]
     },
     "metadata": {},
     "output_type": "display_data"
    }
   ],
   "source": [
    "plot_function(f, 'x', 'x**2')\n",
    "plt.scatter(-1.5, f(-1.5), color='red');"
   ]
  },
  {
   "cell_type": "code",
   "execution_count": 95,
   "id": "20fb70f7-7d5b-42cd-b695-83dd3be3a612",
   "metadata": {},
   "outputs": [
    {
     "data": {
      "text/plain": [
       "(tensor(3., requires_grad=True), None)"
      ]
     },
     "execution_count": 95,
     "metadata": {},
     "output_type": "execute_result"
    }
   ],
   "source": [
    "xt = tensor(3.).requires_grad_()\n",
    "xt, xt.grad"
   ]
  },
  {
   "cell_type": "code",
   "execution_count": 96,
   "id": "a2d2046c-41e3-4b63-b6c4-0f6c489c2df6",
   "metadata": {},
   "outputs": [
    {
     "data": {
      "text/plain": [
       "tensor(9., grad_fn=<PowBackward0>)"
      ]
     },
     "execution_count": 96,
     "metadata": {},
     "output_type": "execute_result"
    }
   ],
   "source": [
    "yt = f(xt)\n",
    "yt"
   ]
  },
  {
   "cell_type": "code",
   "execution_count": 97,
   "id": "fc84d51a-402d-49ef-b774-ab30e1e1bd78",
   "metadata": {},
   "outputs": [],
   "source": [
    "yt.backward()"
   ]
  },
  {
   "cell_type": "code",
   "execution_count": 98,
   "id": "89d524f8-145f-4c41-ac03-64f3d62ad20b",
   "metadata": {},
   "outputs": [
    {
     "data": {
      "text/plain": [
       "tensor(6.)"
      ]
     },
     "execution_count": 98,
     "metadata": {},
     "output_type": "execute_result"
    }
   ],
   "source": [
    "xt.grad \n",
    "# x**2的导数是2*x，而我们这里的x值为3，所以梯度应该是2*3=6，这与PyTorch计算出的结果一致！"
   ]
  },
  {
   "cell_type": "code",
   "execution_count": 118,
   "id": "28180e40-aaa0-4099-90c8-1e8d0918f5d9",
   "metadata": {},
   "outputs": [
    {
     "data": {
      "text/plain": [
       "tensor([ 3.,  4., 10.], requires_grad=True)"
      ]
     },
     "execution_count": 118,
     "metadata": {},
     "output_type": "execute_result"
    }
   ],
   "source": [
    "xt = tensor([3.,4.,10.]).requires_grad_()\n",
    "xt"
   ]
  },
  {
   "cell_type": "code",
   "execution_count": 119,
   "id": "052d4d5a-1c78-4751-9c41-19cef710a413",
   "metadata": {},
   "outputs": [
    {
     "data": {
      "text/plain": [
       "tensor(125., grad_fn=<SumBackward0>)"
      ]
     },
     "execution_count": 119,
     "metadata": {},
     "output_type": "execute_result"
    }
   ],
   "source": [
    "def f(x): return (x**2).sum() # 只能为标量输出（即形状为 () 的张量）计算梯度。\n",
    "\n",
    "yt = f(xt)\n",
    "yt"
   ]
  },
  {
   "cell_type": "code",
   "execution_count": 120,
   "id": "dc79f023-089b-45fd-96eb-4a3f09a5bf9d",
   "metadata": {},
   "outputs": [
    {
     "data": {
      "text/plain": [
       "tensor([ 6.,  8., 20.])"
      ]
     },
     "execution_count": 120,
     "metadata": {},
     "output_type": "execute_result"
    }
   ],
   "source": [
    "yt.backward()\n",
    "xt.grad # 梯度只告诉我们函数的斜率，并没有确切告诉我们参数应该调整多少。"
   ]
  },
  {
   "cell_type": "markdown",
   "id": "6ca85210-76c5-4c1e-8ca8-0b191cb199ec",
   "metadata": {},
   "source": [
    "### 使用学习率进行调整\n",
    "w -= gradient(w) * lr"
   ]
  },
  {
   "cell_type": "markdown",
   "id": "e7e74fe3-99a8-4c50-a747-e2a9d036f2d2",
   "metadata": {},
   "source": [
    "### 一个端到端的随机梯度下降（SGD）示例"
   ]
  },
  {
   "cell_type": "code",
   "execution_count": 124,
   "id": "4d9b8037-1016-4c2b-a2a1-c2a24251a91e",
   "metadata": {},
   "outputs": [
    {
     "data": {
      "text/plain": [
       "tensor([ 0.,  1.,  2.,  3.,  4.,  5.,  6.,  7.,  8.,  9., 10., 11., 12., 13., 14., 15., 16., 17., 18., 19.])"
      ]
     },
     "execution_count": 124,
     "metadata": {},
     "output_type": "execute_result"
    }
   ],
   "source": [
    "time = torch.arange(0,20).float(); time"
   ]
  },
  {
   "cell_type": "code",
   "execution_count": 125,
   "id": "afea8178-00ed-45c2-b306-2ecfed614988",
   "metadata": {},
   "outputs": [
    {
     "data": {
      "image/png": "[encoded data removed]",
      "text/plain": [
       "<Figure size 640x480 with 1 Axes>"
      ]
     },
     "metadata": {},
     "output_type": "display_data"
    }
   ],
   "source": [
    "speed = torch.randn(20)*3 + 0.75*(time-9.5)**2 + 1\n",
    "plt.scatter(time,speed);"
   ]
  },
  {
   "cell_type": "code",
   "execution_count": 122,
   "id": "ae8de7f0-b369-486e-8bcb-8a97e91cffa3",
   "metadata": {},
   "outputs": [],
   "source": [
    "def f(t, params):\n",
    "    a,b,c = params\n",
    "    return a*(t**2) + (b*t) + c"
   ]
  },
  {
   "cell_type": "code",
   "execution_count": 123,
   "id": "f54cd6bc-7df7-44a3-a075-8afc47b9ab99",
   "metadata": {},
   "outputs": [],
   "source": [
    "def mse(preds, targets): return ((preds-targets)**2).mean().sqrt()"
   ]
  },
  {
   "cell_type": "markdown",
   "id": "4b1e554d-a49d-4b20-86fa-c792132a953f",
   "metadata": {},
   "source": [
    "#### 步骤1：初始化参数"
   ]
  },
  {
   "cell_type": "code",
   "execution_count": 178,
   "id": "09ced9ce-62bc-45f8-a8ca-f2f5ede5f20b",
   "metadata": {},
   "outputs": [
    {
     "data": {
      "text/plain": [
       "tensor([-0.6890, -1.1267, -0.2858], requires_grad=True)"
      ]
     },
     "execution_count": 178,
     "metadata": {},
     "output_type": "execute_result"
    }
   ],
   "source": [
    "params = torch.randn(3).requires_grad_()\n",
    "params"
   ]
  },
  {
   "cell_type": "code",
   "execution_count": 179,
   "id": "2338e6aa-3839-4448-ad8f-5e9bd3d5d562",
   "metadata": {},
   "outputs": [
    {
     "data": {
      "text/plain": [
       "tensor([-0.6890, -1.1267, -0.2858], grad_fn=<CloneBackward0>)"
      ]
     },
     "execution_count": 179,
     "metadata": {},
     "output_type": "execute_result"
    }
   ],
   "source": [
    "orig_params = params.clone()\n",
    "orig_params"
   ]
  },
  {
   "cell_type": "code",
   "execution_count": 180,
   "id": "bc59f199-2633-4a8f-9b47-3ea539cbd69c",
   "metadata": {},
   "outputs": [
    {
     "data": {
      "text/plain": [
       "(tensor([-1.0935,  1.1351,  0.7592]), tensor([-1.0935,  1.1351,  0.7592]))"
      ]
     },
     "execution_count": 180,
     "metadata": {},
     "output_type": "execute_result"
    }
   ],
   "source": [
    "# 为什么用clone？\n",
    "params_test = torch.randn(3)\n",
    "orig_params_test = params_test\n",
    "params_test, orig_params_test"
   ]
  },
  {
   "cell_type": "code",
   "execution_count": 181,
   "id": "ccc7951d-ca09-4154-9b7f-8a7d18fa4f09",
   "metadata": {},
   "outputs": [
    {
     "data": {
      "text/plain": [
       "(tensor([1.0000, 1.1351, 0.7592]), tensor([1.0000, 1.1351, 0.7592]))"
      ]
     },
     "execution_count": 181,
     "metadata": {},
     "output_type": "execute_result"
    }
   ],
   "source": [
    "params_test[0] = 1.0\n",
    "params_test, orig_params_test"
   ]
  },
  {
   "cell_type": "code",
   "execution_count": 182,
   "id": "b73ef182-4b80-416e-ad64-3f2025d390d9",
   "metadata": {},
   "outputs": [
    {
     "name": "stdout",
     "output_type": "stream",
     "text": [
      "原始值tensor([-3.5945,  0.0192,  0.1052]), 克隆值tensor([-3.5945,  0.0192,  0.1052])\n",
      "变更原始值tensor([1.0000, 0.0192, 0.1052]), 克隆值tensor([-3.5945,  0.0192,  0.1052])\n"
     ]
    }
   ],
   "source": [
    "params_test = torch.randn(3)\n",
    "orig_params_test = params_test.clone()\n",
    "print(f'原始值{params_test}, 克隆值{orig_params_test}')\n",
    "params_test[0] = 1.0\n",
    "print(f'变更原始值{params_test}, 克隆值{orig_params_test}')"
   ]
  },
  {
   "cell_type": "markdown",
   "id": "62987ef7-d31f-45d0-84b4-d5201f5fd981",
   "metadata": {},
   "source": [
    "#### 步骤2：计算预测值"
   ]
  },
  {
   "cell_type": "code",
   "execution_count": 183,
   "id": "e9e2c557-3e0d-453c-ae7f-94ebac748c3d",
   "metadata": {},
   "outputs": [
    {
     "data": {
      "text/plain": [
       "tensor([  -0.2858,   -2.1015,   -5.2952,   -9.8670,  -15.8168,  -23.1447,  -31.8506,  -41.9344,  -53.3964,  -66.2363,  -80.4543,  -96.0503, -113.0243, -131.3764, -151.1065, -172.2146, -194.7007,\n",
       "        -218.5649, -243.8071, -270.4273], grad_fn=<AddBackward0>)"
      ]
     },
     "execution_count": 183,
     "metadata": {},
     "output_type": "execute_result"
    }
   ],
   "source": [
    "preds = f(time, params)\n",
    "preds"
   ]
  },
  {
   "cell_type": "code",
   "execution_count": 184,
   "id": "a8c7b33c-965f-4dce-bd3d-a2d2e4719003",
   "metadata": {},
   "outputs": [],
   "source": [
    "def show_preds(preds, ax=None):\n",
    "    if ax is None: ax=plt.subplots()[1]\n",
    "    ax.scatter(time, speed)\n",
    "    ax.scatter(time, to_np(preds), color='red')\n",
    "    ax.set_ylim(-300,100)"
   ]
  },
  {
   "cell_type": "code",
   "execution_count": 185,
   "id": "097cdb1b-13bf-4d42-aa88-10f162589139",
   "metadata": {},
   "outputs": [
    {
     "data": {
      "image/png": "[encoded data removed]",
      "text/plain": [
       "<Figure size 640x480 with 1 Axes>"
      ]
     },
     "metadata": {},
     "output_type": "display_data"
    }
   ],
   "source": [
    "show_preds(preds)"
   ]
  },
  {
   "cell_type": "markdown",
   "id": "c1cf0816-801c-4fc7-8d68-ccf41714488c",
   "metadata": {},
   "source": [
    "#### 步骤3：计算损失"
   ]
  },
  {
   "cell_type": "code",
   "execution_count": 186,
   "id": "2d07b997-ba76-49cf-8d41-5990f026e4d2",
   "metadata": {},
   "outputs": [
    {
     "data": {
      "text/plain": [
       "tensor(153.3024, grad_fn=<SqrtBackward0>)"
      ]
     },
     "execution_count": 186,
     "metadata": {},
     "output_type": "execute_result"
    }
   ],
   "source": [
    "loss = mse(preds, speed)\n",
    "loss"
   ]
  },
  {
   "cell_type": "markdown",
   "id": "718ac09a-3d6a-4acc-9b49-6b644fc87ce1",
   "metadata": {},
   "source": [
    "#### 步骤4：计算梯度"
   ]
  },
  {
   "cell_type": "code",
   "execution_count": 187,
   "id": "20e5b8ac-6ddc-4d9e-b2c9-fad7358f9e76",
   "metadata": {},
   "outputs": [
    {
     "data": {
      "text/plain": [
       "tensor([-165.1492,  -10.6535,   -0.8002])"
      ]
     },
     "execution_count": 187,
     "metadata": {},
     "output_type": "execute_result"
    }
   ],
   "source": [
    "loss.backward()\n",
    "params.grad"
   ]
  },
  {
   "cell_type": "code",
   "execution_count": 188,
   "id": "12974906-6d83-4a5e-a3b1-51239d586dae",
   "metadata": {},
   "outputs": [
    {
     "data": {
      "text/plain": [
       "tensor([-1.6515e-03, -1.0653e-04, -8.0017e-06])"
      ]
     },
     "execution_count": 188,
     "metadata": {},
     "output_type": "execute_result"
    }
   ],
   "source": [
    "params.grad * 1e-5"
   ]
  },
  {
   "cell_type": "code",
   "execution_count": 189,
   "id": "dbda3693-9583-464d-b24c-1dbe5174095c",
   "metadata": {},
   "outputs": [
    {
     "data": {
      "text/plain": [
       "tensor([-0.6890, -1.1267, -0.2858], requires_grad=True)"
      ]
     },
     "execution_count": 189,
     "metadata": {},
     "output_type": "execute_result"
    }
   ],
   "source": [
    "params"
   ]
  },
  {
   "cell_type": "markdown",
   "id": "1f9c72d2-82f4-476d-8d46-7b534aa0f233",
   "metadata": {},
   "source": [
    "#### 步骤5：更新权重"
   ]
  },
  {
   "cell_type": "code",
   "execution_count": 190,
   "id": "e62cfaf1-b9f9-4756-8fb0-28c7468fb34e",
   "metadata": {},
   "outputs": [],
   "source": [
    "lr = 1e-4\n",
    "params.data -= lr * params.grad.data\n",
    "params.grad = None"
   ]
  },
  {
   "cell_type": "code",
   "execution_count": 191,
   "id": "1593bd4c-c0ed-4276-af22-7066f8b7f730",
   "metadata": {},
   "outputs": [
    {
     "data": {
      "text/plain": [
       "tensor([-0.6725, -1.1257, -0.2857], requires_grad=True)"
      ]
     },
     "execution_count": 191,
     "metadata": {},
     "output_type": "execute_result"
    }
   ],
   "source": [
    "params"
   ]
  },
  {
   "cell_type": "code",
   "execution_count": 192,
   "id": "e4407863-890e-42f6-9a7d-b36d050b5ab9",
   "metadata": {},
   "outputs": [
    {
     "data": {
      "text/plain": [
       "tensor(150.5644, grad_fn=<SqrtBackward0>)"
      ]
     },
     "execution_count": 192,
     "metadata": {},
     "output_type": "execute_result"
    }
   ],
   "source": [
    "preds = f(time,params)\n",
    "mse(preds, speed)"
   ]
  },
  {
   "cell_type": "code",
   "execution_count": 193,
   "id": "3543f33e-e7d7-46a0-b96e-969ab834d9a4",
   "metadata": {},
   "outputs": [
    {
     "data": {
      "image/png": "[encoded data removed]",
      "text/plain": [
       "<Figure size 640x480 with 1 Axes>"
      ]
     },
     "metadata": {},
     "output_type": "display_data"
    }
   ],
   "source": [
    "show_preds(preds)"
   ]
  },
  {
   "cell_type": "code",
   "execution_count": 194,
   "id": "0992315f-236f-4e4c-92c3-113e76278ce1",
   "metadata": {},
   "outputs": [],
   "source": [
    "def apply_step(params, prn=True):\n",
    "    preds = f(time, params)\n",
    "    loss = mse(preds, speed)\n",
    "    loss.backward()\n",
    "    params.data -= lr * params.grad.data\n",
    "    params.grad = None\n",
    "    if prn: print(loss.item())\n",
    "    return preds"
   ]
  },
  {
   "cell_type": "markdown",
   "id": "74fd3f73-48ee-4c41-97eb-ff19f4da8a2e",
   "metadata": {},
   "source": [
    "#### 步骤6：重复该过程"
   ]
  },
  {
   "cell_type": "code",
   "execution_count": 198,
   "id": "45b4bfa1-338c-447b-8825-b0202ec5acd4",
   "metadata": {},
   "outputs": [
    {
     "name": "stdout",
     "output_type": "stream",
     "text": [
      "142.37017822265625\n",
      "139.64605712890625\n",
      "136.92591857910156\n",
      "134.20999145507812\n",
      "131.49856567382812\n",
      "128.79188537597656\n",
      "126.09025573730469\n",
      "123.39399719238281\n",
      "120.70345306396484\n",
      "118.01899719238281\n",
      "115.3410415649414\n",
      "112.67002868652344\n",
      "110.0064468383789\n",
      "107.35081481933594\n",
      "104.70372009277344\n",
      "102.06578063964844\n",
      "99.43768310546875\n",
      "96.8202133178711\n",
      "94.21414947509766\n",
      "91.6204605102539\n"
     ]
    }
   ],
   "source": [
    "for i in range(20): apply_step(params)"
   ]
  },
  {
   "cell_type": "code",
   "execution_count": 208,
   "id": "01335f59-e399-4148-8960-61ee3fcca14f",
   "metadata": {},
   "outputs": [
    {
     "data": {
      "text/plain": [
       "tensor([ 0.1254, -1.0738, -0.2812], requires_grad=True)"
      ]
     },
     "execution_count": 208,
     "metadata": {},
     "output_type": "execute_result"
    }
   ],
   "source": [
    "params = orig_params.detach().requires_grad_()\n",
    "params"
   ]
  },
  {
   "cell_type": "code",
   "execution_count": 209,
   "id": "b060c60b-d7c8-4b78-9dd0-c9b435da004f",
   "metadata": {},
   "outputs": [
    {
     "data": {
      "image/png": "[encoded data removed]",
      "text/plain": [
       "<Figure size 1200x300 with 5 Axes>"
      ]
     },
     "metadata": {},
     "output_type": "display_data"
    }
   ],
   "source": [
    "_,axs = plt.subplots(1,5,figsize=(12,3))\n",
    "for ax in axs: show_preds(apply_step(params, False), ax)\n",
    "plt.tight_layout()"
   ]
  },
  {
   "cell_type": "code",
   "execution_count": 210,
   "id": "1e892270-dbf3-432f-bce8-bd99f1e469e2",
   "metadata": {},
   "outputs": [
    {
     "data": {
      "image/svg+xml": [
       "<?xml version=\"1.0\" encoding=\"UTF-8\" standalone=\"no\"?>\n",
       "<!DOCTYPE svg PUBLIC \"-//W3C//DTD SVG 1.1//EN\"\n",
       " \"http://www.w3.org/Graphics/SVG/1.1/DTD/svg11.dtd\">\n",
       "<!-- Generated by graphviz version 13.1.0 (20250701.0955)\n",
       " -->\n",
       "<!-- Title: G Pages: 1 -->\n",
       "<svg width=\"596pt\" height=\"78pt\"\n",
       " viewBox=\"0.00 0.00 596.00 78.00\" xmlns=\"http://www.w3.org/2000/svg\" xmlns:xlink=\"http://www.w3.org/1999/xlink\">\n",
       "<g id=\"graph0\" class=\"graph\" transform=\"scale(1 1) rotate(0) translate(4 74)\">\n",
       "<title>G</title>\n",
       "<polygon fill=\"white\" stroke=\"none\" points=\"-4,4 -4,-74 592.25,-74 592.25,4 -4,4\"/>\n",
       "<!-- init -->\n",
       "<g id=\"node1\" class=\"node\">\n",
       "<title>init</title>\n",
       "<ellipse fill=\"none\" stroke=\"black\" cx=\"27\" cy=\"-18\" rx=\"27\" ry=\"18\"/>\n",
       "<text xml:space=\"preserve\" text-anchor=\"middle\" x=\"27\" y=\"-12.95\" font-family=\"Times,serif\" font-size=\"14.00\">init</text>\n",
       "</g>\n",
       "<!-- predict -->\n",
       "<g id=\"node2\" class=\"node\">\n",
       "<title>predict</title>\n",
       "<ellipse fill=\"none\" stroke=\"black\" cx=\"127.51\" cy=\"-18\" rx=\"36.51\" ry=\"18\"/>\n",
       "<text xml:space=\"preserve\" text-anchor=\"middle\" x=\"127.51\" y=\"-12.95\" font-family=\"Times,serif\" font-size=\"14.00\">predict</text>\n",
       "</g>\n",
       "<!-- init&#45;&gt;predict -->\n",
       "<g id=\"edge1\" class=\"edge\">\n",
       "<title>init&#45;&gt;predict</title>\n",
       "<path fill=\"none\" stroke=\"black\" d=\"M54.4,-18C62.17,-18 70.91,-18 79.55,-18\"/>\n",
       "<polygon fill=\"black\" stroke=\"black\" points=\"79.26,-21.5 89.26,-18 79.26,-14.5 79.26,-21.5\"/>\n",
       "</g>\n",
       "<!-- loss -->\n",
       "<g id=\"node3\" class=\"node\">\n",
       "<title>loss</title>\n",
       "<ellipse fill=\"none\" stroke=\"black\" cx=\"228.02\" cy=\"-52\" rx=\"27\" ry=\"18\"/>\n",
       "<text xml:space=\"preserve\" text-anchor=\"middle\" x=\"228.02\" y=\"-46.95\" font-family=\"Times,serif\" font-size=\"14.00\">loss</text>\n",
       "</g>\n",
       "<!-- predict&#45;&gt;loss -->\n",
       "<g id=\"edge2\" class=\"edge\">\n",
       "<title>predict&#45;&gt;loss</title>\n",
       "<path fill=\"none\" stroke=\"black\" d=\"M158.06,-28.2C168.95,-31.96 181.36,-36.24 192.63,-40.13\"/>\n",
       "<polygon fill=\"black\" stroke=\"black\" points=\"191.4,-43.41 201.99,-43.36 193.68,-36.79 191.4,-43.41\"/>\n",
       "</g>\n",
       "<!-- gradient -->\n",
       "<g id=\"node4\" class=\"node\">\n",
       "<title>gradient</title>\n",
       "<ellipse fill=\"none\" stroke=\"black\" cx=\"365.13\" cy=\"-52\" rx=\"41.12\" ry=\"18\"/>\n",
       "<text xml:space=\"preserve\" text-anchor=\"middle\" x=\"365.13\" y=\"-46.95\" font-family=\"Times,serif\" font-size=\"14.00\">gradient</text>\n",
       "</g>\n",
       "<!-- loss&#45;&gt;gradient -->\n",
       "<g id=\"edge3\" class=\"edge\">\n",
       "<title>loss&#45;&gt;gradient</title>\n",
       "<path fill=\"none\" stroke=\"black\" d=\"M255.39,-52C271.56,-52 292.81,-52 312.24,-52\"/>\n",
       "<polygon fill=\"black\" stroke=\"black\" points=\"312.21,-55.5 322.21,-52 312.21,-48.5 312.21,-55.5\"/>\n",
       "</g>\n",
       "<!-- step -->\n",
       "<g id=\"node5\" class=\"node\">\n",
       "<title>step</title>\n",
       "<ellipse fill=\"none\" stroke=\"black\" cx=\"470.25\" cy=\"-18\" rx=\"27\" ry=\"18\"/>\n",
       "<text xml:space=\"preserve\" text-anchor=\"middle\" x=\"470.25\" y=\"-12.95\" font-family=\"Times,serif\" font-size=\"14.00\">step</text>\n",
       "</g>\n",
       "<!-- gradient&#45;&gt;step -->\n",
       "<g id=\"edge4\" class=\"edge\">\n",
       "<title>gradient&#45;&gt;step</title>\n",
       "<path fill=\"none\" stroke=\"black\" d=\"M398.76,-41.24C410.3,-37.44 423.3,-33.15 434.97,-29.3\"/>\n",
       "<polygon fill=\"black\" stroke=\"black\" points=\"435.82,-32.71 444.22,-26.25 433.63,-26.06 435.82,-32.71\"/>\n",
       "</g>\n",
       "<!-- step&#45;&gt;predict -->\n",
       "<g id=\"edge6\" class=\"edge\">\n",
       "<title>step&#45;&gt;predict</title>\n",
       "<path fill=\"none\" stroke=\"black\" d=\"M443.04,-18C385.63,-18 248.13,-18 175.42,-18\"/>\n",
       "<polygon fill=\"black\" stroke=\"black\" points=\"175.84,-14.5 165.84,-18 175.84,-21.5 175.84,-14.5\"/>\n",
       "<text xml:space=\"preserve\" text-anchor=\"middle\" x=\"289.52\" y=\"-21.2\" font-family=\"Times,serif\" font-size=\"14.00\">repeat</text>\n",
       "</g>\n",
       "<!-- stop -->\n",
       "<g id=\"node6\" class=\"node\">\n",
       "<title>stop</title>\n",
       "<ellipse fill=\"none\" stroke=\"black\" cx=\"561.25\" cy=\"-18\" rx=\"27\" ry=\"18\"/>\n",
       "<text xml:space=\"preserve\" text-anchor=\"middle\" x=\"561.25\" y=\"-12.95\" font-family=\"Times,serif\" font-size=\"14.00\">stop</text>\n",
       "</g>\n",
       "<!-- step&#45;&gt;stop -->\n",
       "<g id=\"edge5\" class=\"edge\">\n",
       "<title>step&#45;&gt;stop</title>\n",
       "<path fill=\"none\" stroke=\"black\" d=\"M497.47,-18C505.37,-18 514.19,-18 522.67,-18\"/>\n",
       "<polygon fill=\"black\" stroke=\"black\" points=\"522.39,-21.5 532.39,-18 522.39,-14.5 522.39,-21.5\"/>\n",
       "</g>\n",
       "</g>\n",
       "</svg>\n"
      ],
      "text/plain": [
       "<graphviz.sources.Source at 0x158e93be0>"
      ]
     },
     "execution_count": 210,
     "metadata": {},
     "output_type": "execute_result"
    }
   ],
   "source": [
    "# 看一下总结\n",
    "gv('''\n",
    "init->predict->loss->gradient->step->stop\n",
    "step->predict[label=repeat]\n",
    "''')"
   ]
  },
  {
   "cell_type": "markdown",
   "id": "d545e5e4-4dfd-48a8-a977-9e7c9aae7ef1",
   "metadata": {},
   "source": [
    "## MNIST损失函数"
   ]
  },
  {
   "cell_type": "code",
   "execution_count": 212,
   "id": "f762f5a1-3fd7-4b5e-a371-034d6f7f1853",
   "metadata": {},
   "outputs": [],
   "source": [
    "train_x = torch.cat([stacked_threes, stacked_sevens]).view(-1, 28*28)"
   ]
  },
  {
   "cell_type": "code",
   "execution_count": 213,
   "id": "0841ce31-04e7-401c-9c8d-4235dfbf0555",
   "metadata": {},
   "outputs": [
    {
     "data": {
      "text/plain": [
       "torch.Size([12396, 784])"
      ]
     },
     "execution_count": 213,
     "metadata": {},
     "output_type": "execute_result"
    }
   ],
   "source": [
    "train_x.shape"
   ]
  },
  {
   "cell_type": "code",
   "execution_count": 214,
   "id": "a66cb559-c4f3-40aa-aa46-f5d9163d216d",
   "metadata": {},
   "outputs": [
    {
     "data": {
      "text/plain": [
       "(torch.Size([12396, 784]), torch.Size([12396, 1]))"
      ]
     },
     "execution_count": 214,
     "metadata": {},
     "output_type": "execute_result"
    }
   ],
   "source": [
    "train_y = tensor([1]*len(threes) + [0]*len(sevens)).unsqueeze(1)\n",
    "train_x.shape,train_y.shape"
   ]
  },
  {
   "cell_type": "code",
   "execution_count": 215,
   "id": "965e1c18-f397-473a-94d6-32fb536a42f0",
   "metadata": {},
   "outputs": [
    {
     "data": {
      "text/plain": [
       "(torch.Size([784]), tensor([1]))"
      ]
     },
     "execution_count": 215,
     "metadata": {},
     "output_type": "execute_result"
    }
   ],
   "source": [
    "dset = list(zip(train_x,train_y))\n",
    "x,y = dset[0]\n",
    "x.shape,y"
   ]
  },
  {
   "cell_type": "code",
   "execution_count": 216,
   "id": "34e2d606-2ba5-4be9-b4a5-496cd054b011",
   "metadata": {},
   "outputs": [],
   "source": [
    "valid_x = torch.cat([valid_3_tens, valid_7_tens]).view(-1, 28*28)\n",
    "valid_y = tensor([1]*len(valid_3_tens) + [0]*len(valid_7_tens)).unsqueeze(1)\n",
    "valid_dset = list(zip(valid_x,valid_y))"
   ]
  },
  {
   "cell_type": "code",
   "execution_count": 217,
   "id": "241beffb-a4c5-4536-8386-739c67504656",
   "metadata": {},
   "outputs": [],
   "source": [
    "def init_params(size, std=1.0): return (torch.randn(size)*std).requires_grad_()"
   ]
  },
  {
   "cell_type": "code",
   "execution_count": 218,
   "id": "cc19a31b-e2b0-4c0a-a279-75f3a6931506",
   "metadata": {},
   "outputs": [],
   "source": [
    "weights = init_params((28*28,1))"
   ]
  },
  {
   "cell_type": "code",
   "execution_count": 219,
   "id": "13eab90e-42ac-4dfd-a992-251b949ce6d9",
   "metadata": {},
   "outputs": [],
   "source": [
    "# 函数weights*pixels的灵活性不足——当像素值为0时，该函数的值始终为0（即它的“截距”为0）。\n",
    "# 你可能还记得高中数学里的直线方程y = w*x + b；我们还需要这个b（偏置项）。\n",
    "\n",
    "bias = init_params(1)"
   ]
  },
  {
   "cell_type": "code",
   "execution_count": 223,
   "id": "f16fc012-88d2-407b-a5df-014b6599e1a6",
   "metadata": {},
   "outputs": [
    {
     "data": {
      "text/plain": [
       "tensor([0.2220], grad_fn=<AddBackward0>)"
      ]
     },
     "execution_count": 223,
     "metadata": {},
     "output_type": "execute_result"
    }
   ],
   "source": [
    "(train_x[0]*weights.T).sum() + bias"
   ]
  },
  {
   "cell_type": "code",
   "execution_count": 224,
   "id": "d84238e5-cd5f-403b-b83c-819d7d8d9eb2",
   "metadata": {},
   "outputs": [
    {
     "data": {
      "text/plain": [
       "tensor([[ 0.2220],\n",
       "        [10.5095],\n",
       "        [ 8.4926],\n",
       "        ...,\n",
       "        [ 9.6805],\n",
       "        [18.5456],\n",
       "        [10.7224]], grad_fn=<AddBackward0>)"
      ]
     },
     "execution_count": 224,
     "metadata": {},
     "output_type": "execute_result"
    }
   ],
   "source": [
    "def linear1(xb): return xb@weights + bias\n",
    "preds = linear1(train_x)\n",
    "preds"
   ]
  },
  {
   "cell_type": "code",
   "execution_count": 225,
   "id": "5656cb84-e134-4bef-9c34-fa566a3a907c",
   "metadata": {},
   "outputs": [
    {
     "data": {
      "text/plain": [
       "tensor([[ True],\n",
       "        [ True],\n",
       "        [ True],\n",
       "        ...,\n",
       "        [False],\n",
       "        [False],\n",
       "        [False]])"
      ]
     },
     "execution_count": 225,
     "metadata": {},
     "output_type": "execute_result"
    }
   ],
   "source": [
    "corrects = (preds>0.0).float() == train_y\n",
    "corrects"
   ]
  },
  {
   "cell_type": "code",
   "execution_count": 227,
   "id": "cc748289-0d0c-4db7-b44e-18c2b5ad3834",
   "metadata": {},
   "outputs": [
    {
     "data": {
      "text/plain": [
       "0.3346240818500519"
      ]
     },
     "execution_count": 227,
     "metadata": {},
     "output_type": "execute_result"
    }
   ],
   "source": [
    "corrects.float().mean().item()\n",
    "# .float() 后变为 tensor([1., 0., 1., 1.])\n",
    "# .mean() 计算结果为 tensor(0.75)（3 个正确 / 4 个总样本）\n",
    "# .item() 最终得到 0.75（Python 浮点数）"
   ]
  },
  {
   "cell_type": "code",
   "execution_count": 229,
   "id": "e0a3aa6d-63ca-440d-bd40-1548d60714b5",
   "metadata": {},
   "outputs": [],
   "source": [
    "# 现在我们来看看，当其中一个权重发生微小变化时，准确率会有怎样的变化：\n",
    "weights_copy = weights.clone()\n",
    "weights_copy[0] *= 1.0001"
   ]
  },
  {
   "cell_type": "code",
   "execution_count": 230,
   "id": "1c1750b2-8799-4c34-b993-96f368a78a6c",
   "metadata": {},
   "outputs": [
    {
     "data": {
      "text/plain": [
       "0.3346240818500519"
      ]
     },
     "execution_count": 230,
     "metadata": {},
     "output_type": "execute_result"
    }
   ],
   "source": [
    "def linear1_copy(xb): return xb@weights_copy + bias\n",
    "preds = linear1_copy(train_x)\n",
    "((preds>0.0).float() == train_y).float().mean().item()"
   ]
  },
  {
   "cell_type": "code",
   "execution_count": 292,
   "id": "0c0b08ae-5d69-4b05-a037-c557c8367b07",
   "metadata": {},
   "outputs": [],
   "source": [
    "# 函数的梯度指的是它的“斜率”或陡峭程度，其定义为“上升量除以运行量”——即函数值的变化量除以输入的变化量。\n",
    "# 用数学式子可以表示为：(y_new - y_old) / (x_new - x_old)。\n",
    "# 当x_new与x_old非常接近（即它们的差值极小）时，这个式子能很好地近似梯度。\n",
    "# 但准确率只有在预测结果从3变为7（或反之）时才会发生变化。\n",
    "# 问题在于，权重从x_old到x_new的微小变化不太可能导致任何预测结果发生改变，因此(y_new - y_old)几乎总是为0。换句话说，梯度在几乎所有地方都是0。\n",
    "\n",
    "# 权重的微小变化通常根本不会改变准确率。这意味着将准确率用作损失函数是不可行的——如果我们这样做，大多数时候梯度实际上会是0，模型无法从这个数值中学习。\n",
    "trgts  = tensor([1,0,1])\n",
    "prds   = tensor([0.9, 0.4, 0.2])"
   ]
  },
  {
   "cell_type": "code",
   "execution_count": 293,
   "id": "8657c9a8-6794-4380-a40a-fd6adf88cebf",
   "metadata": {},
   "outputs": [],
   "source": [
    "def mnist_loss(predictions, targets):\n",
    "    return torch.where(targets==1, 1-predictions, predictions).mean()"
   ]
  },
  {
   "cell_type": "code",
   "execution_count": 294,
   "id": "536c2f12-1878-486d-9aa7-036d024ef47b",
   "metadata": {},
   "outputs": [
    {
     "data": {
      "text/plain": [
       "tensor([0.1000, 0.4000, 0.8000])"
      ]
     },
     "execution_count": 294,
     "metadata": {},
     "output_type": "execute_result"
    }
   ],
   "source": [
    "torch.where(trgts==1, 1-prds, prds)"
   ]
  },
  {
   "cell_type": "code",
   "execution_count": 295,
   "id": "6168ae13-87ff-4556-b08a-a64424879b57",
   "metadata": {},
   "outputs": [
    {
     "data": {
      "text/plain": [
       "tensor(0.4333)"
      ]
     },
     "execution_count": 295,
     "metadata": {},
     "output_type": "execute_result"
    }
   ],
   "source": [
    "mnist_loss(prds,trgts)"
   ]
  },
  {
   "cell_type": "code",
   "execution_count": 296,
   "id": "426dc139-ddc5-4f3c-9d5d-77d1367eb54a",
   "metadata": {},
   "outputs": [
    {
     "data": {
      "text/plain": [
       "tensor(0.2333)"
      ]
     },
     "execution_count": 296,
     "metadata": {},
     "output_type": "execute_result"
    }
   ],
   "source": [
    "mnist_loss(tensor([0.9, 0.4, 0.8]),trgts)"
   ]
  },
  {
   "cell_type": "markdown",
   "id": "ccbe54de-774b-485e-9a6a-27a6bf626ed0",
   "metadata": {},
   "source": [
    "### Sigmoid"
   ]
  },
  {
   "cell_type": "code",
   "execution_count": 236,
   "id": "945af93d-51b3-464c-8c30-6b7520f4b8af",
   "metadata": {},
   "outputs": [],
   "source": [
    "# sigmoid（ sigmoid函数）的输出值始终在0到1之间。其定义如下：\n",
    "# 指数函数 e^(-x) 的特性是：当 x 很大时，-x 是很大的负数，e^(-x) 趋近于 0；当 x 很小时，-x 是很大的正数，e^(-x) 趋近于无穷大。\n",
    "# 当输入 x 越大（正方向），torch.exp(-x) 越小，分母 1+torch.exp(-x) 越接近 1，因此输出 y 越接近 1（置信度越高）；\n",
    "# 当输入 x 越小（负方向），torch.exp(-x) 越大，分母越大，输出 y 越接近 0（置信度越低）。\n",
    "def sigmoid(x): return 1/(1+torch.exp(-x))"
   ]
  },
  {
   "cell_type": "code",
   "execution_count": 237,
   "id": "89fdd497-c93d-4437-bf3d-3dfff03840fa",
   "metadata": {},
   "outputs": [
    {
     "data": {
      "image/png": "[encoded data removed]",
      "text/plain": [
       "<Figure size 600x400 with 1 Axes>"
      ]
     },
     "metadata": {},
     "output_type": "display_data"
    }
   ],
   "source": [
    "plot_function(torch.sigmoid, title='Sigmoid', min=-4, max=4)"
   ]
  },
  {
   "cell_type": "code",
   "execution_count": 238,
   "id": "3a35b47f-f6ea-4e6e-92f3-45c5e772fbc7",
   "metadata": {},
   "outputs": [],
   "source": [
    "def mnist_loss(predictions, targets):\n",
    "    predictions = predictions.sigmoid()\n",
    "    return torch.where(targets==1, 1-predictions, predictions).mean()"
   ]
  },
  {
   "cell_type": "markdown",
   "id": "17490e8d-08c6-43d1-968a-514a0c432f7c",
   "metadata": {},
   "source": [
    "### 随机梯度下降（SGD）与小批量（Mini-Batches）"
   ]
  },
  {
   "cell_type": "code",
   "execution_count": 239,
   "id": "4af657cf-88bd-4b54-8e9b-bd85311500de",
   "metadata": {},
   "outputs": [
    {
     "data": {
      "text/plain": [
       "[tensor([ 3, 12,  8, 10,  2]),\n",
       " tensor([ 9,  4,  7, 14,  5]),\n",
       " tensor([ 1, 13,  0,  6, 11])]"
      ]
     },
     "execution_count": 239,
     "metadata": {},
     "output_type": "execute_result"
    }
   ],
   "source": [
    "# 计算整个数据集的损失会耗费大量时间；而仅用单个样本计算损失则信息利用不足，会导致梯度估计非常不精确且不稳定\n",
    "# 折中的方法：每次计算少量数据样本的平均损失。这少量样本被称为“小批量”（mini-batch），小批量中数据样本的数量则称为“批量大小”（batch size）。\n",
    "coll = range(15)\n",
    "dl = DataLoader(coll, batch_size=5, shuffle=True)\n",
    "list(dl)"
   ]
  },
  {
   "cell_type": "code",
   "execution_count": 240,
   "id": "67005e57-45d3-4b15-9c5b-035d68bcb383",
   "metadata": {},
   "outputs": [
    {
     "data": {
      "text/plain": [
       "(#26) [(0, 'a'),(1, 'b'),(2, 'c'),(3, 'd'),(4, 'e'),(5, 'f'),(6, 'g'),(7, 'h'),(8, 'i'),(9, 'j'),(10, 'k'),(11, 'l'),(12, 'm'),(13, 'n'),(14, 'o'),(15, 'p'),(16, 'q'),(17, 'r'),(18, 's'),(19, 't')...]"
      ]
     },
     "execution_count": 240,
     "metadata": {},
     "output_type": "execute_result"
    }
   ],
   "source": [
    "ds = L(enumerate(string.ascii_lowercase))\n",
    "ds"
   ]
  },
  {
   "cell_type": "code",
   "execution_count": 241,
   "id": "4abd4115-92ea-4777-9c5c-52a66c914c6b",
   "metadata": {},
   "outputs": [
    {
     "data": {
      "text/plain": [
       "[(tensor([17, 18, 10, 22,  8, 14]), ('r', 's', 'k', 'w', 'i', 'o')),\n",
       " (tensor([20, 15,  9, 13, 21, 12]), ('u', 'p', 'j', 'n', 'v', 'm')),\n",
       " (tensor([ 7, 25,  6,  5, 11, 23]), ('h', 'z', 'g', 'f', 'l', 'x')),\n",
       " (tensor([ 1,  3,  0, 24, 19, 16]), ('b', 'd', 'a', 'y', 't', 'q')),\n",
       " (tensor([2, 4]), ('c', 'e'))]"
      ]
     },
     "execution_count": 241,
     "metadata": {},
     "output_type": "execute_result"
    }
   ],
   "source": [
    "dl = DataLoader(ds, batch_size=6, shuffle=True)\n",
    "list(dl)"
   ]
  },
  {
   "cell_type": "markdown",
   "id": "e107c79b-0733-47ef-9326-52eda6f31267",
   "metadata": {},
   "source": [
    "## 整合所有内容"
   ]
  },
  {
   "cell_type": "code",
   "execution_count": 243,
   "id": "2c529e8e-5017-451d-bfdf-9620ab6bae55",
   "metadata": {},
   "outputs": [
    {
     "data": {
      "text/plain": [
       "(torch.Size([784, 1]), torch.Size([1]))"
      ]
     },
     "execution_count": 243,
     "metadata": {},
     "output_type": "execute_result"
    }
   ],
   "source": [
    "weights = init_params((28*28,1))\n",
    "bias = init_params(1)\n",
    "weights.shape, bias.shape"
   ]
  },
  {
   "cell_type": "code",
   "execution_count": 244,
   "id": "f11cb87f-b7fb-44c0-8df7-451316ebaf79",
   "metadata": {},
   "outputs": [
    {
     "data": {
      "text/plain": [
       "(torch.Size([256, 784]), torch.Size([256, 1]))"
      ]
     },
     "execution_count": 244,
     "metadata": {},
     "output_type": "execute_result"
    }
   ],
   "source": [
    "dl = DataLoader(dset, batch_size=256)\n",
    "xb,yb = first(dl)\n",
    "xb.shape,yb.shape"
   ]
  },
  {
   "cell_type": "code",
   "execution_count": 245,
   "id": "a82df41d-0b73-4b8b-97e4-b3b06ad2971a",
   "metadata": {},
   "outputs": [],
   "source": [
    "valid_dl = DataLoader(valid_dset, batch_size=256)"
   ]
  },
  {
   "cell_type": "code",
   "execution_count": 246,
   "id": "ca3bf638-741a-4813-a905-7b12197139e1",
   "metadata": {},
   "outputs": [
    {
     "data": {
      "text/plain": [
       "torch.Size([4, 784])"
      ]
     },
     "execution_count": 246,
     "metadata": {},
     "output_type": "execute_result"
    }
   ],
   "source": [
    "batch = train_x[:4]\n",
    "batch.shape"
   ]
  },
  {
   "cell_type": "code",
   "execution_count": 247,
   "id": "9550311e-3f88-4da2-a9bb-1705922151f2",
   "metadata": {},
   "outputs": [
    {
     "data": {
      "text/plain": [
       "tensor([[ -4.4989],\n",
       "        [-11.9460],\n",
       "        [-13.8964],\n",
       "        [-16.3760]], grad_fn=<AddBackward0>)"
      ]
     },
     "execution_count": 247,
     "metadata": {},
     "output_type": "execute_result"
    }
   ],
   "source": [
    "preds = linear1(batch)\n",
    "preds"
   ]
  },
  {
   "cell_type": "code",
   "execution_count": 248,
   "id": "de310902-b66f-4d2c-8dae-64b3043ccaee",
   "metadata": {},
   "outputs": [
    {
     "data": {
      "text/plain": [
       "tensor(0.9972, grad_fn=<MeanBackward0>)"
      ]
     },
     "execution_count": 248,
     "metadata": {},
     "output_type": "execute_result"
    }
   ],
   "source": [
    "loss = mnist_loss(preds, train_y[:4])\n",
    "loss"
   ]
  },
  {
   "cell_type": "code",
   "execution_count": 249,
   "id": "c6a1efef-b5b7-4b84-a15b-cd1df8e5f66e",
   "metadata": {},
   "outputs": [
    {
     "data": {
      "text/plain": [
       "(torch.Size([784, 1]), tensor(-0.0004), tensor([-0.0027]))"
      ]
     },
     "execution_count": 249,
     "metadata": {},
     "output_type": "execute_result"
    }
   ],
   "source": [
    "loss.backward()\n",
    "weights.grad.shape,weights.grad.mean(),bias.grad"
   ]
  },
  {
   "cell_type": "code",
   "execution_count": 250,
   "id": "3472a291-d350-4d63-bc7d-154edcb55ed8",
   "metadata": {},
   "outputs": [],
   "source": [
    "def calc_grad(xb, yb, model):\n",
    "    preds = model(xb)\n",
    "    loss = mnist_loss(preds, yb)\n",
    "    loss.backward()"
   ]
  },
  {
   "cell_type": "code",
   "execution_count": 251,
   "id": "90de0e6b-4cc3-43d0-9c4f-19542e740233",
   "metadata": {},
   "outputs": [
    {
     "data": {
      "text/plain": [
       "(tensor(-0.0008), tensor([-0.0054]))"
      ]
     },
     "execution_count": 251,
     "metadata": {},
     "output_type": "execute_result"
    }
   ],
   "source": [
    "calc_grad(batch, train_y[:4], linear1)\n",
    "weights.grad.mean(),bias.grad"
   ]
  },
  {
   "cell_type": "code",
   "execution_count": 252,
   "id": "9f20c303-6551-4735-be79-63afc9502fc5",
   "metadata": {},
   "outputs": [
    {
     "data": {
      "text/plain": [
       "(tensor(-0.0012), tensor([-0.0082]))"
      ]
     },
     "execution_count": 252,
     "metadata": {},
     "output_type": "execute_result"
    }
   ],
   "source": [
    "calc_grad(batch, train_y[:4], linear1)\n",
    "weights.grad.mean(),bias.grad"
   ]
  },
  {
   "cell_type": "code",
   "execution_count": 253,
   "id": "3d31dd61-2b16-4fa8-a68d-976cd043c772",
   "metadata": {},
   "outputs": [],
   "source": [
    "# 梯度发生变化了！原因在于loss.backward实际上会将loss的梯度加到当前存储的任何梯度上。因此，我们必须先将当前梯度设置为0：\n",
    "weights.grad.zero_()\n",
    "bias.grad.zero_();"
   ]
  },
  {
   "cell_type": "code",
   "execution_count": 254,
   "id": "1f4bff86-fc09-42a8-88b4-2c4896d10d25",
   "metadata": {},
   "outputs": [],
   "source": [
    "def train_epoch(model, lr, params):\n",
    "    for xb,yb in dl:\n",
    "        calc_grad(xb, yb, model)\n",
    "        for p in params:\n",
    "            p.data -= p.grad*lr\n",
    "            p.grad.zero_()"
   ]
  },
  {
   "cell_type": "code",
   "execution_count": 255,
   "id": "a4ae9047-ee5d-47c8-8cd7-382e65934f47",
   "metadata": {},
   "outputs": [
    {
     "data": {
      "text/plain": [
       "tensor([[False],\n",
       "        [False],\n",
       "        [False],\n",
       "        [False]])"
      ]
     },
     "execution_count": 255,
     "metadata": {},
     "output_type": "execute_result"
    }
   ],
   "source": [
    "(preds>0.0).float() == train_y[:4]"
   ]
  },
  {
   "cell_type": "code",
   "execution_count": 256,
   "id": "377363c9-408c-4d19-8cab-617181f11691",
   "metadata": {},
   "outputs": [],
   "source": [
    "def batch_accuracy(xb, yb):\n",
    "    preds = xb.sigmoid()\n",
    "    correct = (preds>0.5) == yb\n",
    "    return correct.float().mean()"
   ]
  },
  {
   "cell_type": "code",
   "execution_count": 257,
   "id": "02285805-34b6-4b26-97d4-59d4a69d4b58",
   "metadata": {},
   "outputs": [
    {
     "data": {
      "text/plain": [
       "tensor(0.)"
      ]
     },
     "execution_count": 257,
     "metadata": {},
     "output_type": "execute_result"
    }
   ],
   "source": [
    "batch_accuracy(linear1(batch), train_y[:4])"
   ]
  },
  {
   "cell_type": "code",
   "execution_count": 258,
   "id": "0eaf8e24-0836-4c48-8b7f-1e5d28e5f7a4",
   "metadata": {},
   "outputs": [],
   "source": [
    "def validate_epoch(model):\n",
    "    accs = [batch_accuracy(model(xb), yb) for xb,yb in valid_dl]\n",
    "    return round(torch.stack(accs).mean().item(), 4)"
   ]
  },
  {
   "cell_type": "code",
   "execution_count": 259,
   "id": "ddfa6373-0498-4118-8b49-6e9c562b2298",
   "metadata": {},
   "outputs": [
    {
     "data": {
      "text/plain": [
       "0.4764"
      ]
     },
     "execution_count": 259,
     "metadata": {},
     "output_type": "execute_result"
    }
   ],
   "source": [
    "validate_epoch(linear1)"
   ]
  },
  {
   "cell_type": "code",
   "execution_count": 260,
   "id": "f5324cb9-984c-4ab1-89fd-15360489b278",
   "metadata": {},
   "outputs": [
    {
     "data": {
      "text/plain": [
       "0.6351"
      ]
     },
     "execution_count": 260,
     "metadata": {},
     "output_type": "execute_result"
    }
   ],
   "source": [
    "lr = 1.\n",
    "params = weights,bias\n",
    "train_epoch(linear1, lr, params)\n",
    "validate_epoch(linear1)"
   ]
  },
  {
   "cell_type": "code",
   "execution_count": 261,
   "id": "83b8789d-377f-4980-8935-3fbbd4c4b4b7",
   "metadata": {},
   "outputs": [
    {
     "name": "stdout",
     "output_type": "stream",
     "text": [
      "0.8377 0.9114 0.9315 0.9446 0.9495 0.9525 0.9564 0.9583 0.9608 0.9627 0.9637 0.9652 0.9656 0.9676 0.9681 0.9691 0.9701 0.9701 0.9696 0.9701 "
     ]
    }
   ],
   "source": [
    "for i in range(20):\n",
    "    train_epoch(linear1, lr, params)\n",
    "    print(validate_epoch(linear1), end=' ')"
   ]
  },
  {
   "cell_type": "markdown",
   "id": "02e87bcf-5541-4735-badc-1a76e09dee35",
   "metadata": {},
   "source": [
    "### 创建优化器（optimizer）\n",
    "我们将创建一个能为我们处理SGD步骤的对象。在PyTorch中，这个对象被称为优化器（optimizer）。"
   ]
  },
  {
   "cell_type": "code",
   "execution_count": 263,
   "id": "05c4ab28-6212-4155-8263-f633d793d927",
   "metadata": {},
   "outputs": [],
   "source": [
    "linear_model = nn.Linear(28*28,1)"
   ]
  },
  {
   "cell_type": "code",
   "execution_count": 264,
   "id": "74784c24-8d84-461b-95cf-e490599f23f6",
   "metadata": {},
   "outputs": [
    {
     "data": {
      "text/plain": [
       "(torch.Size([1, 784]), torch.Size([1]))"
      ]
     },
     "execution_count": 264,
     "metadata": {},
     "output_type": "execute_result"
    }
   ],
   "source": [
    "w,b = linear_model.parameters()\n",
    "w.shape,b.shape"
   ]
  },
  {
   "cell_type": "code",
   "execution_count": 265,
   "id": "84501cba-a342-4905-be56-bc320d957f6d",
   "metadata": {},
   "outputs": [],
   "source": [
    "class BasicOptim:\n",
    "    def __init__(self,params,lr): self.params,self.lr = list(params),lr\n",
    "\n",
    "    def step(self, *args, **kwargs):\n",
    "        for p in self.params: p.data -= p.grad.data * self.lr\n",
    "\n",
    "    def zero_grad(self, *args, **kwargs):\n",
    "        for p in self.params: p.grad = None"
   ]
  },
  {
   "cell_type": "code",
   "execution_count": 266,
   "id": "7c4c9021-0b75-4cca-8f4c-7257c103f135",
   "metadata": {},
   "outputs": [],
   "source": [
    "opt = BasicOptim(linear_model.parameters(), lr)"
   ]
  },
  {
   "cell_type": "code",
   "execution_count": 267,
   "id": "023d5cd3-f2c8-4368-86ab-56640d12bd13",
   "metadata": {},
   "outputs": [],
   "source": [
    "def train_epoch(model):\n",
    "    for xb,yb in dl:\n",
    "        calc_grad(xb, yb, model)\n",
    "        opt.step()\n",
    "        opt.zero_grad()"
   ]
  },
  {
   "cell_type": "code",
   "execution_count": 268,
   "id": "fe9184ca-0cfa-4b8c-b449-53eb7b44089e",
   "metadata": {},
   "outputs": [
    {
     "data": {
      "text/plain": [
       "0.5817"
      ]
     },
     "execution_count": 268,
     "metadata": {},
     "output_type": "execute_result"
    }
   ],
   "source": [
    "validate_epoch(linear_model)"
   ]
  },
  {
   "cell_type": "code",
   "execution_count": 269,
   "id": "4ee20aea-c6bc-44a9-a697-2b775b63c758",
   "metadata": {},
   "outputs": [],
   "source": [
    "def train_model(model, epochs):\n",
    "    for i in range(epochs):\n",
    "        train_epoch(model)\n",
    "        print(validate_epoch(model), end=' ')"
   ]
  },
  {
   "cell_type": "code",
   "execution_count": 270,
   "id": "f23537b6-ed13-42ad-bbc2-53dac8d5ab94",
   "metadata": {},
   "outputs": [
    {
     "name": "stdout",
     "output_type": "stream",
     "text": [
      "0.4932 0.7695 0.8594 0.9155 0.935 0.9482 0.9551 0.9629 0.9658 0.9673 0.9687 0.9721 0.9741 0.9746 0.9761 0.977 0.9775 0.978 0.9785 0.9785 "
     ]
    }
   ],
   "source": [
    "train_model(linear_model, 20)"
   ]
  },
  {
   "cell_type": "code",
   "execution_count": 271,
   "id": "58c27428-f7ed-4b19-963a-fe26fb20b9d0",
   "metadata": {},
   "outputs": [
    {
     "name": "stdout",
     "output_type": "stream",
     "text": [
      "0.4932 0.8188 0.8452 0.9136 0.9336 0.9477 0.956 0.9629 0.9658 0.9673 0.9692 0.9721 0.9736 0.9751 0.9756 0.9765 0.9775 0.978 0.978 0.978 "
     ]
    }
   ],
   "source": [
    "# fastai提供了SGD类，默认情况下，它的功能与我们的BasicOptim相同：\n",
    "linear_model = nn.Linear(28*28,1)\n",
    "opt = SGD(linear_model.parameters(), lr)\n",
    "train_model(linear_model, 20)"
   ]
  },
  {
   "cell_type": "code",
   "execution_count": 272,
   "id": "723cd4d5-de18-43cb-b47a-c43d50858fac",
   "metadata": {},
   "outputs": [],
   "source": [
    "# fastai还提供了Learner.fit方法，我们可以用它来替代train_model。\n",
    "# 要创建一个Learner，首先需要创建一个DataLoaders对象，方法是传入我们的训练集DataLoader和验证集DataLoader：\n",
    "dls = DataLoaders(dl, valid_dl)"
   ]
  },
  {
   "cell_type": "code",
   "execution_count": 273,
   "id": "48e8fe46-9f02-41fc-a34b-313372943590",
   "metadata": {},
   "outputs": [],
   "source": [
    "learn = Learner(dls, nn.Linear(28*28,1), opt_func=SGD,\n",
    "                loss_func=mnist_loss, metrics=batch_accuracy)"
   ]
  },
  {
   "cell_type": "code",
   "execution_count": 274,
   "id": "007cc9a5-7000-4e5a-8f8a-046735ab0d12",
   "metadata": {},
   "outputs": [
    {
     "data": {
      "text/html": [
       "\n",
       "<style>\n",
       "    /* Turns off some styling */\n",
       "    progress {\n",
       "        /* gets rid of default border in Firefox and Opera. */\n",
       "        border: none;\n",
       "        /* Needs to be in here for Safari polyfill so background images work as expected. */\n",
       "        background-size: auto;\n",
       "    }\n",
       "    progress:not([value]), progress:not([value])::-webkit-progress-bar {\n",
       "        background: repeating-linear-gradient(45deg, #7e7e7e, #7e7e7e 10px, #5c5c5c 10px, #5c5c5c 20px);\n",
       "    }\n",
       "    .progress-bar-interrupted, .progress-bar-interrupted::-webkit-progress-bar {\n",
       "        background: #F44336;\n",
       "    }\n",
       "</style>\n"
      ],
      "text/plain": [
       "<IPython.core.display.HTML object>"
      ]
     },
     "metadata": {},
     "output_type": "display_data"
    },
    {
     "data": {
      "text/html": [
       "<table border=\"1\" class=\"dataframe\">\n",
       "  <thead>\n",
       "    <tr style=\"text-align: left;\">\n",
       "      <th>epoch</th>\n",
       "      <th>train_loss</th>\n",
       "      <th>valid_loss</th>\n",
       "      <th>batch_accuracy</th>\n",
       "      <th>time</th>\n",
       "    </tr>\n",
       "  </thead>\n",
       "  <tbody>\n",
       "    <tr>\n",
       "      <td>0</td>\n",
       "      <td>0.636884</td>\n",
       "      <td>0.503709</td>\n",
       "      <td>0.495584</td>\n",
       "      <td>00:00</td>\n",
       "    </tr>\n",
       "    <tr>\n",
       "      <td>1</td>\n",
       "      <td>0.628973</td>\n",
       "      <td>0.354401</td>\n",
       "      <td>0.604024</td>\n",
       "      <td>00:00</td>\n",
       "    </tr>\n",
       "    <tr>\n",
       "      <td>2</td>\n",
       "      <td>0.231233</td>\n",
       "      <td>0.320271</td>\n",
       "      <td>0.671737</td>\n",
       "      <td>00:00</td>\n",
       "    </tr>\n",
       "    <tr>\n",
       "      <td>3</td>\n",
       "      <td>0.099927</td>\n",
       "      <td>0.144404</td>\n",
       "      <td>0.874387</td>\n",
       "      <td>00:00</td>\n",
       "    </tr>\n",
       "    <tr>\n",
       "      <td>4</td>\n",
       "      <td>0.050796</td>\n",
       "      <td>0.093996</td>\n",
       "      <td>0.919038</td>\n",
       "      <td>00:00</td>\n",
       "    </tr>\n",
       "    <tr>\n",
       "      <td>5</td>\n",
       "      <td>0.031698</td>\n",
       "      <td>0.071433</td>\n",
       "      <td>0.937193</td>\n",
       "      <td>00:00</td>\n",
       "    </tr>\n",
       "    <tr>\n",
       "      <td>6</td>\n",
       "      <td>0.023822</td>\n",
       "      <td>0.058538</td>\n",
       "      <td>0.952404</td>\n",
       "      <td>00:00</td>\n",
       "    </tr>\n",
       "    <tr>\n",
       "      <td>7</td>\n",
       "      <td>0.020353</td>\n",
       "      <td>0.050292</td>\n",
       "      <td>0.958783</td>\n",
       "      <td>00:00</td>\n",
       "    </tr>\n",
       "    <tr>\n",
       "      <td>8</td>\n",
       "      <td>0.018650</td>\n",
       "      <td>0.044688</td>\n",
       "      <td>0.964181</td>\n",
       "      <td>00:00</td>\n",
       "    </tr>\n",
       "    <tr>\n",
       "      <td>9</td>\n",
       "      <td>0.017673</td>\n",
       "      <td>0.040675</td>\n",
       "      <td>0.966143</td>\n",
       "      <td>00:00</td>\n",
       "    </tr>\n",
       "  </tbody>\n",
       "</table>"
      ],
      "text/plain": [
       "<IPython.core.display.HTML object>"
      ]
     },
     "metadata": {},
     "output_type": "display_data"
    }
   ],
   "source": [
    "learn.fit(10, lr=lr)"
   ]
  },
  {
   "cell_type": "markdown",
   "id": "3579d096-d396-46cd-a153-96826e5144d1",
   "metadata": {},
   "source": [
    "## 添加非线性激活函数"
   ]
  },
  {
   "cell_type": "code",
   "execution_count": 275,
   "id": "4140e9fb-dc23-41bd-bf71-8330350a8739",
   "metadata": {},
   "outputs": [],
   "source": [
    "# 线性分类器的功能非常有限。为了让它更复杂一些（并能处理更多任务），我们需要在两个线性分类器之间添加一些非线性的东西——这就是构成神经网络的关键。\n",
    "def simple_net(xb): \n",
    "    res = xb@w1 + b1\n",
    "    res = res.max(tensor(0.0))\n",
    "    res = res@w2 + b2\n",
    "    return res"
   ]
  },
  {
   "cell_type": "code",
   "execution_count": 276,
   "id": "3cfadeaf-e603-46de-b5a8-cf75134b4d2b",
   "metadata": {},
   "outputs": [],
   "source": [
    "w1 = init_params((28*28,30))\n",
    "b1 = init_params(30)\n",
    "w2 = init_params((30,1))\n",
    "b2 = init_params(1)"
   ]
  },
  {
   "cell_type": "code",
   "execution_count": 277,
   "id": "7e56af58-2e24-40ae-9f5b-737fe304cbde",
   "metadata": {},
   "outputs": [
    {
     "data": {
      "image/png": "[encoded data removed]",
      "text/plain": [
       "<Figure size 600x400 with 1 Axes>"
      ]
     },
     "metadata": {},
     "output_type": "display_data"
    }
   ],
   "source": [
    "# res.max(tensor(0.0)) 这个小函数被称为整流线性单元（rectified linear unit），也称为ReLU。\n",
    "# 它的作用只不过是 res.max(tensor(0.0))——换句话说，就是把所有负数替换成零。\n",
    "plot_function(F.relu)"
   ]
  },
  {
   "cell_type": "code",
   "execution_count": 278,
   "id": "a6d13b6c-294e-48d4-9dde-aae32781b390",
   "metadata": {},
   "outputs": [],
   "source": [
    "simple_net = nn.Sequential(\n",
    "    nn.Linear(28*28,30),\n",
    "    nn.ReLU(),\n",
    "    nn.Linear(30,1)\n",
    ")"
   ]
  },
  {
   "cell_type": "code",
   "execution_count": 279,
   "id": "bbb0b6c5-c796-43f2-8e02-55793a36b077",
   "metadata": {},
   "outputs": [],
   "source": [
    "learn = Learner(dls, simple_net, opt_func=SGD,\n",
    "                loss_func=mnist_loss, metrics=batch_accuracy)"
   ]
  },
  {
   "cell_type": "code",
   "execution_count": 280,
   "id": "b8f17696-317d-482e-a279-ea4d624a5cca",
   "metadata": {},
   "outputs": [
    {
     "data": {
      "text/html": [
       "\n",
       "<style>\n",
       "    /* Turns off some styling */\n",
       "    progress {\n",
       "        /* gets rid of default border in Firefox and Opera. */\n",
       "        border: none;\n",
       "        /* Needs to be in here for Safari polyfill so background images work as expected. */\n",
       "        background-size: auto;\n",
       "    }\n",
       "    progress:not([value]), progress:not([value])::-webkit-progress-bar {\n",
       "        background: repeating-linear-gradient(45deg, #7e7e7e, #7e7e7e 10px, #5c5c5c 10px, #5c5c5c 20px);\n",
       "    }\n",
       "    .progress-bar-interrupted, .progress-bar-interrupted::-webkit-progress-bar {\n",
       "        background: #F44336;\n",
       "    }\n",
       "</style>\n"
      ],
      "text/plain": [
       "<IPython.core.display.HTML object>"
      ]
     },
     "metadata": {},
     "output_type": "display_data"
    },
    {
     "data": {
      "text/html": [
       "<table border=\"1\" class=\"dataframe\">\n",
       "  <thead>\n",
       "    <tr style=\"text-align: left;\">\n",
       "      <th>epoch</th>\n",
       "      <th>train_loss</th>\n",
       "      <th>valid_loss</th>\n",
       "      <th>batch_accuracy</th>\n",
       "      <th>time</th>\n",
       "    </tr>\n",
       "  </thead>\n",
       "  <tbody>\n",
       "    <tr>\n",
       "      <td>0</td>\n",
       "      <td>0.285318</td>\n",
       "      <td>0.421946</td>\n",
       "      <td>0.504416</td>\n",
       "      <td>00:00</td>\n",
       "    </tr>\n",
       "    <tr>\n",
       "      <td>1</td>\n",
       "      <td>0.139027</td>\n",
       "      <td>0.221552</td>\n",
       "      <td>0.813052</td>\n",
       "      <td>00:00</td>\n",
       "    </tr>\n",
       "    <tr>\n",
       "      <td>2</td>\n",
       "      <td>0.078371</td>\n",
       "      <td>0.113396</td>\n",
       "      <td>0.915604</td>\n",
       "      <td>00:00</td>\n",
       "    </tr>\n",
       "    <tr>\n",
       "      <td>3</td>\n",
       "      <td>0.052382</td>\n",
       "      <td>0.077478</td>\n",
       "      <td>0.941119</td>\n",
       "      <td>00:00</td>\n",
       "    </tr>\n",
       "    <tr>\n",
       "      <td>4</td>\n",
       "      <td>0.040178</td>\n",
       "      <td>0.060832</td>\n",
       "      <td>0.955348</td>\n",
       "      <td>00:00</td>\n",
       "    </tr>\n",
       "    <tr>\n",
       "      <td>5</td>\n",
       "      <td>0.033850</td>\n",
       "      <td>0.051388</td>\n",
       "      <td>0.963690</td>\n",
       "      <td>00:00</td>\n",
       "    </tr>\n",
       "    <tr>\n",
       "      <td>6</td>\n",
       "      <td>0.030154</td>\n",
       "      <td>0.045410</td>\n",
       "      <td>0.965653</td>\n",
       "      <td>00:00</td>\n",
       "    </tr>\n",
       "    <tr>\n",
       "      <td>7</td>\n",
       "      <td>0.027719</td>\n",
       "      <td>0.041309</td>\n",
       "      <td>0.966634</td>\n",
       "      <td>00:00</td>\n",
       "    </tr>\n",
       "    <tr>\n",
       "      <td>8</td>\n",
       "      <td>0.025947</td>\n",
       "      <td>0.038317</td>\n",
       "      <td>0.968106</td>\n",
       "      <td>00:00</td>\n",
       "    </tr>\n",
       "    <tr>\n",
       "      <td>9</td>\n",
       "      <td>0.024564</td>\n",
       "      <td>0.036023</td>\n",
       "      <td>0.968597</td>\n",
       "      <td>00:00</td>\n",
       "    </tr>\n",
       "    <tr>\n",
       "      <td>10</td>\n",
       "      <td>0.023438</td>\n",
       "      <td>0.034197</td>\n",
       "      <td>0.971050</td>\n",
       "      <td>00:00</td>\n",
       "    </tr>\n",
       "    <tr>\n",
       "      <td>11</td>\n",
       "      <td>0.022496</td>\n",
       "      <td>0.032692</td>\n",
       "      <td>0.973013</td>\n",
       "      <td>00:00</td>\n",
       "    </tr>\n",
       "    <tr>\n",
       "      <td>12</td>\n",
       "      <td>0.021690</td>\n",
       "      <td>0.031426</td>\n",
       "      <td>0.973994</td>\n",
       "      <td>00:00</td>\n",
       "    </tr>\n",
       "    <tr>\n",
       "      <td>13</td>\n",
       "      <td>0.020992</td>\n",
       "      <td>0.030337</td>\n",
       "      <td>0.974485</td>\n",
       "      <td>00:00</td>\n",
       "    </tr>\n",
       "    <tr>\n",
       "      <td>14</td>\n",
       "      <td>0.020379</td>\n",
       "      <td>0.029385</td>\n",
       "      <td>0.974485</td>\n",
       "      <td>00:00</td>\n",
       "    </tr>\n",
       "    <tr>\n",
       "      <td>15</td>\n",
       "      <td>0.019834</td>\n",
       "      <td>0.028544</td>\n",
       "      <td>0.975957</td>\n",
       "      <td>00:00</td>\n",
       "    </tr>\n",
       "    <tr>\n",
       "      <td>16</td>\n",
       "      <td>0.019346</td>\n",
       "      <td>0.027791</td>\n",
       "      <td>0.977429</td>\n",
       "      <td>00:00</td>\n",
       "    </tr>\n",
       "    <tr>\n",
       "      <td>17</td>\n",
       "      <td>0.018906</td>\n",
       "      <td>0.027117</td>\n",
       "      <td>0.977429</td>\n",
       "      <td>00:00</td>\n",
       "    </tr>\n",
       "    <tr>\n",
       "      <td>18</td>\n",
       "      <td>0.018508</td>\n",
       "      <td>0.026508</td>\n",
       "      <td>0.977920</td>\n",
       "      <td>00:00</td>\n",
       "    </tr>\n",
       "    <tr>\n",
       "      <td>19</td>\n",
       "      <td>0.018144</td>\n",
       "      <td>0.025956</td>\n",
       "      <td>0.977920</td>\n",
       "      <td>00:00</td>\n",
       "    </tr>\n",
       "    <tr>\n",
       "      <td>20</td>\n",
       "      <td>0.017810</td>\n",
       "      <td>0.025452</td>\n",
       "      <td>0.978410</td>\n",
       "      <td>00:00</td>\n",
       "    </tr>\n",
       "    <tr>\n",
       "      <td>21</td>\n",
       "      <td>0.017502</td>\n",
       "      <td>0.024991</td>\n",
       "      <td>0.978901</td>\n",
       "      <td>00:00</td>\n",
       "    </tr>\n",
       "    <tr>\n",
       "      <td>22</td>\n",
       "      <td>0.017216</td>\n",
       "      <td>0.024567</td>\n",
       "      <td>0.978901</td>\n",
       "      <td>00:00</td>\n",
       "    </tr>\n",
       "    <tr>\n",
       "      <td>23</td>\n",
       "      <td>0.016950</td>\n",
       "      <td>0.024177</td>\n",
       "      <td>0.979392</td>\n",
       "      <td>00:00</td>\n",
       "    </tr>\n",
       "    <tr>\n",
       "      <td>24</td>\n",
       "      <td>0.016700</td>\n",
       "      <td>0.023816</td>\n",
       "      <td>0.980373</td>\n",
       "      <td>00:00</td>\n",
       "    </tr>\n",
       "    <tr>\n",
       "      <td>25</td>\n",
       "      <td>0.016466</td>\n",
       "      <td>0.023482</td>\n",
       "      <td>0.980373</td>\n",
       "      <td>00:00</td>\n",
       "    </tr>\n",
       "    <tr>\n",
       "      <td>26</td>\n",
       "      <td>0.016244</td>\n",
       "      <td>0.023173</td>\n",
       "      <td>0.980373</td>\n",
       "      <td>00:00</td>\n",
       "    </tr>\n",
       "    <tr>\n",
       "      <td>27</td>\n",
       "      <td>0.016036</td>\n",
       "      <td>0.022885</td>\n",
       "      <td>0.980373</td>\n",
       "      <td>00:00</td>\n",
       "    </tr>\n",
       "    <tr>\n",
       "      <td>28</td>\n",
       "      <td>0.015839</td>\n",
       "      <td>0.022617</td>\n",
       "      <td>0.981354</td>\n",
       "      <td>00:00</td>\n",
       "    </tr>\n",
       "    <tr>\n",
       "      <td>29</td>\n",
       "      <td>0.015651</td>\n",
       "      <td>0.022367</td>\n",
       "      <td>0.981845</td>\n",
       "      <td>00:00</td>\n",
       "    </tr>\n",
       "    <tr>\n",
       "      <td>30</td>\n",
       "      <td>0.015473</td>\n",
       "      <td>0.022134</td>\n",
       "      <td>0.981845</td>\n",
       "      <td>00:00</td>\n",
       "    </tr>\n",
       "    <tr>\n",
       "      <td>31</td>\n",
       "      <td>0.015304</td>\n",
       "      <td>0.021916</td>\n",
       "      <td>0.982336</td>\n",
       "      <td>00:00</td>\n",
       "    </tr>\n",
       "    <tr>\n",
       "      <td>32</td>\n",
       "      <td>0.015143</td>\n",
       "      <td>0.021711</td>\n",
       "      <td>0.982826</td>\n",
       "      <td>00:00</td>\n",
       "    </tr>\n",
       "    <tr>\n",
       "      <td>33</td>\n",
       "      <td>0.014989</td>\n",
       "      <td>0.021519</td>\n",
       "      <td>0.982336</td>\n",
       "      <td>00:00</td>\n",
       "    </tr>\n",
       "    <tr>\n",
       "      <td>34</td>\n",
       "      <td>0.014842</td>\n",
       "      <td>0.021338</td>\n",
       "      <td>0.982336</td>\n",
       "      <td>00:00</td>\n",
       "    </tr>\n",
       "    <tr>\n",
       "      <td>35</td>\n",
       "      <td>0.014701</td>\n",
       "      <td>0.021167</td>\n",
       "      <td>0.982336</td>\n",
       "      <td>00:00</td>\n",
       "    </tr>\n",
       "    <tr>\n",
       "      <td>36</td>\n",
       "      <td>0.014565</td>\n",
       "      <td>0.021006</td>\n",
       "      <td>0.982336</td>\n",
       "      <td>00:00</td>\n",
       "    </tr>\n",
       "    <tr>\n",
       "      <td>37</td>\n",
       "      <td>0.014435</td>\n",
       "      <td>0.020853</td>\n",
       "      <td>0.982826</td>\n",
       "      <td>00:00</td>\n",
       "    </tr>\n",
       "    <tr>\n",
       "      <td>38</td>\n",
       "      <td>0.014310</td>\n",
       "      <td>0.020708</td>\n",
       "      <td>0.982826</td>\n",
       "      <td>00:00</td>\n",
       "    </tr>\n",
       "    <tr>\n",
       "      <td>39</td>\n",
       "      <td>0.014189</td>\n",
       "      <td>0.020570</td>\n",
       "      <td>0.982336</td>\n",
       "      <td>00:00</td>\n",
       "    </tr>\n",
       "  </tbody>\n",
       "</table>"
      ],
      "text/plain": [
       "<IPython.core.display.HTML object>"
      ]
     },
     "metadata": {},
     "output_type": "display_data"
    }
   ],
   "source": [
    "learn.fit(40, 0.1)"
   ]
  },
  {
   "cell_type": "code",
   "execution_count": 281,
   "id": "ed77cb6f-a5a9-455a-af4b-e32538c3d1be",
   "metadata": {},
   "outputs": [
    {
     "data": {
      "image/png": "[encoded data removed]",
      "text/plain": [
       "<Figure size 640x480 with 1 Axes>"
      ]
     },
     "metadata": {},
     "output_type": "display_data"
    }
   ],
   "source": [
    "plt.plot(L(learn.recorder.values).itemgot(2));"
   ]
  },
  {
   "cell_type": "code",
   "execution_count": 284,
   "id": "070c992d-7bad-406a-b599-19c9eaa9d369",
   "metadata": {},
   "outputs": [
    {
     "data": {
      "text/plain": [
       "0.98233562707901"
      ]
     },
     "execution_count": 284,
     "metadata": {},
     "output_type": "execute_result"
    }
   ],
   "source": [
    "learn.recorder.values[-1][2]"
   ]
  },
  {
   "cell_type": "markdown",
   "id": "834f3ed0-9fc9-4964-bde6-18f0ef6deaf0",
   "metadata": {},
   "source": [
    "### 加深网络深度"
   ]
  },
  {
   "cell_type": "code",
   "execution_count": 297,
   "id": "1046bdb6-2843-4f62-b6d4-0dce8a3451ac",
   "metadata": {},
   "outputs": [
    {
     "data": {
      "text/html": [
       "\n",
       "<style>\n",
       "    /* Turns off some styling */\n",
       "    progress {\n",
       "        /* gets rid of default border in Firefox and Opera. */\n",
       "        border: none;\n",
       "        /* Needs to be in here for Safari polyfill so background images work as expected. */\n",
       "        background-size: auto;\n",
       "    }\n",
       "    progress:not([value]), progress:not([value])::-webkit-progress-bar {\n",
       "        background: repeating-linear-gradient(45deg, #7e7e7e, #7e7e7e 10px, #5c5c5c 10px, #5c5c5c 20px);\n",
       "    }\n",
       "    .progress-bar-interrupted, .progress-bar-interrupted::-webkit-progress-bar {\n",
       "        background: #F44336;\n",
       "    }\n",
       "</style>\n"
      ],
      "text/plain": [
       "<IPython.core.display.HTML object>"
      ]
     },
     "metadata": {},
     "output_type": "display_data"
    },
    {
     "data": {
      "text/html": [
       "<table border=\"1\" class=\"dataframe\">\n",
       "  <thead>\n",
       "    <tr style=\"text-align: left;\">\n",
       "      <th>epoch</th>\n",
       "      <th>train_loss</th>\n",
       "      <th>valid_loss</th>\n",
       "      <th>accuracy</th>\n",
       "      <th>time</th>\n",
       "    </tr>\n",
       "  </thead>\n",
       "  <tbody>\n",
       "    <tr>\n",
       "      <td>0</td>\n",
       "      <td>0.143874</td>\n",
       "      <td>0.033312</td>\n",
       "      <td>0.991168</td>\n",
       "      <td>00:07</td>\n",
       "    </tr>\n",
       "  </tbody>\n",
       "</table>"
      ],
      "text/plain": [
       "<IPython.core.display.HTML object>"
      ]
     },
     "metadata": {},
     "output_type": "display_data"
    }
   ],
   "source": [
    "dls = ImageDataLoaders.from_folder(path)\n",
    "learn = vision_learner(dls, resnet18, pretrained=False,\n",
    "                    loss_func=F.cross_entropy, metrics=accuracy)\n",
    "learn.fit_one_cycle(1, 0.1)"
   ]
  },
  {
   "cell_type": "code",
   "execution_count": null,
   "id": "3a2d8823-13db-49e8-b827-444ba92bde00",
   "metadata": {},
   "outputs": [],
   "source": []
  }
 ],
 "metadata": {
  "kernelspec": {
   "display_name": "Python 3 (ipykernel)",
   "language": "python",
   "name": "python3"
  },
  "language_info": {
   "codemirror_mode": {
    "name": "ipython",
    "version": 3
   },
   "file_extension": ".py",
   "mimetype": "text/x-python",
   "name": "python",
   "nbconvert_exporter": "python",
   "pygments_lexer": "ipython3",
   "version": "3.10.18"
  }
 },
 "nbformat": 4,
 "nbformat_minor": 5
}
